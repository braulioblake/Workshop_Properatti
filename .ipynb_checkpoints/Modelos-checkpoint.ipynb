{
 "cells": [
  {
   "cell_type": "markdown",
   "id": "cb2117df",
   "metadata": {},
   "source": [
    "### Cargue de librerías"
   ]
  },
  {
   "cell_type": "code",
   "execution_count": 976,
   "id": "ffdfef57",
   "metadata": {},
   "outputs": [],
   "source": [
    "import pandas as pd\n",
    "import numpy as np\n",
    "import matplotlib.pyplot as plt\n",
    "import seaborn as sns\n",
    "import re\n",
    "\n",
    "from sklearn import metrics\n",
    "from sklearn.model_selection import train_test_split\n",
    "from sklearn.preprocessing import StandardScaler\n",
    "from sklearn.linear_model import LinearRegression\n",
    "from sklearn import linear_model\n",
    "\n",
    "pd.options.display.float_format = '{:.6f}'.format"
   ]
  },
  {
   "cell_type": "markdown",
   "id": "61493645",
   "metadata": {},
   "source": [
    "### Lectura del dataset de Properatti listo para modelos"
   ]
  },
  {
   "cell_type": "code",
   "execution_count": 977,
   "id": "ed81b2e2",
   "metadata": {},
   "outputs": [],
   "source": [
    "data_limpieza = pd.read_csv('propertti_to_model_price_total.csv')"
   ]
  },
  {
   "cell_type": "code",
   "execution_count": 978,
   "id": "6291b1d9",
   "metadata": {},
   "outputs": [
    {
     "data": {
      "text/html": [
       "<div>\n",
       "<style scoped>\n",
       "    .dataframe tbody tr th:only-of-type {\n",
       "        vertical-align: middle;\n",
       "    }\n",
       "\n",
       "    .dataframe tbody tr th {\n",
       "        vertical-align: top;\n",
       "    }\n",
       "\n",
       "    .dataframe thead th {\n",
       "        text-align: right;\n",
       "    }\n",
       "</style>\n",
       "<table border=\"1\" class=\"dataframe\">\n",
       "  <thead>\n",
       "    <tr style=\"text-align: right;\">\n",
       "      <th></th>\n",
       "      <th>property_type</th>\n",
       "      <th>state_name</th>\n",
       "      <th>place_name</th>\n",
       "      <th>lat</th>\n",
       "      <th>lon</th>\n",
       "      <th>surface_total_in_m2</th>\n",
       "      <th>price_aprox_usd</th>\n",
       "    </tr>\n",
       "  </thead>\n",
       "  <tbody>\n",
       "    <tr>\n",
       "      <th>0</th>\n",
       "      <td>PH</td>\n",
       "      <td>Capital Federal</td>\n",
       "      <td>Mataderos</td>\n",
       "      <td>-34.661824</td>\n",
       "      <td>-58.508839</td>\n",
       "      <td>55.000000</td>\n",
       "      <td>62000.000000</td>\n",
       "    </tr>\n",
       "    <tr>\n",
       "      <th>1</th>\n",
       "      <td>apartment</td>\n",
       "      <td>Capital Federal</td>\n",
       "      <td>Mataderos</td>\n",
       "      <td>-34.652262</td>\n",
       "      <td>-58.522982</td>\n",
       "      <td>55.000000</td>\n",
       "      <td>72000.000000</td>\n",
       "    </tr>\n",
       "    <tr>\n",
       "      <th>2</th>\n",
       "      <td>apartment</td>\n",
       "      <td>Buenos Aires Costa Atlántica</td>\n",
       "      <td>Centro</td>\n",
       "      <td>-38.002626</td>\n",
       "      <td>-57.549447</td>\n",
       "      <td>35.000000</td>\n",
       "      <td>64000.000000</td>\n",
       "    </tr>\n",
       "  </tbody>\n",
       "</table>\n",
       "</div>"
      ],
      "text/plain": [
       "  property_type                    state_name place_name        lat  \\\n",
       "0            PH               Capital Federal  Mataderos -34.661824   \n",
       "1     apartment               Capital Federal  Mataderos -34.652262   \n",
       "2     apartment  Buenos Aires Costa Atlántica     Centro -38.002626   \n",
       "\n",
       "         lon  surface_total_in_m2  price_aprox_usd  \n",
       "0 -58.508839            55.000000     62000.000000  \n",
       "1 -58.522982            55.000000     72000.000000  \n",
       "2 -57.549447            35.000000     64000.000000  "
      ]
     },
     "execution_count": 978,
     "metadata": {},
     "output_type": "execute_result"
    }
   ],
   "source": [
    "# Vamos a darle un vistazo a los primeros registros del dataset seleccionado para aplicar los modelos.\n",
    "\n",
    "data_limpieza.head(3)"
   ]
  },
  {
   "cell_type": "markdown",
   "id": "4cab4d0c",
   "metadata": {},
   "source": [
    "#### Justificación de selección de variables para el modelo"
   ]
  },
  {
   "cell_type": "markdown",
   "id": "6b433e2a",
   "metadata": {},
   "source": [
    "La variable target es **'price_aprox_usd'**, por lo que se entrenarán algunos modelos para predecir el valor total de un inmueble.\n",
    "\n",
    "Las variables que consideramos que tienen un alto poder de predicción del precio total de un inmueble son:\n",
    "\n",
    "* **property_type**. El tipo de propiedad influye directamente en el valor del inmueble, ya que no es lo mismo predecir el valor de un apartamento que el valor de una tienda dejando constante variables como la superficie total.\n",
    "* **state_name**. Esta variable hace referencia a una ubicación de forma global y dependiendo de la actividad económica de la misma y los diferentes centros de atracción existentes como laborales, estudiantiles, de negocios entre otros, los inmuebles pueden tener un valor diferencial.\n",
    "* **place_name**. Esta variable hace referncia a una ubicación más particular, el equivalente a un barrio, lo cual como es bien sabido es una variable referente de precios, que en ocasiones cuentan con equipamentos públicos que sobresalen sobre otros barrios, pueden tener mejores vías o estaciones de transporte.\n",
    "* **lat**. Esta variable siendo una coordenada, ubica de forma más específica un inmueble, por lo tanto si comparamos dos inmuebles ubicados en el mismo state_name o place_name, es posible que los inmuebles ubicados más al norte tengan un valor más alto que aquellos ubicados más al sur.\n",
    "* **lon**. Al igual que la variable 'lat', podemos encontrar precios diferenciales entre inmuebles que se ubican más al este de un state_name, que aquellos que se ubican hacia el oeste.\n",
    "* **surface_total_in_m2**. La variable de superficie total en m2 es la que consideramos que influencia tiene al determinar el valor de un inmueble, dado que al mantener otras variables constantes, se espera que al aumentar la superficie de un inmueble también aumente su precio."
   ]
  },
  {
   "cell_type": "markdown",
   "id": "29b82f70",
   "metadata": {},
   "source": [
    "#### Dataset simplificado para evaluación de modelos."
   ]
  },
  {
   "cell_type": "markdown",
   "id": "f15df178",
   "metadata": {},
   "source": [
    "Para la evaluación de modelos hemos decidido filtrar el dataset de modo que sólo se tenga en cuenta el state_name y property_type con mayor participación en el dataset. Además, tendremos en cuenta solo aquellos place_name con más de 100 registros. El proceso descrito se realiza en los siguientes pasos."
   ]
  },
  {
   "cell_type": "code",
   "execution_count": 979,
   "id": "ab8090f8",
   "metadata": {},
   "outputs": [
    {
     "name": "stdout",
     "output_type": "stream",
     "text": [
      "Index(['Capital Federal'], dtype='object')\n",
      "Index(['apartment'], dtype='object')\n"
     ]
    }
   ],
   "source": [
    "# Seleccionamos el state_name con mayor participación en el dataset\n",
    "\n",
    "top_1_states=data_limpieza.state_name.value_counts().index[0:1]\n",
    "print(top_1_states)\n",
    "\n",
    "top_1_property = data_limpieza.property_type.value_counts().index[0:1]\n",
    "print(top_1_property)"
   ]
  },
  {
   "cell_type": "code",
   "execution_count": 980,
   "id": "07ee58bf",
   "metadata": {},
   "outputs": [],
   "source": [
    "# Construimos una nueva tabla conservando el tipo de propiedad predominante que es apartamentos y el state_name predominante en el \n",
    "# dataset que es Capital\n",
    "# Federal\n",
    "\n",
    "df = data_limpieza[((data_limpieza.property_type.isin(top_1_property)))\n",
    "        &(data_limpieza.state_name.isin(top_1_states))\n",
    "        ]"
   ]
  },
  {
   "cell_type": "code",
   "execution_count": 981,
   "id": "5e3e0ed2",
   "metadata": {},
   "outputs": [
    {
     "data": {
      "text/plain": [
       "(15277, 7)"
      ]
     },
     "execution_count": 981,
     "metadata": {},
     "output_type": "execute_result"
    }
   ],
   "source": [
    "# Chequeamos el tamaño del nuevo dataset\n",
    "\n",
    "df.shape"
   ]
  },
  {
   "cell_type": "code",
   "execution_count": 982,
   "id": "31af62a7",
   "metadata": {},
   "outputs": [
    {
     "data": {
      "text/html": [
       "<div>\n",
       "<style scoped>\n",
       "    .dataframe tbody tr th:only-of-type {\n",
       "        vertical-align: middle;\n",
       "    }\n",
       "\n",
       "    .dataframe tbody tr th {\n",
       "        vertical-align: top;\n",
       "    }\n",
       "\n",
       "    .dataframe thead th {\n",
       "        text-align: right;\n",
       "    }\n",
       "</style>\n",
       "<table border=\"1\" class=\"dataframe\">\n",
       "  <thead>\n",
       "    <tr style=\"text-align: right;\">\n",
       "      <th></th>\n",
       "      <th>property_type</th>\n",
       "      <th>place_name</th>\n",
       "      <th>cant_prop_type_place</th>\n",
       "    </tr>\n",
       "  </thead>\n",
       "  <tbody>\n",
       "    <tr>\n",
       "      <th>27</th>\n",
       "      <td>apartment</td>\n",
       "      <td>Palermo</td>\n",
       "      <td>1785</td>\n",
       "    </tr>\n",
       "    <tr>\n",
       "      <th>9</th>\n",
       "      <td>apartment</td>\n",
       "      <td>Caballito</td>\n",
       "      <td>1410</td>\n",
       "    </tr>\n",
       "    <tr>\n",
       "      <th>6</th>\n",
       "      <td>apartment</td>\n",
       "      <td>Belgrano</td>\n",
       "      <td>1350</td>\n",
       "    </tr>\n",
       "    <tr>\n",
       "      <th>56</th>\n",
       "      <td>apartment</td>\n",
       "      <td>Villa Urquiza</td>\n",
       "      <td>808</td>\n",
       "    </tr>\n",
       "    <tr>\n",
       "      <th>18</th>\n",
       "      <td>apartment</td>\n",
       "      <td>Flores</td>\n",
       "      <td>805</td>\n",
       "    </tr>\n",
       "  </tbody>\n",
       "</table>\n",
       "</div>"
      ],
      "text/plain": [
       "   property_type     place_name  cant_prop_type_place\n",
       "27     apartment        Palermo                  1785\n",
       "9      apartment      Caballito                  1410\n",
       "6      apartment       Belgrano                  1350\n",
       "56     apartment  Villa Urquiza                   808\n",
       "18     apartment         Flores                   805"
      ]
     },
     "execution_count": 982,
     "metadata": {},
     "output_type": "execute_result"
    }
   ],
   "source": [
    "# Construimos una tabla adicional para contar la cantidad de inmuebles por cada combinación de property_type y place_name\n",
    "\n",
    "cant_prop_type_place = df.groupby(['property_type', 'place_name']).size().reset_index(name='cant_prop_type_place')\n",
    "cant_prop_type_place.sort_values(['cant_prop_type_place'], ascending=False).head(5)"
   ]
  },
  {
   "cell_type": "code",
   "execution_count": 983,
   "id": "844510b2",
   "metadata": {},
   "outputs": [
    {
     "data": {
      "text/plain": [
       "(14402, 8)"
      ]
     },
     "execution_count": 983,
     "metadata": {},
     "output_type": "execute_result"
    }
   ],
   "source": [
    "# Filtramos nuestro dataset conservando registros cuyo conteo por grupo de property_type y place_name sea superior a 100 inmuebles\n",
    "\n",
    "df = df.merge(cant_prop_type_place, on=['property_type', 'place_name'], how='left')\n",
    "df = df.loc[df.cant_prop_type_place>=100]\n",
    "df.shape"
   ]
  },
  {
   "cell_type": "code",
   "execution_count": 984,
   "id": "897c7ced",
   "metadata": {},
   "outputs": [],
   "source": [
    "# Eliminamos las columnas 'cant_prop_type_place' y 'state_name'\n",
    "\n",
    "df.drop(['cant_prop_type_place','state_name'], inplace=True,axis=1)"
   ]
  },
  {
   "cell_type": "markdown",
   "id": "6de5fb87",
   "metadata": {},
   "source": [
    "### Modelos de regresión simple"
   ]
  },
  {
   "cell_type": "code",
   "execution_count": 985,
   "id": "a4d4ddf8",
   "metadata": {},
   "outputs": [
    {
     "data": {
      "image/png": "[encoded data removed]",
      "text/plain": [
       "<Figure size 288x288 with 2 Axes>"
      ]
     },
     "metadata": {
      "needs_background": "light"
     },
     "output_type": "display_data"
    }
   ],
   "source": [
    "### En primera instancia vamos a calcular la correlación entre las variables del dataset que usaremos para los modelos\n",
    "\n",
    "corr = df.corr()\n",
    "plt.figure(figsize=(4,4))\n",
    "sns.heatmap(corr, cbar = True,  square = True, annot=True, fmt= '.2f',annot_kws={'size': 15},cmap= 'coolwarm') \n",
    "plt.xticks(rotation = 65)\n",
    "plt.yticks(rotation = 0)\n",
    "plt.show()"
   ]
  },
  {
   "cell_type": "markdown",
   "id": "2303c76b",
   "metadata": {},
   "source": [
    "Como lo habíamos intuido, se observa una buena correlación de las variables de ubicación espacial y de superficie total con la variable target precio total. Se construirá un modelo simple con cada variable mencionada."
   ]
  },
  {
   "cell_type": "markdown",
   "id": "475da022",
   "metadata": {},
   "source": [
    "##### Predictor: surface_total_in_m2"
   ]
  },
  {
   "cell_type": "code",
   "execution_count": 997,
   "id": "d9b7d34a",
   "metadata": {},
   "outputs": [
    {
     "name": "stdout",
     "output_type": "stream",
     "text": [
      "                            OLS Regression Results                            \n",
      "==============================================================================\n",
      "Dep. Variable:        price_aprox_usd   R-squared:                       0.600\n",
      "Model:                            OLS   Adj. R-squared:                  0.600\n",
      "Method:                 Least Squares   F-statistic:                 2.162e+04\n",
      "Date:                Wed, 16 Mar 2022   Prob (F-statistic):               0.00\n",
      "Time:                        20:14:04   Log-Likelihood:            -1.8018e+05\n",
      "No. Observations:               14402   AIC:                         3.604e+05\n",
      "Df Residuals:                   14400   BIC:                         3.604e+05\n",
      "Df Model:                           1                                         \n",
      "Covariance Type:            nonrobust                                         \n",
      "==============================================================================\n",
      "                 coef    std err          t      P>|t|      [0.025      0.975]\n",
      "------------------------------------------------------------------------------\n",
      "const      -1.078e+04   1311.032     -8.221      0.000   -1.33e+04   -8208.284\n",
      "x1          2750.2320     18.705    147.035      0.000    2713.569    2786.895\n",
      "==============================================================================\n",
      "Omnibus:                     9448.446   Durbin-Watson:                   1.717\n",
      "Prob(Omnibus):                  0.000   Jarque-Bera (JB):           304705.373\n",
      "Skew:                           2.678   Prob(JB):                         0.00\n",
      "Kurtosis:                      24.888   Cond. No.                         168.\n",
      "==============================================================================\n",
      "\n",
      "Notes:\n",
      "[1] Standard Errors assume that the covariance matrix of the errors is correctly specified.\n"
     ]
    }
   ],
   "source": [
    "import statsmodels.api as sm\n",
    "\n",
    "X_t = np.array(df.surface_total_in_m2, ndmin=2)\n",
    "#print(X_t)\n",
    "#print(X_t.shape)\n",
    "X = np.transpose(X_t)\n",
    "#print(X)\n",
    "#print(X.shape)\n",
    "y = df.price_aprox_usd\n",
    "\n",
    "# Tenemos que agregar explícitamente a una constante:\n",
    "X = sm.add_constant(X)\n",
    "\n",
    "model = sm.OLS(y, X).fit()\n",
    "print (model.summary())"
   ]
  },
  {
   "cell_type": "markdown",
   "id": "7f2b14e3",
   "metadata": {},
   "source": [
    "* Obtenemos un R2 de 0.600, el cual nos indica la proporción de la variabilidad que es explicada por la variable surface_total_in_m2, respecto al modelo base que sería el precio promedio de los apartamentos en Capital Federal.\n",
    "\n",
    "* Con un p-value de 0.000 podemos decir que la relación entre la variable surface_total_in_m2 y price_aprox_usd no es producto del azar.\n",
    "\n",
    "* Por cada m2 que aumenta el área total, el precio total aumenta en 2750.23 dólares."
   ]
  },
  {
   "cell_type": "code",
   "execution_count": 998,
   "id": "c6cd5a42",
   "metadata": {},
   "outputs": [
    {
     "data": {
      "image/png": "[encoded data removed]",
      "text/plain": [
       "<Figure size 540x432 with 1 Axes>"
      ]
     },
     "metadata": {
      "needs_background": "light"
     },
     "output_type": "display_data"
    }
   ],
   "source": [
    "# Gráfico de superficie vs precio total real y gráfico de superficie vs precio total según predicción\n",
    "\n",
    "x=df.surface_total_in_m2\n",
    "y=df.price_aprox_usd\n",
    "\n",
    "y_pred=model.predict(X)\n",
    "\n",
    "plt.figure(figsize=(7.5,6))\n",
    "plt.plot(x,y_pred,color=\"red\",label=\"Predict line\")\n",
    "plt.scatter(x,y)\n",
    "plt.title('Superficie vs Valor total')\n",
    "plt.xlabel(\"surface_total_in_m2\")\n",
    "plt.ylabel(\"price_aprox_usd\")\n",
    "plt.legend()\n",
    "plt.show()"
   ]
  },
  {
   "cell_type": "markdown",
   "id": "6094aefc",
   "metadata": {},
   "source": [
    "##### Predictor: lat"
   ]
  },
  {
   "cell_type": "code",
   "execution_count": 999,
   "id": "eb65d1d5",
   "metadata": {},
   "outputs": [
    {
     "name": "stdout",
     "output_type": "stream",
     "text": [
      "                            OLS Regression Results                            \n",
      "==============================================================================\n",
      "Dep. Variable:        price_aprox_usd   R-squared:                       0.048\n",
      "Model:                            OLS   Adj. R-squared:                  0.048\n",
      "Method:                 Least Squares   F-statistic:                     719.2\n",
      "Date:                Wed, 16 Mar 2022   Prob (F-statistic):          1.20e-154\n",
      "Time:                        20:14:21   Log-Likelihood:            -1.8643e+05\n",
      "No. Observations:               14402   AIC:                         3.729e+05\n",
      "Df Residuals:                   14400   BIC:                         3.729e+05\n",
      "Df Model:                           1                                         \n",
      "Covariance Type:            nonrobust                                         \n",
      "==============================================================================\n",
      "                 coef    std err          t      P>|t|      [0.025      0.975]\n",
      "------------------------------------------------------------------------------\n",
      "const       3.191e+07   1.18e+06     26.958      0.000    2.96e+07    3.42e+07\n",
      "x1          9.177e+05   3.42e+04     26.819      0.000    8.51e+05    9.85e+05\n",
      "==============================================================================\n",
      "Omnibus:                     8022.165   Durbin-Watson:                   1.725\n",
      "Prob(Omnibus):                  0.000   Jarque-Bera (JB):            83379.736\n",
      "Skew:                           2.502   Prob(JB):                         0.00\n",
      "Kurtosis:                      13.673   Cond. No.                     4.86e+04\n",
      "==============================================================================\n",
      "\n",
      "Notes:\n",
      "[1] Standard Errors assume that the covariance matrix of the errors is correctly specified.\n",
      "[2] The condition number is large, 4.86e+04. This might indicate that there are\n",
      "strong multicollinearity or other numerical problems.\n"
     ]
    }
   ],
   "source": [
    "import statsmodels.api as sm\n",
    "\n",
    "X_t = np.array(df.lat, ndmin=2)\n",
    "#print(X_t)\n",
    "#print(X_t.shape)\n",
    "X = np.transpose(X_t)\n",
    "#print(X)\n",
    "#print(X.shape)\n",
    "y = df.price_aprox_usd\n",
    "\n",
    "# Tenemos que agregar explícitamente a una constante:\n",
    "X = sm.add_constant(X)\n",
    "\n",
    "model = sm.OLS(y, X).fit()\n",
    "print (model.summary())"
   ]
  },
  {
   "cell_type": "markdown",
   "id": "6e4f0ca6",
   "metadata": {},
   "source": [
    "* Obtenemos un R2 de 0.048, el cual nos indica la proporción de la variabilidad que es explicada por la variable lat. Vemos que el poder predictivo de esta variable de forma individual es inferior al de la variable superficie total.\n",
    "\n",
    "* Con un p-value de 0.000 podemos decir que la relación entre la variable lat y price_aprox_usd no es producto del azar."
   ]
  },
  {
   "cell_type": "code",
   "execution_count": 1000,
   "id": "939e418f",
   "metadata": {},
   "outputs": [
    {
     "data": {
      "image/png": "[encoded data removed]",
      "text/plain": [
       "<Figure size 540x432 with 1 Axes>"
      ]
     },
     "metadata": {
      "needs_background": "light"
     },
     "output_type": "display_data"
    }
   ],
   "source": [
    "# Gráfico de latitud vs precio total real y gráfico de superficie vs latitud total según predicción\n",
    "\n",
    "x=df.lat\n",
    "y=df.price_aprox_usd\n",
    "\n",
    "y_pred=model.predict(X)\n",
    "\n",
    "plt.figure(figsize=(7.5,6))\n",
    "plt.plot(x,y_pred,color=\"red\",label=\"Predict line\")\n",
    "plt.scatter(x,y)\n",
    "plt.title('Latitud vs Valor total')\n",
    "plt.xlabel(\"lat\")\n",
    "plt.ylabel(\"price_aprox_usd\")\n",
    "plt.legend()\n",
    "plt.show()"
   ]
  },
  {
   "cell_type": "markdown",
   "id": "98b933db",
   "metadata": {},
   "source": [
    "##### Predictor: lon"
   ]
  },
  {
   "cell_type": "code",
   "execution_count": 1001,
   "id": "184a07ca",
   "metadata": {},
   "outputs": [
    {
     "name": "stdout",
     "output_type": "stream",
     "text": [
      "                            OLS Regression Results                            \n",
      "==============================================================================\n",
      "Dep. Variable:        price_aprox_usd   R-squared:                       0.019\n",
      "Model:                            OLS   Adj. R-squared:                  0.019\n",
      "Method:                 Least Squares   F-statistic:                     282.5\n",
      "Date:                Wed, 16 Mar 2022   Prob (F-statistic):           8.62e-63\n",
      "Time:                        20:14:29   Log-Likelihood:            -1.8664e+05\n",
      "No. Observations:               14402   AIC:                         3.733e+05\n",
      "Df Residuals:                   14400   BIC:                         3.733e+05\n",
      "Df Model:                           1                                         \n",
      "Covariance Type:            nonrobust                                         \n",
      "==============================================================================\n",
      "                 coef    std err          t      P>|t|      [0.025      0.975]\n",
      "------------------------------------------------------------------------------\n",
      "const       2.283e+07   1.35e+06     16.929      0.000    2.02e+07    2.55e+07\n",
      "x1          3.878e+05   2.31e+04     16.807      0.000    3.43e+05    4.33e+05\n",
      "==============================================================================\n",
      "Omnibus:                     7074.622   Durbin-Watson:                   1.697\n",
      "Prob(Omnibus):                  0.000   Jarque-Bera (JB):            55927.122\n",
      "Skew:                           2.223   Prob(JB):                         0.00\n",
      "Kurtosis:                      11.569   Cond. No.                     9.20e+04\n",
      "==============================================================================\n",
      "\n",
      "Notes:\n",
      "[1] Standard Errors assume that the covariance matrix of the errors is correctly specified.\n",
      "[2] The condition number is large, 9.2e+04. This might indicate that there are\n",
      "strong multicollinearity or other numerical problems.\n"
     ]
    }
   ],
   "source": [
    "import statsmodels.api as sm\n",
    "\n",
    "X_t = np.array(df.lon, ndmin=2)\n",
    "#print(X_t)\n",
    "#print(X_t.shape)\n",
    "X = np.transpose(X_t)\n",
    "#print(X)\n",
    "#print(X.shape)\n",
    "y = df.price_aprox_usd\n",
    "\n",
    "# Tenemos que agregar explícitamente a una constante:\n",
    "X = sm.add_constant(X)\n",
    "\n",
    "model = sm.OLS(y, X).fit()\n",
    "print (model.summary())"
   ]
  },
  {
   "cell_type": "markdown",
   "id": "f9b9e5df",
   "metadata": {},
   "source": [
    "* Obtenemos un R2 de 0.019, el cual nos indica la proporción de la variabilidad que es explicada por la variable lon. Vemos que el poder predictivo de esta variable de forma individual es inferior al de la variable superficie total.\n",
    "\n",
    "* Con un p-value de 0.000 podemos decir que la relación entre la variable lon y price_aprox_usd no es producto del azar."
   ]
  },
  {
   "cell_type": "code",
   "execution_count": 1002,
   "id": "8f7e4ecf",
   "metadata": {},
   "outputs": [
    {
     "data": {
      "image/png": "[encoded data removed]",
      "text/plain": [
       "<Figure size 540x432 with 1 Axes>"
      ]
     },
     "metadata": {
      "needs_background": "light"
     },
     "output_type": "display_data"
    }
   ],
   "source": [
    "# Gráfico de superficie vs precio total real y gráfico de superficie vs precio total según predicción\n",
    "\n",
    "x=df.lon\n",
    "y=df.price_aprox_usd\n",
    "\n",
    "y_pred=model.predict(X)\n",
    "\n",
    "plt.figure(figsize=(7.5,6))\n",
    "plt.plot(x,y_pred,color=\"red\",label=\"Predict line\")\n",
    "plt.scatter(x,y)\n",
    "plt.title('Longitud vs Valor total')\n",
    "plt.xlabel(\"lon\")\n",
    "plt.ylabel(\"price_aprox_usd\")\n",
    "plt.legend()\n",
    "plt.show()"
   ]
  },
  {
   "cell_type": "markdown",
   "id": "1e97c033",
   "metadata": {},
   "source": [
    "### Modelo de regresión lineal múltiple - Todas las variables disponibles"
   ]
  },
  {
   "cell_type": "markdown",
   "id": "3c3a202c",
   "metadata": {},
   "source": [
    "Realizaremos un primer modelo que considere todas las variables del dataset. Realizaremos el proceso para obtener variables dummies de variables nominales y el proceso de estandarización de valores para no darle ventaja a aquellas variables cuyos valores sean superiores en magnitud respecto a las demás."
   ]
  },
  {
   "cell_type": "markdown",
   "id": "3aab3a74",
   "metadata": {},
   "source": [
    "#### Separación de set de variables predictoras y variable target"
   ]
  },
  {
   "cell_type": "code",
   "execution_count": 1003,
   "id": "92a3331a",
   "metadata": {},
   "outputs": [],
   "source": [
    "# Separamos nuestras variables predictoras 'X' y nuestra variable target 'y' y generamos variables dummies.\n",
    "\n",
    "X=df.drop(columns={\"price_aprox_usd\"})\n",
    "y=df[\"price_aprox_usd\"]\n",
    "X=pd.get_dummies(X, drop_first=True)\n",
    "feature_columns = X.columns\n",
    "index_rows = X.index\n",
    "feature_cols = X.columns"
   ]
  },
  {
   "cell_type": "code",
   "execution_count": 1005,
   "id": "e65b12d8",
   "metadata": {},
   "outputs": [
    {
     "data": {
      "text/html": [
       "<div>\n",
       "<style scoped>\n",
       "    .dataframe tbody tr th:only-of-type {\n",
       "        vertical-align: middle;\n",
       "    }\n",
       "\n",
       "    .dataframe tbody tr th {\n",
       "        vertical-align: top;\n",
       "    }\n",
       "\n",
       "    .dataframe thead th {\n",
       "        text-align: right;\n",
       "    }\n",
       "</style>\n",
       "<table border=\"1\" class=\"dataframe\">\n",
       "  <thead>\n",
       "    <tr style=\"text-align: right;\">\n",
       "      <th></th>\n",
       "      <th>lat</th>\n",
       "      <th>lon</th>\n",
       "      <th>surface_total_in_m2</th>\n",
       "      <th>place_name_Balvanera</th>\n",
       "      <th>place_name_Barracas</th>\n",
       "      <th>place_name_Barrio Norte</th>\n",
       "      <th>place_name_Belgrano</th>\n",
       "      <th>place_name_Boedo</th>\n",
       "      <th>place_name_Caballito</th>\n",
       "      <th>place_name_Capital Federal</th>\n",
       "      <th>...</th>\n",
       "      <th>place_name_Retiro</th>\n",
       "      <th>place_name_Saavedra</th>\n",
       "      <th>place_name_San Cristobal</th>\n",
       "      <th>place_name_San Nicolás</th>\n",
       "      <th>place_name_San Telmo</th>\n",
       "      <th>place_name_Villa Crespo</th>\n",
       "      <th>place_name_Villa Devoto</th>\n",
       "      <th>place_name_Villa Luro</th>\n",
       "      <th>place_name_Villa Urquiza</th>\n",
       "      <th>place_name_Villa del Parque</th>\n",
       "    </tr>\n",
       "  </thead>\n",
       "  <tbody>\n",
       "    <tr>\n",
       "      <th>1</th>\n",
       "      <td>-34.559873</td>\n",
       "      <td>-58.443362</td>\n",
       "      <td>45.000000</td>\n",
       "      <td>0</td>\n",
       "      <td>0</td>\n",
       "      <td>0</td>\n",
       "      <td>1</td>\n",
       "      <td>0</td>\n",
       "      <td>0</td>\n",
       "      <td>0</td>\n",
       "      <td>...</td>\n",
       "      <td>0</td>\n",
       "      <td>0</td>\n",
       "      <td>0</td>\n",
       "      <td>0</td>\n",
       "      <td>0</td>\n",
       "      <td>0</td>\n",
       "      <td>0</td>\n",
       "      <td>0</td>\n",
       "      <td>0</td>\n",
       "      <td>0</td>\n",
       "    </tr>\n",
       "    <tr>\n",
       "      <th>2</th>\n",
       "      <td>-34.559873</td>\n",
       "      <td>-58.443362</td>\n",
       "      <td>65.000000</td>\n",
       "      <td>0</td>\n",
       "      <td>0</td>\n",
       "      <td>0</td>\n",
       "      <td>1</td>\n",
       "      <td>0</td>\n",
       "      <td>0</td>\n",
       "      <td>0</td>\n",
       "      <td>...</td>\n",
       "      <td>0</td>\n",
       "      <td>0</td>\n",
       "      <td>0</td>\n",
       "      <td>0</td>\n",
       "      <td>0</td>\n",
       "      <td>0</td>\n",
       "      <td>0</td>\n",
       "      <td>0</td>\n",
       "      <td>0</td>\n",
       "      <td>0</td>\n",
       "    </tr>\n",
       "    <tr>\n",
       "      <th>3</th>\n",
       "      <td>-34.580504</td>\n",
       "      <td>-58.405874</td>\n",
       "      <td>104.000000</td>\n",
       "      <td>0</td>\n",
       "      <td>0</td>\n",
       "      <td>0</td>\n",
       "      <td>0</td>\n",
       "      <td>0</td>\n",
       "      <td>0</td>\n",
       "      <td>0</td>\n",
       "      <td>...</td>\n",
       "      <td>0</td>\n",
       "      <td>0</td>\n",
       "      <td>0</td>\n",
       "      <td>0</td>\n",
       "      <td>0</td>\n",
       "      <td>0</td>\n",
       "      <td>0</td>\n",
       "      <td>0</td>\n",
       "      <td>0</td>\n",
       "      <td>0</td>\n",
       "    </tr>\n",
       "  </tbody>\n",
       "</table>\n",
       "<p>3 rows × 37 columns</p>\n",
       "</div>"
      ],
      "text/plain": [
       "         lat        lon  surface_total_in_m2  place_name_Balvanera  \\\n",
       "1 -34.559873 -58.443362            45.000000                     0   \n",
       "2 -34.559873 -58.443362            65.000000                     0   \n",
       "3 -34.580504 -58.405874           104.000000                     0   \n",
       "\n",
       "   place_name_Barracas  place_name_Barrio Norte  place_name_Belgrano  \\\n",
       "1                    0                        0                    1   \n",
       "2                    0                        0                    1   \n",
       "3                    0                        0                    0   \n",
       "\n",
       "   place_name_Boedo  place_name_Caballito  place_name_Capital Federal  ...  \\\n",
       "1                 0                     0                           0  ...   \n",
       "2                 0                     0                           0  ...   \n",
       "3                 0                     0                           0  ...   \n",
       "\n",
       "   place_name_Retiro  place_name_Saavedra  place_name_San Cristobal  \\\n",
       "1                  0                    0                         0   \n",
       "2                  0                    0                         0   \n",
       "3                  0                    0                         0   \n",
       "\n",
       "   place_name_San Nicolás  place_name_San Telmo  place_name_Villa Crespo  \\\n",
       "1                       0                     0                        0   \n",
       "2                       0                     0                        0   \n",
       "3                       0                     0                        0   \n",
       "\n",
       "   place_name_Villa Devoto  place_name_Villa Luro  place_name_Villa Urquiza  \\\n",
       "1                        0                      0                         0   \n",
       "2                        0                      0                         0   \n",
       "3                        0                      0                         0   \n",
       "\n",
       "   place_name_Villa del Parque  \n",
       "1                            0  \n",
       "2                            0  \n",
       "3                            0  \n",
       "\n",
       "[3 rows x 37 columns]"
      ]
     },
     "execution_count": 1005,
     "metadata": {},
     "output_type": "execute_result"
    }
   ],
   "source": [
    "# Visualizamos los primeros 3 registros de las variables predictoras\n",
    "\n",
    "X.head(3)"
   ]
  },
  {
   "cell_type": "code",
   "execution_count": 1006,
   "id": "38d05a53",
   "metadata": {},
   "outputs": [
    {
     "name": "stdout",
     "output_type": "stream",
     "text": [
      "Obtenemos un dataset con:  37 variables predictoras después de la obtención de variables dummies\n"
     ]
    }
   ],
   "source": [
    "print('Obtenemos un dataset con: ', X.shape[1], 'variables predictoras después de la obtención de variables dummies')"
   ]
  },
  {
   "cell_type": "markdown",
   "id": "25c80916",
   "metadata": {},
   "source": [
    "#### Estandarización del set de variables predictoras y adición de la constante"
   ]
  },
  {
   "cell_type": "code",
   "execution_count": 1007,
   "id": "11ad96be",
   "metadata": {},
   "outputs": [],
   "source": [
    "# Creamos una función que reciba un set de variables predictoras X, un scaler previamente ajustado, nombres de las columnas\n",
    "# de las variables predictoras y los indices de filas originales.\n",
    "\n",
    "def escalar_add_constant(X, feature_columns, index_rows):\n",
    "    X_transform = X.copy()\n",
    "    scaler = StandardScaler()\n",
    "    scaler.fit(X_transform)\n",
    "    X_transform = scaler.transform(X_transform)\n",
    "    X_transform = pd.DataFrame(X_transform, columns=feature_columns, index=index_rows)\n",
    "    X_transform = sm.add_constant(X_transform)\n",
    "    return X_transform, scaler"
   ]
  },
  {
   "cell_type": "code",
   "execution_count": 1008,
   "id": "14d0cbf7",
   "metadata": {},
   "outputs": [],
   "source": [
    "# Escalamos las variables numéricas de X y adición de constante\n",
    "\n",
    "X, scaler_sin_regul= escalar_add_constant(X, feature_columns, index_rows)"
   ]
  },
  {
   "cell_type": "markdown",
   "id": "d5b39244",
   "metadata": {},
   "source": [
    "#### Partición en train, test, ajuste del modelo."
   ]
  },
  {
   "cell_type": "code",
   "execution_count": 1009,
   "id": "392c15d6",
   "metadata": {},
   "outputs": [
    {
     "name": "stdout",
     "output_type": "stream",
     "text": [
      "                            OLS Regression Results                            \n",
      "==============================================================================\n",
      "Dep. Variable:        price_aprox_usd   R-squared:                       0.780\n",
      "Model:                            OLS   Adj. R-squared:                  0.779\n",
      "Method:                 Least Squares   F-statistic:                     1029.\n",
      "Date:                Wed, 16 Mar 2022   Prob (F-statistic):               0.00\n",
      "Time:                        20:15:27   Log-Likelihood:            -1.3204e+05\n",
      "No. Observations:               10801   AIC:                         2.642e+05\n",
      "Df Residuals:                   10763   BIC:                         2.644e+05\n",
      "Df Model:                          37                                         \n",
      "Covariance Type:            nonrobust                                         \n",
      "===================================================================================================\n",
      "                                      coef    std err          t      P>|t|      [0.025      0.975]\n",
      "---------------------------------------------------------------------------------------------------\n",
      "const                            1.635e+05    478.249    341.890      0.000    1.63e+05    1.64e+05\n",
      "lat                              2.085e+04   1715.774     12.150      0.000    1.75e+04    2.42e+04\n",
      "lon                              1.771e+04   1704.270     10.392      0.000    1.44e+04    2.11e+04\n",
      "surface_total_in_m2              7.135e+04    485.178    147.058      0.000    7.04e+04    7.23e+04\n",
      "place_name_Balvanera            -5418.9528    611.240     -8.866      0.000   -6617.095   -4220.810\n",
      "place_name_Barracas             -1305.7192    630.352     -2.071      0.038   -2541.326     -70.113\n",
      "place_name_Barrio Norte          5127.5139    682.791      7.510      0.000    3789.118    6465.910\n",
      "place_name_Belgrano              7768.1997   1234.223      6.294      0.000    5348.895    1.02e+04\n",
      "place_name_Boedo                   65.8297    550.514      0.120      0.905   -1013.280    1144.940\n",
      "place_name_Caballito             9895.7141    854.439     11.582      0.000    8220.857    1.16e+04\n",
      "place_name_Capital Federal       1300.4718    618.873      2.101      0.036      87.367    2513.577\n",
      "place_name_Centro / Microcentro -2412.1924    506.664     -4.761      0.000   -3405.347   -1419.038\n",
      "place_name_Chacarita              336.0100    567.577      0.592      0.554    -776.545    1448.565\n",
      "place_name_Coghlan               1023.9599    661.073      1.549      0.121    -271.866    2319.786\n",
      "place_name_Colegiales            1835.1303    615.893      2.980      0.003     627.867    3042.394\n",
      "place_name_Congreso             -3952.9391    526.449     -7.509      0.000   -4984.877   -2921.002\n",
      "place_name_Constitución         -2171.9987    542.829     -4.001      0.000   -3236.044   -1107.953\n",
      "place_name_Flores                5907.4396    876.124      6.743      0.000    4190.075    7624.804\n",
      "place_name_Floresta              4040.2697    678.912      5.951      0.000    2709.477    5371.063\n",
      "place_name_Las Cañitas           4277.6018    502.504      8.513      0.000    3292.601    5262.603\n",
      "place_name_Liniers               5354.4396    682.999      7.840      0.000    4015.635    6693.244\n",
      "place_name_Monserrat            -2534.0340    634.981     -3.991      0.000   -3778.714   -1289.354\n",
      "place_name_Nuñez                 3204.6106    897.231      3.572      0.000    1445.872    4963.349\n",
      "place_name_Once                 -2725.9739    483.985     -5.632      0.000   -3674.675   -1777.273\n",
      "place_name_Palermo               1.316e+04    991.329     13.272      0.000    1.12e+04    1.51e+04\n",
      "place_name_Parque Patricios      -404.0782    570.568     -0.708      0.479   -1522.497     714.341\n",
      "place_name_Puerto Madero         3.282e+04    624.999     52.516      0.000    3.16e+04     3.4e+04\n",
      "place_name_Recoleta              1.052e+04    755.523     13.926      0.000    9040.534     1.2e+04\n",
      "place_name_Retiro                -486.7125    521.490     -0.933      0.351   -1508.928     535.503\n",
      "place_name_Saavedra              -820.1607    830.609     -0.987      0.323   -2448.308     807.987\n",
      "place_name_San Cristobal        -1514.8048    537.662     -2.817      0.005   -2568.721    -460.889\n",
      "place_name_San Nicolás          -2884.6325    529.060     -5.452      0.000   -3921.687   -1847.578\n",
      "place_name_San Telmo            -1210.2580    766.049     -1.580      0.114   -2711.855     291.339\n",
      "place_name_Villa Crespo          2134.5049    692.242      3.083      0.002     777.583    3491.427\n",
      "place_name_Villa Devoto          4566.0959    684.707      6.669      0.000    3223.944    5908.248\n",
      "place_name_Villa Luro            7644.8800    737.610     10.364      0.000    6199.028    9090.733\n",
      "place_name_Villa Urquiza         5727.3758   1069.416      5.356      0.000    3631.124    7823.628\n",
      "place_name_Villa del Parque      2969.6157    633.951      4.684      0.000    1726.956    4212.276\n",
      "==============================================================================\n",
      "Omnibus:                     5934.527   Durbin-Watson:                   1.776\n",
      "Prob(Omnibus):                  0.000   Jarque-Bera (JB):           190911.840\n",
      "Skew:                           2.054   Prob(JB):                         0.00\n",
      "Kurtosis:                      23.183   Cond. No.                         8.37\n",
      "==============================================================================\n",
      "\n",
      "Notes:\n",
      "[1] Standard Errors assume that the covariance matrix of the errors is correctly specified.\n"
     ]
    }
   ],
   "source": [
    "# Partimos el dataset en train (entrenamiento) y test (prueba)\n",
    "\n",
    "Xtrain, Xtest, ytrain, ytest=train_test_split(X,y,shuffle=False,random_state=42)\n",
    "\n",
    "# Inicializamos una regresión lineal, la entrenamos y realizamos predicciones sobre la data de prueba\n",
    "\n",
    "model_sin_regul = sm.OLS(ytrain, Xtrain).fit()\n",
    "print (model_sin_regul.summary())"
   ]
  },
  {
   "cell_type": "markdown",
   "id": "e413b635",
   "metadata": {},
   "source": [
    "* Obtenemos un R2 ajustado de 0.779, los cual nos indica que el modelo obtenido  explica una proporción significativa de la variabilidad.\n",
    "\n",
    "* Con un nivel de significación del 0.05, podemos decir que los coeficientes de variables como: place_name_Boedo, place_name_Chacarita, place_name_Coghlan, place_name_Parque Patricios, place_name_Parque Retiro,  place_name_Parque Saavedra y place_name_San Telmo tienden a ser nulos, lo que en otras palabras significa que su aporte al modelo no es significativo. "
   ]
  },
  {
   "cell_type": "markdown",
   "id": "b7b7e40d",
   "metadata": {},
   "source": [
    "### Modelo de regresión lineal múltiple - Simplificado"
   ]
  },
  {
   "cell_type": "markdown",
   "id": "1a1b52c5",
   "metadata": {},
   "source": [
    "Realizaremos un modelo de regresión lineal simplificado, considerando solamente variables de superficie, latitud y longitud sin interacción entre las mismas. \n",
    "\n",
    "En seguida, entrenaremos modelos con algunas interacciones entre variables para comparar los resultados."
   ]
  },
  {
   "cell_type": "markdown",
   "id": "3f1f9ade",
   "metadata": {},
   "source": [
    "#### Separación de set de variables predictoras y variable target"
   ]
  },
  {
   "cell_type": "code",
   "execution_count": 1010,
   "id": "aa0606e2",
   "metadata": {},
   "outputs": [],
   "source": [
    "# Separamos nuestras variables predictoras 'X' y nuestra variable target 'y' y generamos variables dummies.\n",
    "\n",
    "X=df.loc[:,['surface_total_in_m2', 'lat', 'lon']]\n",
    "X=pd.get_dummies(X, drop_first=True)\n",
    "feature_columns = X.columns\n",
    "index_rows = X.index\n",
    "feature_cols = X.columns\n",
    "y=df[\"price_aprox_usd\"]"
   ]
  },
  {
   "cell_type": "code",
   "execution_count": 1011,
   "id": "42a6b17d",
   "metadata": {},
   "outputs": [
    {
     "data": {
      "text/html": [
       "<div>\n",
       "<style scoped>\n",
       "    .dataframe tbody tr th:only-of-type {\n",
       "        vertical-align: middle;\n",
       "    }\n",
       "\n",
       "    .dataframe tbody tr th {\n",
       "        vertical-align: top;\n",
       "    }\n",
       "\n",
       "    .dataframe thead th {\n",
       "        text-align: right;\n",
       "    }\n",
       "</style>\n",
       "<table border=\"1\" class=\"dataframe\">\n",
       "  <thead>\n",
       "    <tr style=\"text-align: right;\">\n",
       "      <th></th>\n",
       "      <th>surface_total_in_m2</th>\n",
       "      <th>lat</th>\n",
       "      <th>lon</th>\n",
       "    </tr>\n",
       "  </thead>\n",
       "  <tbody>\n",
       "    <tr>\n",
       "      <th>1</th>\n",
       "      <td>45.000000</td>\n",
       "      <td>-34.559873</td>\n",
       "      <td>-58.443362</td>\n",
       "    </tr>\n",
       "    <tr>\n",
       "      <th>2</th>\n",
       "      <td>65.000000</td>\n",
       "      <td>-34.559873</td>\n",
       "      <td>-58.443362</td>\n",
       "    </tr>\n",
       "    <tr>\n",
       "      <th>3</th>\n",
       "      <td>104.000000</td>\n",
       "      <td>-34.580504</td>\n",
       "      <td>-58.405874</td>\n",
       "    </tr>\n",
       "  </tbody>\n",
       "</table>\n",
       "</div>"
      ],
      "text/plain": [
       "   surface_total_in_m2        lat        lon\n",
       "1            45.000000 -34.559873 -58.443362\n",
       "2            65.000000 -34.559873 -58.443362\n",
       "3           104.000000 -34.580504 -58.405874"
      ]
     },
     "execution_count": 1011,
     "metadata": {},
     "output_type": "execute_result"
    }
   ],
   "source": [
    "# Visualizamos los primeros 3 registros de las variables predictoras\n",
    "\n",
    "X.head(3)"
   ]
  },
  {
   "cell_type": "code",
   "execution_count": 1012,
   "id": "2d05a2dd",
   "metadata": {},
   "outputs": [
    {
     "name": "stdout",
     "output_type": "stream",
     "text": [
      "Obtenemos un dataset con:  3 variables predictoras después de la obtención de variables dummies\n"
     ]
    }
   ],
   "source": [
    "print('Obtenemos un dataset con: ', X.shape[1], 'variables predictoras después de la obtención de variables dummies')"
   ]
  },
  {
   "cell_type": "markdown",
   "id": "8d88de17",
   "metadata": {},
   "source": [
    "#### Estandarización del set de variables predictoras y adición de la constante"
   ]
  },
  {
   "cell_type": "code",
   "execution_count": 1013,
   "id": "2ff950b7",
   "metadata": {},
   "outputs": [],
   "source": [
    "# Escalamos las variables numéricas de X\n",
    "\n",
    "X, scaler=escalar_add_constant(X, feature_columns, index_rows)"
   ]
  },
  {
   "cell_type": "markdown",
   "id": "b35b4837",
   "metadata": {},
   "source": [
    "#### Partición en train, test, ajuste del modelo."
   ]
  },
  {
   "cell_type": "code",
   "execution_count": 1014,
   "id": "3d350cb3",
   "metadata": {},
   "outputs": [
    {
     "name": "stdout",
     "output_type": "stream",
     "text": [
      "                            OLS Regression Results                            \n",
      "==============================================================================\n",
      "Dep. Variable:        price_aprox_usd   R-squared:                       0.643\n",
      "Model:                            OLS   Adj. R-squared:                  0.643\n",
      "Method:                 Least Squares   F-statistic:                     6490.\n",
      "Date:                Wed, 16 Mar 2022   Prob (F-statistic):               0.00\n",
      "Time:                        20:17:42   Log-Likelihood:            -1.3464e+05\n",
      "No. Observations:               10801   AIC:                         2.693e+05\n",
      "Df Residuals:                   10797   BIC:                         2.693e+05\n",
      "Df Model:                           3                                         \n",
      "Covariance Type:            nonrobust                                         \n",
      "=======================================================================================\n",
      "                          coef    std err          t      P>|t|      [0.025      0.975]\n",
      "---------------------------------------------------------------------------------------\n",
      "const                1.637e+05    603.866    271.108      0.000    1.63e+05    1.65e+05\n",
      "surface_total_in_m2  7.738e+04    600.059    128.958      0.000    7.62e+04    7.86e+04\n",
      "lat                  2.111e+04    628.673     33.575      0.000    1.99e+04    2.23e+04\n",
      "lon                  1.514e+04    620.577     24.394      0.000    1.39e+04    1.64e+04\n",
      "==============================================================================\n",
      "Omnibus:                     7016.309   Durbin-Watson:                   1.712\n",
      "Prob(Omnibus):                  0.000   Jarque-Bera (JB):           203840.351\n",
      "Skew:                           2.671   Prob(JB):                         0.00\n",
      "Kurtosis:                      23.601   Cond. No.                         1.30\n",
      "==============================================================================\n",
      "\n",
      "Notes:\n",
      "[1] Standard Errors assume that the covariance matrix of the errors is correctly specified.\n"
     ]
    }
   ],
   "source": [
    "# Partimos el dataset en train (entrenamiento) y test (prueba)\n",
    "\n",
    "Xtrain, Xtest, ytrain, ytest=train_test_split(X,y,shuffle=False,random_state=42)\n",
    "\n",
    "# Inicializamos una regresión lineal, la entrenamos y realizamos predicciones sobre la data de prueba\n",
    "\n",
    "model = sm.OLS(ytrain, Xtrain).fit()\n",
    "print (model.summary())"
   ]
  },
  {
   "cell_type": "markdown",
   "id": "170577d0",
   "metadata": {},
   "source": [
    "* Obtenemos un R2 ajustado de 0.643, lo cual nos indica que el modelo obtenido explica una proporción significativa de la variabilidad siendo a su vez un modelo sencillo de solo 3 predictores.\n",
    "\n",
    "\n",
    "* Con un nivel de significación del 0.05, podemos decir que las tres variables predictoras son significativas."
   ]
  },
  {
   "cell_type": "code",
   "execution_count": null,
   "id": "ef3f4c14",
   "metadata": {},
   "outputs": [],
   "source": []
  },
  {
   "cell_type": "markdown",
   "id": "bc598274",
   "metadata": {},
   "source": [
    "### Modelo de regresión lineal múltiple - Simplificado con interacción de variables"
   ]
  },
  {
   "cell_type": "markdown",
   "id": "1db1f8f6",
   "metadata": {},
   "source": [
    "Realizaremos un modelo de regresión lineal simplificado, considerando solamente variables de superficie, latitud y longitud sin interacción entre las mismas. \n",
    "\n",
    "En seguida, entrenaremos modelos con algunas interacciones entre variables para comparar los resultados."
   ]
  },
  {
   "cell_type": "markdown",
   "id": "2ac9c0fc",
   "metadata": {},
   "source": [
    "#### Creación de variables lat_lon, surface_cuad, lat_cuad, lon_cuad"
   ]
  },
  {
   "cell_type": "code",
   "execution_count": 1015,
   "id": "3ae55e6b",
   "metadata": {},
   "outputs": [],
   "source": [
    "df_mod = df.copy()\n",
    "df_mod['lat_lon'] = df_mod['lat']*df_mod['lon']\n",
    "df_mod['surface_cuad'] = df_mod['surface_total_in_m2']*df_mod['surface_total_in_m2']\n",
    "df_mod['lat_cuad'] = df_mod['lat']*df_mod['lat']\n",
    "df_mod['lon_cuad'] = df_mod['lon']*df_mod['lon']"
   ]
  },
  {
   "cell_type": "markdown",
   "id": "b5d97d2a",
   "metadata": {},
   "source": [
    "#### Separación de set de variables predictoras y variable target"
   ]
  },
  {
   "cell_type": "code",
   "execution_count": 1016,
   "id": "c558164b",
   "metadata": {},
   "outputs": [],
   "source": [
    "# Separamos nuestras variables predictoras 'X' y nuestra variable target 'y' y generamos variables dummies.\n",
    "\n",
    "X=df_mod.loc[:,['surface_total_in_m2', 'lat', 'lon', 'lat_lon', 'surface_cuad', 'lat_cuad', 'lon_cuad']]\n",
    "X=pd.get_dummies(X, drop_first=True)\n",
    "feature_columns = X.columns\n",
    "index_rows = X.index\n",
    "feature_cols = X.columns\n",
    "y=df_mod[\"price_aprox_usd\"]"
   ]
  },
  {
   "cell_type": "code",
   "execution_count": 1017,
   "id": "efa23885",
   "metadata": {},
   "outputs": [
    {
     "data": {
      "text/html": [
       "<div>\n",
       "<style scoped>\n",
       "    .dataframe tbody tr th:only-of-type {\n",
       "        vertical-align: middle;\n",
       "    }\n",
       "\n",
       "    .dataframe tbody tr th {\n",
       "        vertical-align: top;\n",
       "    }\n",
       "\n",
       "    .dataframe thead th {\n",
       "        text-align: right;\n",
       "    }\n",
       "</style>\n",
       "<table border=\"1\" class=\"dataframe\">\n",
       "  <thead>\n",
       "    <tr style=\"text-align: right;\">\n",
       "      <th></th>\n",
       "      <th>surface_total_in_m2</th>\n",
       "      <th>lat</th>\n",
       "      <th>lon</th>\n",
       "      <th>lat_lon</th>\n",
       "      <th>surface_cuad</th>\n",
       "      <th>lat_cuad</th>\n",
       "      <th>lon_cuad</th>\n",
       "    </tr>\n",
       "  </thead>\n",
       "  <tbody>\n",
       "    <tr>\n",
       "      <th>1</th>\n",
       "      <td>45.000000</td>\n",
       "      <td>-34.559873</td>\n",
       "      <td>-58.443362</td>\n",
       "      <td>2019.795163</td>\n",
       "      <td>2025.000000</td>\n",
       "      <td>1194.384815</td>\n",
       "      <td>3415.626562</td>\n",
       "    </tr>\n",
       "    <tr>\n",
       "      <th>2</th>\n",
       "      <td>65.000000</td>\n",
       "      <td>-34.559873</td>\n",
       "      <td>-58.443362</td>\n",
       "      <td>2019.795163</td>\n",
       "      <td>4225.000000</td>\n",
       "      <td>1194.384815</td>\n",
       "      <td>3415.626562</td>\n",
       "    </tr>\n",
       "    <tr>\n",
       "      <th>3</th>\n",
       "      <td>104.000000</td>\n",
       "      <td>-34.580504</td>\n",
       "      <td>-58.405874</td>\n",
       "      <td>2019.704551</td>\n",
       "      <td>10816.000000</td>\n",
       "      <td>1195.811227</td>\n",
       "      <td>3411.246174</td>\n",
       "    </tr>\n",
       "  </tbody>\n",
       "</table>\n",
       "</div>"
      ],
      "text/plain": [
       "   surface_total_in_m2        lat        lon     lat_lon  surface_cuad  \\\n",
       "1            45.000000 -34.559873 -58.443362 2019.795163   2025.000000   \n",
       "2            65.000000 -34.559873 -58.443362 2019.795163   4225.000000   \n",
       "3           104.000000 -34.580504 -58.405874 2019.704551  10816.000000   \n",
       "\n",
       "     lat_cuad    lon_cuad  \n",
       "1 1194.384815 3415.626562  \n",
       "2 1194.384815 3415.626562  \n",
       "3 1195.811227 3411.246174  "
      ]
     },
     "execution_count": 1017,
     "metadata": {},
     "output_type": "execute_result"
    }
   ],
   "source": [
    "# Visualizamos los primeros 3 registros de las variables predictoras\n",
    "\n",
    "X.head(3)"
   ]
  },
  {
   "cell_type": "code",
   "execution_count": 1018,
   "id": "a57d3433",
   "metadata": {},
   "outputs": [
    {
     "name": "stdout",
     "output_type": "stream",
     "text": [
      "Obtenemos un dataset con:  7 variables predictoras después de la obtención de variables dummies\n"
     ]
    }
   ],
   "source": [
    "print('Obtenemos un dataset con: ', X.shape[1], 'variables predictoras después de la obtención de variables dummies')"
   ]
  },
  {
   "cell_type": "markdown",
   "id": "ab1d5b50",
   "metadata": {},
   "source": [
    "#### Estandarización del set de variables predictoras y adición de la constante"
   ]
  },
  {
   "cell_type": "code",
   "execution_count": 1019,
   "id": "4327fcb4",
   "metadata": {},
   "outputs": [],
   "source": [
    "# Escalamos las variables numéricas de X\n",
    "\n",
    "X, scaler=escalar_add_constant(X, feature_columns, index_rows)"
   ]
  },
  {
   "cell_type": "markdown",
   "id": "6accef95",
   "metadata": {},
   "source": [
    "#### Partición en train, test, ajuste del modelo."
   ]
  },
  {
   "cell_type": "code",
   "execution_count": 1020,
   "id": "3fc98009",
   "metadata": {},
   "outputs": [
    {
     "name": "stdout",
     "output_type": "stream",
     "text": [
      "                            OLS Regression Results                            \n",
      "==============================================================================\n",
      "Dep. Variable:        price_aprox_usd   R-squared:                       0.665\n",
      "Model:                            OLS   Adj. R-squared:                  0.665\n",
      "Method:                 Least Squares   F-statistic:                     3058.\n",
      "Date:                Wed, 16 Mar 2022   Prob (F-statistic):               0.00\n",
      "Time:                        20:18:11   Log-Likelihood:            -1.3430e+05\n",
      "No. Observations:               10801   AIC:                         2.686e+05\n",
      "Df Residuals:                   10793   BIC:                         2.687e+05\n",
      "Df Model:                           7                                         \n",
      "Covariance Type:            nonrobust                                         \n",
      "=======================================================================================\n",
      "                          coef    std err          t      P>|t|      [0.025      0.975]\n",
      "---------------------------------------------------------------------------------------\n",
      "const                1.633e+05    585.724    278.868      0.000    1.62e+05    1.64e+05\n",
      "surface_total_in_m2  5.447e+04   2830.032     19.246      0.000    4.89e+04       6e+04\n",
      "lat                   3.01e+07   2.43e+06     12.372      0.000    2.53e+07    3.49e+07\n",
      "lon                  5.177e+07   2.16e+06     23.921      0.000    4.75e+07     5.6e+07\n",
      "lat_lon               2.66e+07   1.34e+06     19.873      0.000     2.4e+07    2.92e+07\n",
      "surface_cuad         2.171e+04   2826.970      7.680      0.000    1.62e+04    2.73e+04\n",
      "lat_cuad             6.944e+06    1.8e+06      3.854      0.000    3.41e+06    1.05e+07\n",
      "lon_cuad             3.114e+07   1.72e+06     18.054      0.000    2.78e+07    3.45e+07\n",
      "==============================================================================\n",
      "Omnibus:                     6605.807   Durbin-Watson:                   1.724\n",
      "Prob(Omnibus):                  0.000   Jarque-Bera (JB):           189360.793\n",
      "Skew:                           2.446   Prob(JB):                         0.00\n",
      "Kurtosis:                      22.921   Cond. No.                     9.10e+03\n",
      "==============================================================================\n",
      "\n",
      "Notes:\n",
      "[1] Standard Errors assume that the covariance matrix of the errors is correctly specified.\n",
      "[2] The condition number is large, 9.1e+03. This might indicate that there are\n",
      "strong multicollinearity or other numerical problems.\n"
     ]
    }
   ],
   "source": [
    "# Partimos el dataset en train (entrenamiento) y test (prueba)\n",
    "\n",
    "Xtrain, Xtest, ytrain, ytest=train_test_split(X,y,shuffle=False,random_state=42)\n",
    "\n",
    "# Inicializamos una regresión lineal, la entrenamos y realizamos predicciones sobre la data de prueba\n",
    "\n",
    "model = sm.OLS(ytrain, Xtrain).fit()\n",
    "print (model.summary())"
   ]
  },
  {
   "cell_type": "markdown",
   "id": "93e5829e",
   "metadata": {},
   "source": [
    "* Obtenemos un R2 ajustado de 0.665, lo cual nos indica que el modelo obtenido tiene mejor poder de predicción respecto al modelo simplificado sin interacción entre variables. De igual forma sigue siendo un modelo sencillo con el uso de 7 predictores.\n",
    "\n",
    "* Con un nivel de significación del 0.05, podemos decir que las siete variables predictoras son significativas.\n",
    "\n",
    "* Es importante destacar que los coeficientes que explican en mayor magnitud la variable predictora siguen siendo los de las variables sin interacción."
   ]
  },
  {
   "cell_type": "code",
   "execution_count": null,
   "id": "e5c2a047",
   "metadata": {},
   "outputs": [],
   "source": []
  },
  {
   "cell_type": "markdown",
   "id": "9472ae09",
   "metadata": {},
   "source": [
    "### Modelo de regresión lineal múltiple - Todas las variables disponibles - Lasso"
   ]
  },
  {
   "cell_type": "code",
   "execution_count": 1021,
   "id": "78415c4e",
   "metadata": {},
   "outputs": [],
   "source": [
    "# Creamos una función que reciba un set de variables predictoras X, un scaler previamente ajustado, nombres de las columnas\n",
    "# de las variables predictoras y los indices de filas originales. No se agrega constante ya que usaremos LinearRegression de sklearn\n",
    "# y podemos fittear un intercepto ajustando un parámetro de la función\n",
    "\n",
    "def escalar_x(X, feature_columns, index_rows):\n",
    "    X_transform = X.copy()\n",
    "    scaler = StandardScaler()\n",
    "    scaler.fit(X_transform)\n",
    "    X_transform = scaler.transform(X_transform)\n",
    "    X_transform = pd.DataFrame(X_transform, columns=feature_columns, index=index_rows)\n",
    "    return X_transform, scaler"
   ]
  },
  {
   "cell_type": "markdown",
   "id": "d15f2493",
   "metadata": {},
   "source": [
    "#### Separación de set de variables predictoras y variable target"
   ]
  },
  {
   "cell_type": "code",
   "execution_count": 1022,
   "id": "1c9a36c7",
   "metadata": {},
   "outputs": [],
   "source": [
    "# Separamos nuestras variables predictoras 'X' y nuestra variable target 'y' y generamos variables dummies.\n",
    "\n",
    "X=df.drop(columns={\"price_aprox_usd\"})\n",
    "y=df[\"price_aprox_usd\"]\n",
    "X=pd.get_dummies(X, drop_first=True)\n",
    "feature_columns = X.columns\n",
    "index_rows = X.index\n",
    "feature_cols = X.columns"
   ]
  },
  {
   "cell_type": "markdown",
   "id": "01e1f86d",
   "metadata": {},
   "source": [
    "#### Estandarización del set de variables predictoras y adición de la constante"
   ]
  },
  {
   "cell_type": "code",
   "execution_count": 1023,
   "id": "e94b0732",
   "metadata": {},
   "outputs": [],
   "source": [
    "# Escalamos las variables numéricas de X y adición de constante\n",
    "\n",
    "X, scaler_lasso= escalar_x(X, feature_columns, index_rows)"
   ]
  },
  {
   "cell_type": "markdown",
   "id": "f4f0c5af",
   "metadata": {},
   "source": [
    "#### Partición en train, test"
   ]
  },
  {
   "cell_type": "code",
   "execution_count": 1024,
   "id": "d1a5b1fa",
   "metadata": {},
   "outputs": [],
   "source": [
    "# Partimos el dataset en train (entrenamiento) y test (prueba)\n",
    "\n",
    "Xtrain, Xtest, ytrain, ytest=train_test_split(X,y,shuffle=False,random_state=42)"
   ]
  },
  {
   "cell_type": "markdown",
   "id": "2caee521",
   "metadata": {},
   "source": [
    "#### Cross Validation para encontrar el mejor valor del hiperparámetro alpha"
   ]
  },
  {
   "cell_type": "code",
   "execution_count": 1025,
   "id": "f0dd2d47",
   "metadata": {},
   "outputs": [],
   "source": [
    "# Ahora entrenamos el modelo con variaciones de alpha, mediante CV para obtener el mejor valor del hiperparámetro\n",
    "\n",
    "lm_lasso = linear_model.LassoCV(alphas=[0.00001, 0.00005, 0.0001, 0.0005, 0.001, 0.005, 0.01,\\\n",
    "                                        0.05, 0.1, 1, 5, 10],\\\n",
    "                                        normalize=False, cv=5) \n",
    "# Definimos el rango de de búsqueda del hiperparametro explicitamente\n",
    "\n",
    "model_lasso_cv = lm_lasso.fit(Xtrain, ytrain)"
   ]
  },
  {
   "cell_type": "code",
   "execution_count": 1026,
   "id": "c9d5af8c",
   "metadata": {},
   "outputs": [
    {
     "name": "stdout",
     "output_type": "stream",
     "text": [
      "El mejor valor encontrado para alpha es:  10.0\n"
     ]
    }
   ],
   "source": [
    "print('El mejor valor encontrado para alpha es: ', model_lasso_cv.alpha_)"
   ]
  },
  {
   "cell_type": "markdown",
   "id": "97b5740f",
   "metadata": {},
   "source": [
    "#### Modelo con el mejor hiperparámetro alpha"
   ]
  },
  {
   "cell_type": "code",
   "execution_count": 1027,
   "id": "592f59c3",
   "metadata": {},
   "outputs": [],
   "source": [
    "best_alpha_lasso = model_lasso_cv.alpha_\n",
    "model_lasso = linear_model.Lasso(alpha = best_alpha_lasso, fit_intercept = True, normalize = False)\n",
    "model_fit_lasso = model_lasso.fit(Xtrain, ytrain)"
   ]
  },
  {
   "cell_type": "code",
   "execution_count": 1028,
   "id": "e10e3fa6",
   "metadata": {},
   "outputs": [
    {
     "name": "stdout",
     "output_type": "stream",
     "text": [
      "Los betas obtenidos en el modelo son: \n",
      "\n"
     ]
    },
    {
     "data": {
      "text/html": [
       "<div>\n",
       "<style scoped>\n",
       "    .dataframe tbody tr th:only-of-type {\n",
       "        vertical-align: middle;\n",
       "    }\n",
       "\n",
       "    .dataframe tbody tr th {\n",
       "        vertical-align: top;\n",
       "    }\n",
       "\n",
       "    .dataframe thead th {\n",
       "        text-align: right;\n",
       "    }\n",
       "</style>\n",
       "<table border=\"1\" class=\"dataframe\">\n",
       "  <thead>\n",
       "    <tr style=\"text-align: right;\">\n",
       "      <th></th>\n",
       "      <th>Variable</th>\n",
       "      <th>Beta_lasso</th>\n",
       "    </tr>\n",
       "  </thead>\n",
       "  <tbody>\n",
       "    <tr>\n",
       "      <th>0</th>\n",
       "      <td>lat</td>\n",
       "      <td>20892.030098</td>\n",
       "    </tr>\n",
       "    <tr>\n",
       "      <th>1</th>\n",
       "      <td>lon</td>\n",
       "      <td>17132.410635</td>\n",
       "    </tr>\n",
       "    <tr>\n",
       "      <th>2</th>\n",
       "      <td>surface_total_in_m2</td>\n",
       "      <td>71352.371706</td>\n",
       "    </tr>\n",
       "    <tr>\n",
       "      <th>3</th>\n",
       "      <td>place_name_Balvanera</td>\n",
       "      <td>-5420.443738</td>\n",
       "    </tr>\n",
       "    <tr>\n",
       "      <th>4</th>\n",
       "      <td>place_name_Barracas</td>\n",
       "      <td>-1242.211207</td>\n",
       "    </tr>\n",
       "    <tr>\n",
       "      <th>5</th>\n",
       "      <td>place_name_Barrio Norte</td>\n",
       "      <td>5103.814610</td>\n",
       "    </tr>\n",
       "    <tr>\n",
       "      <th>6</th>\n",
       "      <td>place_name_Belgrano</td>\n",
       "      <td>7472.069575</td>\n",
       "    </tr>\n",
       "    <tr>\n",
       "      <th>7</th>\n",
       "      <td>place_name_Boedo</td>\n",
       "      <td>27.850523</td>\n",
       "    </tr>\n",
       "    <tr>\n",
       "      <th>8</th>\n",
       "      <td>place_name_Caballito</td>\n",
       "      <td>9676.487851</td>\n",
       "    </tr>\n",
       "    <tr>\n",
       "      <th>9</th>\n",
       "      <td>place_name_Capital Federal</td>\n",
       "      <td>1223.591872</td>\n",
       "    </tr>\n",
       "    <tr>\n",
       "      <th>10</th>\n",
       "      <td>place_name_Centro / Microcentro</td>\n",
       "      <td>-2376.985845</td>\n",
       "    </tr>\n",
       "    <tr>\n",
       "      <th>11</th>\n",
       "      <td>place_name_Chacarita</td>\n",
       "      <td>240.513718</td>\n",
       "    </tr>\n",
       "    <tr>\n",
       "      <th>12</th>\n",
       "      <td>place_name_Coghlan</td>\n",
       "      <td>881.124773</td>\n",
       "    </tr>\n",
       "    <tr>\n",
       "      <th>13</th>\n",
       "      <td>place_name_Colegiales</td>\n",
       "      <td>1711.596673</td>\n",
       "    </tr>\n",
       "    <tr>\n",
       "      <th>14</th>\n",
       "      <td>place_name_Congreso</td>\n",
       "      <td>-3933.432052</td>\n",
       "    </tr>\n",
       "    <tr>\n",
       "      <th>15</th>\n",
       "      <td>place_name_Constitución</td>\n",
       "      <td>-2136.852157</td>\n",
       "    </tr>\n",
       "    <tr>\n",
       "      <th>16</th>\n",
       "      <td>place_name_Flores</td>\n",
       "      <td>5669.090685</td>\n",
       "    </tr>\n",
       "    <tr>\n",
       "      <th>17</th>\n",
       "      <td>place_name_Floresta</td>\n",
       "      <td>3862.426214</td>\n",
       "    </tr>\n",
       "    <tr>\n",
       "      <th>18</th>\n",
       "      <td>place_name_Las Cañitas</td>\n",
       "      <td>4221.618069</td>\n",
       "    </tr>\n",
       "    <tr>\n",
       "      <th>19</th>\n",
       "      <td>place_name_Liniers</td>\n",
       "      <td>5185.781776</td>\n",
       "    </tr>\n",
       "    <tr>\n",
       "      <th>20</th>\n",
       "      <td>place_name_Monserrat</td>\n",
       "      <td>-2490.254686</td>\n",
       "    </tr>\n",
       "    <tr>\n",
       "      <th>21</th>\n",
       "      <td>place_name_Nuñez</td>\n",
       "      <td>3012.614011</td>\n",
       "    </tr>\n",
       "    <tr>\n",
       "      <th>22</th>\n",
       "      <td>place_name_Once</td>\n",
       "      <td>-2727.106258</td>\n",
       "    </tr>\n",
       "    <tr>\n",
       "      <th>23</th>\n",
       "      <td>place_name_Palermo</td>\n",
       "      <td>12993.708955</td>\n",
       "    </tr>\n",
       "    <tr>\n",
       "      <th>24</th>\n",
       "      <td>place_name_Parque Patricios</td>\n",
       "      <td>-398.896207</td>\n",
       "    </tr>\n",
       "    <tr>\n",
       "      <th>25</th>\n",
       "      <td>place_name_Puerto Madero</td>\n",
       "      <td>32884.449744</td>\n",
       "    </tr>\n",
       "    <tr>\n",
       "      <th>26</th>\n",
       "      <td>place_name_Recoleta</td>\n",
       "      <td>10510.370638</td>\n",
       "    </tr>\n",
       "    <tr>\n",
       "      <th>27</th>\n",
       "      <td>place_name_Retiro</td>\n",
       "      <td>-452.069381</td>\n",
       "    </tr>\n",
       "    <tr>\n",
       "      <th>28</th>\n",
       "      <td>place_name_Saavedra</td>\n",
       "      <td>-1005.903790</td>\n",
       "    </tr>\n",
       "    <tr>\n",
       "      <th>29</th>\n",
       "      <td>place_name_San Cristobal</td>\n",
       "      <td>-1507.120712</td>\n",
       "    </tr>\n",
       "    <tr>\n",
       "      <th>30</th>\n",
       "      <td>place_name_San Nicolás</td>\n",
       "      <td>-2854.248310</td>\n",
       "    </tr>\n",
       "    <tr>\n",
       "      <th>31</th>\n",
       "      <td>place_name_San Telmo</td>\n",
       "      <td>-1127.330669</td>\n",
       "    </tr>\n",
       "    <tr>\n",
       "      <th>32</th>\n",
       "      <td>place_name_Villa Crespo</td>\n",
       "      <td>1979.643105</td>\n",
       "    </tr>\n",
       "    <tr>\n",
       "      <th>33</th>\n",
       "      <td>place_name_Villa Devoto</td>\n",
       "      <td>4360.990227</td>\n",
       "    </tr>\n",
       "    <tr>\n",
       "      <th>34</th>\n",
       "      <td>place_name_Villa Luro</td>\n",
       "      <td>7451.311533</td>\n",
       "    </tr>\n",
       "    <tr>\n",
       "      <th>35</th>\n",
       "      <td>place_name_Villa Urquiza</td>\n",
       "      <td>5394.759748</td>\n",
       "    </tr>\n",
       "    <tr>\n",
       "      <th>36</th>\n",
       "      <td>place_name_Villa del Parque</td>\n",
       "      <td>2796.633491</td>\n",
       "    </tr>\n",
       "    <tr>\n",
       "      <th>37</th>\n",
       "      <td>const</td>\n",
       "      <td>163497.953008</td>\n",
       "    </tr>\n",
       "  </tbody>\n",
       "</table>\n",
       "</div>"
      ],
      "text/plain": [
       "                           Variable    Beta_lasso\n",
       "0                               lat  20892.030098\n",
       "1                               lon  17132.410635\n",
       "2               surface_total_in_m2  71352.371706\n",
       "3              place_name_Balvanera  -5420.443738\n",
       "4               place_name_Barracas  -1242.211207\n",
       "5           place_name_Barrio Norte   5103.814610\n",
       "6               place_name_Belgrano   7472.069575\n",
       "7                  place_name_Boedo     27.850523\n",
       "8              place_name_Caballito   9676.487851\n",
       "9        place_name_Capital Federal   1223.591872\n",
       "10  place_name_Centro / Microcentro  -2376.985845\n",
       "11             place_name_Chacarita    240.513718\n",
       "12               place_name_Coghlan    881.124773\n",
       "13            place_name_Colegiales   1711.596673\n",
       "14              place_name_Congreso  -3933.432052\n",
       "15          place_name_Constitución  -2136.852157\n",
       "16                place_name_Flores   5669.090685\n",
       "17              place_name_Floresta   3862.426214\n",
       "18           place_name_Las Cañitas   4221.618069\n",
       "19               place_name_Liniers   5185.781776\n",
       "20             place_name_Monserrat  -2490.254686\n",
       "21                 place_name_Nuñez   3012.614011\n",
       "22                  place_name_Once  -2727.106258\n",
       "23               place_name_Palermo  12993.708955\n",
       "24      place_name_Parque Patricios   -398.896207\n",
       "25         place_name_Puerto Madero  32884.449744\n",
       "26              place_name_Recoleta  10510.370638\n",
       "27                place_name_Retiro   -452.069381\n",
       "28              place_name_Saavedra  -1005.903790\n",
       "29         place_name_San Cristobal  -1507.120712\n",
       "30           place_name_San Nicolás  -2854.248310\n",
       "31             place_name_San Telmo  -1127.330669\n",
       "32          place_name_Villa Crespo   1979.643105\n",
       "33          place_name_Villa Devoto   4360.990227\n",
       "34            place_name_Villa Luro   7451.311533\n",
       "35         place_name_Villa Urquiza   5394.759748\n",
       "36      place_name_Villa del Parque   2796.633491\n",
       "37                            const 163497.953008"
      ]
     },
     "metadata": {},
     "output_type": "display_data"
    }
   ],
   "source": [
    "print('Los betas obtenidos en el modelo son: \\n')\n",
    "modelo_lasso = pd.DataFrame({'Variable':list(X.columns),\n",
    "                    'Beta_lasso':list(model_fit_lasso.coef_)})\n",
    "\n",
    "modelo_lasso = modelo_lasso.append({'Variable':'const',\n",
    "                                   'Beta_lasso': model_fit_lasso.intercept_},\n",
    "                                  ignore_index=True)\n",
    "display(modelo_lasso)"
   ]
  },
  {
   "cell_type": "code",
   "execution_count": 1029,
   "id": "239e5907",
   "metadata": {},
   "outputs": [
    {
     "name": "stdout",
     "output_type": "stream",
     "text": [
      "El intercepto que se obtiene en el modelo es:\n",
      "163497.95300794067 \n",
      "\n",
      "El accuracy score en la data de entrenamiento es:\n",
      "0.7795552849812898 \n",
      "\n",
      "El accuracy score en la data de pruebas es:\n",
      "0.7521550208538422\n"
     ]
    }
   ],
   "source": [
    "print('El intercepto que se obtiene en el modelo es:')\n",
    "print(model_fit_lasso.intercept_, '\\n')\n",
    "print('El accuracy score en la data de entrenamiento es:')\n",
    "print(model_fit_lasso.score(Xtrain, ytrain), '\\n')\n",
    "print('El accuracy score en la data de pruebas es:')\n",
    "print(model_fit_lasso.score(Xtest, ytest))"
   ]
  },
  {
   "cell_type": "markdown",
   "id": "525e05d6",
   "metadata": {},
   "source": [
    "* De acuerdo a los resultados obtenidos y considerando que todas las variables están estandarizadas, observamos que aquellas con mayor relevancia son latitud, longitud, superficie en m2, lugares como Puerto Madero, Palermo, Recoleta y otros más. Por otra parte, consideramos que aquellas variables con coeficientes menores a 1500 son poco relevantes y coinciden con las identificadas en el modelo lineal múltiple sin regularización.\n",
    "\n",
    "* Además obtenemos un accuracy para la data de entrenamiento y de prueba bastante similares entre si, por lo que no hay overfitting y es una señal de que el modelo generaliza muy bien.\n",
    "\n",
    "* Comparando el accuracy de este modelo contra el obtenido en el modelo sin regularización podemos decir que son prácticamente iguales."
   ]
  },
  {
   "cell_type": "markdown",
   "id": "0c377253",
   "metadata": {},
   "source": [
    "### Modelo de regresión lineal múltiple - Todas las variables disponibles - Ridge"
   ]
  },
  {
   "cell_type": "markdown",
   "id": "fd0f6703",
   "metadata": {},
   "source": [
    "#### Separación de set de variables predictoras y variable target"
   ]
  },
  {
   "cell_type": "code",
   "execution_count": 1030,
   "id": "095fcfb7",
   "metadata": {},
   "outputs": [],
   "source": [
    "# Separamos nuestras variables predictoras 'X' y nuestra variable target 'y' y generamos variables dummies.\n",
    "\n",
    "X=df.drop(columns={\"price_aprox_usd\"})\n",
    "y=df[\"price_aprox_usd\"]\n",
    "X=pd.get_dummies(X, drop_first=True)\n",
    "feature_columns = X.columns\n",
    "index_rows = X.index\n",
    "feature_cols = X.columns"
   ]
  },
  {
   "cell_type": "markdown",
   "id": "0181ed0d",
   "metadata": {},
   "source": [
    "#### Estandarización del set de variables predictoras y adición de la constante"
   ]
  },
  {
   "cell_type": "code",
   "execution_count": 1031,
   "id": "c86aa067",
   "metadata": {},
   "outputs": [],
   "source": [
    "# Escalamos las variables numéricas de X y adición de constante\n",
    "\n",
    "X, scaler_ridge = escalar_x(X, feature_columns, index_rows)"
   ]
  },
  {
   "cell_type": "markdown",
   "id": "0f2aab54",
   "metadata": {},
   "source": [
    "#### Partición en train, test"
   ]
  },
  {
   "cell_type": "code",
   "execution_count": 1032,
   "id": "1ffc8411",
   "metadata": {},
   "outputs": [],
   "source": [
    "# Partimos el dataset en train (entrenamiento) y test (prueba)\n",
    "\n",
    "Xtrain, Xtest, ytrain, ytest=train_test_split(X,y,shuffle=False,random_state=42)"
   ]
  },
  {
   "cell_type": "markdown",
   "id": "a2b1ddab",
   "metadata": {},
   "source": [
    "#### Cross Validation para encontrar el mejor valor del hiperparámetro alpha"
   ]
  },
  {
   "cell_type": "code",
   "execution_count": 1033,
   "id": "e55d7be5",
   "metadata": {},
   "outputs": [],
   "source": [
    "# Ahora entrenamos el modelo con variaciones de alpha, mediante CV para obtener el mejor valor del hiperparámetro\n",
    "\n",
    "lm_ridge = linear_model.RidgeCV(alphas=[0.00001, 0.00005, 0.0001, 0.0005, 0.001, 0.005, 0.01,\\\n",
    "                                        0.05, 0.1, 1, 5, 10],\\\n",
    "                                        normalize=False, cv=5) \n",
    "# Definimos el rango de de búsqueda del hiperparametro explicitamente\n",
    "\n",
    "model_ridge_cv = lm_ridge.fit(Xtrain, ytrain)"
   ]
  },
  {
   "cell_type": "code",
   "execution_count": 1034,
   "id": "922acfca",
   "metadata": {},
   "outputs": [
    {
     "name": "stdout",
     "output_type": "stream",
     "text": [
      "El mejor valor encontrado para alpha es:  10.0\n",
      "El accuracy obtenido con el mejor alpha es:  0.7764048735560095\n"
     ]
    }
   ],
   "source": [
    "print('El mejor valor encontrado para alpha es: ', model_ridge_cv.alpha_)\n",
    "\n",
    "print('El accuracy obtenido con el mejor alpha es: ', model_ridge_cv.best_score_)"
   ]
  },
  {
   "cell_type": "markdown",
   "id": "4192537a",
   "metadata": {},
   "source": [
    "#### Modelo con el mejor hiperparámetro alpha"
   ]
  },
  {
   "cell_type": "code",
   "execution_count": 1035,
   "id": "9f65cc78",
   "metadata": {},
   "outputs": [],
   "source": [
    "best_alpha_ridge = model_ridge_cv.alpha_\n",
    "model_ridge = linear_model.Ridge(alpha = best_alpha_ridge, fit_intercept = True, normalize = False)\n",
    "model_fit_ridge = model_ridge.fit(Xtrain, ytrain)"
   ]
  },
  {
   "cell_type": "code",
   "execution_count": 1036,
   "id": "a3ab666b",
   "metadata": {},
   "outputs": [
    {
     "name": "stdout",
     "output_type": "stream",
     "text": [
      "Los betas obtenidos en el modelo son: \n",
      "\n"
     ]
    },
    {
     "data": {
      "text/html": [
       "<div>\n",
       "<style scoped>\n",
       "    .dataframe tbody tr th:only-of-type {\n",
       "        vertical-align: middle;\n",
       "    }\n",
       "\n",
       "    .dataframe tbody tr th {\n",
       "        vertical-align: top;\n",
       "    }\n",
       "\n",
       "    .dataframe thead th {\n",
       "        text-align: right;\n",
       "    }\n",
       "</style>\n",
       "<table border=\"1\" class=\"dataframe\">\n",
       "  <thead>\n",
       "    <tr style=\"text-align: right;\">\n",
       "      <th></th>\n",
       "      <th>Variable</th>\n",
       "      <th>Beta_ridge</th>\n",
       "    </tr>\n",
       "  </thead>\n",
       "  <tbody>\n",
       "    <tr>\n",
       "      <th>0</th>\n",
       "      <td>lat</td>\n",
       "      <td>20689.382513</td>\n",
       "    </tr>\n",
       "    <tr>\n",
       "      <th>1</th>\n",
       "      <td>lon</td>\n",
       "      <td>17399.957723</td>\n",
       "    </tr>\n",
       "    <tr>\n",
       "      <th>2</th>\n",
       "      <td>surface_total_in_m2</td>\n",
       "      <td>71294.877648</td>\n",
       "    </tr>\n",
       "    <tr>\n",
       "      <th>3</th>\n",
       "      <td>place_name_Balvanera</td>\n",
       "      <td>-5449.322368</td>\n",
       "    </tr>\n",
       "    <tr>\n",
       "      <th>4</th>\n",
       "      <td>place_name_Barracas</td>\n",
       "      <td>-1319.760624</td>\n",
       "    </tr>\n",
       "    <tr>\n",
       "      <th>5</th>\n",
       "      <td>place_name_Barrio Norte</td>\n",
       "      <td>5108.081641</td>\n",
       "    </tr>\n",
       "    <tr>\n",
       "      <th>6</th>\n",
       "      <td>place_name_Belgrano</td>\n",
       "      <td>7660.336846</td>\n",
       "    </tr>\n",
       "    <tr>\n",
       "      <th>7</th>\n",
       "      <td>place_name_Boedo</td>\n",
       "      <td>18.928390</td>\n",
       "    </tr>\n",
       "    <tr>\n",
       "      <th>8</th>\n",
       "      <td>place_name_Caballito</td>\n",
       "      <td>9706.183903</td>\n",
       "    </tr>\n",
       "    <tr>\n",
       "      <th>9</th>\n",
       "      <td>place_name_Capital Federal</td>\n",
       "      <td>1240.945051</td>\n",
       "    </tr>\n",
       "    <tr>\n",
       "      <th>10</th>\n",
       "      <td>place_name_Centro / Microcentro</td>\n",
       "      <td>-2410.790362</td>\n",
       "    </tr>\n",
       "    <tr>\n",
       "      <th>11</th>\n",
       "      <td>place_name_Chacarita</td>\n",
       "      <td>285.641519</td>\n",
       "    </tr>\n",
       "    <tr>\n",
       "      <th>12</th>\n",
       "      <td>place_name_Coghlan</td>\n",
       "      <td>969.265626</td>\n",
       "    </tr>\n",
       "    <tr>\n",
       "      <th>13</th>\n",
       "      <td>place_name_Colegiales</td>\n",
       "      <td>1779.932880</td>\n",
       "    </tr>\n",
       "    <tr>\n",
       "      <th>14</th>\n",
       "      <td>place_name_Congreso</td>\n",
       "      <td>-3963.384105</td>\n",
       "    </tr>\n",
       "    <tr>\n",
       "      <th>15</th>\n",
       "      <td>place_name_Constitución</td>\n",
       "      <td>-2186.377671</td>\n",
       "    </tr>\n",
       "    <tr>\n",
       "      <th>16</th>\n",
       "      <td>place_name_Flores</td>\n",
       "      <td>5708.485030</td>\n",
       "    </tr>\n",
       "    <tr>\n",
       "      <th>17</th>\n",
       "      <td>place_name_Floresta</td>\n",
       "      <td>3904.079884</td>\n",
       "    </tr>\n",
       "    <tr>\n",
       "      <th>18</th>\n",
       "      <td>place_name_Las Cañitas</td>\n",
       "      <td>4259.819394</td>\n",
       "    </tr>\n",
       "    <tr>\n",
       "      <th>19</th>\n",
       "      <td>place_name_Liniers</td>\n",
       "      <td>5226.821312</td>\n",
       "    </tr>\n",
       "    <tr>\n",
       "      <th>20</th>\n",
       "      <td>place_name_Monserrat</td>\n",
       "      <td>-2546.281097</td>\n",
       "    </tr>\n",
       "    <tr>\n",
       "      <th>21</th>\n",
       "      <td>place_name_Nuñez</td>\n",
       "      <td>3147.951819</td>\n",
       "    </tr>\n",
       "    <tr>\n",
       "      <th>22</th>\n",
       "      <td>place_name_Once</td>\n",
       "      <td>-2741.515820</td>\n",
       "    </tr>\n",
       "    <tr>\n",
       "      <th>23</th>\n",
       "      <td>place_name_Palermo</td>\n",
       "      <td>13071.876074</td>\n",
       "    </tr>\n",
       "    <tr>\n",
       "      <th>24</th>\n",
       "      <td>place_name_Parque Patricios</td>\n",
       "      <td>-439.861103</td>\n",
       "    </tr>\n",
       "    <tr>\n",
       "      <th>25</th>\n",
       "      <td>place_name_Puerto Madero</td>\n",
       "      <td>32812.953659</td>\n",
       "    </tr>\n",
       "    <tr>\n",
       "      <th>26</th>\n",
       "      <td>place_name_Recoleta</td>\n",
       "      <td>10508.895108</td>\n",
       "    </tr>\n",
       "    <tr>\n",
       "      <th>27</th>\n",
       "      <td>place_name_Retiro</td>\n",
       "      <td>-478.086201</td>\n",
       "    </tr>\n",
       "    <tr>\n",
       "      <th>28</th>\n",
       "      <td>place_name_Saavedra</td>\n",
       "      <td>-890.297215</td>\n",
       "    </tr>\n",
       "    <tr>\n",
       "      <th>29</th>\n",
       "      <td>place_name_San Cristobal</td>\n",
       "      <td>-1548.991038</td>\n",
       "    </tr>\n",
       "    <tr>\n",
       "      <th>30</th>\n",
       "      <td>place_name_San Nicolás</td>\n",
       "      <td>-2884.117994</td>\n",
       "    </tr>\n",
       "    <tr>\n",
       "      <th>31</th>\n",
       "      <td>place_name_San Telmo</td>\n",
       "      <td>-1222.426536</td>\n",
       "    </tr>\n",
       "    <tr>\n",
       "      <th>32</th>\n",
       "      <td>place_name_Villa Crespo</td>\n",
       "      <td>2033.900120</td>\n",
       "    </tr>\n",
       "    <tr>\n",
       "      <th>33</th>\n",
       "      <td>place_name_Villa Devoto</td>\n",
       "      <td>4443.304340</td>\n",
       "    </tr>\n",
       "    <tr>\n",
       "      <th>34</th>\n",
       "      <td>place_name_Villa Luro</td>\n",
       "      <td>7493.836449</td>\n",
       "    </tr>\n",
       "    <tr>\n",
       "      <th>35</th>\n",
       "      <td>place_name_Villa Urquiza</td>\n",
       "      <td>5567.956030</td>\n",
       "    </tr>\n",
       "    <tr>\n",
       "      <th>36</th>\n",
       "      <td>place_name_Villa del Parque</td>\n",
       "      <td>2861.183778</td>\n",
       "    </tr>\n",
       "    <tr>\n",
       "      <th>37</th>\n",
       "      <td>const</td>\n",
       "      <td>163503.422860</td>\n",
       "    </tr>\n",
       "  </tbody>\n",
       "</table>\n",
       "</div>"
      ],
      "text/plain": [
       "                           Variable    Beta_ridge\n",
       "0                               lat  20689.382513\n",
       "1                               lon  17399.957723\n",
       "2               surface_total_in_m2  71294.877648\n",
       "3              place_name_Balvanera  -5449.322368\n",
       "4               place_name_Barracas  -1319.760624\n",
       "5           place_name_Barrio Norte   5108.081641\n",
       "6               place_name_Belgrano   7660.336846\n",
       "7                  place_name_Boedo     18.928390\n",
       "8              place_name_Caballito   9706.183903\n",
       "9        place_name_Capital Federal   1240.945051\n",
       "10  place_name_Centro / Microcentro  -2410.790362\n",
       "11             place_name_Chacarita    285.641519\n",
       "12               place_name_Coghlan    969.265626\n",
       "13            place_name_Colegiales   1779.932880\n",
       "14              place_name_Congreso  -3963.384105\n",
       "15          place_name_Constitución  -2186.377671\n",
       "16                place_name_Flores   5708.485030\n",
       "17              place_name_Floresta   3904.079884\n",
       "18           place_name_Las Cañitas   4259.819394\n",
       "19               place_name_Liniers   5226.821312\n",
       "20             place_name_Monserrat  -2546.281097\n",
       "21                 place_name_Nuñez   3147.951819\n",
       "22                  place_name_Once  -2741.515820\n",
       "23               place_name_Palermo  13071.876074\n",
       "24      place_name_Parque Patricios   -439.861103\n",
       "25         place_name_Puerto Madero  32812.953659\n",
       "26              place_name_Recoleta  10508.895108\n",
       "27                place_name_Retiro   -478.086201\n",
       "28              place_name_Saavedra   -890.297215\n",
       "29         place_name_San Cristobal  -1548.991038\n",
       "30           place_name_San Nicolás  -2884.117994\n",
       "31             place_name_San Telmo  -1222.426536\n",
       "32          place_name_Villa Crespo   2033.900120\n",
       "33          place_name_Villa Devoto   4443.304340\n",
       "34            place_name_Villa Luro   7493.836449\n",
       "35         place_name_Villa Urquiza   5567.956030\n",
       "36      place_name_Villa del Parque   2861.183778\n",
       "37                            const 163503.422860"
      ]
     },
     "metadata": {},
     "output_type": "display_data"
    }
   ],
   "source": [
    "print('Los betas obtenidos en el modelo son: \\n')\n",
    "modelo_ridge = pd.DataFrame({'Variable':list(X.columns),\n",
    "                    'Beta_ridge':list(model_fit_ridge.coef_)})\n",
    "\n",
    "modelo_ridge = modelo_ridge.append({'Variable':'const',\n",
    "                                   'Beta_ridge': model_fit_ridge.intercept_},\n",
    "                                  ignore_index=True)\n",
    "display(modelo_ridge)"
   ]
  },
  {
   "cell_type": "code",
   "execution_count": 1037,
   "id": "7d61f003",
   "metadata": {},
   "outputs": [
    {
     "name": "stdout",
     "output_type": "stream",
     "text": [
      "El intercepto que se obtiene en el modelo es:\n",
      "163503.42286047936 \n",
      "\n",
      "El accuracy score en la data de entrenamiento es:\n",
      "0.7795568110382041 \n",
      "\n",
      "El accuracy score en la data de pruebas es:\n",
      "0.7521576380178925\n"
     ]
    }
   ],
   "source": [
    "print('El intercepto que se obtiene en el modelo es:')\n",
    "print(model_fit_ridge.intercept_, '\\n')\n",
    "print('El accuracy score en la data de entrenamiento es:')\n",
    "print(model_fit_ridge.score(Xtrain, ytrain), '\\n')\n",
    "print('El accuracy score en la data de pruebas es:')\n",
    "print(model_fit_ridge.score(Xtest, ytest))"
   ]
  },
  {
   "cell_type": "markdown",
   "id": "af6b6deb",
   "metadata": {},
   "source": [
    "* De acuerdo a los resultados obtenidos y considerando que todas las variables están estandarizadas, observamos que aquellas con mayor relevancia son latitud, longitud, superficie en m2, lugares como Puerto Madero, Palermo, Recoleta y otros más. Por otra parte, consideramos que aquellas variables con coeficientes menores a 1500 son poco relevantes y coinciden con las identificadas en el modelo lineal múltiple sin regularización.\n",
    "\n",
    "* Además obtenemos un accuracy para la data de entrenamiento y de prueba bastante similares entre si, por lo que no hay overfitting y es una señal de que el modelo generaliza muy bien.\n",
    "\n",
    "* Comparando el accuracy de este modelo contra el obtenido en el modelo sin regularización podemos decir que son prácticamente iguales."
   ]
  },
  {
   "cell_type": "markdown",
   "id": "af8ee7c2",
   "metadata": {},
   "source": [
    "### Comparación entre modelos sin regularización, modelo Lasso y modelo Ridge"
   ]
  },
  {
   "cell_type": "code",
   "execution_count": 1038,
   "id": "80659d24",
   "metadata": {},
   "outputs": [],
   "source": [
    "# Conformamos un dataframe con los resultados del modelo base sin regularización\n",
    "\n",
    "modelo_sin_regularizacion = model_sin_regul.params.reset_index()\n",
    "modelo_sin_regularizacion.columns = ['Variable','Beta_sin_regul']\n",
    "\n",
    "# Conformamos un dataframe con la comparación de los resultados de los tres modelos\n",
    "\n",
    "comparativa_resultados = modelo_sin_regularizacion.merge(modelo_lasso, \n",
    "                                                         how='left', \n",
    "                                                         on=['Variable']).merge(modelo_ridge, \n",
    "                                                                                how='left', \n",
    "                                                                                on=['Variable'])"
   ]
  },
  {
   "cell_type": "code",
   "execution_count": 1040,
   "id": "80a7ba39",
   "metadata": {},
   "outputs": [
    {
     "data": {
      "text/html": [
       "<div>\n",
       "<style scoped>\n",
       "    .dataframe tbody tr th:only-of-type {\n",
       "        vertical-align: middle;\n",
       "    }\n",
       "\n",
       "    .dataframe tbody tr th {\n",
       "        vertical-align: top;\n",
       "    }\n",
       "\n",
       "    .dataframe thead th {\n",
       "        text-align: right;\n",
       "    }\n",
       "</style>\n",
       "<table border=\"1\" class=\"dataframe\">\n",
       "  <thead>\n",
       "    <tr style=\"text-align: right;\">\n",
       "      <th></th>\n",
       "      <th>Variable</th>\n",
       "      <th>Beta_sin_regul</th>\n",
       "      <th>Beta_lasso</th>\n",
       "      <th>Beta_ridge</th>\n",
       "    </tr>\n",
       "  </thead>\n",
       "  <tbody>\n",
       "    <tr>\n",
       "      <th>0</th>\n",
       "      <td>const</td>\n",
       "      <td>163508.432969</td>\n",
       "      <td>163497.953008</td>\n",
       "      <td>163503.422860</td>\n",
       "    </tr>\n",
       "    <tr>\n",
       "      <th>1</th>\n",
       "      <td>lat</td>\n",
       "      <td>20847.232153</td>\n",
       "      <td>20892.030098</td>\n",
       "      <td>20689.382513</td>\n",
       "    </tr>\n",
       "    <tr>\n",
       "      <th>2</th>\n",
       "      <td>lon</td>\n",
       "      <td>17710.659737</td>\n",
       "      <td>17132.410635</td>\n",
       "      <td>17399.957723</td>\n",
       "    </tr>\n",
       "    <tr>\n",
       "      <th>3</th>\n",
       "      <td>surface_total_in_m2</td>\n",
       "      <td>71349.333663</td>\n",
       "      <td>71352.371706</td>\n",
       "      <td>71294.877648</td>\n",
       "    </tr>\n",
       "    <tr>\n",
       "      <th>4</th>\n",
       "      <td>place_name_Balvanera</td>\n",
       "      <td>-5418.952753</td>\n",
       "      <td>-5420.443738</td>\n",
       "      <td>-5449.322368</td>\n",
       "    </tr>\n",
       "    <tr>\n",
       "      <th>5</th>\n",
       "      <td>place_name_Barracas</td>\n",
       "      <td>-1305.719223</td>\n",
       "      <td>-1242.211207</td>\n",
       "      <td>-1319.760624</td>\n",
       "    </tr>\n",
       "    <tr>\n",
       "      <th>6</th>\n",
       "      <td>place_name_Barrio Norte</td>\n",
       "      <td>5127.513927</td>\n",
       "      <td>5103.814610</td>\n",
       "      <td>5108.081641</td>\n",
       "    </tr>\n",
       "    <tr>\n",
       "      <th>7</th>\n",
       "      <td>place_name_Belgrano</td>\n",
       "      <td>7768.199687</td>\n",
       "      <td>7472.069575</td>\n",
       "      <td>7660.336846</td>\n",
       "    </tr>\n",
       "    <tr>\n",
       "      <th>8</th>\n",
       "      <td>place_name_Boedo</td>\n",
       "      <td>65.829708</td>\n",
       "      <td>27.850523</td>\n",
       "      <td>18.928390</td>\n",
       "    </tr>\n",
       "    <tr>\n",
       "      <th>9</th>\n",
       "      <td>place_name_Caballito</td>\n",
       "      <td>9895.714111</td>\n",
       "      <td>9676.487851</td>\n",
       "      <td>9706.183903</td>\n",
       "    </tr>\n",
       "    <tr>\n",
       "      <th>10</th>\n",
       "      <td>place_name_Capital Federal</td>\n",
       "      <td>1300.471841</td>\n",
       "      <td>1223.591872</td>\n",
       "      <td>1240.945051</td>\n",
       "    </tr>\n",
       "    <tr>\n",
       "      <th>11</th>\n",
       "      <td>place_name_Centro / Microcentro</td>\n",
       "      <td>-2412.192371</td>\n",
       "      <td>-2376.985845</td>\n",
       "      <td>-2410.790362</td>\n",
       "    </tr>\n",
       "    <tr>\n",
       "      <th>12</th>\n",
       "      <td>place_name_Chacarita</td>\n",
       "      <td>336.009957</td>\n",
       "      <td>240.513718</td>\n",
       "      <td>285.641519</td>\n",
       "    </tr>\n",
       "    <tr>\n",
       "      <th>13</th>\n",
       "      <td>place_name_Coghlan</td>\n",
       "      <td>1023.959911</td>\n",
       "      <td>881.124773</td>\n",
       "      <td>969.265626</td>\n",
       "    </tr>\n",
       "    <tr>\n",
       "      <th>14</th>\n",
       "      <td>place_name_Colegiales</td>\n",
       "      <td>1835.130285</td>\n",
       "      <td>1711.596673</td>\n",
       "      <td>1779.932880</td>\n",
       "    </tr>\n",
       "    <tr>\n",
       "      <th>15</th>\n",
       "      <td>place_name_Congreso</td>\n",
       "      <td>-3952.939081</td>\n",
       "      <td>-3933.432052</td>\n",
       "      <td>-3963.384105</td>\n",
       "    </tr>\n",
       "    <tr>\n",
       "      <th>16</th>\n",
       "      <td>place_name_Constitución</td>\n",
       "      <td>-2171.998663</td>\n",
       "      <td>-2136.852157</td>\n",
       "      <td>-2186.377671</td>\n",
       "    </tr>\n",
       "    <tr>\n",
       "      <th>17</th>\n",
       "      <td>place_name_Flores</td>\n",
       "      <td>5907.439571</td>\n",
       "      <td>5669.090685</td>\n",
       "      <td>5708.485030</td>\n",
       "    </tr>\n",
       "    <tr>\n",
       "      <th>18</th>\n",
       "      <td>place_name_Floresta</td>\n",
       "      <td>4040.269677</td>\n",
       "      <td>3862.426214</td>\n",
       "      <td>3904.079884</td>\n",
       "    </tr>\n",
       "    <tr>\n",
       "      <th>19</th>\n",
       "      <td>place_name_Las Cañitas</td>\n",
       "      <td>4277.601783</td>\n",
       "      <td>4221.618069</td>\n",
       "      <td>4259.819394</td>\n",
       "    </tr>\n",
       "    <tr>\n",
       "      <th>20</th>\n",
       "      <td>place_name_Liniers</td>\n",
       "      <td>5354.439628</td>\n",
       "      <td>5185.781776</td>\n",
       "      <td>5226.821312</td>\n",
       "    </tr>\n",
       "    <tr>\n",
       "      <th>21</th>\n",
       "      <td>place_name_Monserrat</td>\n",
       "      <td>-2534.033952</td>\n",
       "      <td>-2490.254686</td>\n",
       "      <td>-2546.281097</td>\n",
       "    </tr>\n",
       "    <tr>\n",
       "      <th>22</th>\n",
       "      <td>place_name_Nuñez</td>\n",
       "      <td>3204.610569</td>\n",
       "      <td>3012.614011</td>\n",
       "      <td>3147.951819</td>\n",
       "    </tr>\n",
       "    <tr>\n",
       "      <th>23</th>\n",
       "      <td>place_name_Once</td>\n",
       "      <td>-2725.973920</td>\n",
       "      <td>-2727.106258</td>\n",
       "      <td>-2741.515820</td>\n",
       "    </tr>\n",
       "    <tr>\n",
       "      <th>24</th>\n",
       "      <td>place_name_Palermo</td>\n",
       "      <td>13156.656110</td>\n",
       "      <td>12993.708955</td>\n",
       "      <td>13071.876074</td>\n",
       "    </tr>\n",
       "    <tr>\n",
       "      <th>25</th>\n",
       "      <td>place_name_Parque Patricios</td>\n",
       "      <td>-404.078238</td>\n",
       "      <td>-398.896207</td>\n",
       "      <td>-439.861103</td>\n",
       "    </tr>\n",
       "    <tr>\n",
       "      <th>26</th>\n",
       "      <td>place_name_Puerto Madero</td>\n",
       "      <td>32822.237395</td>\n",
       "      <td>32884.449744</td>\n",
       "      <td>32812.953659</td>\n",
       "    </tr>\n",
       "    <tr>\n",
       "      <th>27</th>\n",
       "      <td>place_name_Recoleta</td>\n",
       "      <td>10521.497981</td>\n",
       "      <td>10510.370638</td>\n",
       "      <td>10508.895108</td>\n",
       "    </tr>\n",
       "    <tr>\n",
       "      <th>28</th>\n",
       "      <td>place_name_Retiro</td>\n",
       "      <td>-486.712527</td>\n",
       "      <td>-452.069381</td>\n",
       "      <td>-478.086201</td>\n",
       "    </tr>\n",
       "    <tr>\n",
       "      <th>29</th>\n",
       "      <td>place_name_Saavedra</td>\n",
       "      <td>-820.160655</td>\n",
       "      <td>-1005.903790</td>\n",
       "      <td>-890.297215</td>\n",
       "    </tr>\n",
       "    <tr>\n",
       "      <th>30</th>\n",
       "      <td>place_name_San Cristobal</td>\n",
       "      <td>-1514.804816</td>\n",
       "      <td>-1507.120712</td>\n",
       "      <td>-1548.991038</td>\n",
       "    </tr>\n",
       "    <tr>\n",
       "      <th>31</th>\n",
       "      <td>place_name_San Nicolás</td>\n",
       "      <td>-2884.632507</td>\n",
       "      <td>-2854.248310</td>\n",
       "      <td>-2884.117994</td>\n",
       "    </tr>\n",
       "    <tr>\n",
       "      <th>32</th>\n",
       "      <td>place_name_San Telmo</td>\n",
       "      <td>-1210.257997</td>\n",
       "      <td>-1127.330669</td>\n",
       "      <td>-1222.426536</td>\n",
       "    </tr>\n",
       "    <tr>\n",
       "      <th>33</th>\n",
       "      <td>place_name_Villa Crespo</td>\n",
       "      <td>2134.504886</td>\n",
       "      <td>1979.643105</td>\n",
       "      <td>2033.900120</td>\n",
       "    </tr>\n",
       "    <tr>\n",
       "      <th>34</th>\n",
       "      <td>place_name_Villa Devoto</td>\n",
       "      <td>4566.095942</td>\n",
       "      <td>4360.990227</td>\n",
       "      <td>4443.304340</td>\n",
       "    </tr>\n",
       "    <tr>\n",
       "      <th>35</th>\n",
       "      <td>place_name_Villa Luro</td>\n",
       "      <td>7644.880038</td>\n",
       "      <td>7451.311533</td>\n",
       "      <td>7493.836449</td>\n",
       "    </tr>\n",
       "    <tr>\n",
       "      <th>36</th>\n",
       "      <td>place_name_Villa Urquiza</td>\n",
       "      <td>5727.375811</td>\n",
       "      <td>5394.759748</td>\n",
       "      <td>5567.956030</td>\n",
       "    </tr>\n",
       "    <tr>\n",
       "      <th>37</th>\n",
       "      <td>place_name_Villa del Parque</td>\n",
       "      <td>2969.615746</td>\n",
       "      <td>2796.633491</td>\n",
       "      <td>2861.183778</td>\n",
       "    </tr>\n",
       "  </tbody>\n",
       "</table>\n",
       "</div>"
      ],
      "text/plain": [
       "                           Variable  Beta_sin_regul    Beta_lasso  \\\n",
       "0                             const   163508.432969 163497.953008   \n",
       "1                               lat    20847.232153  20892.030098   \n",
       "2                               lon    17710.659737  17132.410635   \n",
       "3               surface_total_in_m2    71349.333663  71352.371706   \n",
       "4              place_name_Balvanera    -5418.952753  -5420.443738   \n",
       "5               place_name_Barracas    -1305.719223  -1242.211207   \n",
       "6           place_name_Barrio Norte     5127.513927   5103.814610   \n",
       "7               place_name_Belgrano     7768.199687   7472.069575   \n",
       "8                  place_name_Boedo       65.829708     27.850523   \n",
       "9              place_name_Caballito     9895.714111   9676.487851   \n",
       "10       place_name_Capital Federal     1300.471841   1223.591872   \n",
       "11  place_name_Centro / Microcentro    -2412.192371  -2376.985845   \n",
       "12             place_name_Chacarita      336.009957    240.513718   \n",
       "13               place_name_Coghlan     1023.959911    881.124773   \n",
       "14            place_name_Colegiales     1835.130285   1711.596673   \n",
       "15              place_name_Congreso    -3952.939081  -3933.432052   \n",
       "16          place_name_Constitución    -2171.998663  -2136.852157   \n",
       "17                place_name_Flores     5907.439571   5669.090685   \n",
       "18              place_name_Floresta     4040.269677   3862.426214   \n",
       "19           place_name_Las Cañitas     4277.601783   4221.618069   \n",
       "20               place_name_Liniers     5354.439628   5185.781776   \n",
       "21             place_name_Monserrat    -2534.033952  -2490.254686   \n",
       "22                 place_name_Nuñez     3204.610569   3012.614011   \n",
       "23                  place_name_Once    -2725.973920  -2727.106258   \n",
       "24               place_name_Palermo    13156.656110  12993.708955   \n",
       "25      place_name_Parque Patricios     -404.078238   -398.896207   \n",
       "26         place_name_Puerto Madero    32822.237395  32884.449744   \n",
       "27              place_name_Recoleta    10521.497981  10510.370638   \n",
       "28                place_name_Retiro     -486.712527   -452.069381   \n",
       "29              place_name_Saavedra     -820.160655  -1005.903790   \n",
       "30         place_name_San Cristobal    -1514.804816  -1507.120712   \n",
       "31           place_name_San Nicolás    -2884.632507  -2854.248310   \n",
       "32             place_name_San Telmo    -1210.257997  -1127.330669   \n",
       "33          place_name_Villa Crespo     2134.504886   1979.643105   \n",
       "34          place_name_Villa Devoto     4566.095942   4360.990227   \n",
       "35            place_name_Villa Luro     7644.880038   7451.311533   \n",
       "36         place_name_Villa Urquiza     5727.375811   5394.759748   \n",
       "37      place_name_Villa del Parque     2969.615746   2796.633491   \n",
       "\n",
       "      Beta_ridge  \n",
       "0  163503.422860  \n",
       "1   20689.382513  \n",
       "2   17399.957723  \n",
       "3   71294.877648  \n",
       "4   -5449.322368  \n",
       "5   -1319.760624  \n",
       "6    5108.081641  \n",
       "7    7660.336846  \n",
       "8      18.928390  \n",
       "9    9706.183903  \n",
       "10   1240.945051  \n",
       "11  -2410.790362  \n",
       "12    285.641519  \n",
       "13    969.265626  \n",
       "14   1779.932880  \n",
       "15  -3963.384105  \n",
       "16  -2186.377671  \n",
       "17   5708.485030  \n",
       "18   3904.079884  \n",
       "19   4259.819394  \n",
       "20   5226.821312  \n",
       "21  -2546.281097  \n",
       "22   3147.951819  \n",
       "23  -2741.515820  \n",
       "24  13071.876074  \n",
       "25   -439.861103  \n",
       "26  32812.953659  \n",
       "27  10508.895108  \n",
       "28   -478.086201  \n",
       "29   -890.297215  \n",
       "30  -1548.991038  \n",
       "31  -2884.117994  \n",
       "32  -1222.426536  \n",
       "33   2033.900120  \n",
       "34   4443.304340  \n",
       "35   7493.836449  \n",
       "36   5567.956030  \n",
       "37   2861.183778  "
      ]
     },
     "execution_count": 1040,
     "metadata": {},
     "output_type": "execute_result"
    }
   ],
   "source": [
    "comparativa_resultados"
   ]
  },
  {
   "cell_type": "markdown",
   "id": "b19b5c87",
   "metadata": {},
   "source": [
    "**Conclusiones**\n",
    "\n",
    "* La magnitud de los betas entre los 3 modelos entrenados es similar.\n",
    "\n",
    "* A pesar de que ni siquiera para el modelo Lasso ningún coeficiente se vuelve 0, algunos Betas son comparativamente bastante pequeños respecto a las otras variables, lo que nos muestra que el aporte de la variabilidad que explican es muy bajo.\n",
    "\n",
    "* Los betas de los modelos regularizados en general, tienden a ser un poco menores respecto a los betas del modelo sin regularización para variables con menor poder predictivo. Tras la misma lógica, aquellos betas con mayor poder predictivo tienden a aumentarse levemente respecto al modelo sin regularización.\n",
    "\n",
    "* Tomando un modelo simplificado, con superficie total, latitud, longitud y si el inmueble está en Palermo, Belgrano, Madero, Recoleta o Caballito, y dejando el resto de lugares clasificados como 'otro', seguramente tendriamos un modelo con buen rendimiento y mucho más sencillo."
   ]
  },
  {
   "cell_type": "code",
   "execution_count": 1041,
   "id": "72523202",
   "metadata": {},
   "outputs": [
    {
     "name": "stdout",
     "output_type": "stream",
     "text": [
      "El mejor alpha encontrado para Lasso es: 10.0 y el mejor alpha encontrado para Ridge es: 10.0\n"
     ]
    }
   ],
   "source": [
    "print('El mejor alpha encontrado para Lasso es:', best_alpha_lasso,\n",
    "     'y el mejor alpha encontrado para Ridge es:', best_alpha_ridge)"
   ]
  },
  {
   "cell_type": "markdown",
   "id": "485d4994",
   "metadata": {},
   "source": [
    "Como podemos observar el mejor alpha encontrado para ambos modelos es el mismo y equivale a 10."
   ]
  },
  {
   "cell_type": "markdown",
   "id": "01c88ed9",
   "metadata": {},
   "source": [
    "### Predicciones"
   ]
  },
  {
   "cell_type": "markdown",
   "id": "ac27203e",
   "metadata": {},
   "source": [
    "Introduzca las características del inmueble para predecir su precio en la siguiente celda:\n",
    "\n",
    "**Nota**: Elegir un place_name entre 'Belgrano', 'Palermo', 'Flores', 'Boedo', 'Balvanera', 'Caballito',\n",
    "       'Nuñez', 'Barrio Norte', 'Villa Crespo', 'Puerto Madero',\n",
    "       'Constitución', 'Recoleta', 'Colegiales', 'Villa Urquiza',\n",
    "       'Saavedra', 'Barracas', 'Coghlan', 'Almagro', 'San Telmo',\n",
    "       'Monserrat', 'Villa Devoto', 'San Cristobal', 'Floresta', 'Retiro',\n",
    "       'Capital Federal', 'Chacarita', 'Congreso', 'Villa del Parque',\n",
    "       'Liniers', 'Centro / Microcentro', 'Parque Patricios', 'Once',\n",
    "       'San Nicolás', 'Villa Luro'"
   ]
  },
  {
   "cell_type": "code",
   "execution_count": 1042,
   "id": "f4d93145",
   "metadata": {},
   "outputs": [],
   "source": [
    "property_type = 'apartment'  # Única opción\n",
    "place_name = 'Saavedra'\n",
    "lat = -34.556875\n",
    "lon = -58.444444\n",
    "surface_total_in_m2 = 70"
   ]
  },
  {
   "cell_type": "code",
   "execution_count": 1043,
   "id": "7579d373",
   "metadata": {},
   "outputs": [
    {
     "data": {
      "text/plain": [
       "(35, 5)"
      ]
     },
     "execution_count": 1043,
     "metadata": {},
     "output_type": "execute_result"
    }
   ],
   "source": [
    "# Construimos un dataset auxiliar con todos los place_name posibles, de modo que solo ingresemos el lugar donde queremos predecir\n",
    "# el precio del inmueble y al momento de obtener variables dummie y estandarizar no tengamos problema para aplicar los modelos.\n",
    "\n",
    "df_dummy = df.copy().drop_duplicates(subset=['place_name'])\n",
    "df_dummy.drop(columns=['price_aprox_usd'], inplace=True)\n",
    "df_dummy.shape"
   ]
  },
  {
   "cell_type": "code",
   "execution_count": 1044,
   "id": "45e963b5",
   "metadata": {},
   "outputs": [
    {
     "data": {
      "text/html": [
       "<div>\n",
       "<style scoped>\n",
       "    .dataframe tbody tr th:only-of-type {\n",
       "        vertical-align: middle;\n",
       "    }\n",
       "\n",
       "    .dataframe tbody tr th {\n",
       "        vertical-align: top;\n",
       "    }\n",
       "\n",
       "    .dataframe thead th {\n",
       "        text-align: right;\n",
       "    }\n",
       "</style>\n",
       "<table border=\"1\" class=\"dataframe\">\n",
       "  <thead>\n",
       "    <tr style=\"text-align: right;\">\n",
       "      <th></th>\n",
       "      <th>property_type</th>\n",
       "      <th>place_name</th>\n",
       "      <th>lat</th>\n",
       "      <th>lon</th>\n",
       "      <th>surface_total_in_m2</th>\n",
       "    </tr>\n",
       "  </thead>\n",
       "  <tbody>\n",
       "    <tr>\n",
       "      <th>1</th>\n",
       "      <td>apartment</td>\n",
       "      <td>Belgrano</td>\n",
       "      <td>-34.559873</td>\n",
       "      <td>-58.443362</td>\n",
       "      <td>45.000000</td>\n",
       "    </tr>\n",
       "  </tbody>\n",
       "</table>\n",
       "</div>"
      ],
      "text/plain": [
       "  property_type place_name        lat        lon  surface_total_in_m2\n",
       "1     apartment   Belgrano -34.559873 -58.443362            45.000000"
      ]
     },
     "execution_count": 1044,
     "metadata": {},
     "output_type": "execute_result"
    }
   ],
   "source": [
    "df_dummy.head(1)"
   ]
  },
  {
   "cell_type": "code",
   "execution_count": 1045,
   "id": "0950c723",
   "metadata": {},
   "outputs": [],
   "source": [
    "df_predecir = pd.DataFrame.from_dict({'property_type': [property_type],\n",
    "                           'place_name': [place_name],\n",
    "                           'lat': [lat],\n",
    "                           'lon': [lon],\n",
    "                           'surface_total_in_m2': [surface_total_in_m2]})\n",
    "\n",
    "df_predecir = df_predecir.append(df_dummy)"
   ]
  },
  {
   "cell_type": "code",
   "execution_count": 1046,
   "id": "33c721ce",
   "metadata": {},
   "outputs": [],
   "source": [
    "# Modelo sin regularización ----------------------------------------------------\n",
    "\n",
    "# Obtenemos variables dummies\n",
    "X=df_predecir\n",
    "X=pd.get_dummies(X, drop_first=True)\n",
    "X=X.loc[0:1]\n",
    "\n",
    "# Escalamos la data\n",
    "feature_columns = X.columns\n",
    "index_rows = X.index\n",
    "X_transform = scaler_sin_regul.transform(X)\n",
    "X_transform = pd.DataFrame(X_transform, columns=feature_columns, index=index_rows)\n",
    "X_transform['const'] = 1\n",
    "\n",
    "# Realizamos la predicción\n",
    "precio_sin_regul = model_sin_regul.predict(X_transform)[0]\n",
    "\n",
    "# Modelo lasso -----------------------------------------------------------------\n",
    "\n",
    "# Escalamos la data\n",
    "feature_columns = X.columns\n",
    "index_rows = X.index\n",
    "X_transform = scaler_lasso.transform(X)\n",
    "X_transform = pd.DataFrame(X_transform, columns=feature_columns, index=index_rows)\n",
    "\n",
    "# Realizamos la predicción\n",
    "precio_lasso = model_fit_lasso.predict(X_transform)[0]\n",
    "\n",
    "# Modelo lasso -----------------------------------------------------------------\n",
    "\n",
    "# Escalamos la data\n",
    "feature_columns = X.columns\n",
    "index_rows = X.index\n",
    "X_transform = scaler_ridge.transform(X)\n",
    "X_transform = pd.DataFrame(X_transform, columns=feature_columns, index=index_rows)\n",
    "\n",
    "# Realizamos la predicción\n",
    "precio_ridge = model_fit_ridge.predict(X_transform)[0]"
   ]
  },
  {
   "cell_type": "code",
   "execution_count": 1047,
   "id": "17585740",
   "metadata": {},
   "outputs": [
    {
     "name": "stdout",
     "output_type": "stream",
     "text": [
      "La predicción de los modelos es:\n",
      " Modelo sin regularización: 241155.20361726274 \n",
      " Modelo lasso: 179244.20959914516 \n",
      "Modelo Ridge: 179482.18565654848\n"
     ]
    }
   ],
   "source": [
    "print('La predicción de los modelos es:\\n',\n",
    "      'Modelo sin regularización:', precio_sin_regul, '\\n',\n",
    "     'Modelo lasso:', precio_lasso, '\\n'\n",
    "     'Modelo Ridge:', precio_ridge)"
   ]
  },
  {
   "cell_type": "code",
   "execution_count": null,
   "id": "3f086bb5",
   "metadata": {},
   "outputs": [],
   "source": []
  }
 ],
 "metadata": {
  "kernelspec": {
   "display_name": "Python 3 (ipykernel)",
   "language": "python",
   "name": "python3"
  },
  "language_info": {
   "codemirror_mode": {
    "name": "ipython",
    "version": 3
   },
   "file_extension": ".py",
   "mimetype": "text/x-python",
   "name": "python",
   "nbconvert_exporter": "python",
   "pygments_lexer": "ipython3",
   "version": "3.8.12"
  }
 },
 "nbformat": 4,
 "nbformat_minor": 5
}
