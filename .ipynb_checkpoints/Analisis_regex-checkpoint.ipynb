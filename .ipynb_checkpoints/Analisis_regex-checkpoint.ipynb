{
 "cells": [
  {
   "cell_type": "markdown",
   "id": "bfbd1841",
   "metadata": {},
   "source": [
    "### Cargue de librerías"
   ]
  },
  {
   "cell_type": "code",
   "execution_count": 1,
   "id": "544d2a53",
   "metadata": {},
   "outputs": [],
   "source": [
    "import pandas as pd\n",
    "import numpy as np\n",
    "import matplotlib.pyplot as plt\n",
    "import seaborn as sns\n",
    "import re\n",
    "pd.options.display.float_format = '{:.6f}'.format"
   ]
  },
  {
   "cell_type": "markdown",
   "id": "5d00a6fd",
   "metadata": {},
   "source": [
    "### Lectura del dataset de Properatti"
   ]
  },
  {
   "cell_type": "code",
   "execution_count": 175,
   "id": "202a69c3",
   "metadata": {},
   "outputs": [],
   "source": [
    "data = pd.read_csv('properatti.csv')"
   ]
  },
  {
   "cell_type": "code",
   "execution_count": 176,
   "id": "efbc9d12",
   "metadata": {},
   "outputs": [],
   "source": [
    "# Tras una revisión visual de las primeras filas del dataset decidimos sacar tres columnas del dataset las cuales no tendremos en cuenta\n",
    "# para futuros análisis\n",
    "\n",
    "data.drop(columns={'Unnamed: 0','properati_url','image_thumbnail'}, inplace=True)"
   ]
  },
  {
   "cell_type": "code",
   "execution_count": 177,
   "id": "5c90b91e",
   "metadata": {},
   "outputs": [
    {
     "data": {
      "text/plain": [
       "(116140, 23)"
      ]
     },
     "execution_count": 177,
     "metadata": {},
     "output_type": "execute_result"
    }
   ],
   "source": [
    "# Eliminación de registros duplicados en caso de que existan\n",
    "\n",
    "data.drop_duplicates(inplace=True)\n",
    "\n",
    "# Revisamos el tamaño del dataset después de eliminar los registros duplicados\n",
    "\n",
    "data.shape"
   ]
  },
  {
   "cell_type": "code",
   "execution_count": 178,
   "id": "2c094fa3",
   "metadata": {},
   "outputs": [],
   "source": [
    "# Extracción de superficie total descripcion\n",
    "patron=\"(tot[a-zA-Z\\s:]*)(?P<sup>\\d+)(\\s?(m2|m.*))\"\n",
    "sup_tot=re.compile(patron,flags = re.IGNORECASE)\n",
    "resultado=data.description.apply(lambda x: x if x is np.NaN else sup_tot.search(x))\n",
    "data[\"r_sup_tot\"]=resultado[resultado.notnull()].apply(lambda x: x.group(\"sup\"))"
   ]
  },
  {
   "cell_type": "code",
   "execution_count": 179,
   "id": "f0657a10",
   "metadata": {},
   "outputs": [
    {
     "data": {
      "text/plain": [
       "3557"
      ]
     },
     "execution_count": 179,
     "metadata": {},
     "output_type": "execute_result"
    }
   ],
   "source": [
    "# Paso del valor anterior a numero\n",
    "data.loc[:,'r_sup_tot']=data.r_sup_tot.replace('.','')\n",
    "data.loc[:,'r_sup_tot']=data.r_sup_tot.astype(float)\n",
    "data['r_sup_tot'].notnull().sum()"
   ]
  },
  {
   "cell_type": "code",
   "execution_count": 180,
   "id": "1fca2957",
   "metadata": {},
   "outputs": [],
   "source": [
    "# Por si el paso anterior no funciona, extraigo la siguiente superficie total de la descripcion\n",
    "patron=\"(?P<sup2>\\d+)(\\s?(m2|mt)\\s?)(tot[a-zA-Z\\s:]*)\"\n",
    "sup_tot=re.compile(patron,flags = re.IGNORECASE)\n",
    "resultado=data.description.apply(lambda x: x if x is np.NaN else sup_tot.search(x))\n",
    "data.loc[:,\"r_sup_tot2\"]=resultado[resultado.notnull()].apply(lambda x: x.group(\"sup2\"))"
   ]
  },
  {
   "cell_type": "code",
   "execution_count": 181,
   "id": "b9528b38",
   "metadata": {},
   "outputs": [
    {
     "data": {
      "text/plain": [
       "1912"
      ]
     },
     "execution_count": 181,
     "metadata": {},
     "output_type": "execute_result"
    }
   ],
   "source": [
    "# Paso el valor anterior a numero\n",
    "data.loc[:,'r_sup_tot2']=data.r_sup_tot2.replace('.','')\n",
    "data.loc[:,'r_sup_tot2']=data.r_sup_tot2.astype(float)\n",
    "data['r_sup_tot2'].notnull().sum()"
   ]
  },
  {
   "cell_type": "code",
   "execution_count": 182,
   "id": "96a42add",
   "metadata": {},
   "outputs": [],
   "source": [
    "# Extracción de superficie cubierta descripcion\n",
    "patron=\"(cub[a-zA-Z\\s:]*)(?P<cub>\\d+)(\\s?(m2|m.*))\"\n",
    "sup_tot=re.compile(patron,flags = re.IGNORECASE)\n",
    "resultado=data.description.apply(lambda x: x if x is np.NaN else sup_tot.search(x))\n",
    "data[\"r_sup_cub\"]=resultado[resultado.notnull()].apply(lambda x: x.group(\"cub\"))"
   ]
  },
  {
   "cell_type": "code",
   "execution_count": 183,
   "id": "c1951f6e",
   "metadata": {},
   "outputs": [
    {
     "data": {
      "text/plain": [
       "5535"
      ]
     },
     "execution_count": 183,
     "metadata": {},
     "output_type": "execute_result"
    }
   ],
   "source": [
    "# Paso el valor anterior a numero\n",
    "data.loc[:,'r_sup_cub']=data.r_sup_cub.replace('.','')\n",
    "data.loc[:,'r_sup_cub']=data.r_sup_cub.astype(float)\n",
    "data['r_sup_cub'].notnull().sum()"
   ]
  },
  {
   "cell_type": "code",
   "execution_count": 184,
   "id": "28b25291",
   "metadata": {},
   "outputs": [],
   "source": [
    "# Por si el paso anterior no funciona, extraigo la siguiente superficie cubierta de la descripcion\n",
    "patron=\"(?P<cub2>\\d+)(\\s?(m2|mt)\\s?)(cub[a-zA-Z\\s:]*)\"\n",
    "sup_tot=re.compile(patron,flags = re.IGNORECASE)\n",
    "resultado=data.description.apply(lambda x: x if x is np.NaN else sup_tot.search(x))\n",
    "data.loc[:,\"r_sup_cub2\"]=resultado[resultado.notnull()].apply(lambda x: x.group(\"cub2\"))"
   ]
  },
  {
   "cell_type": "code",
   "execution_count": 185,
   "id": "4ed4fdcd",
   "metadata": {},
   "outputs": [
    {
     "data": {
      "text/plain": [
       "4305"
      ]
     },
     "execution_count": 185,
     "metadata": {},
     "output_type": "execute_result"
    }
   ],
   "source": [
    "# Paso el valor anterior a numero\n",
    "data.loc[:,'r_sup_cub2']=data.r_sup_cub2.replace('.','')\n",
    "data.loc[:,'r_sup_cub2']=data.r_sup_cub2.astype(float)\n",
    "data['r_sup_cub2'].notnull().sum()"
   ]
  },
  {
   "cell_type": "code",
   "execution_count": 186,
   "id": "a5ed1482",
   "metadata": {},
   "outputs": [],
   "source": [
    "# Variable Antiguedad (años)\n",
    "patron=\"(?P<año>\\d+)\\sa(ñ|Ã±)o.*\"\n",
    "sup_tot=re.compile(patron,flags = re.IGNORECASE)\n",
    "resultado=data.description.apply(lambda x: x if x is np.NaN else sup_tot.search(x))\n",
    "data.loc[:,\"antiguedad\"]=resultado[resultado.notnull()].apply(lambda x: x.group(\"año\"))"
   ]
  },
  {
   "cell_type": "code",
   "execution_count": 187,
   "id": "25e6c372",
   "metadata": {},
   "outputs": [
    {
     "data": {
      "text/plain": [
       "5287"
      ]
     },
     "execution_count": 187,
     "metadata": {},
     "output_type": "execute_result"
    }
   ],
   "source": [
    "# Paso el valor anterior a numero\n",
    "data.loc[:,'antiguedad']=data.antiguedad.replace('.','')\n",
    "data.loc[:,'antiguedad']=data.antiguedad.astype(float)\n",
    "data['antiguedad'].notnull().sum()"
   ]
  },
  {
   "cell_type": "code",
   "execution_count": 188,
   "id": "62ce24bf",
   "metadata": {},
   "outputs": [
    {
     "data": {
      "text/plain": [
       "11991"
      ]
     },
     "execution_count": 188,
     "metadata": {},
     "output_type": "execute_result"
    }
   ],
   "source": [
    "# Variable dummie APTO CREDITO\n",
    "patron=\"([apto]*)(?P<credito>cr(é|e)d\\w*)\"\n",
    "sup_tot=re.compile(patron,flags = re.IGNORECASE)\n",
    "resultado=data.description.apply(lambda x: x if x is np.NaN else sup_tot.search(x))\n",
    "data.loc[:,\"apto_cred\"]=resultado[resultado.notnull()].apply(lambda x: 1 if x.group(\"credito\") else 0)\n",
    "data['apto_cred'].notnull().sum()"
   ]
  },
  {
   "cell_type": "code",
   "execution_count": 189,
   "id": "6f728205",
   "metadata": {},
   "outputs": [
    {
     "data": {
      "text/plain": [
       "2376"
      ]
     },
     "execution_count": 189,
     "metadata": {},
     "output_type": "execute_result"
    }
   ],
   "source": [
    "#variable dummie BAJAS EXPENSAS\n",
    "patron=\"baja(s?)\\s(?P<expensas>expen\\w*)\"\n",
    "sup_tot=re.compile(patron,flags = re.IGNORECASE)\n",
    "resultado=data.description.apply(lambda x: x if x is np.NaN else sup_tot.search(x))\n",
    "data.loc[:,\"bajas_exp\"]=resultado[resultado.notnull()].apply(lambda x: 1 if x.group(\"expensas\") else 0)\n",
    "data['bajas_exp'].notnull().sum()"
   ]
  },
  {
   "cell_type": "code",
   "execution_count": 190,
   "id": "fd3293df",
   "metadata": {},
   "outputs": [
    {
     "data": {
      "text/plain": [
       "1288"
      ]
     },
     "execution_count": 190,
     "metadata": {},
     "output_type": "execute_result"
    }
   ],
   "source": [
    "# Extracción de VALOR EXPENSAS\n",
    "patron=\"(exp[a-z\\s:]*)(\\$?)(?P<expensas2>\\d+(\\.\\d+))\"\n",
    "sup_tot=re.compile(patron,flags = re.IGNORECASE)\n",
    "resultado=data.description.apply(lambda x: x if x is np.NaN else sup_tot.search(x))\n",
    "data.loc[:,\"expensas\"]=resultado[resultado.notnull()].apply(lambda x: x.group(\"expensas2\"))\n",
    "data['expensas'].notnull().sum()"
   ]
  },
  {
   "cell_type": "code",
   "execution_count": 191,
   "id": "fd91e654",
   "metadata": {},
   "outputs": [
    {
     "data": {
      "text/plain": [
       "3386"
      ]
     },
     "execution_count": 191,
     "metadata": {},
     "output_type": "execute_result"
    }
   ],
   "source": [
    "# Variable dummie POR ESCALERA\n",
    "patron=\"(?P<escalera>por\\sescalera)\"\n",
    "sup_tot=re.compile(patron,flags = re.IGNORECASE)\n",
    "resultado=data.description.apply(lambda x: x if x is np.NaN else sup_tot.search(x))\n",
    "data.loc[:,\"por_escalera\"]=resultado[resultado.notnull()].apply(lambda x: 1 if x.group(\"escalera\") else 0)\n",
    "data['por_escalera'].notnull().sum()"
   ]
  },
  {
   "cell_type": "code",
   "execution_count": 192,
   "id": "a3863333",
   "metadata": {},
   "outputs": [
    {
     "data": {
      "text/plain": [
       "5505"
      ]
     },
     "execution_count": 192,
     "metadata": {},
     "output_type": "execute_result"
    }
   ],
   "source": [
    "# Variable dummie CON COCHERA\n",
    "patron=\"(?P<cochera>con\\scochera)\"\n",
    "sup_tot=re.compile(patron,flags = re.IGNORECASE)\n",
    "resultado=data.description.apply(lambda x: x if x is np.NaN else sup_tot.search(x))\n",
    "data.loc[:,\"con_cochera\"]=resultado[resultado.notnull()].apply(lambda x: 1 if x.group(\"cochera\") else 0)\n",
    "data['con_cochera'].notnull().sum()"
   ]
  },
  {
   "cell_type": "code",
   "execution_count": 193,
   "id": "02f6df53",
   "metadata": {},
   "outputs": [
    {
     "data": {
      "text/plain": [
       "8456"
      ]
     },
     "execution_count": 193,
     "metadata": {},
     "output_type": "execute_result"
    }
   ],
   "source": [
    "# Variable dummie BAULERA\n",
    "patron=\"(?P<baulera>[^sin]\\sbaulera)\"\n",
    "sup_tot=re.compile(patron,flags = re.IGNORECASE)\n",
    "resultado=data.description.apply(lambda x: x if x is np.NaN else sup_tot.search(x))\n",
    "data.loc[:,\"con_baulera\"]=resultado[resultado.notnull()].apply(lambda x: 1 if x.group(\"baulera\") else 0)\n",
    "data['con_baulera'].notnull().sum()"
   ]
  },
  {
   "cell_type": "code",
   "execution_count": 194,
   "id": "1c022f2f",
   "metadata": {},
   "outputs": [
    {
     "data": {
      "text/plain": [
       "16931"
      ]
     },
     "execution_count": 194,
     "metadata": {},
     "output_type": "execute_result"
    }
   ],
   "source": [
    "# Variable dummie PATIO\n",
    "patron=\"(?P<patio>[^sin]\\spatio)\"\n",
    "sup_tot=re.compile(patron,flags = re.IGNORECASE)\n",
    "resultado=data.description.apply(lambda x: x if x is np.NaN else sup_tot.search(x))\n",
    "data.loc[:,\"con_patio\"]=resultado[resultado.notnull()].apply(lambda x: 1 if x.group(\"patio\") else 0)\n",
    "data['con_patio'].notnull().sum()"
   ]
  },
  {
   "cell_type": "code",
   "execution_count": 195,
   "id": "b242940a",
   "metadata": {},
   "outputs": [
    {
     "data": {
      "text/plain": [
       "26261"
      ]
     },
     "execution_count": 195,
     "metadata": {},
     "output_type": "execute_result"
    }
   ],
   "source": [
    "# Variable dummie BALCON\n",
    "patron=\"(?P<balcon>[^sin]\\sbalc(o|ó)n)\"\n",
    "sup_tot=re.compile(patron,flags = re.IGNORECASE)\n",
    "resultado=data.description.apply(lambda x: x if x is np.NaN else sup_tot.search(x))\n",
    "data.loc[:,\"con_balcon\"]=resultado[resultado.notnull()].apply(lambda x: 1 if x.group(\"balcon\") else 0)\n",
    "data['con_balcon'].notnull().sum()"
   ]
  },
  {
   "cell_type": "code",
   "execution_count": 196,
   "id": "9d95bc1c",
   "metadata": {},
   "outputs": [
    {
     "data": {
      "text/plain": [
       "15991"
      ]
     },
     "execution_count": 196,
     "metadata": {},
     "output_type": "execute_result"
    }
   ],
   "source": [
    "# Variable dummie TERRAZA\n",
    "patron=\"(?P<terraza>[^sin]\\sterra(z|s)a)\"\n",
    "sup_tot=re.compile(patron,flags = re.IGNORECASE)\n",
    "resultado=data.description.apply(lambda x: x if x is np.NaN else sup_tot.search(x))\n",
    "data.loc[:,\"con_terraza\"]=resultado[resultado.notnull()].apply(lambda x: 1 if x.group(\"terraza\") else 0)\n",
    "data['con_terraza'].notnull().sum()"
   ]
  },
  {
   "cell_type": "code",
   "execution_count": 197,
   "id": "e989cfe7",
   "metadata": {},
   "outputs": [
    {
     "data": {
      "text/plain": [
       "23678"
      ]
     },
     "execution_count": 197,
     "metadata": {},
     "output_type": "execute_result"
    }
   ],
   "source": [
    "# Variable dummie PILETA\n",
    "patron=\"(?P<pileta>[^sin]\\s(pileta|piscina))\"\n",
    "sup_tot=re.compile(patron,flags = re.IGNORECASE)\n",
    "resultado=data.description.apply(lambda x: x if x is np.NaN else sup_tot.search(x))\n",
    "data.loc[:,\"con_pileta\"]=resultado[resultado.notnull()].apply(lambda x: 1 if x.group(\"pileta\") else 0)\n",
    "data['con_pileta'].notnull().sum()"
   ]
  },
  {
   "cell_type": "code",
   "execution_count": 198,
   "id": "9118a033",
   "metadata": {},
   "outputs": [
    {
     "data": {
      "text/plain": [
       "7018"
      ]
     },
     "execution_count": 198,
     "metadata": {},
     "output_type": "execute_result"
    }
   ],
   "source": [
    "# Variable dummie SOLARIUM\n",
    "patron=\"(?P<solarium>[^sin]\\ssolarium)\"\n",
    "sup_tot=re.compile(patron,flags = re.IGNORECASE)\n",
    "resultado=data.description.apply(lambda x: x if x is np.NaN else sup_tot.search(x))\n",
    "data.loc[:,\"con_solarium\"]=resultado[resultado.notnull()].apply(lambda x: 1 if x.group(\"solarium\") else 0)\n",
    "data['con_solarium'].notnull().sum()"
   ]
  },
  {
   "cell_type": "code",
   "execution_count": 199,
   "id": "4fefe8df",
   "metadata": {},
   "outputs": [
    {
     "data": {
      "text/plain": [
       "7569"
      ]
     },
     "execution_count": 199,
     "metadata": {},
     "output_type": "execute_result"
    }
   ],
   "source": [
    "# Variable dummie GIMNASIO\n",
    "patron=\"(?P<gim>[^sin]\\sg(i|y)m\\w*)\"\n",
    "sup_tot=re.compile(patron,flags = re.IGNORECASE)\n",
    "resultado=data.description.apply(lambda x: x if x is np.NaN else sup_tot.search(x))\n",
    "data.loc[:,\"con_gimnasio\"]=resultado[resultado.notnull()].apply(lambda x: 1 if x.group(\"gim\") else 0)\n",
    "data['con_gimnasio'].notnull().sum()"
   ]
  },
  {
   "cell_type": "code",
   "execution_count": 200,
   "id": "f4787922",
   "metadata": {},
   "outputs": [
    {
     "data": {
      "text/plain": [
       "4897"
      ]
     },
     "execution_count": 200,
     "metadata": {},
     "output_type": "execute_result"
    }
   ],
   "source": [
    "# Variable dummie AMENITIES\n",
    "patron=\"(?P<amenities>[^sin]\\sa(mm|m)eni(t|tt)(y|i)\\w*)\"\n",
    "sup_tot=re.compile(patron,flags = re.IGNORECASE)\n",
    "resultado=data.description.apply(lambda x: x if x is np.NaN else sup_tot.search(x))\n",
    "data.loc[:,\"con_amenities\"]=resultado[resultado.notnull()].apply(lambda x: 1 if x.group(\"amenities\") else 0)\n",
    "data['con_amenities'].notnull().sum()"
   ]
  },
  {
   "cell_type": "code",
   "execution_count": 201,
   "id": "5e7b9940",
   "metadata": {},
   "outputs": [
    {
     "data": {
      "text/plain": [
       "14889"
      ]
     },
     "execution_count": 201,
     "metadata": {},
     "output_type": "execute_result"
    }
   ],
   "source": [
    "# Variable dummie JARDIN\n",
    "patron=\"(?P<jardin>[^sin]\\sjard\\w*)\"\n",
    "sup_tot=re.compile(patron,flags = re.IGNORECASE)\n",
    "resultado=data.description.apply(lambda x: x if x is np.NaN else sup_tot.search(x))\n",
    "data.loc[:,\"con_jardin\"]=resultado[resultado.notnull()].apply(lambda x:1 if x.group(\"jardin\") else 0)\n",
    "data['con_jardin'].notnull().sum()"
   ]
  },
  {
   "cell_type": "code",
   "execution_count": 202,
   "id": "a5286c5f",
   "metadata": {},
   "outputs": [
    {
     "data": {
      "text/plain": [
       "4738"
      ]
     },
     "execution_count": 202,
     "metadata": {},
     "output_type": "execute_result"
    }
   ],
   "source": [
    "# Variable dummie LOSA RADIANTE\n",
    "patron=\"(?P<losa_rad>lo(s|z)a\\srad\\w*)\"\n",
    "sup_tot=re.compile(patron,flags = re.IGNORECASE)\n",
    "resultado=data.description.apply(lambda x: x if x is np.NaN else sup_tot.search(x))\n",
    "data.loc[:,\"con_losa\"]=resultado[resultado.notnull()].apply(lambda x: 1 if x.group(\"losa_rad\") else 0)\n",
    "data['con_losa'].notnull().sum()"
   ]
  },
  {
   "cell_type": "code",
   "execution_count": 203,
   "id": "ba4bcf74",
   "metadata": {},
   "outputs": [
    {
     "data": {
      "text/plain": [
       "34538"
      ]
     },
     "execution_count": 203,
     "metadata": {},
     "output_type": "execute_result"
    }
   ],
   "source": [
    "# Variable dummie LAUNDRY o LAVADERO\n",
    "patron=\"(?P<laundry>[^sin]\\s(laund|lavad)\\w*)\"\n",
    "sup_tot=re.compile(patron,flags = re.IGNORECASE)\n",
    "resultado=data.description.apply(lambda x: x if x is np.NaN else sup_tot.search(x))\n",
    "data.loc[:,\"con_lavadero\"]=resultado[resultado.notnull()].apply(lambda x: 1 if x.group(\"laundry\") else 0)\n",
    "data['con_lavadero'].notnull().sum()"
   ]
  },
  {
   "cell_type": "code",
   "execution_count": 204,
   "id": "c8f40ddc",
   "metadata": {},
   "outputs": [
    {
     "data": {
      "text/plain": [
       "10750"
      ]
     },
     "execution_count": 204,
     "metadata": {},
     "output_type": "execute_result"
    }
   ],
   "source": [
    "# Variable dummie SEGURIDAD\n",
    "patron=\"(?P<seguridad>segurid\\w*)\"\n",
    "sup_tot=re.compile(patron,flags = re.IGNORECASE)\n",
    "resultado=data.description.apply(lambda x: x if x is np.NaN else sup_tot.search(x))\n",
    "data.loc[:,\"con_seguridad\"]=resultado[resultado.notnull()].apply(lambda x:1 if x.group(\"seguridad\") else 0)\n",
    "data['con_seguridad'].notnull().sum()"
   ]
  },
  {
   "cell_type": "code",
   "execution_count": 205,
   "id": "c8258379",
   "metadata": {},
   "outputs": [
    {
     "data": {
      "text/plain": [
       "14246"
      ]
     },
     "execution_count": 205,
     "metadata": {},
     "output_type": "execute_result"
    }
   ],
   "source": [
    "# Variable dummie SUM\n",
    "patron=\"(?P<sum>sum)\"\n",
    "sup_tot=re.compile(patron,flags = re.IGNORECASE)\n",
    "resultado=data.description.apply(lambda x: x if x is np.NaN else sup_tot.search(x))\n",
    "data.loc[:,\"con_sum\"]=resultado[resultado.notnull()].apply(lambda x: 1 if  x.group(\"sum\") else 0)\n",
    "data['con_sum'].notnull().sum()"
   ]
  },
  {
   "cell_type": "code",
   "execution_count": 206,
   "id": "30d57d94",
   "metadata": {},
   "outputs": [
    {
     "data": {
      "text/plain": [
       "1300"
      ]
     },
     "execution_count": 206,
     "metadata": {},
     "output_type": "execute_result"
    }
   ],
   "source": [
    "# Variable dummie DE POZO\n",
    "patron=\"(?P<pozo>de pozo)\"\n",
    "sup_tot=re.compile(patron,flags = re.IGNORECASE)\n",
    "resultado=data.description.apply(lambda x: x if x is np.NaN else sup_tot.search(x))\n",
    "data.loc[:,\"de_pozo\"]=resultado[resultado.notnull()].apply(lambda x:1 if x.group(\"pozo\") else 0)\n",
    "data['de_pozo'].notnull().sum()"
   ]
  },
  {
   "cell_type": "code",
   "execution_count": 207,
   "id": "e0ca6cf6",
   "metadata": {},
   "outputs": [
    {
     "data": {
      "text/plain": [
       "35427"
      ]
     },
     "execution_count": 207,
     "metadata": {},
     "output_type": "execute_result"
    }
   ],
   "source": [
    "# Extracción de PISO, tanto numerico como texto\n",
    "patron=\"(?P<piso>\\d{1,2}(\\°|er|do|to|mo|vo|no|ro|ra|da|ta|ma|va|na|)\\s?(piso|planta)|planta baja|primer piso|segundo piso|tercer piso|cuarto piso|quinto piso|sexto piso|s[ée]ptimo piso|octavo piso|noveno piso|d(é|e)cimo piso|[úu]ltim[oa] (piso|planta))\"\n",
    "sup_tot=re.compile(patron,flags = re.IGNORECASE)\n",
    "resultado=data.description.apply(lambda x: x if x is np.NaN else sup_tot.search(x))\n",
    "data.loc[:,\"piso\"]=resultado[resultado.notnull()].apply(lambda x: x.group(\"piso\"))\n",
    "data['piso'].notnull().sum()"
   ]
  },
  {
   "cell_type": "code",
   "execution_count": 208,
   "id": "69dd5506",
   "metadata": {},
   "outputs": [
    {
     "data": {
      "text/plain": [
       "14072"
      ]
     },
     "execution_count": 208,
     "metadata": {},
     "output_type": "execute_result"
    }
   ],
   "source": [
    "# Piso en número\n",
    "patron=\"(?P<piso2>\\d+)\"\n",
    "sup_tot=re.compile(patron,flags = re.IGNORECASE)\n",
    "resultado=data.piso.apply(lambda x: x if x is np.NaN else sup_tot.search(x))\n",
    "data.loc[:,\"piso_num\"]=resultado[resultado.notnull()].apply(lambda x: x.group(\"piso2\"))\n",
    "data['piso_num'].notnull().sum()"
   ]
  },
  {
   "cell_type": "code",
   "execution_count": 209,
   "id": "94423e89",
   "metadata": {},
   "outputs": [
    {
     "data": {
      "text/plain": [
       "35427"
      ]
     },
     "execution_count": 209,
     "metadata": {},
     "output_type": "execute_result"
    }
   ],
   "source": [
    "# Piso en texto de la primera vez que extraje piso en texto\n",
    "patron=\"(?P<piso3>[A-zÀ-ú\\s]+)\"\n",
    "sup_tot=re.compile(patron,flags = re.IGNORECASE)\n",
    "resultado=data.piso.apply(lambda x: x if x is np.NaN else sup_tot.search(x))\n",
    "data.loc[:,\"piso_texto\"]=resultado[resultado.notnull()].apply(lambda x: x.group(\"piso3\"))\n",
    "data['piso_texto'].notnull().sum()"
   ]
  },
  {
   "cell_type": "code",
   "execution_count": 210,
   "id": "41d706e6",
   "metadata": {},
   "outputs": [],
   "source": [
    "# Reemplazar valor de piso en texto por numero\n",
    "data.loc[:,'piso_texto']=data.piso.map({'PLANTA BAJA':0,'décimo piso':10,'séptimo piso':7,'último piso':99,\n",
    "        'd': None, 'ER PISO':None, 'primer piso':1, 'planta baja':0,'ÚLTIMO PISO':99,'Último piso':99,\n",
    "       'Planta Baja':0, ' piso': None, ' planta':0, 'segundo piso':2, 'cuarto piso':4,'Séptimo piso':7,\n",
    "       's':None, 'Segundo piso':2, 'LTIMO PISO':99, 'Planta baja':0, 'do piso':None,'última planta':99,\n",
    "       ' Planta':0, ' PLANTA':0, 'SEGUNDO PISO':2, 'er piso':None, 'Primer piso':1,'Última planta':99,\n",
    "       ' PISO':None, 'Tercer piso':3, 'to piso':None, 'sexto piso':6, ' Piso':None, 'PLANTA':0,\n",
    "       'ltimo piso':99, 'Piso':None, 'PRIMER PISO':1, 'RA PLANTA':1, 'decimo piso':10,'SÉPTIMO PISO':7,\n",
    "       'ultimo piso':99, 'tercer piso':3, 'Primer Piso':1, 'Planta':0, 'er Piso':None,'DÉCIMO PISO':10,\n",
    "       'Ultimo piso':99, 'planta':None, 'TERCER PISO':3, 'Quinto piso':5, 'MO PISO':None,'ÚLTIMO piso':99,\n",
    "       'DO PISO':None, 'quinto piso':5, 'Noveno piso':9, 'SEXTO PISO':6, 'vo piso':None,\n",
    "       'Octavo Piso':8, 'Segundo Piso':2, 'piso':None, 'ra planta':None,\n",
    "       'ultima planta':99, 'CUARTO PISO':4, 'er planta':None, 'Cuarto piso':4,\n",
    "       'planta Baja':0, 'da planta':None, 'TO PISO':None, 'do Piso':None, 'ULTIMA PLANTA':99,\n",
    "       'ULTIMO PISO':99, 'NO PISO':None, 'do PISO':None, 'to PISO':None, 'Sexto piso':6,\n",
    "       'mo piso':None, 'SEPTIMO PISO':7, 'Ultima planta':99, 'no piso':None, 'da PLANTA':None,\n",
    "       'Octavo piso':8, 'TO piso':None, 'PISO':None, 'er Planta':None, 'QUINTO PISO':5,\n",
    "       'noveno piso':9, 'er PISO':None, 'D':None, 'Tercer Piso':3, 'ER PLANTA':None,\n",
    "       'Ultimo Piso':99, 'Cuarto Piso':4, 'S':None, 'ultimo Piso':99, 'primer Piso':1,\n",
    "       'OCTAVO PISO':8, 'da Planta':None, 'to Piso':None, 'Planta BAJA':0,\n",
    "       'PLanta Baja':0, 'DO piso':None, 'ltimo Piso':99, 'octavo piso':8,\n",
    "       'Sexto Piso':6, 'DA PLANTA':None, 'Quinto Piso':5, 'ltima planta':99,\n",
    "       'septimo piso':7, 'ra Planta':None, 'vo Piso':None, 'er PLANTA':None,\n",
    "       'Septimo piso':7, 'no PISO':None, 'mo Piso':None, 'TO Piso':None, 'PLAnta Baja':0,\n",
    "       'PLANTA BAjA':0, 'tercer Piso':3, 'mo PISO':None, 'VO PISO':None, 'NOVENO PISO':9,\n",
    "       'Primer PISO':1, '\\xa0Piso':None, 'ER piso':None, 'PRIMER Piso':1, 'no Piso':None,\n",
    "       'To piso':None, 'To Piso':None, 'TERCER piso':3, 'mo PIso':None, 'pLanta Baja':0,\n",
    "       'Do Piso':None, 'Septimo Piso':7, 'do Planta':None, 'vo PISO':None, 'nOVENO PISO':9,\n",
    "       'DECIMO PISO':10, 'planta BAJA':0, 'LTIMO piso':99, '\\xa0Planta':None,\n",
    "       'PLanta baja':0, 'Decimo piso':10})"
   ]
  },
  {
   "cell_type": "code",
   "execution_count": 211,
   "id": "d3a9a0c0",
   "metadata": {},
   "outputs": [
    {
     "data": {
      "text/plain": [
       "103548"
      ]
     },
     "execution_count": 211,
     "metadata": {},
     "output_type": "execute_result"
    }
   ],
   "source": [
    "# Dormitorio|Habitacion|Cuarto|Pieza|Ambiente, en texto\n",
    "patron=\"(?P<habitacion>(\\d{1,2}|un(o|a)|dos|tres|cuatro|cinco|seis|siete|ocho|nueve|diez)?\\s?(dorm|habitac|cuarto|pieza|monoam|amb)\\w*)\"\n",
    "sup_tot=re.compile(patron,flags = re.IGNORECASE)\n",
    "resultado=data.description.apply(lambda x: x if x is np.NaN else sup_tot.search(x))\n",
    "data.loc[:,\"ambientes_desc\"]=resultado[resultado.notnull()].apply(lambda x: x.group(\"habitacion\"))\n",
    "data['ambientes_desc'].notnull().sum()"
   ]
  },
  {
   "cell_type": "code",
   "execution_count": 212,
   "id": "b8778715",
   "metadata": {},
   "outputs": [
    {
     "data": {
      "text/plain": [
       "2 dormitorios        6005\n",
       "3 ambientes          5541\n",
       "2 ambientes          5258\n",
       " dormitorio          5241\n",
       "3 dormitorios        5204\n",
       "                     ... \n",
       "13 Ambientes            1\n",
       "3 ambientesChalet       1\n",
       "dormitorioPatio         1\n",
       "25 habitaciones         1\n",
       "3 dormitorio2           1\n",
       "Name: ambientes_desc, Length: 2116, dtype: int64"
      ]
     },
     "execution_count": 212,
     "metadata": {},
     "output_type": "execute_result"
    }
   ],
   "source": [
    "data['ambientes_desc'].value_counts()"
   ]
  },
  {
   "cell_type": "code",
   "execution_count": null,
   "id": "16804dbc",
   "metadata": {},
   "outputs": [],
   "source": []
  },
  {
   "cell_type": "code",
   "execution_count": 213,
   "id": "9f4a97c3",
   "metadata": {},
   "outputs": [],
   "source": [
    "# Dormitorio|Habitacion|Cuarto|Pieza|Ambiente, en número\n",
    "patron=\"(?P<habitacion2>\\d+)\"\n",
    "sup_tot=re.compile(patron,flags = re.IGNORECASE)\n",
    "resultado=data.ambientes_desc.apply(lambda x: x if x is np.NaN else sup_tot.search(x))\n",
    "data.loc[:,\"ambientes_desc2\"]=resultado[resultado.notnull()].apply(lambda x: x.group(\"habitacion2\"))"
   ]
  },
  {
   "cell_type": "code",
   "execution_count": 214,
   "id": "f2e67e8a",
   "metadata": {},
   "outputs": [
    {
     "data": {
      "text/plain": [
       "61985"
      ]
     },
     "execution_count": 214,
     "metadata": {},
     "output_type": "execute_result"
    }
   ],
   "source": [
    "data.loc[:,'ambientes_desc2']=data.ambientes_desc2.replace('.','')\n",
    "data.loc[:,'ambientes_desc2']=data.ambientes_desc2.astype(float)\n",
    "data['ambientes_desc2'].notnull().sum()"
   ]
  },
  {
   "cell_type": "code",
   "execution_count": 215,
   "id": "0e341c24",
   "metadata": {},
   "outputs": [
    {
     "data": {
      "text/plain": [
       "103548"
      ]
     },
     "execution_count": 215,
     "metadata": {},
     "output_type": "execute_result"
    }
   ],
   "source": [
    "# Dormitorio|Habitacion|Cuarto|Pieza|Ambiente EN TEXTO de la primera vez que extraje habitacion en texto\n",
    "patron=\"(?P<habitacion3>[A-zÀ-ú\\s]+)\"\n",
    "sup_tot=re.compile(patron,flags = re.IGNORECASE)\n",
    "resultado=data.ambientes_desc.apply(lambda x: x if x is np.NaN else sup_tot.search(x))\n",
    "data.loc[:,\"ambientes_desc3\"]=resultado[resultado.notnull()].apply(lambda x: x.group(\"habitacion3\"))\n",
    "data.loc[:,\"ambientes_desc3\"]=data.ambientes_desc3.str.lower()\n",
    "data.loc[:,\"ambientes_desc3\"]=data.ambientes_desc3.str.strip()\n",
    "data['ambientes_desc3'].notnull().sum()"
   ]
  },
  {
   "cell_type": "code",
   "execution_count": 216,
   "id": "c6f6df3b",
   "metadata": {},
   "outputs": [
    {
     "data": {
      "text/plain": [
       "36862"
      ]
     },
     "execution_count": 216,
     "metadata": {},
     "output_type": "execute_result"
    }
   ],
   "source": [
    "# Extracción de ambientes del título\n",
    "patron=\"(?P<ambientes>(\\d{1,2}|un(o|a)|dos|tres|cuatro|cinco|seis|siete|ocho|nueve|diez)?\\s?(dorm|habitac|cuarto|pieza|monoam|amb)\\w*)\"\n",
    "sup_tot=re.compile(patron,flags = re.IGNORECASE)\n",
    "resultado=data.title.apply(lambda x: x if x is np.NaN else sup_tot.search(x))\n",
    "data.loc[:,\"ambientes_tit\"]=resultado[resultado.notnull()].apply(lambda x: x.group(\"ambientes\"))\n",
    "data['ambientes_tit'].notnull().sum()"
   ]
  },
  {
   "cell_type": "code",
   "execution_count": 217,
   "id": "ae583c02",
   "metadata": {},
   "outputs": [],
   "source": [
    "# Ambiente extraído del título en número\n",
    "patron=\"(?P<ambientes2>\\d+)\"\n",
    "sup_tot=re.compile(patron,flags = re.IGNORECASE)\n",
    "resultado=data.ambientes_tit.apply(lambda x: x if x is np.NaN else sup_tot.search(x))\n",
    "data.loc[:,\"ambientes_tit2\"]=resultado[resultado.notnull()].apply(lambda x: x.group(\"ambientes2\"))"
   ]
  },
  {
   "cell_type": "code",
   "execution_count": 218,
   "id": "4f06feee",
   "metadata": {},
   "outputs": [
    {
     "data": {
      "text/plain": [
       "28633"
      ]
     },
     "execution_count": 218,
     "metadata": {},
     "output_type": "execute_result"
    }
   ],
   "source": [
    "data.loc[:,'ambientes_tit2']=data.ambientes_tit2.replace('.','')\n",
    "data.loc[:,'ambientes_tit2']=data.ambientes_tit2.astype(float)\n",
    "data['ambientes_tit2'].notnull().sum()"
   ]
  },
  {
   "cell_type": "code",
   "execution_count": 219,
   "id": "28c427ab",
   "metadata": {},
   "outputs": [
    {
     "data": {
      "text/plain": [
       "36862"
      ]
     },
     "execution_count": 219,
     "metadata": {},
     "output_type": "execute_result"
    }
   ],
   "source": [
    "# AMBIENTE-TITLE  EN TEXTO extraigo ambientes de la primera extracción \n",
    "patron=\"(?P<ambientes3>[A-zÀ-ú\\s]+)\"\n",
    "sup_tot=re.compile(patron,flags = re.IGNORECASE)\n",
    "resultado=data.ambientes_tit.apply(lambda x: x if x is np.NaN else sup_tot.search(x))\n",
    "data.loc[:,\"ambientes_tit3\"]=resultado[resultado.notnull()].apply(lambda x: x.group(\"ambientes3\"))\n",
    "data.loc[:,\"ambientes_tit3\"]=data.ambientes_tit3.str.lower()\n",
    "data.loc[:,\"ambientes_tit3\"]=data.ambientes_tit3.str.strip()\n",
    "data['ambientes_tit3'].notnull().sum()"
   ]
  },
  {
   "cell_type": "code",
   "execution_count": 220,
   "id": "8974a63d",
   "metadata": {},
   "outputs": [],
   "source": [
    "# Reemplazo de texto de ambientes extraidos de la desc del paso anterior a numeros\n",
    "data.loc[:,'ambientes_desc3']=data['ambientes_desc3'].replace(regex={r'monoam.*': '1', 'dos\\s.*': '2','tres\\s.*':'3','cuatro\\s.*': '4',\n",
    "                                                                'cinco\\s.*': '5','seis\\s.*': '6','siete\\s.*': '7','ocho\\s.*': '8',\n",
    "                                                                 'una\\s.*': '2'})"
   ]
  },
  {
   "cell_type": "code",
   "execution_count": 221,
   "id": "ee232c05",
   "metadata": {},
   "outputs": [],
   "source": [
    "# Extracción de numeros de ambientes_tit3\n",
    "data.loc[:,'ambientes_tit3']=data['ambientes_tit3'].str.extract(r'(\\d+)')"
   ]
  },
  {
   "cell_type": "code",
   "execution_count": 222,
   "id": "6b35217e",
   "metadata": {},
   "outputs": [
    {
     "data": {
      "text/plain": [
       "76471"
      ]
     },
     "execution_count": 222,
     "metadata": {},
     "output_type": "execute_result"
    }
   ],
   "source": [
    "# Cantidad de BAÑO\n",
    "patron=\"(?P<baño>(\\d{1,2}|un(o|a)|dos|tres|cuatro|cinco|seis|siete|ocho|nueve|diez)?\\s?(baño)\\w*)\"\n",
    "sup_tot=re.compile(patron,flags = re.IGNORECASE)\n",
    "resultado=data.description.apply(lambda x: x if x is np.NaN else sup_tot.search(x))\n",
    "data.loc[:,\"baños\"]=resultado[resultado.notnull()].apply(lambda x: x.group(\"baño\"))\n",
    "data['baños'].notnull().sum()"
   ]
  },
  {
   "cell_type": "code",
   "execution_count": 223,
   "id": "e2f09f70",
   "metadata": {},
   "outputs": [],
   "source": [
    "data.loc[:,\"baños\"]=data.baños.apply(lambda x: x.lower() if isinstance(x, str) else x)"
   ]
  },
  {
   "cell_type": "code",
   "execution_count": 224,
   "id": "2e8eedb2",
   "metadata": {},
   "outputs": [],
   "source": [
    "data.loc[:,\"baños\"]=data.baños.apply(lambda x: x.strip() if isinstance(x, str) else x)"
   ]
  },
  {
   "cell_type": "code",
   "execution_count": 225,
   "id": "86817ddf",
   "metadata": {},
   "outputs": [],
   "source": [
    "data.baños.replace(regex={r'^un.*':\"1\",r'^dos.*':\"2\",r'^tres.*':\"3\",r'^cuatro.*':\"4\",r'^cinco.*':\"5\",\n",
    "                 r'^seis.*':\"6\",r'^siete.*':\"7\",r'^ocho.*':\"8\",\n",
    "                 r'^nueve.*':\"9\"},inplace=True)"
   ]
  },
  {
   "cell_type": "code",
   "execution_count": 226,
   "id": "163b3171",
   "metadata": {},
   "outputs": [],
   "source": [
    "# BAÑO EN NUMERO\n",
    "patron=\"(?P<baño2>\\d+)\"\n",
    "sup_tot=re.compile(patron,flags = re.IGNORECASE)\n",
    "resultado=data.baños.apply(lambda x: x if x is np.NaN else sup_tot.search(x))\n",
    "data.loc[:,\"baños\"]=resultado[resultado.notnull()].apply(lambda x: x.group(\"baño2\"))"
   ]
  },
  {
   "cell_type": "code",
   "execution_count": 227,
   "id": "f5550c3e",
   "metadata": {},
   "outputs": [],
   "source": [
    "# Paso el valor anterior a numero\n",
    "data.loc[:,'baños']=data.baños.replace('.','')\n",
    "data.loc[:,'baños']=data.baños.astype(float)"
   ]
  },
  {
   "cell_type": "code",
   "execution_count": 228,
   "id": "7fa2b6fb",
   "metadata": {},
   "outputs": [],
   "source": [
    "# Acortar cantidad de baños a 10\n",
    "data.loc[:,\"baños\"]=data[\"baños\"].apply(lambda x: x if x<=10 else np.NaN)"
   ]
  },
  {
   "cell_type": "code",
   "execution_count": 229,
   "id": "b9933379",
   "metadata": {},
   "outputs": [],
   "source": [
    "# Cantidad de Toilette\n",
    "patron=\"(?P<toilette>(\\d{1,2}|un(o|a)|dos|tres|cuatro|cinco|seis|siete|ocho|nueve|diez)?\\s?(toil)\\w*)\"\n",
    "sup_tot=re.compile(patron,flags = re.IGNORECASE)\n",
    "resultado=data.description.apply(lambda x: x if x is np.NaN else sup_tot.search(x))\n",
    "data.loc[:,\"toilette\"]=resultado[resultado.notnull()].apply(lambda x: x.group(\"toilette\"))"
   ]
  },
  {
   "cell_type": "code",
   "execution_count": 230,
   "id": "49e86903",
   "metadata": {},
   "outputs": [],
   "source": [
    "data.loc[:,\"toilette\"]=data.toilette.apply(lambda x: x.lower() if isinstance(x, str) else x)"
   ]
  },
  {
   "cell_type": "code",
   "execution_count": 231,
   "id": "03e2d287",
   "metadata": {},
   "outputs": [],
   "source": [
    "data.loc[:,\"toilette\"]=data.toilette.apply(lambda x: x.strip() if isinstance(x, str) else x)"
   ]
  },
  {
   "cell_type": "code",
   "execution_count": 232,
   "id": "e36ac715",
   "metadata": {},
   "outputs": [],
   "source": [
    "data.toilette.replace(regex={r'^un.*':\"1\",r'^dos.*':\"2\",r'^tres.*':\"3\",r'^cuatro.*':\"4\",r'^cinco.*':\"5\",\n",
    "                 r'^seis.*':\"6\",r'^siete.*':\"7\",r'^ocho.*':\"8\",\n",
    "                 r'^nueve.*':\"9\"},inplace=True)"
   ]
  },
  {
   "cell_type": "code",
   "execution_count": 233,
   "id": "c86c2135",
   "metadata": {},
   "outputs": [],
   "source": [
    "# Toilette en número\n",
    "patron=\"(?P<toilette2>\\d+)\"\n",
    "sup_tot=re.compile(patron,flags = re.IGNORECASE)\n",
    "resultado=data.toilette.apply(lambda x: x if x is np.NaN else sup_tot.search(x))\n",
    "data.loc[:,\"toilette\"]=resultado[resultado.notnull()].apply(lambda x: x.group(\"toilette2\"))"
   ]
  },
  {
   "cell_type": "code",
   "execution_count": 234,
   "id": "832353f7",
   "metadata": {},
   "outputs": [],
   "source": [
    "# Paso el valor anterior a numero\n",
    "data.loc[:,'toilette']=data.toilette.replace('.','')\n",
    "data.loc[:,'toilette']=data.toilette.astype(float)\n"
   ]
  },
  {
   "cell_type": "code",
   "execution_count": 235,
   "id": "e341eced",
   "metadata": {},
   "outputs": [],
   "source": [
    "# Acotar cantidad de toilette a 10\n",
    "data.loc[:,\"toilette\"]=data[\"toilette\"].apply(lambda x: x if x<=10 else np.NaN)"
   ]
  },
  {
   "cell_type": "code",
   "execution_count": 236,
   "id": "626c6986",
   "metadata": {},
   "outputs": [],
   "source": [
    "# Extracción de precio INMUEBLE del TITULO\n",
    "patron=\"(U\\$S |USD |\\$ |U\\$D )(?P<precios>\\d+(\\.\\d+)(\\.\\d+)?)\"\n",
    "sup_tot=re.compile(patron,flags = re.IGNORECASE)\n",
    "resultado=data.title.apply(lambda x: x if x is np.NaN else sup_tot.search(x))\n",
    "data.loc[:,\"precio_tit\"]=resultado[resultado.notnull()].apply(lambda x: x.group(\"precios\"))"
   ]
  },
  {
   "cell_type": "code",
   "execution_count": 237,
   "id": "d247248d",
   "metadata": {},
   "outputs": [],
   "source": [
    "# Pasar el valor anterior a numero\n",
    "\n",
    "data.loc[:,'precio_tit']=data.precio_tit.str.replace('.','')\n",
    "data.loc[:,'precio_tit']=data.precio_tit.astype(float)\n"
   ]
  },
  {
   "cell_type": "code",
   "execution_count": 238,
   "id": "327412ac",
   "metadata": {},
   "outputs": [],
   "source": [
    "# Extracción de UNIDAD del precio INMUEBLE TITULO\n",
    "patron=\"(?P<unidad>U\\$S |USD |\\$ |U\\$D )(?P<precios>\\d+(\\.\\d+)(\\.\\d+)?)\"\n",
    "sup_tot=re.compile(patron,flags = re.IGNORECASE)\n",
    "resultado=data.title.apply(lambda x: x if x is np.NaN else sup_tot.search(x))\n",
    "data.loc[:,\"unidad_tit\"]=resultado[resultado.notnull()].apply(lambda x: x.group(\"unidad\"))"
   ]
  },
  {
   "cell_type": "code",
   "execution_count": 239,
   "id": "fbf12e2b",
   "metadata": {},
   "outputs": [],
   "source": [
    "# Uniformizar la unidad del precio del titulo\n",
    "data.loc[:,'unidad_tit']=data.unidad_tit.map({'U$S ':'USD','u$s ':'USD','$ ':'ARS','U$D ':'USD','u$D ':'u$D ','U$s ':'USD','usd ':'USD'})"
   ]
  },
  {
   "cell_type": "code",
   "execution_count": 240,
   "id": "086758f4",
   "metadata": {},
   "outputs": [],
   "source": [
    "# Extracción de precio INMUEBLE de la DESC\n",
    "patron=\"(U\\$S |USD |\\$ |U\\$D )(?P<precios2>\\d+(\\.\\d+)(\\.\\d+)?)\"\n",
    "sup_tot=re.compile(patron,flags = re.IGNORECASE)\n",
    "resultado=data.description.apply(lambda x: x if x is np.NaN else sup_tot.search(x))\n",
    "data.loc[:,\"precio_desc\"]=resultado[resultado.notnull()].apply(lambda x: x.group(\"precios2\"))"
   ]
  },
  {
   "cell_type": "code",
   "execution_count": 241,
   "id": "6c8245f3",
   "metadata": {},
   "outputs": [],
   "source": [
    "# Pasar el valor anterior a numero\n",
    "\n",
    "data.loc[:,'precio_desc']=data.precio_desc.str.replace('.','')\n",
    "data.loc[:,'precio_desc']=data.precio_desc.astype(float)"
   ]
  },
  {
   "cell_type": "code",
   "execution_count": 242,
   "id": "609749db",
   "metadata": {},
   "outputs": [],
   "source": [
    "# Extracción de UNIDAD del precio del INMUEBLE de la DESC\n",
    "patron=\"(?P<unidad2>U\\$S |USD |\\$ |U\\$D )(?P<precios2>\\d+(\\.\\d+)(\\.\\d+)?)\"\n",
    "sup_tot=re.compile(patron,flags = re.IGNORECASE)\n",
    "resultado=data.description.apply(lambda x: x if x is np.NaN else sup_tot.search(x))\n",
    "data.loc[:,\"unidad_desc\"]=resultado[resultado.notnull()].apply(lambda x: x.group(\"unidad2\"))"
   ]
  },
  {
   "cell_type": "code",
   "execution_count": 243,
   "id": "8144eb9d",
   "metadata": {},
   "outputs": [],
   "source": [
    "# Uniformizar la unidad del precio de la descripcion\n",
    "data.loc[:,'unidad_desc']=data.unidad_desc.map({'U$D ':'USD', 'USD ':'USD', 'U$S ':'USD', '$ ':'ARS', 'u$s ':'USD', 'U$s ':'USD', 'usd ':'USD',\n",
    "                                     'u$d ':'USD','u$S ':'USD', 'Usd ':'USD', 'u$D ':'USD', 'U$d ':'USD', 'uSD ':'USD'})"
   ]
  },
  {
   "cell_type": "code",
   "execution_count": 244,
   "id": "e284c1fd",
   "metadata": {},
   "outputs": [],
   "source": [
    "# Reemplazar precio nulo con precio que extraje del titulo si condiciones\n",
    "data.loc[:,'price'] = np.where((data['price'].isnull()) & (data['precio_tit']>1000),data['precio_tit'],data['price'])"
   ]
  },
  {
   "cell_type": "code",
   "execution_count": 245,
   "id": "c1115f55",
   "metadata": {},
   "outputs": [],
   "source": [
    "# Reemplazar unidad nula con unidad que extraje del titulo si condiciones\n",
    "data.loc[:,'currency'] = np.where((data['currency'].isnull()) & (data['precio_tit']>1000),data['unidad_tit'],data['currency'])"
   ]
  },
  {
   "cell_type": "code",
   "execution_count": 246,
   "id": "222c191d",
   "metadata": {},
   "outputs": [],
   "source": [
    "# Reemplazar precio nulo con precio que extraje de la descripcion si condiciones\n",
    "data.loc[:,'price'] = np.where((data['price'].isnull()) & (data['precio_desc']>1000),data['precio_desc'],data['price'])"
   ]
  },
  {
   "cell_type": "code",
   "execution_count": 247,
   "id": "d55615fa",
   "metadata": {},
   "outputs": [],
   "source": [
    "# Reemplazar unidad nula con unidad que extraje de la descripcion si condiciones\n",
    "data.loc[:,'currency'] = np.where((data['currency'].isnull()) & (data['precio_desc']>10000),data['unidad_desc'],data['currency'])"
   ]
  },
  {
   "cell_type": "code",
   "execution_count": 248,
   "id": "bf8b2598",
   "metadata": {},
   "outputs": [],
   "source": [
    "# Reemplazar superficie total nula con superficie total que extraje del titulo si condiciones\n",
    "data.loc[:,'surface_total_in_m2'] = np.where((data['surface_total_in_m2'].isnull())&\n",
    "                                             (data['r_sup_tot'].notnull()),data['r_sup_tot'],data['surface_total_in_m2'])"
   ]
  },
  {
   "cell_type": "code",
   "execution_count": 249,
   "id": "c604e472",
   "metadata": {},
   "outputs": [],
   "source": [
    "# Reemplazar superficie total nula con superficie total 2 que extraje del titulo si condiciones\n",
    "data.loc[:,'surface_total_in_m2'] = np.where((data['surface_total_in_m2'].isnull())&\n",
    "                                             (data['r_sup_tot'].isnull())&\n",
    "                                             (data['r_sup_tot2'].notnull()),data['r_sup_tot2'],data['surface_total_in_m2'])"
   ]
  },
  {
   "cell_type": "code",
   "execution_count": 250,
   "id": "6cda7898",
   "metadata": {},
   "outputs": [],
   "source": [
    "# Pasar la superficie total a numero\n",
    "\n",
    "data.loc[:,'surface_total_in_m2']=data.surface_total_in_m2.apply(lambda x: x.replace('.','') if isinstance(x, str) else x)\n",
    "data.loc[:,'surface_total_in_m2']=data.surface_total_in_m2.astype(float)\n"
   ]
  },
  {
   "cell_type": "code",
   "execution_count": 251,
   "id": "bfed32e8",
   "metadata": {},
   "outputs": [],
   "source": [
    "# Reemplazar superficie cubierta nula con superficie cubierta que extraje del titulo si condiciones\n",
    "data.loc[:,'surface_covered_in_m2'] = np.where((data['surface_covered_in_m2'].isnull())&\n",
    "                                               (data['r_sup_cub'].notnull()),data['r_sup_cub'],data['surface_covered_in_m2'])"
   ]
  },
  {
   "cell_type": "code",
   "execution_count": 252,
   "id": "558125bb",
   "metadata": {},
   "outputs": [],
   "source": [
    "# Reemplazar superficie cubierta nula con superficie cubierta 2 que extraje del titulo si condiciones\n",
    "data.loc[:,'surface_covered_in_m2'] = np.where((data['surface_covered_in_m2'].isnull())&\n",
    "                                               (data['r_sup_cub'].isnull())&\n",
    "                                               (data['r_sup_cub2'].notnull()),data['r_sup_cub2'],data['surface_total_in_m2'])"
   ]
  },
  {
   "cell_type": "code",
   "execution_count": 253,
   "id": "6cc5e03f",
   "metadata": {},
   "outputs": [],
   "source": [
    "# Pasar la superficie cubierta a numero\n",
    "\n",
    "data.loc[:,'surface_covered_in_m2']=data.surface_covered_in_m2.apply(lambda x: x.replace('.','') if isinstance(x, str) else x)\n",
    "data.loc[:,'surface_covered_in_m2']=data.surface_covered_in_m2.astype(float)"
   ]
  },
  {
   "cell_type": "code",
   "execution_count": 254,
   "id": "1fdfda21",
   "metadata": {},
   "outputs": [],
   "source": [
    "# Reemplazar piso nulo con piso numero extraido\n",
    "data.loc[:,'floor'] = np.where((data['floor'].isnull()) & (data['piso_num'].notnull()),data['piso_num'],data['floor'])"
   ]
  },
  {
   "cell_type": "code",
   "execution_count": 255,
   "id": "ceac82a2",
   "metadata": {},
   "outputs": [],
   "source": [
    "# Reemplazar piso nulo con piso texto (que antes lo pasamos a numero) extraido\n",
    "data.loc[:,'floor'] = np.where((data['floor'].isnull())&\n",
    "                               (data['piso_num'].isnull())&\n",
    "                               (data['piso_texto'].notnull()),data['piso_texto'],data['floor'])"
   ]
  },
  {
   "cell_type": "code",
   "execution_count": 256,
   "id": "12754e55",
   "metadata": {},
   "outputs": [],
   "source": [
    "# Pasar floor a numero\n",
    "\n",
    "data.loc[:,'floor']=data.floor.apply(lambda x: x.replace('.','') if isinstance(x, str) else x)\n",
    "data.loc[:,'floor']=data.floor.astype(float)"
   ]
  },
  {
   "cell_type": "code",
   "execution_count": 257,
   "id": "945ec219",
   "metadata": {},
   "outputs": [],
   "source": [
    "# Reemplazar expensas nulo con expensas numero extraido\n",
    "data.loc[:,'expenses'] = np.where((data['expenses'].isnull()) & (data['expensas'].notnull()),data['expensas'],data['expenses'])"
   ]
  },
  {
   "cell_type": "code",
   "execution_count": 258,
   "id": "758e41ba",
   "metadata": {},
   "outputs": [],
   "source": [
    "# Pasar el expenses a numero\n",
    "\n",
    "data.loc[:,'expenses']=data.expenses.apply(lambda x: x.replace('.','') if isinstance(x, str) else x)\n",
    "data.loc[:,'expenses']=data.expenses.astype(float)"
   ]
  },
  {
   "cell_type": "code",
   "execution_count": 259,
   "id": "9dbf03aa",
   "metadata": {},
   "outputs": [],
   "source": [
    "# Reemplazar numero de habitaciones nulo por extraido del titulo\n",
    "data.loc[:,'rooms'] = np.where((data['rooms'].isnull()) & (data['ambientes_tit2'].notnull()),data['ambientes_tit2'],data['rooms'])"
   ]
  },
  {
   "cell_type": "code",
   "execution_count": 260,
   "id": "23f06bf2",
   "metadata": {},
   "outputs": [],
   "source": [
    "# Reemplazar numero de habitaciones nulo por extraido de la desc\n",
    "data.loc[:,'rooms'] = np.where((data['rooms'].isnull())&\n",
    "                               (data['ambientes_tit2'].isnull())&\n",
    "                               (data['ambientes_desc2'].notnull()),data['ambientes_tit2'],data['rooms'])"
   ]
  },
  {
   "cell_type": "code",
   "execution_count": 261,
   "id": "c2645aff",
   "metadata": {},
   "outputs": [],
   "source": [
    "# Reemplazar numero de habitaciones nulo por extraido del titulo 2\n",
    "data.loc[:,'rooms'] = np.where((data['rooms'].isnull())&\n",
    "                               (data['ambientes_tit2'].isnull())&\n",
    "                               (data['ambientes_desc2'].isnull())&\n",
    "                               (data['ambientes_tit3'].notnull()),data['ambientes_tit3'],data['rooms'])"
   ]
  },
  {
   "cell_type": "code",
   "execution_count": 262,
   "id": "4105ffce",
   "metadata": {},
   "outputs": [],
   "source": [
    "# Reemplazar numero de habitaciones nulo por extraido de la desc 2\n",
    "data.loc[:,'rooms'] = np.where((data['rooms'].isnull())&\n",
    "                               (data['ambientes_tit2'].isnull())&\n",
    "                               (data['ambientes_desc2'].isnull())&\n",
    "                               (data['ambientes_tit3'].isnull())&\n",
    "                               (data['ambientes_desc3'].notnull()),data['ambientes_desc3'],data['rooms'])"
   ]
  },
  {
   "cell_type": "code",
   "execution_count": 263,
   "id": "a8050a16",
   "metadata": {},
   "outputs": [],
   "source": [
    "# Reemplazar valores nulos de rooms por q\n",
    "data.loc[:,'rooms']=np.where((data['rooms'].isnull()),data[\"rooms\"].fillna(\"99\"),data['rooms'])"
   ]
  },
  {
   "cell_type": "code",
   "execution_count": 264,
   "id": "e0591976",
   "metadata": {},
   "outputs": [],
   "source": [
    "data.rooms.replace(regex={r'\\w*': '99'},inplace=True)"
   ]
  },
  {
   "cell_type": "code",
   "execution_count": 265,
   "id": "1d35436c",
   "metadata": {},
   "outputs": [],
   "source": [
    "data.rooms.replace({\"9999\":\"q\",\"9999 9999\":\"q\"},inplace=True)"
   ]
  },
  {
   "cell_type": "code",
   "execution_count": 266,
   "id": "0745cc2e",
   "metadata": {},
   "outputs": [],
   "source": [
    "data.rooms.replace(regex={\"q\": '99'},inplace=True)"
   ]
  },
  {
   "cell_type": "code",
   "execution_count": 267,
   "id": "9955b0a1",
   "metadata": {},
   "outputs": [],
   "source": [
    "data.loc[:,'rooms']=np.where(data['rooms']==0,\"99\",data['rooms'])"
   ]
  },
  {
   "cell_type": "code",
   "execution_count": 268,
   "id": "e42be487",
   "metadata": {},
   "outputs": [
    {
     "data": {
      "text/plain": [
       "array([2.0, 3.0, '99', 1.0, 4.0, 6.0, 5.0, 10.0, 7.0, 9.0, 8.0, 17.0,\n",
       "       22.0, 15.0, 12.0, 11.0, 14.0, 16.0, 20.0, 13.0, 25.0, 19.0, 36.0,\n",
       "       30.0, 18.0, 32.0, 31.0, 21.0, 60.0, 35.0, 27.0, 24.0, 29.0, 23.0,\n",
       "       28.0], dtype=object)"
      ]
     },
     "execution_count": 268,
     "metadata": {},
     "output_type": "execute_result"
    }
   ],
   "source": [
    "data.rooms.unique()"
   ]
  },
  {
   "cell_type": "code",
   "execution_count": 269,
   "id": "4325b68f",
   "metadata": {},
   "outputs": [],
   "source": [
    "# Pasar la variable rooms a numero\n",
    "\n",
    "data.loc[:,'rooms']=data.rooms.apply(lambda x: x.replace('.','') if isinstance(x, str) else x)\n",
    "data.loc[:,'rooms']=data.rooms.astype(float)"
   ]
  },
  {
   "cell_type": "code",
   "execution_count": 270,
   "id": "24c98eb0",
   "metadata": {},
   "outputs": [],
   "source": [
    "# Reemplazar price_aprox_usd nulo por precios en usd no nulos\n",
    "data.loc[:,'price_aprox_usd'] = np.where((data['price_aprox_usd'].isnull()) &\n",
    "                                         (data['price'].notnull()) & (data['currency']=='USD'),data['price'],data['price_aprox_usd'])"
   ]
  },
  {
   "cell_type": "code",
   "execution_count": 271,
   "id": "af6ed267",
   "metadata": {},
   "outputs": [],
   "source": [
    "# Reemplazar price_aprox_local_currency nulo por precios en pesos no nulos\n",
    "data.loc[:,'price_aprox_local_currency'] = np.where((data['price_aprox_local_currency'].isnull()) &\n",
    "                                                    (data['price'].notnull()) & (data['currency']=='ARS'),data['price'],data['price_aprox_local_currency'])"
   ]
  },
  {
   "cell_type": "code",
   "execution_count": 272,
   "id": "19d87d27",
   "metadata": {},
   "outputs": [],
   "source": [
    "# Eliminar columnas que se usaron para extraer datos\n",
    "data.drop(columns={'ambientes_desc','ambientes_desc2','ambientes_desc3',\n",
    "                   'ambientes_tit','ambientes_tit2','ambientes_tit3','precio_tit',\n",
    "                'unidad_tit','precio_desc','unidad_desc','piso_num','piso_texto','piso',\n",
    "                  'r_sup_tot','r_sup_tot','r_sup_cub','r_sup_cub2','r_sup_tot2'},inplace=True)"
   ]
  },
  {
   "cell_type": "code",
   "execution_count": 276,
   "id": "440678b2",
   "metadata": {},
   "outputs": [],
   "source": [
    "#Analisis para reemplazar 'price_usd_per_m2' por aquellos valores en los que 'price_usd_per_m2' es nulo \n",
    "#y  encontramos precios y/o superficies faltantes\n",
    "#m3=df.loc[df['price_usd_per_m2'].notnull()&\n",
    "#                                df['property_type'].notnull()&\n",
    "#                                df[\"place_name\"].notnull(),\n",
    "#                               ['property_type','place_name','price_aprox_usd','surface_covered_in_m2',\"surface_total_in_m2\",'price_usd_per_m2']]"
   ]
  },
  {
   "cell_type": "code",
   "execution_count": 277,
   "id": "9a8ac483",
   "metadata": {},
   "outputs": [],
   "source": [
    "#m3[\"m3_cub\"]=np.where(m3.surface_covered_in_m3.notnull(),m3.price_aprox_usd/m3.surface_covered_in_m3,0)\n",
    "#m3[\"m3_tot\"]=np.where(m3.surface_total_in_m3.notnull(),m3.price_aprox_usd/m3.surface_total_in_m3,0)\n",
    "#m3[\"check_cub\"]=m3.m3_cub.round(1)==m3.price_usd_per_m3.round(1)\n",
    "#m3[\"check_tot\"]=m3.m3_tot.round(1)==m3.price_usd_per_m3.round(1)\n",
    "\n",
    "#print(m3[(m3.surface_covered_in_m3!=m3.surface_total_in_m3)].count())\n",
    "#print()\n",
    "#print(\"check_tot True:\",m3[(m3.surface_covered_in_m3!=m3.surface_total_in_m3)][\"check_tot\"].sum())\n",
    "#print(\"check_cub True:\",m3[(m3.surface_covered_in_m3!=m3.surface_total_in_m3)][\"check_cub\"].sum())"
   ]
  },
  {
   "cell_type": "code",
   "execution_count": 279,
   "id": "69e40be1",
   "metadata": {},
   "outputs": [
    {
     "data": {
      "text/plain": [
       "operation                          0\n",
       "property_type                      0\n",
       "place_name                        23\n",
       "place_with_parent_names            0\n",
       "country_name                       0\n",
       "state_name                         0\n",
       "geonames_id                    18180\n",
       "lat-lon                        48289\n",
       "lat                            48289\n",
       "lon                            48289\n",
       "price                          14845\n",
       "currency                       14943\n",
       "price_aprox_local_currency     17260\n",
       "price_aprox_usd                14942\n",
       "surface_total_in_m2            36929\n",
       "surface_covered_in_m2          36720\n",
       "price_usd_per_m2               45900\n",
       "price_per_m2                   30443\n",
       "floor                          75392\n",
       "rooms                              0\n",
       "expenses                      101044\n",
       "description                        2\n",
       "title                              0\n",
       "antiguedad                    110853\n",
       "apto_cred                     104149\n",
       "bajas_exp                     113764\n",
       "expensas                      114852\n",
       "por_escalera                  112754\n",
       "con_cochera                   110635\n",
       "con_baulera                   107684\n",
       "con_patio                      99209\n",
       "con_balcon                     89879\n",
       "con_terraza                   100149\n",
       "con_pileta                     92462\n",
       "con_solarium                  109122\n",
       "con_gimnasio                  108571\n",
       "con_amenities                 111243\n",
       "con_jardin                    101251\n",
       "con_losa                      111402\n",
       "con_lavadero                   81602\n",
       "con_seguridad                 105390\n",
       "con_sum                       101894\n",
       "de_pozo                       114840\n",
       "baños                         103323\n",
       "toilette                      115073\n",
       "tc                             17557\n",
       "dtype: int64"
      ]
     },
     "execution_count": 279,
     "metadata": {},
     "output_type": "execute_result"
    }
   ],
   "source": [
    "data.isnull().sum()"
   ]
  },
  {
   "cell_type": "code",
   "execution_count": 280,
   "id": "e5b98b84",
   "metadata": {},
   "outputs": [
    {
     "data": {
      "text/plain": [
       "99.000000    57914\n",
       "3.000000     16089\n",
       "2.000000     15767\n",
       "4.000000      9777\n",
       "1.000000      8607\n",
       "5.000000      4391\n",
       "6.000000      1596\n",
       "7.000000       839\n",
       "8.000000       426\n",
       "10.000000      227\n",
       "9.000000       189\n",
       "11.000000       76\n",
       "12.000000       67\n",
       "13.000000       33\n",
       "14.000000       28\n",
       "15.000000       26\n",
       "17.000000       16\n",
       "16.000000       12\n",
       "20.000000       12\n",
       "22.000000        8\n",
       "18.000000        7\n",
       "21.000000        6\n",
       "19.000000        4\n",
       "25.000000        4\n",
       "30.000000        4\n",
       "32.000000        3\n",
       "27.000000        2\n",
       "31.000000        2\n",
       "23.000000        2\n",
       "36.000000        1\n",
       "29.000000        1\n",
       "24.000000        1\n",
       "35.000000        1\n",
       "60.000000        1\n",
       "28.000000        1\n",
       "Name: rooms, dtype: int64"
      ]
     },
     "execution_count": 280,
     "metadata": {},
     "output_type": "execute_result"
    }
   ],
   "source": [
    "data['rooms'].value_counts()"
   ]
  },
  {
   "cell_type": "markdown",
   "id": "b3d0fa38",
   "metadata": {},
   "source": [
    "A pesar del trabajo realizado con expresiones regulares, la cantidad de valores que logramos recuperar es bastante baja, incluso, vemos que la variable 'rooms' aparentemente no tiene valores nulos, sin embargo, tiene 57914 valores nulos, los cuales por convención fueron asignados para identificar un valor nulo. Por ahora trabajaremos el dataset con la imputación y limpieza de las variables iniciales."
   ]
  },
  {
   "cell_type": "code",
   "execution_count": null,
   "id": "20f1a252",
   "metadata": {},
   "outputs": [],
   "source": []
  }
 ],
 "metadata": {
  "kernelspec": {
   "display_name": "Python 3 (ipykernel)",
   "language": "python",
   "name": "python3"
  },
  "language_info": {
   "codemirror_mode": {
    "name": "ipython",
    "version": 3
   },
   "file_extension": ".py",
   "mimetype": "text/x-python",
   "name": "python",
   "nbconvert_exporter": "python",
   "pygments_lexer": "ipython3",
   "version": "3.8.12"
  }
 },
 "nbformat": 4,
 "nbformat_minor": 5
}
