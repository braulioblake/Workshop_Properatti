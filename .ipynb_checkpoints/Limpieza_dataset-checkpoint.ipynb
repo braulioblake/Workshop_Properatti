{
 "cells": [
  {
   "cell_type": "markdown",
   "id": "008af4b8",
   "metadata": {},
   "source": [
    "## Limpieza del dataset"
   ]
  },
  {
   "cell_type": "markdown",
   "id": "f09085e2",
   "metadata": {},
   "source": [
    "### Cargue de librerías"
   ]
  },
  {
   "cell_type": "code",
   "execution_count": 1,
   "id": "9bba01c4",
   "metadata": {},
   "outputs": [],
   "source": [
    "import pandas as pd\n",
    "import numpy as np\n",
    "import matplotlib.pyplot as plt\n",
    "import seaborn as sns\n",
    "import re\n",
    "pd.options.display.float_format = '{:.6f}'.format"
   ]
  },
  {
   "cell_type": "markdown",
   "id": "342bd3fa",
   "metadata": {},
   "source": [
    "### Lectura del dataset de Properatti"
   ]
  },
  {
   "cell_type": "code",
   "execution_count": 2,
   "id": "c0f2c634",
   "metadata": {},
   "outputs": [],
   "source": [
    "data = pd.read_csv('properatti.csv')"
   ]
  },
  {
   "cell_type": "code",
   "execution_count": 3,
   "id": "870798d1",
   "metadata": {},
   "outputs": [
    {
     "data": {
      "text/plain": [
       "Index(['Unnamed: 0', 'operation', 'property_type', 'place_name',\n",
       "       'place_with_parent_names', 'country_name', 'state_name', 'geonames_id',\n",
       "       'lat-lon', 'lat', 'lon', 'price', 'currency',\n",
       "       'price_aprox_local_currency', 'price_aprox_usd', 'surface_total_in_m2',\n",
       "       'surface_covered_in_m2', 'price_usd_per_m2', 'price_per_m2', 'floor',\n",
       "       'rooms', 'expenses', 'properati_url', 'description', 'title',\n",
       "       'image_thumbnail'],\n",
       "      dtype='object')"
      ]
     },
     "execution_count": 3,
     "metadata": {},
     "output_type": "execute_result"
    }
   ],
   "source": [
    "# Listado de columnas o variables disponibles\n",
    "\n",
    "data.columns"
   ]
  },
  {
   "cell_type": "code",
   "execution_count": 4,
   "id": "cb53db30",
   "metadata": {},
   "outputs": [
    {
     "data": {
      "text/html": [
       "<div>\n",
       "<style scoped>\n",
       "    .dataframe tbody tr th:only-of-type {\n",
       "        vertical-align: middle;\n",
       "    }\n",
       "\n",
       "    .dataframe tbody tr th {\n",
       "        vertical-align: top;\n",
       "    }\n",
       "\n",
       "    .dataframe thead th {\n",
       "        text-align: right;\n",
       "    }\n",
       "</style>\n",
       "<table border=\"1\" class=\"dataframe\">\n",
       "  <thead>\n",
       "    <tr style=\"text-align: right;\">\n",
       "      <th></th>\n",
       "      <th>Unnamed: 0</th>\n",
       "      <th>operation</th>\n",
       "      <th>property_type</th>\n",
       "      <th>place_name</th>\n",
       "      <th>place_with_parent_names</th>\n",
       "      <th>country_name</th>\n",
       "      <th>state_name</th>\n",
       "      <th>geonames_id</th>\n",
       "      <th>lat-lon</th>\n",
       "      <th>lat</th>\n",
       "      <th>...</th>\n",
       "      <th>surface_covered_in_m2</th>\n",
       "      <th>price_usd_per_m2</th>\n",
       "      <th>price_per_m2</th>\n",
       "      <th>floor</th>\n",
       "      <th>rooms</th>\n",
       "      <th>expenses</th>\n",
       "      <th>properati_url</th>\n",
       "      <th>description</th>\n",
       "      <th>title</th>\n",
       "      <th>image_thumbnail</th>\n",
       "    </tr>\n",
       "  </thead>\n",
       "  <tbody>\n",
       "    <tr>\n",
       "      <th>0</th>\n",
       "      <td>0</td>\n",
       "      <td>sell</td>\n",
       "      <td>PH</td>\n",
       "      <td>Mataderos</td>\n",
       "      <td>|Argentina|Capital Federal|Mataderos|</td>\n",
       "      <td>Argentina</td>\n",
       "      <td>Capital Federal</td>\n",
       "      <td>3430787.000000</td>\n",
       "      <td>-34.6618237,-58.5088387</td>\n",
       "      <td>-34.661824</td>\n",
       "      <td>...</td>\n",
       "      <td>40.000000</td>\n",
       "      <td>1127.272727</td>\n",
       "      <td>1550.000000</td>\n",
       "      <td>nan</td>\n",
       "      <td>nan</td>\n",
       "      <td>nan</td>\n",
       "      <td>http://www.properati.com.ar/15bo8_venta_ph_mat...</td>\n",
       "      <td>2 AMBIENTES TIPO CASA PLANTA BAJA POR PASILLO,...</td>\n",
       "      <td>2 AMB TIPO CASA SIN EXPENSAS EN PB</td>\n",
       "      <td>https://thumbs4.properati.com/8/BluUYiHJLhgIIK...</td>\n",
       "    </tr>\n",
       "    <tr>\n",
       "      <th>1</th>\n",
       "      <td>1</td>\n",
       "      <td>sell</td>\n",
       "      <td>apartment</td>\n",
       "      <td>La Plata</td>\n",
       "      <td>|Argentina|Bs.As. G.B.A. Zona Sur|La Plata|</td>\n",
       "      <td>Argentina</td>\n",
       "      <td>Bs.As. G.B.A. Zona Sur</td>\n",
       "      <td>3432039.000000</td>\n",
       "      <td>-34.9038831,-57.9643295</td>\n",
       "      <td>-34.903883</td>\n",
       "      <td>...</td>\n",
       "      <td>nan</td>\n",
       "      <td>nan</td>\n",
       "      <td>nan</td>\n",
       "      <td>nan</td>\n",
       "      <td>nan</td>\n",
       "      <td>nan</td>\n",
       "      <td>http://www.properati.com.ar/15bob_venta_depart...</td>\n",
       "      <td>Venta de departamento en décimo piso al frente...</td>\n",
       "      <td>VENTA Depto 2 dorm. a estrenar 7 e/ 36 y 37   ...</td>\n",
       "      <td>https://thumbs4.properati.com/7/ikpVBu2ztHA7jv...</td>\n",
       "    </tr>\n",
       "  </tbody>\n",
       "</table>\n",
       "<p>2 rows × 26 columns</p>\n",
       "</div>"
      ],
      "text/plain": [
       "   Unnamed: 0 operation property_type place_name  \\\n",
       "0           0      sell            PH  Mataderos   \n",
       "1           1      sell     apartment   La Plata   \n",
       "\n",
       "                       place_with_parent_names country_name  \\\n",
       "0        |Argentina|Capital Federal|Mataderos|    Argentina   \n",
       "1  |Argentina|Bs.As. G.B.A. Zona Sur|La Plata|    Argentina   \n",
       "\n",
       "               state_name    geonames_id                  lat-lon        lat  \\\n",
       "0         Capital Federal 3430787.000000  -34.6618237,-58.5088387 -34.661824   \n",
       "1  Bs.As. G.B.A. Zona Sur 3432039.000000  -34.9038831,-57.9643295 -34.903883   \n",
       "\n",
       "   ...  surface_covered_in_m2  price_usd_per_m2 price_per_m2  floor  rooms  \\\n",
       "0  ...              40.000000       1127.272727  1550.000000    nan    nan   \n",
       "1  ...                    nan               nan          nan    nan    nan   \n",
       "\n",
       "   expenses                                      properati_url  \\\n",
       "0       nan  http://www.properati.com.ar/15bo8_venta_ph_mat...   \n",
       "1       nan  http://www.properati.com.ar/15bob_venta_depart...   \n",
       "\n",
       "                                         description  \\\n",
       "0  2 AMBIENTES TIPO CASA PLANTA BAJA POR PASILLO,...   \n",
       "1  Venta de departamento en décimo piso al frente...   \n",
       "\n",
       "                                               title  \\\n",
       "0                 2 AMB TIPO CASA SIN EXPENSAS EN PB   \n",
       "1  VENTA Depto 2 dorm. a estrenar 7 e/ 36 y 37   ...   \n",
       "\n",
       "                                     image_thumbnail  \n",
       "0  https://thumbs4.properati.com/8/BluUYiHJLhgIIK...  \n",
       "1  https://thumbs4.properati.com/7/ikpVBu2ztHA7jv...  \n",
       "\n",
       "[2 rows x 26 columns]"
      ]
     },
     "execution_count": 4,
     "metadata": {},
     "output_type": "execute_result"
    }
   ],
   "source": [
    "# Visualización de los primeros dos registros del dataset de properatti\n",
    "\n",
    "data.head(2)"
   ]
  },
  {
   "cell_type": "markdown",
   "id": "b09ef0bf",
   "metadata": {},
   "source": [
    "### Eliminación de columnas que no usaremos, registros duplicados y cálculo de valores nulos."
   ]
  },
  {
   "cell_type": "markdown",
   "id": "e82002cb",
   "metadata": {},
   "source": [
    "#### Eliminación de las columnas 'Unnamed: 0', 'properati_url' e 'image_thumbnail'"
   ]
  },
  {
   "cell_type": "code",
   "execution_count": 5,
   "id": "7fb1151c",
   "metadata": {},
   "outputs": [],
   "source": [
    "# Tras una inspección visual de las primeras filas del dataset decidimos sacar tres columnas del dataset las cuales no tendremos en cuenta\n",
    "# para futuros análisis\n",
    "\n",
    "data.drop(columns={'Unnamed: 0','properati_url','image_thumbnail'}, inplace=True)"
   ]
  },
  {
   "cell_type": "code",
   "execution_count": 6,
   "id": "0cb52cc4",
   "metadata": {},
   "outputs": [
    {
     "data": {
      "text/plain": [
       "operation                      object\n",
       "property_type                  object\n",
       "place_name                     object\n",
       "place_with_parent_names        object\n",
       "country_name                   object\n",
       "state_name                     object\n",
       "geonames_id                   float64\n",
       "lat-lon                        object\n",
       "lat                           float64\n",
       "lon                           float64\n",
       "price                         float64\n",
       "currency                       object\n",
       "price_aprox_local_currency    float64\n",
       "price_aprox_usd               float64\n",
       "surface_total_in_m2           float64\n",
       "surface_covered_in_m2         float64\n",
       "price_usd_per_m2              float64\n",
       "price_per_m2                  float64\n",
       "floor                         float64\n",
       "rooms                         float64\n",
       "expenses                      float64\n",
       "description                    object\n",
       "title                          object\n",
       "dtype: object"
      ]
     },
     "execution_count": 6,
     "metadata": {},
     "output_type": "execute_result"
    }
   ],
   "source": [
    "# Revisión del tipo de dato de cada variable\n",
    "\n",
    "data.dtypes"
   ]
  },
  {
   "cell_type": "code",
   "execution_count": 7,
   "id": "c914cdb5",
   "metadata": {},
   "outputs": [
    {
     "data": {
      "text/html": [
       "<div>\n",
       "<style scoped>\n",
       "    .dataframe tbody tr th:only-of-type {\n",
       "        vertical-align: middle;\n",
       "    }\n",
       "\n",
       "    .dataframe tbody tr th {\n",
       "        vertical-align: top;\n",
       "    }\n",
       "\n",
       "    .dataframe thead th {\n",
       "        text-align: right;\n",
       "    }\n",
       "</style>\n",
       "<table border=\"1\" class=\"dataframe\">\n",
       "  <thead>\n",
       "    <tr style=\"text-align: right;\">\n",
       "      <th></th>\n",
       "      <th>geonames_id</th>\n",
       "      <th>lat</th>\n",
       "      <th>lon</th>\n",
       "      <th>price</th>\n",
       "      <th>price_aprox_local_currency</th>\n",
       "      <th>price_aprox_usd</th>\n",
       "      <th>surface_total_in_m2</th>\n",
       "      <th>surface_covered_in_m2</th>\n",
       "      <th>price_usd_per_m2</th>\n",
       "      <th>price_per_m2</th>\n",
       "      <th>floor</th>\n",
       "      <th>rooms</th>\n",
       "      <th>expenses</th>\n",
       "    </tr>\n",
       "  </thead>\n",
       "  <tbody>\n",
       "    <tr>\n",
       "      <th>count</th>\n",
       "      <td>102503.000000</td>\n",
       "      <td>69670.000000</td>\n",
       "      <td>69670.000000</td>\n",
       "      <td>100810.000000</td>\n",
       "      <td>100810.000000</td>\n",
       "      <td>100810.000000</td>\n",
       "      <td>81892.000000</td>\n",
       "      <td>101313.000000</td>\n",
       "      <td>68617.000000</td>\n",
       "      <td>87658.000000</td>\n",
       "      <td>7899.000000</td>\n",
       "      <td>47390.000000</td>\n",
       "      <td>14262.000000</td>\n",
       "    </tr>\n",
       "    <tr>\n",
       "      <th>mean</th>\n",
       "      <td>3574442.317893</td>\n",
       "      <td>-34.626210</td>\n",
       "      <td>-59.266290</td>\n",
       "      <td>468525.925444</td>\n",
       "      <td>4229396.828743</td>\n",
       "      <td>239700.576928</td>\n",
       "      <td>233.795328</td>\n",
       "      <td>133.050181</td>\n",
       "      <td>2160.086916</td>\n",
       "      <td>6912.215705</td>\n",
       "      <td>17.452336</td>\n",
       "      <td>3.080840</td>\n",
       "      <td>5009.234469</td>\n",
       "    </tr>\n",
       "    <tr>\n",
       "      <th>std</th>\n",
       "      <td>354130.624157</td>\n",
       "      <td>1.980936</td>\n",
       "      <td>2.299922</td>\n",
       "      <td>2260100.589128</td>\n",
       "      <td>6904714.125574</td>\n",
       "      <td>391323.875732</td>\n",
       "      <td>1782.222147</td>\n",
       "      <td>724.351479</td>\n",
       "      <td>2759.288621</td>\n",
       "      <td>28378.644734</td>\n",
       "      <td>120.243621</td>\n",
       "      <td>1.860773</td>\n",
       "      <td>120440.255650</td>\n",
       "    </tr>\n",
       "    <tr>\n",
       "      <th>min</th>\n",
       "      <td>3427208.000000</td>\n",
       "      <td>-54.823985</td>\n",
       "      <td>-75.678931</td>\n",
       "      <td>0.000000</td>\n",
       "      <td>0.000000</td>\n",
       "      <td>0.000000</td>\n",
       "      <td>0.000000</td>\n",
       "      <td>0.000000</td>\n",
       "      <td>0.600000</td>\n",
       "      <td>1.510204</td>\n",
       "      <td>1.000000</td>\n",
       "      <td>1.000000</td>\n",
       "      <td>1.000000</td>\n",
       "    </tr>\n",
       "    <tr>\n",
       "      <th>25%</th>\n",
       "      <td>3430234.000000</td>\n",
       "      <td>-34.669065</td>\n",
       "      <td>-58.727040</td>\n",
       "      <td>110000.000000</td>\n",
       "      <td>1583309.440000</td>\n",
       "      <td>89733.880000</td>\n",
       "      <td>50.000000</td>\n",
       "      <td>45.000000</td>\n",
       "      <td>1218.181818</td>\n",
       "      <td>1550.000000</td>\n",
       "      <td>1.000000</td>\n",
       "      <td>2.000000</td>\n",
       "      <td>1000.000000</td>\n",
       "    </tr>\n",
       "    <tr>\n",
       "      <th>50%</th>\n",
       "      <td>3433910.000000</td>\n",
       "      <td>-34.597985</td>\n",
       "      <td>-58.480128</td>\n",
       "      <td>185000.000000</td>\n",
       "      <td>2558452.500000</td>\n",
       "      <td>145000.000000</td>\n",
       "      <td>84.000000</td>\n",
       "      <td>75.000000</td>\n",
       "      <td>1800.000000</td>\n",
       "      <td>2213.114754</td>\n",
       "      <td>3.000000</td>\n",
       "      <td>3.000000</td>\n",
       "      <td>2000.000000</td>\n",
       "    </tr>\n",
       "    <tr>\n",
       "      <th>75%</th>\n",
       "      <td>3836668.000000</td>\n",
       "      <td>-34.441299</td>\n",
       "      <td>-58.395908</td>\n",
       "      <td>420000.000000</td>\n",
       "      <td>4675792.500000</td>\n",
       "      <td>265000.000000</td>\n",
       "      <td>200.000000</td>\n",
       "      <td>150.000000</td>\n",
       "      <td>2486.411765</td>\n",
       "      <td>3355.548611</td>\n",
       "      <td>6.000000</td>\n",
       "      <td>4.000000</td>\n",
       "      <td>4000.000000</td>\n",
       "    </tr>\n",
       "    <tr>\n",
       "      <th>max</th>\n",
       "      <td>6948895.000000</td>\n",
       "      <td>4.545843</td>\n",
       "      <td>-53.733330</td>\n",
       "      <td>650000000.000000</td>\n",
       "      <td>821271104.300000</td>\n",
       "      <td>46545445.000000</td>\n",
       "      <td>200000.000000</td>\n",
       "      <td>187000.000000</td>\n",
       "      <td>206333.333333</td>\n",
       "      <td>3999999.960000</td>\n",
       "      <td>3150.000000</td>\n",
       "      <td>32.000000</td>\n",
       "      <td>10001500.000000</td>\n",
       "    </tr>\n",
       "  </tbody>\n",
       "</table>\n",
       "</div>"
      ],
      "text/plain": [
       "         geonames_id          lat          lon            price  \\\n",
       "count  102503.000000 69670.000000 69670.000000    100810.000000   \n",
       "mean  3574442.317893   -34.626210   -59.266290    468525.925444   \n",
       "std    354130.624157     1.980936     2.299922   2260100.589128   \n",
       "min   3427208.000000   -54.823985   -75.678931         0.000000   \n",
       "25%   3430234.000000   -34.669065   -58.727040    110000.000000   \n",
       "50%   3433910.000000   -34.597985   -58.480128    185000.000000   \n",
       "75%   3836668.000000   -34.441299   -58.395908    420000.000000   \n",
       "max   6948895.000000     4.545843   -53.733330 650000000.000000   \n",
       "\n",
       "       price_aprox_local_currency  price_aprox_usd  surface_total_in_m2  \\\n",
       "count               100810.000000    100810.000000         81892.000000   \n",
       "mean               4229396.828743    239700.576928           233.795328   \n",
       "std                6904714.125574    391323.875732          1782.222147   \n",
       "min                      0.000000         0.000000             0.000000   \n",
       "25%                1583309.440000     89733.880000            50.000000   \n",
       "50%                2558452.500000    145000.000000            84.000000   \n",
       "75%                4675792.500000    265000.000000           200.000000   \n",
       "max              821271104.300000  46545445.000000        200000.000000   \n",
       "\n",
       "       surface_covered_in_m2  price_usd_per_m2   price_per_m2       floor  \\\n",
       "count          101313.000000      68617.000000   87658.000000 7899.000000   \n",
       "mean              133.050181       2160.086916    6912.215705   17.452336   \n",
       "std               724.351479       2759.288621   28378.644734  120.243621   \n",
       "min                 0.000000          0.600000       1.510204    1.000000   \n",
       "25%                45.000000       1218.181818    1550.000000    1.000000   \n",
       "50%                75.000000       1800.000000    2213.114754    3.000000   \n",
       "75%               150.000000       2486.411765    3355.548611    6.000000   \n",
       "max            187000.000000     206333.333333 3999999.960000 3150.000000   \n",
       "\n",
       "             rooms        expenses  \n",
       "count 47390.000000    14262.000000  \n",
       "mean      3.080840     5009.234469  \n",
       "std       1.860773   120440.255650  \n",
       "min       1.000000        1.000000  \n",
       "25%       2.000000     1000.000000  \n",
       "50%       3.000000     2000.000000  \n",
       "75%       4.000000     4000.000000  \n",
       "max      32.000000 10001500.000000  "
      ]
     },
     "execution_count": 7,
     "metadata": {},
     "output_type": "execute_result"
    }
   ],
   "source": [
    "# Hallamos algunas estadísticas de las variables continuas del dataset\n",
    "\n",
    "data.describe()"
   ]
  },
  {
   "cell_type": "markdown",
   "id": "f9ae21e1",
   "metadata": {},
   "source": [
    "#### Eliminación de registros duplicados"
   ]
  },
  {
   "cell_type": "code",
   "execution_count": 8,
   "id": "4ea792a6",
   "metadata": {},
   "outputs": [
    {
     "data": {
      "text/plain": [
       "(116140, 23)"
      ]
     },
     "execution_count": 8,
     "metadata": {},
     "output_type": "execute_result"
    }
   ],
   "source": [
    "# Eliminación de registros duplicados en caso de que existan\n",
    "\n",
    "data.drop_duplicates(inplace=True)\n",
    "\n",
    "# Revisamos el tamaño del dataset después de eliminar los registros duplicados\n",
    "\n",
    "data.shape"
   ]
  },
  {
   "cell_type": "markdown",
   "id": "68eede61",
   "metadata": {},
   "source": [
    "Podemos observar que habían 5080 registros duplicados, ya que la cantidad de filas del dataset original es 121220 y la cantidad de filas eliminando duplicados es 116140."
   ]
  },
  {
   "cell_type": "markdown",
   "id": "d1848a54",
   "metadata": {},
   "source": [
    "#### Valores nulos por cada variable del dataset"
   ]
  },
  {
   "cell_type": "code",
   "execution_count": 9,
   "id": "51b5d3ba",
   "metadata": {},
   "outputs": [
    {
     "data": {
      "text/html": [
       "<div>\n",
       "<style scoped>\n",
       "    .dataframe tbody tr th:only-of-type {\n",
       "        vertical-align: middle;\n",
       "    }\n",
       "\n",
       "    .dataframe tbody tr th {\n",
       "        vertical-align: top;\n",
       "    }\n",
       "\n",
       "    .dataframe thead th {\n",
       "        text-align: right;\n",
       "    }\n",
       "</style>\n",
       "<table border=\"1\" class=\"dataframe\">\n",
       "  <thead>\n",
       "    <tr style=\"text-align: right;\">\n",
       "      <th></th>\n",
       "      <th>cant_nulos</th>\n",
       "      <th>porcentaje_nulos</th>\n",
       "    </tr>\n",
       "  </thead>\n",
       "  <tbody>\n",
       "    <tr>\n",
       "      <th>operation</th>\n",
       "      <td>0</td>\n",
       "      <td>0.000000</td>\n",
       "    </tr>\n",
       "    <tr>\n",
       "      <th>property_type</th>\n",
       "      <td>0</td>\n",
       "      <td>0.000000</td>\n",
       "    </tr>\n",
       "    <tr>\n",
       "      <th>place_name</th>\n",
       "      <td>23</td>\n",
       "      <td>0.000198</td>\n",
       "    </tr>\n",
       "    <tr>\n",
       "      <th>place_with_parent_names</th>\n",
       "      <td>0</td>\n",
       "      <td>0.000000</td>\n",
       "    </tr>\n",
       "    <tr>\n",
       "      <th>country_name</th>\n",
       "      <td>0</td>\n",
       "      <td>0.000000</td>\n",
       "    </tr>\n",
       "    <tr>\n",
       "      <th>state_name</th>\n",
       "      <td>0</td>\n",
       "      <td>0.000000</td>\n",
       "    </tr>\n",
       "    <tr>\n",
       "      <th>geonames_id</th>\n",
       "      <td>18180</td>\n",
       "      <td>0.156535</td>\n",
       "    </tr>\n",
       "    <tr>\n",
       "      <th>lat-lon</th>\n",
       "      <td>48289</td>\n",
       "      <td>0.415783</td>\n",
       "    </tr>\n",
       "    <tr>\n",
       "      <th>lat</th>\n",
       "      <td>48289</td>\n",
       "      <td>0.415783</td>\n",
       "    </tr>\n",
       "    <tr>\n",
       "      <th>lon</th>\n",
       "      <td>48289</td>\n",
       "      <td>0.415783</td>\n",
       "    </tr>\n",
       "    <tr>\n",
       "      <th>price</th>\n",
       "      <td>17556</td>\n",
       "      <td>0.151162</td>\n",
       "    </tr>\n",
       "    <tr>\n",
       "      <th>currency</th>\n",
       "      <td>17557</td>\n",
       "      <td>0.151171</td>\n",
       "    </tr>\n",
       "    <tr>\n",
       "      <th>price_aprox_local_currency</th>\n",
       "      <td>17556</td>\n",
       "      <td>0.151162</td>\n",
       "    </tr>\n",
       "    <tr>\n",
       "      <th>price_aprox_usd</th>\n",
       "      <td>17556</td>\n",
       "      <td>0.151162</td>\n",
       "    </tr>\n",
       "    <tr>\n",
       "      <th>surface_total_in_m2</th>\n",
       "      <td>38378</td>\n",
       "      <td>0.330446</td>\n",
       "    </tr>\n",
       "    <tr>\n",
       "      <th>surface_covered_in_m2</th>\n",
       "      <td>18853</td>\n",
       "      <td>0.162330</td>\n",
       "    </tr>\n",
       "    <tr>\n",
       "      <th>price_usd_per_m2</th>\n",
       "      <td>49289</td>\n",
       "      <td>0.424393</td>\n",
       "    </tr>\n",
       "    <tr>\n",
       "      <th>price_per_m2</th>\n",
       "      <td>30443</td>\n",
       "      <td>0.262123</td>\n",
       "    </tr>\n",
       "    <tr>\n",
       "      <th>floor</th>\n",
       "      <td>108481</td>\n",
       "      <td>0.934054</td>\n",
       "    </tr>\n",
       "    <tr>\n",
       "      <th>rooms</th>\n",
       "      <td>69941</td>\n",
       "      <td>0.602213</td>\n",
       "    </tr>\n",
       "    <tr>\n",
       "      <th>expenses</th>\n",
       "      <td>102055</td>\n",
       "      <td>0.878724</td>\n",
       "    </tr>\n",
       "    <tr>\n",
       "      <th>description</th>\n",
       "      <td>2</td>\n",
       "      <td>0.000017</td>\n",
       "    </tr>\n",
       "    <tr>\n",
       "      <th>title</th>\n",
       "      <td>0</td>\n",
       "      <td>0.000000</td>\n",
       "    </tr>\n",
       "  </tbody>\n",
       "</table>\n",
       "</div>"
      ],
      "text/plain": [
       "                            cant_nulos  porcentaje_nulos\n",
       "operation                            0          0.000000\n",
       "property_type                        0          0.000000\n",
       "place_name                          23          0.000198\n",
       "place_with_parent_names              0          0.000000\n",
       "country_name                         0          0.000000\n",
       "state_name                           0          0.000000\n",
       "geonames_id                      18180          0.156535\n",
       "lat-lon                          48289          0.415783\n",
       "lat                              48289          0.415783\n",
       "lon                              48289          0.415783\n",
       "price                            17556          0.151162\n",
       "currency                         17557          0.151171\n",
       "price_aprox_local_currency       17556          0.151162\n",
       "price_aprox_usd                  17556          0.151162\n",
       "surface_total_in_m2              38378          0.330446\n",
       "surface_covered_in_m2            18853          0.162330\n",
       "price_usd_per_m2                 49289          0.424393\n",
       "price_per_m2                     30443          0.262123\n",
       "floor                           108481          0.934054\n",
       "rooms                            69941          0.602213\n",
       "expenses                        102055          0.878724\n",
       "description                          2          0.000017\n",
       "title                                0          0.000000"
      ]
     },
     "execution_count": 9,
     "metadata": {},
     "output_type": "execute_result"
    }
   ],
   "source": [
    "# Chequeamos la cantidad de valores nulos para cada variable del dataset\n",
    "\n",
    "val_nulos_inicial = pd.DataFrame(data.isnull().sum(), columns=['cant_nulos'])\n",
    "\n",
    "val_nulos_inicial['porcentaje_nulos'] = val_nulos_inicial['cant_nulos']/data.shape[0]\n",
    "val_nulos_inicial"
   ]
  },
  {
   "cell_type": "markdown",
   "id": "498f9623",
   "metadata": {},
   "source": [
    "Observamos que columnas como 'floor', 'rooms' y 'expenses' son las columnas que mayor cantidad de valores nulos tienen, con porcentajes que van desde el 60% al 94%."
   ]
  },
  {
   "cell_type": "markdown",
   "id": "1bcc7f9c",
   "metadata": {},
   "source": [
    "### Imputación de valores nulos en variables de interés en el dataset"
   ]
  },
  {
   "cell_type": "markdown",
   "id": "45dfb26a",
   "metadata": {},
   "source": [
    "#### Variable place_name"
   ]
  },
  {
   "cell_type": "code",
   "execution_count": 10,
   "id": "61b974cc",
   "metadata": {},
   "outputs": [
    {
     "data": {
      "text/plain": [
       "23"
      ]
     },
     "execution_count": 10,
     "metadata": {},
     "output_type": "execute_result"
    }
   ],
   "source": [
    "# Cantidad de valores nulos\n",
    "\n",
    "data['place_name'].isnull().sum()"
   ]
  },
  {
   "cell_type": "code",
   "execution_count": 11,
   "id": "4ce5a837",
   "metadata": {},
   "outputs": [],
   "source": [
    "# Imputamos valores nulos apoyándonos en la columna 'place_with_parent_names'\n",
    "\n",
    "filtro = data['place_name'].isnull()\n",
    "data.loc[filtro,'place_name'] = data.loc[filtro, 'place_with_parent_names'].apply(lambda x: x.split('|')[3])"
   ]
  },
  {
   "cell_type": "code",
   "execution_count": 12,
   "id": "4bf313b8",
   "metadata": {},
   "outputs": [
    {
     "data": {
      "text/plain": [
       "0"
      ]
     },
     "execution_count": 12,
     "metadata": {},
     "output_type": "execute_result"
    }
   ],
   "source": [
    "# Verificamos la cantidad de valores nulos después de realizar la imputación\n",
    "\n",
    "data['place_name'].isnull().sum()"
   ]
  },
  {
   "cell_type": "markdown",
   "id": "e1ae478d",
   "metadata": {},
   "source": [
    "#### Variable geonames_id"
   ]
  },
  {
   "cell_type": "code",
   "execution_count": 13,
   "id": "13d8e799",
   "metadata": {},
   "outputs": [
    {
     "data": {
      "text/plain": [
       "18180"
      ]
     },
     "execution_count": 13,
     "metadata": {},
     "output_type": "execute_result"
    }
   ],
   "source": [
    "# Cantidad de valores nulos\n",
    "\n",
    "data['geonames_id'].isnull().sum()"
   ]
  },
  {
   "cell_type": "code",
   "execution_count": 14,
   "id": "6f2635c8",
   "metadata": {},
   "outputs": [
    {
     "data": {
      "text/html": [
       "<div>\n",
       "<style scoped>\n",
       "    .dataframe tbody tr th:only-of-type {\n",
       "        vertical-align: middle;\n",
       "    }\n",
       "\n",
       "    .dataframe tbody tr th {\n",
       "        vertical-align: top;\n",
       "    }\n",
       "\n",
       "    .dataframe thead th {\n",
       "        text-align: right;\n",
       "    }\n",
       "</style>\n",
       "<table border=\"1\" class=\"dataframe\">\n",
       "  <thead>\n",
       "    <tr style=\"text-align: right;\">\n",
       "      <th></th>\n",
       "      <th>geonames_id</th>\n",
       "      <th>place_name</th>\n",
       "      <th>count</th>\n",
       "    </tr>\n",
       "  </thead>\n",
       "  <tbody>\n",
       "    <tr>\n",
       "      <th>0</th>\n",
       "      <td>3427208.000000</td>\n",
       "      <td>Zelaya</td>\n",
       "      <td>7</td>\n",
       "    </tr>\n",
       "    <tr>\n",
       "      <th>1</th>\n",
       "      <td>3427212.000000</td>\n",
       "      <td>Zárate</td>\n",
       "      <td>8</td>\n",
       "    </tr>\n",
       "    <tr>\n",
       "      <th>2</th>\n",
       "      <td>3427326.000000</td>\n",
       "      <td>Wilde</td>\n",
       "      <td>139</td>\n",
       "    </tr>\n",
       "    <tr>\n",
       "      <th>3</th>\n",
       "      <td>3427354.000000</td>\n",
       "      <td>Virreyes</td>\n",
       "      <td>39</td>\n",
       "    </tr>\n",
       "    <tr>\n",
       "      <th>4</th>\n",
       "      <td>3427366.000000</td>\n",
       "      <td>Villa Soldati</td>\n",
       "      <td>15</td>\n",
       "    </tr>\n",
       "    <tr>\n",
       "      <th>...</th>\n",
       "      <td>...</td>\n",
       "      <td>...</td>\n",
       "      <td>...</td>\n",
       "    </tr>\n",
       "    <tr>\n",
       "      <th>649</th>\n",
       "      <td>6693230.000000</td>\n",
       "      <td>Villa Santa Rita</td>\n",
       "      <td>57</td>\n",
       "    </tr>\n",
       "    <tr>\n",
       "      <th>650</th>\n",
       "      <td>6942538.000000</td>\n",
       "      <td>Costa del Este</td>\n",
       "      <td>16</td>\n",
       "    </tr>\n",
       "    <tr>\n",
       "      <th>651</th>\n",
       "      <td>6942539.000000</td>\n",
       "      <td>Aguas Verdes</td>\n",
       "      <td>15</td>\n",
       "    </tr>\n",
       "    <tr>\n",
       "      <th>652</th>\n",
       "      <td>6942842.000000</td>\n",
       "      <td>Bella Italia</td>\n",
       "      <td>2</td>\n",
       "    </tr>\n",
       "    <tr>\n",
       "      <th>653</th>\n",
       "      <td>6948895.000000</td>\n",
       "      <td>La Cumbrecita</td>\n",
       "      <td>2</td>\n",
       "    </tr>\n",
       "  </tbody>\n",
       "</table>\n",
       "<p>654 rows × 3 columns</p>\n",
       "</div>"
      ],
      "text/plain": [
       "       geonames_id        place_name  count\n",
       "0   3427208.000000            Zelaya      7\n",
       "1   3427212.000000            Zárate      8\n",
       "2   3427326.000000             Wilde    139\n",
       "3   3427354.000000          Virreyes     39\n",
       "4   3427366.000000     Villa Soldati     15\n",
       "..             ...               ...    ...\n",
       "649 6693230.000000  Villa Santa Rita     57\n",
       "650 6942538.000000    Costa del Este     16\n",
       "651 6942539.000000      Aguas Verdes     15\n",
       "652 6942842.000000      Bella Italia      2\n",
       "653 6948895.000000     La Cumbrecita      2\n",
       "\n",
       "[654 rows x 3 columns]"
      ]
     },
     "execution_count": 14,
     "metadata": {},
     "output_type": "execute_result"
    }
   ],
   "source": [
    "# Exploramos el conteo de registros por cada combinación 'geonames_id' con 'place_name'\n",
    "\n",
    "analisis_geonames_id = data.groupby(['geonames_id','place_name']).agg({'operation':['count']}).sort_values(('geonames_id'))\n",
    "analisis_geonames_id.columns = analisis_geonames_id.columns.droplevel(level=0)\n",
    "analisis_geonames_id.reset_index(col_level=1, inplace=True)\n",
    "analisis_geonames_id"
   ]
  },
  {
   "cell_type": "markdown",
   "id": "5a6b9acd",
   "metadata": {},
   "source": [
    "Se presentan repeticiones para cada combinación, un indicio de la relación entre 'place_name' y 'geonames_id'"
   ]
  },
  {
   "cell_type": "code",
   "execution_count": 15,
   "id": "336016a8",
   "metadata": {},
   "outputs": [
    {
     "data": {
      "text/html": [
       "<div>\n",
       "<style scoped>\n",
       "    .dataframe tbody tr th:only-of-type {\n",
       "        vertical-align: middle;\n",
       "    }\n",
       "\n",
       "    .dataframe tbody tr th {\n",
       "        vertical-align: top;\n",
       "    }\n",
       "\n",
       "    .dataframe thead th {\n",
       "        text-align: right;\n",
       "    }\n",
       "</style>\n",
       "<table border=\"1\" class=\"dataframe\">\n",
       "  <thead>\n",
       "    <tr style=\"text-align: right;\">\n",
       "      <th></th>\n",
       "      <th>geonames_id</th>\n",
       "      <th>place_name</th>\n",
       "      <th>count</th>\n",
       "    </tr>\n",
       "  </thead>\n",
       "  <tbody>\n",
       "    <tr>\n",
       "      <th>59</th>\n",
       "      <td>3428927.000000</td>\n",
       "      <td>San José</td>\n",
       "      <td>10</td>\n",
       "    </tr>\n",
       "    <tr>\n",
       "      <th>60</th>\n",
       "      <td>3428927.000000</td>\n",
       "      <td>San Jose</td>\n",
       "      <td>5</td>\n",
       "    </tr>\n",
       "    <tr>\n",
       "      <th>109</th>\n",
       "      <td>3430234.000000</td>\n",
       "      <td>Palermo Soho</td>\n",
       "      <td>383</td>\n",
       "    </tr>\n",
       "    <tr>\n",
       "      <th>110</th>\n",
       "      <td>3430234.000000</td>\n",
       "      <td>Palermo</td>\n",
       "      <td>2741</td>\n",
       "    </tr>\n",
       "    <tr>\n",
       "      <th>180</th>\n",
       "      <td>3433359.000000</td>\n",
       "      <td>Ituzaingó</td>\n",
       "      <td>818</td>\n",
       "    </tr>\n",
       "    <tr>\n",
       "      <th>181</th>\n",
       "      <td>3433359.000000</td>\n",
       "      <td>Villa Udaondo</td>\n",
       "      <td>25</td>\n",
       "    </tr>\n",
       "    <tr>\n",
       "      <th>247</th>\n",
       "      <td>3435548.000000</td>\n",
       "      <td>Centro</td>\n",
       "      <td>229</td>\n",
       "    </tr>\n",
       "    <tr>\n",
       "      <th>248</th>\n",
       "      <td>3435548.000000</td>\n",
       "      <td>Centro / Microcentro</td>\n",
       "      <td>221</td>\n",
       "    </tr>\n",
       "    <tr>\n",
       "      <th>263</th>\n",
       "      <td>3435907.000000</td>\n",
       "      <td>Buenos Aires Interior</td>\n",
       "      <td>106</td>\n",
       "    </tr>\n",
       "    <tr>\n",
       "      <th>264</th>\n",
       "      <td>3435907.000000</td>\n",
       "      <td>Buenos Aires Costa Atlántica</td>\n",
       "      <td>27</td>\n",
       "    </tr>\n",
       "    <tr>\n",
       "      <th>265</th>\n",
       "      <td>3435907.000000</td>\n",
       "      <td>Bs.As. G.B.A. Zona Oeste</td>\n",
       "      <td>64</td>\n",
       "    </tr>\n",
       "    <tr>\n",
       "      <th>266</th>\n",
       "      <td>3435907.000000</td>\n",
       "      <td>Bs.As. G.B.A. Zona Norte</td>\n",
       "      <td>221</td>\n",
       "    </tr>\n",
       "    <tr>\n",
       "      <th>267</th>\n",
       "      <td>3435907.000000</td>\n",
       "      <td>Bs.As. G.B.A. Zona Sur</td>\n",
       "      <td>24</td>\n",
       "    </tr>\n",
       "  </tbody>\n",
       "</table>\n",
       "</div>"
      ],
      "text/plain": [
       "       geonames_id                    place_name  count\n",
       "59  3428927.000000                      San José     10\n",
       "60  3428927.000000                      San Jose      5\n",
       "109 3430234.000000                  Palermo Soho    383\n",
       "110 3430234.000000                       Palermo   2741\n",
       "180 3433359.000000                     Ituzaingó    818\n",
       "181 3433359.000000                 Villa Udaondo     25\n",
       "247 3435548.000000                        Centro    229\n",
       "248 3435548.000000          Centro / Microcentro    221\n",
       "263 3435907.000000         Buenos Aires Interior    106\n",
       "264 3435907.000000  Buenos Aires Costa Atlántica     27\n",
       "265 3435907.000000      Bs.As. G.B.A. Zona Oeste     64\n",
       "266 3435907.000000      Bs.As. G.B.A. Zona Norte    221\n",
       "267 3435907.000000        Bs.As. G.B.A. Zona Sur     24"
      ]
     },
     "execution_count": 15,
     "metadata": {},
     "output_type": "execute_result"
    }
   ],
   "source": [
    "# Exploramos geonames_id repetidos con diferente place_name\n",
    "\n",
    "geonames_id_dupli = analisis_geonames_id.loc[analisis_geonames_id['geonames_id'].duplicated(), 'geonames_id']\n",
    "analisis_geonames_id.loc[analisis_geonames_id['geonames_id'].isin(geonames_id_dupli)]"
   ]
  },
  {
   "cell_type": "code",
   "execution_count": 16,
   "id": "84a8b292",
   "metadata": {},
   "outputs": [],
   "source": [
    "# Unificamos valores de place_name que están escritos de formas diferentes, por tildes o formas diferentes de indicar el mismo lugar\n",
    "\n",
    "data.loc[:,'place_name'] = data.loc[:,'place_name'].replace({'San José':'San Jose',\n",
    "                                                            'Palermo Soho':'Palermo',\n",
    "                                                            'Villa Udaondo':'Ituzaingó',\n",
    "                                                            'Centro/Microcentro':'Centro'\n",
    "                                                            }) "
   ]
  },
  {
   "cell_type": "code",
   "execution_count": 17,
   "id": "e6ca34e8",
   "metadata": {},
   "outputs": [],
   "source": [
    "# Ahora nos apoyamos en la columna 'place_with_parent_names' para corregir 'place_name' y volver a mapear el valor de geonames_id \n",
    "# correspondiente\n",
    "\n",
    "filtro = data['geonames_id'].isnull()\n",
    "data.loc[filtro, 'place_name'] = data.loc[filtro, 'place_with_parent_names'].apply(lambda x: x.split('|')[3])"
   ]
  },
  {
   "cell_type": "code",
   "execution_count": 18,
   "id": "70b934a2",
   "metadata": {},
   "outputs": [
    {
     "data": {
      "text/html": [
       "<div>\n",
       "<style scoped>\n",
       "    .dataframe tbody tr th:only-of-type {\n",
       "        vertical-align: middle;\n",
       "    }\n",
       "\n",
       "    .dataframe tbody tr th {\n",
       "        vertical-align: top;\n",
       "    }\n",
       "\n",
       "    .dataframe thead th {\n",
       "        text-align: right;\n",
       "    }\n",
       "</style>\n",
       "<table border=\"1\" class=\"dataframe\">\n",
       "  <thead>\n",
       "    <tr style=\"text-align: right;\">\n",
       "      <th></th>\n",
       "      <th>place_name</th>\n",
       "      <th>geonames_id_2</th>\n",
       "    </tr>\n",
       "  </thead>\n",
       "  <tbody>\n",
       "    <tr>\n",
       "      <th>0</th>\n",
       "      <td></td>\n",
       "      <td>nan</td>\n",
       "    </tr>\n",
       "    <tr>\n",
       "      <th>1</th>\n",
       "      <td>Abasto</td>\n",
       "      <td>3436521.000000</td>\n",
       "    </tr>\n",
       "    <tr>\n",
       "      <th>2</th>\n",
       "      <td>Acassuso</td>\n",
       "      <td>3436508.000000</td>\n",
       "    </tr>\n",
       "    <tr>\n",
       "      <th>3</th>\n",
       "      <td>Achiras</td>\n",
       "      <td>3866959.000000</td>\n",
       "    </tr>\n",
       "    <tr>\n",
       "      <th>4</th>\n",
       "      <td>Adolfo Alsina</td>\n",
       "      <td>3866926.000000</td>\n",
       "    </tr>\n",
       "  </tbody>\n",
       "</table>\n",
       "</div>"
      ],
      "text/plain": [
       "      place_name  geonames_id_2\n",
       "0                           nan\n",
       "1         Abasto 3436521.000000\n",
       "2       Acassuso 3436508.000000\n",
       "3        Achiras 3866959.000000\n",
       "4  Adolfo Alsina 3866926.000000"
      ]
     },
     "execution_count": 18,
     "metadata": {},
     "output_type": "execute_result"
    }
   ],
   "source": [
    "# Creamos una tabla en la que para cada place_name tengamos un único valor de geonames_id\n",
    "\n",
    "place_name_geonames_id = data.groupby('place_name').agg({'geonames_id':['max']}).reset_index()\n",
    "place_name_geonames_id.columns = place_name_geonames_id.columns.droplevel(level=1)\n",
    "place_name_geonames_id.rename(columns={'geonames_id':'geonames_id_2'}, inplace=True)\n",
    "place_name_geonames_id.head()"
   ]
  },
  {
   "cell_type": "code",
   "execution_count": 19,
   "id": "352f5938",
   "metadata": {},
   "outputs": [],
   "source": [
    "# Ya que hemos corregido los valores de place_name en los registros donde geonames_id tiene valores nulos, haremos un merge con la\n",
    "# tabla creada en el paso anterior, generando una columna nueva de geoname_id, la cual nos servirá para imputar los valores nulos\n",
    "\n",
    "# Realizamos el merge con la tabla que tiene una combinación única de place_name, geonames_id\n",
    "data=data.merge(place_name_geonames_id, on='place_name', how='left')\n",
    "filtro = data['geonames_id'].isnull()\n",
    "# Imputamos valores nulos\n",
    "data.loc[filtro,'geonames_id'] = data.loc[filtro,'geonames_id_2']"
   ]
  },
  {
   "cell_type": "code",
   "execution_count": 20,
   "id": "9a0d51b8",
   "metadata": {},
   "outputs": [],
   "source": [
    "# Eliminamos la columna geonames_id_2\n",
    "data.drop('geonames_id_2', inplace=True, axis=1)"
   ]
  },
  {
   "cell_type": "code",
   "execution_count": 21,
   "id": "4dbf297c",
   "metadata": {},
   "outputs": [
    {
     "data": {
      "text/plain": [
       "1910"
      ]
     },
     "execution_count": 21,
     "metadata": {},
     "output_type": "execute_result"
    }
   ],
   "source": [
    "# Verificamos la cantidad final de valores nulos en la columna geonames_id\n",
    "data.loc[:,'geonames_id'].isnull().sum()"
   ]
  },
  {
   "cell_type": "markdown",
   "id": "b4128321",
   "metadata": {},
   "source": [
    "#### Variables lat-lon, lat, lon"
   ]
  },
  {
   "cell_type": "code",
   "execution_count": 22,
   "id": "2b8a3d2f",
   "metadata": {},
   "outputs": [
    {
     "data": {
      "text/plain": [
       "lat-lon    48289\n",
       "lat        48289\n",
       "lon        48289\n",
       "dtype: int64"
      ]
     },
     "execution_count": 22,
     "metadata": {},
     "output_type": "execute_result"
    }
   ],
   "source": [
    "# Cantidad de valores nulos\n",
    "\n",
    "data.loc[:, ['lat-lon', 'lat', 'lon']].isnull().sum()"
   ]
  },
  {
   "cell_type": "code",
   "execution_count": 23,
   "id": "5d7e779a",
   "metadata": {},
   "outputs": [
    {
     "name": "stdout",
     "output_type": "stream",
     "text": [
      "La proporción de data consistente en la columna lat y lon es 1.0 y 1.0 respectivamente\n"
     ]
    }
   ],
   "source": [
    "# Verificamos la consistencia entre los valores la columna lat-lon y lat, lon por separado.\n",
    "\n",
    "# Al hacer un split(',') sobre la columna 'lat-lon' podemos comparar lo obtenido con las columnas 'lat' y 'lon' por separado verificando\n",
    "# consistencia en la data. Aquí damos una tolerancia de +/-0.000001 por redondeos\n",
    "test=data.loc[data['lat-lon'].notnull()]\n",
    "prop_lat_consistente = ((test['lat-lon'].apply(lambda x: float(str(x).split(',')[0]))-0.000001<=test['lat']) &\n",
    "       (test['lat']<=test['lat-lon'].apply(lambda x: float(str(x).split(',')[0]))+0.000001)).mean()\n",
    "prop_lon_consistente = ((test['lat-lon'].apply(lambda x: float(str(x).split(',')[1]))-0.000001<=test['lon']) &\n",
    "       (test['lon']<=test['lat-lon'].apply(lambda x: float(str(x).split(',')[1]))+0.000001)).mean()\n",
    "\n",
    "print(f'La proporción de data consistente en la columna lat y lon es {prop_lat_consistente} y {prop_lon_consistente} respectivamente')"
   ]
  },
  {
   "cell_type": "markdown",
   "id": "c34c9371",
   "metadata": {},
   "source": [
    "Podemos estar seguros que la información para aquellos registros donde tenemos valores no nulos es consistente"
   ]
  },
  {
   "cell_type": "markdown",
   "id": "8ed68379",
   "metadata": {},
   "source": [
    "* Realizaremos una búsqueda de información relativa a la latitud y la longitud en la columna 'description'"
   ]
  },
  {
   "cell_type": "code",
   "execution_count": 24,
   "id": "ab5228d6",
   "metadata": {},
   "outputs": [],
   "source": [
    "# Explorar la columna 'description' es busca de 'lat'\n",
    "\n",
    "import re\n",
    "coincidencias = data['description'].apply(lambda x: re.search('^lat',str(x)))"
   ]
  },
  {
   "cell_type": "code",
   "execution_count": 25,
   "id": "9e7602d9",
   "metadata": {},
   "outputs": [
    {
     "data": {
      "text/plain": [
       "0.0"
      ]
     },
     "execution_count": 25,
     "metadata": {},
     "output_type": "execute_result"
    }
   ],
   "source": [
    "# Verificamos la proporción de registros en los que hay palabras que comiencen por 'lat'\n",
    "\n",
    "(coincidencias.values!=None).mean()"
   ]
  },
  {
   "cell_type": "code",
   "execution_count": 26,
   "id": "05f6d1db",
   "metadata": {},
   "outputs": [],
   "source": [
    "# Explorar la columna 'description' es busca de 'lon'\n",
    "\n",
    "import re\n",
    "coincidencias = data['description'].apply(lambda x: re.search('^lon',str(x)))"
   ]
  },
  {
   "cell_type": "code",
   "execution_count": 27,
   "id": "ace1c6aa",
   "metadata": {},
   "outputs": [
    {
     "data": {
      "text/plain": [
       "0.0"
      ]
     },
     "execution_count": 27,
     "metadata": {},
     "output_type": "execute_result"
    }
   ],
   "source": [
    "# Verificamos la proporción de registros en los que hay palabras que comiencen por 'lon'\n",
    "\n",
    "(coincidencias.values!=None).mean()"
   ]
  },
  {
   "cell_type": "markdown",
   "id": "41e3b60e",
   "metadata": {},
   "source": [
    "**Conclusiones columnas lat-lot, lat y lot**\n",
    "\n",
    "* La columna description no es útil para realizar imputación de datos relativa a latitud y longitud\n",
    "* No realizaremos imputación de estos datos a partir del promedio de coordenadas agrupando por las columnas place_name o geonames_id ya que creemos que la combinación del poder predictivo al focalizar primero un place_name y de forma más detallada las coordenadas de un inmueble es muy valiosa y no vale la pena un método de imputación con bajo estas condiciones."
   ]
  },
  {
   "cell_type": "markdown",
   "id": "92bd8dc5",
   "metadata": {},
   "source": [
    "#### Variables surface_total_in_m2 / surface_covered_in_m2"
   ]
  },
  {
   "cell_type": "code",
   "execution_count": 28,
   "id": "c9625c75",
   "metadata": {},
   "outputs": [
    {
     "data": {
      "text/plain": [
       "surface_total_in_m2      38378\n",
       "surface_covered_in_m2    18853\n",
       "dtype: int64"
      ]
     },
     "execution_count": 28,
     "metadata": {},
     "output_type": "execute_result"
    }
   ],
   "source": [
    "# Cantidad de valores nulos \n",
    "\n",
    "data.loc[:,['surface_total_in_m2', 'surface_covered_in_m2']].isnull().sum()"
   ]
  },
  {
   "cell_type": "code",
   "execution_count": null,
   "id": "81fff27c",
   "metadata": {},
   "outputs": [],
   "source": []
  },
  {
   "cell_type": "markdown",
   "id": "4be8303f",
   "metadata": {},
   "source": [
    "##### Imputación de superficie total y cubierta con regex"
   ]
  },
  {
   "cell_type": "code",
   "execution_count": null,
   "id": "3269f407",
   "metadata": {},
   "outputs": [],
   "source": []
  },
  {
   "cell_type": "code",
   "execution_count": 29,
   "id": "05e0dde2",
   "metadata": {},
   "outputs": [],
   "source": [
    "# Extracción de superficie total descripcion\n",
    "patron=\"(tot[a-zA-Z\\s:]*)(?P<sup>\\d+)(\\s?(m2|m.*))\"\n",
    "sup_tot=re.compile(patron,flags = re.IGNORECASE)\n",
    "resultado=data.description.apply(lambda x: x if x is np.NaN else sup_tot.search(x))\n",
    "data[\"r_sup_tot\"]=resultado[resultado.notnull()].apply(lambda x: x.group(\"sup\"))"
   ]
  },
  {
   "cell_type": "code",
   "execution_count": 30,
   "id": "fa8047cc",
   "metadata": {},
   "outputs": [
    {
     "data": {
      "text/plain": [
       "3557"
      ]
     },
     "execution_count": 30,
     "metadata": {},
     "output_type": "execute_result"
    }
   ],
   "source": [
    "# Paso del valor anterior a numero\n",
    "data.loc[:,'r_sup_tot']=data.r_sup_tot.replace('.','')\n",
    "data.loc[:,'r_sup_tot']=data.r_sup_tot.astype(float)\n",
    "data['r_sup_tot'].notnull().sum()"
   ]
  },
  {
   "cell_type": "code",
   "execution_count": 31,
   "id": "0743e7e3",
   "metadata": {},
   "outputs": [],
   "source": [
    "# Por si el paso anterior no funciona, extraigo la siguiente superficie total de la descripcion\n",
    "patron=\"(?P<sup2>\\d+)(\\s?(m2|mt)\\s?)(tot[a-zA-Z\\s:]*)\"\n",
    "sup_tot=re.compile(patron,flags = re.IGNORECASE)\n",
    "resultado=data.description.apply(lambda x: x if x is np.NaN else sup_tot.search(x))\n",
    "data.loc[:,\"r_sup_tot2\"]=resultado[resultado.notnull()].apply(lambda x: x.group(\"sup2\"))"
   ]
  },
  {
   "cell_type": "code",
   "execution_count": 32,
   "id": "7bde6a78",
   "metadata": {},
   "outputs": [
    {
     "data": {
      "text/plain": [
       "1912"
      ]
     },
     "execution_count": 32,
     "metadata": {},
     "output_type": "execute_result"
    }
   ],
   "source": [
    "# Paso el valor anterior a numero\n",
    "data.loc[:,'r_sup_tot2']=data.r_sup_tot2.replace('.','')\n",
    "data.loc[:,'r_sup_tot2']=data.r_sup_tot2.astype(float)\n",
    "data['r_sup_tot2'].notnull().sum()"
   ]
  },
  {
   "cell_type": "code",
   "execution_count": 33,
   "id": "ad3c837c",
   "metadata": {},
   "outputs": [],
   "source": [
    "# Extracción de superficie cubierta descripcion\n",
    "patron=\"(cub[a-zA-Z\\s:]*)(?P<cub>\\d+)(\\s?(m2|m.*))\"\n",
    "sup_tot=re.compile(patron,flags = re.IGNORECASE)\n",
    "resultado=data.description.apply(lambda x: x if x is np.NaN else sup_tot.search(x))\n",
    "data[\"r_sup_cub\"]=resultado[resultado.notnull()].apply(lambda x: x.group(\"cub\"))"
   ]
  },
  {
   "cell_type": "code",
   "execution_count": 34,
   "id": "ace608e3",
   "metadata": {},
   "outputs": [
    {
     "data": {
      "text/plain": [
       "5535"
      ]
     },
     "execution_count": 34,
     "metadata": {},
     "output_type": "execute_result"
    }
   ],
   "source": [
    "# Paso el valor anterior a numero\n",
    "data.loc[:,'r_sup_cub']=data.r_sup_cub.replace('.','')\n",
    "data.loc[:,'r_sup_cub']=data.r_sup_cub.astype(float)\n",
    "data['r_sup_cub'].notnull().sum()"
   ]
  },
  {
   "cell_type": "code",
   "execution_count": 35,
   "id": "7eff743b",
   "metadata": {},
   "outputs": [],
   "source": [
    "# Por si el paso anterior no funciona, extraigo la siguiente superficie cubierta de la descripcion\n",
    "patron=\"(?P<cub2>\\d+)(\\s?(m2|mt)\\s?)(cub[a-zA-Z\\s:]*)\"\n",
    "sup_tot=re.compile(patron,flags = re.IGNORECASE)\n",
    "resultado=data.description.apply(lambda x: x if x is np.NaN else sup_tot.search(x))\n",
    "data.loc[:,\"r_sup_cub2\"]=resultado[resultado.notnull()].apply(lambda x: x.group(\"cub2\"))"
   ]
  },
  {
   "cell_type": "code",
   "execution_count": 36,
   "id": "45c03ecc",
   "metadata": {},
   "outputs": [
    {
     "data": {
      "text/plain": [
       "4305"
      ]
     },
     "execution_count": 36,
     "metadata": {},
     "output_type": "execute_result"
    }
   ],
   "source": [
    "# Paso el valor anterior a numero\n",
    "data.loc[:,'r_sup_cub2']=data.r_sup_cub2.replace('.','')\n",
    "data.loc[:,'r_sup_cub2']=data.r_sup_cub2.astype(float)\n",
    "data['r_sup_cub2'].notnull().sum()"
   ]
  },
  {
   "cell_type": "code",
   "execution_count": 37,
   "id": "8fa2c65b",
   "metadata": {},
   "outputs": [],
   "source": [
    "#reemplazo superficie total nula con superficie total que extraje del titulo si condiciones\n",
    "data.loc[:,'surface_total_in_m2'] = np.where((data['surface_total_in_m2'].isnull()) &\n",
    "                                             (data['r_sup_tot']>10),data['r_sup_tot'],data['surface_total_in_m2'])"
   ]
  },
  {
   "cell_type": "code",
   "execution_count": 38,
   "id": "f75b54db",
   "metadata": {},
   "outputs": [],
   "source": [
    "#reemplazo superficie total nula con superficie total 2 que extraje del titulo si condiciones\n",
    "data.loc[:,'surface_total_in_m2'] = np.where((data['surface_total_in_m2'].isnull()) &\n",
    "                                             (data['r_sup_tot'].isnull()) &\n",
    "                                             (data['r_sup_tot2']>10),data['r_sup_tot2'],data['surface_total_in_m2'])"
   ]
  },
  {
   "cell_type": "code",
   "execution_count": null,
   "id": "bfd2e4bd",
   "metadata": {},
   "outputs": [],
   "source": []
  },
  {
   "cell_type": "code",
   "execution_count": 39,
   "id": "b6576563",
   "metadata": {},
   "outputs": [
    {
     "data": {
      "text/plain": [
       "\"#reemplazo superficie cubierta nula con superficie cubierta que extraje del titulo si condiciones\\ndata.loc[:,'surface_covered_in_m2'] = np.where((data['surface_covered_in_m2'].isnull()) &\\n                                               (data['r_sup_cub']>5),data['r_sup_cub'],data['surface_covered_in_m2'])\""
      ]
     },
     "execution_count": 39,
     "metadata": {},
     "output_type": "execute_result"
    }
   ],
   "source": [
    "'''#reemplazo superficie cubierta nula con superficie cubierta que extraje del titulo si condiciones\n",
    "data.loc[:,'surface_covered_in_m2'] = np.where((data['surface_covered_in_m2'].isnull()) &\n",
    "                                               (data['r_sup_cub']>5),data['r_sup_cub'],data['surface_covered_in_m2'])'''"
   ]
  },
  {
   "cell_type": "code",
   "execution_count": 40,
   "id": "1450cdfe",
   "metadata": {},
   "outputs": [
    {
     "data": {
      "text/plain": [
       "\"#reemplazo superficie cubierta nula con superficie cubierta 2 que extraje del titulo si condiciones\\ndata.loc[:,'surface_covered_in_m2'] = np.where((data['surface_covered_in_m2'].isnull()) & (data['r_sup_cub'].isnull()) &\\n                                               (data['r_sup_cub2']>5),data['r_sup_cub2'],data['surface_total_in_m2'])\""
      ]
     },
     "execution_count": 40,
     "metadata": {},
     "output_type": "execute_result"
    }
   ],
   "source": [
    "'''#reemplazo superficie cubierta nula con superficie cubierta 2 que extraje del titulo si condiciones\n",
    "data.loc[:,'surface_covered_in_m2'] = np.where((data['surface_covered_in_m2'].isnull()) & (data['r_sup_cub'].isnull()) &\n",
    "                                               (data['r_sup_cub2']>5),data['r_sup_cub2'],data['surface_total_in_m2'])'''"
   ]
  },
  {
   "cell_type": "code",
   "execution_count": null,
   "id": "4ef22a5d",
   "metadata": {},
   "outputs": [],
   "source": []
  },
  {
   "cell_type": "code",
   "execution_count": 41,
   "id": "ec8e4518",
   "metadata": {},
   "outputs": [
    {
     "data": {
      "text/plain": [
       "(71954, 3)"
      ]
     },
     "execution_count": 41,
     "metadata": {},
     "output_type": "execute_result"
    }
   ],
   "source": [
    "# Creamos una tabla auxiliar para calcular los ratios entre las columnas de superficies total y cubierta\n",
    "\n",
    "analisis_surface_total = data.loc[data['surface_total_in_m2'].notnull()&\n",
    "                                data['surface_covered_in_m2'].notnull()&\n",
    "                                data['surface_covered_in_m2']>0,\n",
    "                               ['property_type', 'surface_total_in_m2', 'surface_covered_in_m2']]\n",
    "analisis_surface_total.shape"
   ]
  },
  {
   "cell_type": "code",
   "execution_count": 42,
   "id": "6f3222e4",
   "metadata": {},
   "outputs": [],
   "source": [
    "# Hallamos un factor de área que se obtiene al dividir superficie total en superficie cubierta\n",
    "\n",
    "analisis_surface_total['ratio_surface_total_covered'] = analisis_surface_total['surface_total_in_m2']/\\\n",
    "analisis_surface_total['surface_covered_in_m2']"
   ]
  },
  {
   "cell_type": "code",
   "execution_count": 43,
   "id": "5c7e81ba",
   "metadata": {},
   "outputs": [
    {
     "data": {
      "text/plain": [
       "(65470, 7)"
      ]
     },
     "execution_count": 43,
     "metadata": {},
     "output_type": "execute_result"
    }
   ],
   "source": [
    "# Vamos a calcular el rango intercualtil, eliminar valores extremos y calcular el factor multiplicador de 'surface_covered_in_m2'\n",
    "# para calcular 'surface_total_in_m2'\n",
    "\n",
    "analisis_surface_total['percentil25']=analisis_surface_total.groupby('property_type')['ratio_surface_total_covered'].\\\n",
    "transform(np.percentile,25)\n",
    "analisis_surface_total['percentil75']=analisis_surface_total.groupby('property_type')['ratio_surface_total_covered'].\\\n",
    "transform(np.percentile,75)\n",
    "analisis_surface_total['rango_intercuartil'] = analisis_surface_total['percentil75'] - analisis_surface_total['percentil25']\n",
    "analisis_surface_total['ratio_surface_total_covered'] = np.where((analisis_surface_total['ratio_surface_total_covered']>=\n",
    "                                                                analisis_surface_total['percentil25']-\n",
    "                                                                  1.5*analisis_surface_total['rango_intercuartil'])\n",
    "                                                                 &\n",
    "                                                                 (analisis_surface_total['ratio_surface_total_covered']<=\n",
    "                                                                analisis_surface_total['percentil75']+\n",
    "                                                                  1.5*analisis_surface_total['rango_intercuartil']\n",
    "                                                                 ),\n",
    "                                                                 analisis_surface_total['ratio_surface_total_covered'],\n",
    "                                                                 -1\n",
    "                                                                )\n",
    "analisis_surface_total = analisis_surface_total.loc[analisis_surface_total['ratio_surface_total_covered']>0]\n",
    "analisis_surface_total.shape"
   ]
  },
  {
   "cell_type": "code",
   "execution_count": 44,
   "id": "4fb6e480",
   "metadata": {},
   "outputs": [
    {
     "data": {
      "text/html": [
       "<div>\n",
       "<style scoped>\n",
       "    .dataframe tbody tr th:only-of-type {\n",
       "        vertical-align: middle;\n",
       "    }\n",
       "\n",
       "    .dataframe tbody tr th {\n",
       "        vertical-align: top;\n",
       "    }\n",
       "\n",
       "    .dataframe thead tr th {\n",
       "        text-align: left;\n",
       "    }\n",
       "</style>\n",
       "<table border=\"1\" class=\"dataframe\">\n",
       "  <thead>\n",
       "    <tr>\n",
       "      <th></th>\n",
       "      <th>property_type</th>\n",
       "      <th colspan=\"8\" halign=\"left\">ratio_surface_total_covered</th>\n",
       "    </tr>\n",
       "    <tr>\n",
       "      <th></th>\n",
       "      <th></th>\n",
       "      <th>count</th>\n",
       "      <th>mean</th>\n",
       "      <th>std</th>\n",
       "      <th>min</th>\n",
       "      <th>25%</th>\n",
       "      <th>50%</th>\n",
       "      <th>75%</th>\n",
       "      <th>max</th>\n",
       "    </tr>\n",
       "  </thead>\n",
       "  <tbody>\n",
       "    <tr>\n",
       "      <th>0</th>\n",
       "      <td>PH</td>\n",
       "      <td>3149.000000</td>\n",
       "      <td>1.235418</td>\n",
       "      <td>0.269480</td>\n",
       "      <td>0.405172</td>\n",
       "      <td>1.000000</td>\n",
       "      <td>1.166667</td>\n",
       "      <td>1.365385</td>\n",
       "      <td>2.073529</td>\n",
       "    </tr>\n",
       "    <tr>\n",
       "      <th>1</th>\n",
       "      <td>apartment</td>\n",
       "      <td>39888.000000</td>\n",
       "      <td>1.096496</td>\n",
       "      <td>0.106364</td>\n",
       "      <td>0.727273</td>\n",
       "      <td>1.000000</td>\n",
       "      <td>1.076923</td>\n",
       "      <td>1.150000</td>\n",
       "      <td>1.454545</td>\n",
       "    </tr>\n",
       "    <tr>\n",
       "      <th>2</th>\n",
       "      <td>house</td>\n",
       "      <td>20707.000000</td>\n",
       "      <td>1.631510</td>\n",
       "      <td>0.927745</td>\n",
       "      <td>0.012069</td>\n",
       "      <td>1.000000</td>\n",
       "      <td>1.193548</td>\n",
       "      <td>1.968504</td>\n",
       "      <td>4.729032</td>\n",
       "    </tr>\n",
       "    <tr>\n",
       "      <th>3</th>\n",
       "      <td>store</td>\n",
       "      <td>1726.000000</td>\n",
       "      <td>1.000000</td>\n",
       "      <td>0.000000</td>\n",
       "      <td>1.000000</td>\n",
       "      <td>1.000000</td>\n",
       "      <td>1.000000</td>\n",
       "      <td>1.000000</td>\n",
       "      <td>1.000000</td>\n",
       "    </tr>\n",
       "  </tbody>\n",
       "</table>\n",
       "</div>"
      ],
      "text/plain": [
       "  property_type ratio_surface_total_covered                             \\\n",
       "                                      count     mean      std      min   \n",
       "0            PH                 3149.000000 1.235418 0.269480 0.405172   \n",
       "1     apartment                39888.000000 1.096496 0.106364 0.727273   \n",
       "2         house                20707.000000 1.631510 0.927745 0.012069   \n",
       "3         store                 1726.000000 1.000000 0.000000 1.000000   \n",
       "\n",
       "                                       \n",
       "       25%      50%      75%      max  \n",
       "0 1.000000 1.166667 1.365385 2.073529  \n",
       "1 1.000000 1.076923 1.150000 1.454545  \n",
       "2 1.000000 1.193548 1.968504 4.729032  \n",
       "3 1.000000 1.000000 1.000000 1.000000  "
      ]
     },
     "execution_count": 44,
     "metadata": {},
     "output_type": "execute_result"
    }
   ],
   "source": [
    "analisis_surface_total.loc[:,['property_type','ratio_surface_total_covered']].groupby('property_type').\\\n",
    "describe().reset_index()"
   ]
  },
  {
   "cell_type": "code",
   "execution_count": 45,
   "id": "ee0e7629",
   "metadata": {},
   "outputs": [
    {
     "data": {
      "text/html": [
       "<div>\n",
       "<style scoped>\n",
       "    .dataframe tbody tr th:only-of-type {\n",
       "        vertical-align: middle;\n",
       "    }\n",
       "\n",
       "    .dataframe tbody tr th {\n",
       "        vertical-align: top;\n",
       "    }\n",
       "\n",
       "    .dataframe thead th {\n",
       "        text-align: right;\n",
       "    }\n",
       "</style>\n",
       "<table border=\"1\" class=\"dataframe\">\n",
       "  <thead>\n",
       "    <tr style=\"text-align: right;\">\n",
       "      <th></th>\n",
       "      <th>property_type</th>\n",
       "      <th>factor_surf</th>\n",
       "    </tr>\n",
       "  </thead>\n",
       "  <tbody>\n",
       "    <tr>\n",
       "      <th>0</th>\n",
       "      <td>PH</td>\n",
       "      <td>1.166667</td>\n",
       "    </tr>\n",
       "    <tr>\n",
       "      <th>1</th>\n",
       "      <td>apartment</td>\n",
       "      <td>1.076923</td>\n",
       "    </tr>\n",
       "    <tr>\n",
       "      <th>2</th>\n",
       "      <td>house</td>\n",
       "      <td>1.193548</td>\n",
       "    </tr>\n",
       "    <tr>\n",
       "      <th>3</th>\n",
       "      <td>store</td>\n",
       "      <td>1.000000</td>\n",
       "    </tr>\n",
       "  </tbody>\n",
       "</table>\n",
       "</div>"
      ],
      "text/plain": [
       "  property_type  factor_surf\n",
       "0            PH     1.166667\n",
       "1     apartment     1.076923\n",
       "2         house     1.193548\n",
       "3         store     1.000000"
      ]
     },
     "execution_count": 45,
     "metadata": {},
     "output_type": "execute_result"
    }
   ],
   "source": [
    "# Generamos la tabla con el ratio entre 'surface_total_in_m2' / 'surface_covered_in_m2'\n",
    "\n",
    "resumen_analisis_surface_total = analisis_surface_total.loc[:,['property_type','ratio_surface_total_covered']].groupby('property_type').\\\n",
    "describe().reset_index()\n",
    "resumen_analisis_surface_total.columns = resumen_analisis_surface_total.columns.droplevel(level=0)\n",
    "resumen_analisis_surface_total.rename(columns={'':'property_type','50%':'factor_surf'}, inplace=True)\n",
    "resumen_analisis_surface_total=resumen_analisis_surface_total.loc[:,['property_type', 'factor_surf']]\n",
    "resumen_analisis_surface_total"
   ]
  },
  {
   "cell_type": "code",
   "execution_count": 46,
   "id": "5fca9bb9",
   "metadata": {},
   "outputs": [],
   "source": [
    "# Realizamos un merge usando como key el tipo de propiedad y adicionamos la columna con el ratio de superficies a la data\n",
    "\n",
    "data = data.merge(resumen_analisis_surface_total, on='property_type', how='left')"
   ]
  },
  {
   "cell_type": "code",
   "execution_count": 47,
   "id": "489abefa",
   "metadata": {},
   "outputs": [],
   "source": [
    "# Imputando valores de la columna 'surface_total_in_m2'\n",
    "\n",
    "filtro_surface_total = data['surface_total_in_m2'].isnull()&data['surface_covered_in_m2'].notnull()\n",
    "data.loc[filtro_surface_total,'surface_total_in_m2'] = data['surface_covered_in_m2']*data['factor_surf']\n",
    "\n",
    "# Imputando valores de la columna 'surface_covered_in_m2'\n",
    "\n",
    "filtro_surface_covered = data['surface_covered_in_m2'].isnull()&data['surface_total_in_m2'].notnull()\n",
    "data.loc[filtro_surface_covered,'surface_covered_in_m2'] = data['surface_total_in_m2']/data['factor_surf']\n",
    "data.drop(columns=['factor_surf'], inplace=True)"
   ]
  },
  {
   "cell_type": "code",
   "execution_count": 48,
   "id": "42fc25d3",
   "metadata": {},
   "outputs": [
    {
     "data": {
      "text/plain": [
       "surface_total_in_m2      11641\n",
       "surface_covered_in_m2    11641\n",
       "dtype: int64"
      ]
     },
     "execution_count": 48,
     "metadata": {},
     "output_type": "execute_result"
    }
   ],
   "source": [
    "# Cantidad de valores nulos después de imputación\n",
    "\n",
    "data.loc[:,['surface_total_in_m2', 'surface_covered_in_m2']].isnull().sum()"
   ]
  },
  {
   "cell_type": "markdown",
   "id": "161c923f",
   "metadata": {},
   "source": [
    "#### Variable price_aprox_usd"
   ]
  },
  {
   "cell_type": "code",
   "execution_count": 49,
   "id": "0fc5a93b",
   "metadata": {},
   "outputs": [
    {
     "data": {
      "text/plain": [
       "price_aprox_usd    17556\n",
       "dtype: int64"
      ]
     },
     "execution_count": 49,
     "metadata": {},
     "output_type": "execute_result"
    }
   ],
   "source": [
    "# Cantidad de valores nulos \n",
    "\n",
    "data.loc[:,['price_aprox_usd']].isnull().sum()"
   ]
  },
  {
   "cell_type": "code",
   "execution_count": null,
   "id": "264a343f",
   "metadata": {},
   "outputs": [],
   "source": []
  },
  {
   "cell_type": "markdown",
   "id": "ddb6e336",
   "metadata": {},
   "source": [
    "##### Imputación de valores con regex"
   ]
  },
  {
   "cell_type": "code",
   "execution_count": 50,
   "id": "84bba746",
   "metadata": {},
   "outputs": [],
   "source": [
    "# Extracción de precio INMUEBLE del TITULO\n",
    "patron=\"(U\\$S |USD |\\$ |U\\$D )(?P<precios>\\d+(\\.\\d+)(\\.\\d+)?)\"\n",
    "sup_tot=re.compile(patron,flags = re.IGNORECASE)\n",
    "resultado=data.title.apply(lambda x: x if x is np.NaN else sup_tot.search(x))\n",
    "data.loc[:,\"precio_tit\"]=resultado[resultado.notnull()].apply(lambda x: x.group(\"precios\"))"
   ]
  },
  {
   "cell_type": "code",
   "execution_count": 51,
   "id": "9c5a6cad",
   "metadata": {},
   "outputs": [],
   "source": [
    "# Pasar el valor anterior a numero\n",
    "\n",
    "data.loc[:,'precio_tit']=data.precio_tit.str.replace('.','')\n",
    "data.loc[:,'precio_tit']=data.precio_tit.astype(float)\n"
   ]
  },
  {
   "cell_type": "code",
   "execution_count": 52,
   "id": "5ea0c2e6",
   "metadata": {},
   "outputs": [],
   "source": [
    "# Extracción de UNIDAD del precio INMUEBLE TITULO\n",
    "patron=\"(?P<unidad>U\\$S |USD |\\$ |U\\$D )(?P<precios>\\d+(\\.\\d+)(\\.\\d+)?)\"\n",
    "sup_tot=re.compile(patron,flags = re.IGNORECASE)\n",
    "resultado=data.title.apply(lambda x: x if x is np.NaN else sup_tot.search(x))\n",
    "data.loc[:,\"unidad_tit\"]=resultado[resultado.notnull()].apply(lambda x: x.group(\"unidad\"))"
   ]
  },
  {
   "cell_type": "code",
   "execution_count": 53,
   "id": "772e732e",
   "metadata": {},
   "outputs": [],
   "source": [
    "# Uniformizar la unidad del precio del titulo\n",
    "data.loc[:,'unidad_tit']=data.unidad_tit.map({'U$S ':'USD','u$s ':'USD','$ ':'ARS','U$D ':'USD','u$D ':'u$D ','U$s ':'USD','usd ':'USD'})"
   ]
  },
  {
   "cell_type": "code",
   "execution_count": 54,
   "id": "305f4327",
   "metadata": {},
   "outputs": [],
   "source": [
    "# Extracción de precio INMUEBLE de la DESC\n",
    "patron=\"(U\\$S |USD |\\$ |U\\$D )(?P<precios2>\\d+(\\.\\d+)(\\.\\d+)?)\"\n",
    "sup_tot=re.compile(patron,flags = re.IGNORECASE)\n",
    "resultado=data.description.apply(lambda x: x if x is np.NaN else sup_tot.search(x))\n",
    "data.loc[:,\"precio_desc\"]=resultado[resultado.notnull()].apply(lambda x: x.group(\"precios2\"))"
   ]
  },
  {
   "cell_type": "code",
   "execution_count": 55,
   "id": "9708508f",
   "metadata": {},
   "outputs": [],
   "source": [
    "# Pasar el valor anterior a numero\n",
    "\n",
    "data.loc[:,'precio_desc']=data.precio_desc.str.replace('.','')\n",
    "data.loc[:,'precio_desc']=data.precio_desc.astype(float)"
   ]
  },
  {
   "cell_type": "code",
   "execution_count": 56,
   "id": "005af638",
   "metadata": {},
   "outputs": [],
   "source": [
    "# Extracción de UNIDAD del precio del INMUEBLE de la DESC\n",
    "patron=\"(?P<unidad2>U\\$S |USD |\\$ |U\\$D )(?P<precios2>\\d+(\\.\\d+)(\\.\\d+)?)\"\n",
    "sup_tot=re.compile(patron,flags = re.IGNORECASE)\n",
    "resultado=data.description.apply(lambda x: x if x is np.NaN else sup_tot.search(x))\n",
    "data.loc[:,\"unidad_desc\"]=resultado[resultado.notnull()].apply(lambda x: x.group(\"unidad2\"))"
   ]
  },
  {
   "cell_type": "code",
   "execution_count": 57,
   "id": "72adbc9e",
   "metadata": {},
   "outputs": [],
   "source": [
    "# Uniformizar la unidad del precio de la descripcion\n",
    "data.loc[:,'unidad_desc']=data.unidad_desc.map({'U$D ':'USD', 'USD ':'USD', 'U$S ':'USD', '$ ':'ARS', 'u$s ':'USD', 'U$s ':'USD', 'usd ':'USD',\n",
    "                                     'u$d ':'USD','u$S ':'USD', 'Usd ':'USD', 'u$D ':'USD', 'U$d ':'USD', 'uSD ':'USD'})"
   ]
  },
  {
   "cell_type": "code",
   "execution_count": 58,
   "id": "c619f2b5",
   "metadata": {},
   "outputs": [],
   "source": [
    "#reemplazo precio nulo con precio que extraje del titulo si condiciones\n",
    "data.loc[:,'price'] = np.where((data['price'].isnull()) & (data['precio_tit']>1000),data['precio_tit'],data['price'])"
   ]
  },
  {
   "cell_type": "code",
   "execution_count": 59,
   "id": "e7747f28",
   "metadata": {},
   "outputs": [],
   "source": [
    "#reemplazo unidad nula con unidad que extraje del titulo si condiciones\n",
    "data.loc[:,'currency'] = np.where((data['currency'].isnull()) & (data['precio_tit']>1000),data['unidad_tit'],data['currency'])"
   ]
  },
  {
   "cell_type": "code",
   "execution_count": 60,
   "id": "846d5051",
   "metadata": {},
   "outputs": [],
   "source": [
    "#reemplazo precio nulo con precio que extraje de la descripcion si condiciones\n",
    "data.loc[:,'price'] = np.where((data['price'].isnull()) & (data['precio_desc']>1000),data['precio_desc'],data['price'])"
   ]
  },
  {
   "cell_type": "code",
   "execution_count": 61,
   "id": "65a3b29d",
   "metadata": {},
   "outputs": [],
   "source": [
    "#reemplazo unidad nula con unidad que extraje de la descripcion si condiciones\n",
    "data.loc[:,'currency'] = np.where((data['currency'].isnull()) & (data['precio_desc']>1000),data['unidad_desc'],data['currency'])"
   ]
  },
  {
   "cell_type": "code",
   "execution_count": 62,
   "id": "25a68db3",
   "metadata": {},
   "outputs": [],
   "source": [
    "# Reemplazar price_aprox_usd nulo por precios en usd no nulos\n",
    "data.loc[:,'price_aprox_usd'] = np.where((data['price_aprox_usd'].isnull()) &\n",
    "                                         (data['price'].notnull()) & (data['currency']=='USD'),data['price'],data['price_aprox_usd'])"
   ]
  },
  {
   "cell_type": "code",
   "execution_count": 63,
   "id": "fb5b7626",
   "metadata": {},
   "outputs": [],
   "source": [
    "# Reemplazar price_aprox_local_currency nulo por precios en pesos no nulos\n",
    "data.loc[:,'price_aprox_local_currency'] = np.where((data['price_aprox_local_currency'].isnull()) &\n",
    "                                                    (data['price'].notnull()) & (data['currency']=='ARS'),data['price'],data['price_aprox_local_currency'])"
   ]
  },
  {
   "cell_type": "markdown",
   "id": "5965747d",
   "metadata": {},
   "source": [
    "##### Imputación de valores con análisis de tasa de cambio"
   ]
  },
  {
   "cell_type": "code",
   "execution_count": 64,
   "id": "d4ec6bcf",
   "metadata": {},
   "outputs": [
    {
     "data": {
      "text/plain": [
       "count   98583.000000\n",
       "mean       17.644500\n",
       "std         0.000000\n",
       "min        17.644498\n",
       "25%        17.644500\n",
       "50%        17.644500\n",
       "75%        17.644500\n",
       "max        17.644500\n",
       "Name: tc, dtype: float64"
      ]
     },
     "execution_count": 64,
     "metadata": {},
     "output_type": "execute_result"
    }
   ],
   "source": [
    "# Realizamos un analisis de la TC (tasa de cambio)\n",
    "\n",
    "data['tc']=data['price_aprox_local_currency']/data['price_aprox_usd']\n",
    "data['tc'].describe()"
   ]
  },
  {
   "cell_type": "code",
   "execution_count": 65,
   "id": "9a4a3965",
   "metadata": {},
   "outputs": [
    {
     "data": {
      "text/plain": [
       "371"
      ]
     },
     "execution_count": 65,
     "metadata": {},
     "output_type": "execute_result"
    }
   ],
   "source": [
    "# Vamos a explorar la posibilidad de apoyarnos en la columna price_aprox_local_currency con la tasa de cambio calculada\n",
    "\n",
    "((data['price_aprox_usd'].isnull())&(data['price_aprox_local_currency'].notnull())).sum()"
   ]
  },
  {
   "cell_type": "markdown",
   "id": "2433a65e",
   "metadata": {},
   "source": [
    "A pesar de que prácticamente para todos los registros del dataset obtenemos una tasa de cambio de 17.6445, la cual se considera contundente, en todos los casos en los que price_aprox_usd es nulo, price_aprox_local_currency también es nulo."
   ]
  },
  {
   "cell_type": "code",
   "execution_count": 66,
   "id": "2e58dd15",
   "metadata": {},
   "outputs": [
    {
     "data": {
      "text/plain": [
       "price_aprox_usd    15217\n",
       "dtype: int64"
      ]
     },
     "execution_count": 66,
     "metadata": {},
     "output_type": "execute_result"
    }
   ],
   "source": [
    "# Cantidad de valores nulos después de imputación\n",
    "\n",
    "data.drop(columns=['tc'], inplace=True)\n",
    "data.loc[:,['price_aprox_usd']].isnull().sum()"
   ]
  },
  {
   "cell_type": "code",
   "execution_count": null,
   "id": "b2b92771",
   "metadata": {},
   "outputs": [],
   "source": []
  },
  {
   "cell_type": "markdown",
   "id": "fa5572da",
   "metadata": {},
   "source": [
    "### Definición de la Variable Target"
   ]
  },
  {
   "cell_type": "markdown",
   "id": "e79b5231",
   "metadata": {},
   "source": [
    "Definimos como variable objetivo **'price_aprox_usd'**.\n",
    "\n",
    "**Nota:**\n",
    "No descartamos la posibilidad de modelar con la variable **price_usd_per_m2** como target."
   ]
  },
  {
   "cell_type": "markdown",
   "id": "fa890555",
   "metadata": {},
   "source": [
    "#### El proceso de imputación de valores a partir de regex en la columna 'description' se realizará en otro notebook."
   ]
  },
  {
   "cell_type": "code",
   "execution_count": null,
   "id": "150be3b9",
   "metadata": {},
   "outputs": [],
   "source": []
  },
  {
   "cell_type": "markdown",
   "id": "cecb6bd0",
   "metadata": {},
   "source": [
    "### Valores nulos al final de la imputación"
   ]
  },
  {
   "cell_type": "code",
   "execution_count": 67,
   "id": "fb5a4077",
   "metadata": {},
   "outputs": [
    {
     "data": {
      "text/html": [
       "<div>\n",
       "<style scoped>\n",
       "    .dataframe tbody tr th:only-of-type {\n",
       "        vertical-align: middle;\n",
       "    }\n",
       "\n",
       "    .dataframe tbody tr th {\n",
       "        vertical-align: top;\n",
       "    }\n",
       "\n",
       "    .dataframe thead th {\n",
       "        text-align: right;\n",
       "    }\n",
       "</style>\n",
       "<table border=\"1\" class=\"dataframe\">\n",
       "  <thead>\n",
       "    <tr style=\"text-align: right;\">\n",
       "      <th></th>\n",
       "      <th>cant_nulos</th>\n",
       "      <th>porcentaje_nulos</th>\n",
       "    </tr>\n",
       "  </thead>\n",
       "  <tbody>\n",
       "    <tr>\n",
       "      <th>operation</th>\n",
       "      <td>0</td>\n",
       "      <td>0.000000</td>\n",
       "    </tr>\n",
       "    <tr>\n",
       "      <th>property_type</th>\n",
       "      <td>0</td>\n",
       "      <td>0.000000</td>\n",
       "    </tr>\n",
       "    <tr>\n",
       "      <th>place_name</th>\n",
       "      <td>0</td>\n",
       "      <td>0.000198</td>\n",
       "    </tr>\n",
       "    <tr>\n",
       "      <th>place_with_parent_names</th>\n",
       "      <td>0</td>\n",
       "      <td>0.000000</td>\n",
       "    </tr>\n",
       "    <tr>\n",
       "      <th>country_name</th>\n",
       "      <td>0</td>\n",
       "      <td>0.000000</td>\n",
       "    </tr>\n",
       "    <tr>\n",
       "      <th>state_name</th>\n",
       "      <td>0</td>\n",
       "      <td>0.000000</td>\n",
       "    </tr>\n",
       "    <tr>\n",
       "      <th>geonames_id</th>\n",
       "      <td>1910</td>\n",
       "      <td>0.156535</td>\n",
       "    </tr>\n",
       "    <tr>\n",
       "      <th>lat-lon</th>\n",
       "      <td>48289</td>\n",
       "      <td>0.415783</td>\n",
       "    </tr>\n",
       "    <tr>\n",
       "      <th>lat</th>\n",
       "      <td>48289</td>\n",
       "      <td>0.415783</td>\n",
       "    </tr>\n",
       "    <tr>\n",
       "      <th>lon</th>\n",
       "      <td>48289</td>\n",
       "      <td>0.415783</td>\n",
       "    </tr>\n",
       "    <tr>\n",
       "      <th>price</th>\n",
       "      <td>14845</td>\n",
       "      <td>0.151162</td>\n",
       "    </tr>\n",
       "    <tr>\n",
       "      <th>currency</th>\n",
       "      <td>14847</td>\n",
       "      <td>0.151171</td>\n",
       "    </tr>\n",
       "    <tr>\n",
       "      <th>price_aprox_local_currency</th>\n",
       "      <td>17185</td>\n",
       "      <td>0.151162</td>\n",
       "    </tr>\n",
       "    <tr>\n",
       "      <th>price_aprox_usd</th>\n",
       "      <td>15217</td>\n",
       "      <td>0.151162</td>\n",
       "    </tr>\n",
       "    <tr>\n",
       "      <th>surface_total_in_m2</th>\n",
       "      <td>11641</td>\n",
       "      <td>0.330446</td>\n",
       "    </tr>\n",
       "    <tr>\n",
       "      <th>surface_covered_in_m2</th>\n",
       "      <td>11641</td>\n",
       "      <td>0.162330</td>\n",
       "    </tr>\n",
       "    <tr>\n",
       "      <th>price_usd_per_m2</th>\n",
       "      <td>49289</td>\n",
       "      <td>0.424393</td>\n",
       "    </tr>\n",
       "    <tr>\n",
       "      <th>price_per_m2</th>\n",
       "      <td>30443</td>\n",
       "      <td>0.262123</td>\n",
       "    </tr>\n",
       "    <tr>\n",
       "      <th>floor</th>\n",
       "      <td>108481</td>\n",
       "      <td>0.934054</td>\n",
       "    </tr>\n",
       "    <tr>\n",
       "      <th>rooms</th>\n",
       "      <td>69941</td>\n",
       "      <td>0.602213</td>\n",
       "    </tr>\n",
       "    <tr>\n",
       "      <th>expenses</th>\n",
       "      <td>102055</td>\n",
       "      <td>0.878724</td>\n",
       "    </tr>\n",
       "    <tr>\n",
       "      <th>description</th>\n",
       "      <td>2</td>\n",
       "      <td>0.000017</td>\n",
       "    </tr>\n",
       "    <tr>\n",
       "      <th>title</th>\n",
       "      <td>0</td>\n",
       "      <td>0.000000</td>\n",
       "    </tr>\n",
       "    <tr>\n",
       "      <th>r_sup_tot</th>\n",
       "      <td>112583</td>\n",
       "      <td>nan</td>\n",
       "    </tr>\n",
       "    <tr>\n",
       "      <th>r_sup_tot2</th>\n",
       "      <td>114228</td>\n",
       "      <td>nan</td>\n",
       "    </tr>\n",
       "    <tr>\n",
       "      <th>r_sup_cub</th>\n",
       "      <td>110605</td>\n",
       "      <td>nan</td>\n",
       "    </tr>\n",
       "    <tr>\n",
       "      <th>r_sup_cub2</th>\n",
       "      <td>111835</td>\n",
       "      <td>nan</td>\n",
       "    </tr>\n",
       "    <tr>\n",
       "      <th>precio_tit</th>\n",
       "      <td>108934</td>\n",
       "      <td>nan</td>\n",
       "    </tr>\n",
       "    <tr>\n",
       "      <th>unidad_tit</th>\n",
       "      <td>109029</td>\n",
       "      <td>nan</td>\n",
       "    </tr>\n",
       "    <tr>\n",
       "      <th>precio_desc</th>\n",
       "      <td>106024</td>\n",
       "      <td>nan</td>\n",
       "    </tr>\n",
       "    <tr>\n",
       "      <th>unidad_desc</th>\n",
       "      <td>106024</td>\n",
       "      <td>nan</td>\n",
       "    </tr>\n",
       "  </tbody>\n",
       "</table>\n",
       "</div>"
      ],
      "text/plain": [
       "                            cant_nulos  porcentaje_nulos\n",
       "operation                            0          0.000000\n",
       "property_type                        0          0.000000\n",
       "place_name                           0          0.000198\n",
       "place_with_parent_names              0          0.000000\n",
       "country_name                         0          0.000000\n",
       "state_name                           0          0.000000\n",
       "geonames_id                       1910          0.156535\n",
       "lat-lon                          48289          0.415783\n",
       "lat                              48289          0.415783\n",
       "lon                              48289          0.415783\n",
       "price                            14845          0.151162\n",
       "currency                         14847          0.151171\n",
       "price_aprox_local_currency       17185          0.151162\n",
       "price_aprox_usd                  15217          0.151162\n",
       "surface_total_in_m2              11641          0.330446\n",
       "surface_covered_in_m2            11641          0.162330\n",
       "price_usd_per_m2                 49289          0.424393\n",
       "price_per_m2                     30443          0.262123\n",
       "floor                           108481          0.934054\n",
       "rooms                            69941          0.602213\n",
       "expenses                        102055          0.878724\n",
       "description                          2          0.000017\n",
       "title                                0          0.000000\n",
       "r_sup_tot                       112583               nan\n",
       "r_sup_tot2                      114228               nan\n",
       "r_sup_cub                       110605               nan\n",
       "r_sup_cub2                      111835               nan\n",
       "precio_tit                      108934               nan\n",
       "unidad_tit                      109029               nan\n",
       "precio_desc                     106024               nan\n",
       "unidad_desc                     106024               nan"
      ]
     },
     "execution_count": 67,
     "metadata": {},
     "output_type": "execute_result"
    }
   ],
   "source": [
    "val_nulos_final = pd.DataFrame(data.isnull().sum(), columns=['cant_nulos'])\n",
    "\n",
    "val_nulos_final['porcentaje_nulos'] = val_nulos_inicial['cant_nulos']/data.shape[0]\n",
    "val_nulos_final"
   ]
  },
  {
   "cell_type": "markdown",
   "id": "ff2c8d62",
   "metadata": {},
   "source": [
    "### Comparativa de valores nulos del dataset original vs. dataset con valores imputados"
   ]
  },
  {
   "cell_type": "code",
   "execution_count": 68,
   "id": "bde8affc",
   "metadata": {},
   "outputs": [
    {
     "data": {
      "text/html": [
       "<div>\n",
       "<style scoped>\n",
       "    .dataframe tbody tr th:only-of-type {\n",
       "        vertical-align: middle;\n",
       "    }\n",
       "\n",
       "    .dataframe tbody tr th {\n",
       "        vertical-align: top;\n",
       "    }\n",
       "\n",
       "    .dataframe thead th {\n",
       "        text-align: right;\n",
       "    }\n",
       "</style>\n",
       "<table border=\"1\" class=\"dataframe\">\n",
       "  <thead>\n",
       "    <tr style=\"text-align: right;\">\n",
       "      <th></th>\n",
       "      <th>cant_nulos_inicial</th>\n",
       "      <th>porcentaje_nulos_inicial</th>\n",
       "      <th>cant_nulos_final</th>\n",
       "      <th>porcentaje_nulos_final</th>\n",
       "      <th>cant_recuperados</th>\n",
       "    </tr>\n",
       "  </thead>\n",
       "  <tbody>\n",
       "    <tr>\n",
       "      <th>operation</th>\n",
       "      <td>0</td>\n",
       "      <td>0.000000</td>\n",
       "      <td>0</td>\n",
       "      <td>0.000000</td>\n",
       "      <td>0</td>\n",
       "    </tr>\n",
       "    <tr>\n",
       "      <th>property_type</th>\n",
       "      <td>0</td>\n",
       "      <td>0.000000</td>\n",
       "      <td>0</td>\n",
       "      <td>0.000000</td>\n",
       "      <td>0</td>\n",
       "    </tr>\n",
       "    <tr>\n",
       "      <th>place_name</th>\n",
       "      <td>23</td>\n",
       "      <td>0.000198</td>\n",
       "      <td>0</td>\n",
       "      <td>0.000198</td>\n",
       "      <td>23</td>\n",
       "    </tr>\n",
       "    <tr>\n",
       "      <th>place_with_parent_names</th>\n",
       "      <td>0</td>\n",
       "      <td>0.000000</td>\n",
       "      <td>0</td>\n",
       "      <td>0.000000</td>\n",
       "      <td>0</td>\n",
       "    </tr>\n",
       "    <tr>\n",
       "      <th>country_name</th>\n",
       "      <td>0</td>\n",
       "      <td>0.000000</td>\n",
       "      <td>0</td>\n",
       "      <td>0.000000</td>\n",
       "      <td>0</td>\n",
       "    </tr>\n",
       "    <tr>\n",
       "      <th>state_name</th>\n",
       "      <td>0</td>\n",
       "      <td>0.000000</td>\n",
       "      <td>0</td>\n",
       "      <td>0.000000</td>\n",
       "      <td>0</td>\n",
       "    </tr>\n",
       "    <tr>\n",
       "      <th>geonames_id</th>\n",
       "      <td>18180</td>\n",
       "      <td>0.156535</td>\n",
       "      <td>1910</td>\n",
       "      <td>0.156535</td>\n",
       "      <td>16270</td>\n",
       "    </tr>\n",
       "    <tr>\n",
       "      <th>lat-lon</th>\n",
       "      <td>48289</td>\n",
       "      <td>0.415783</td>\n",
       "      <td>48289</td>\n",
       "      <td>0.415783</td>\n",
       "      <td>0</td>\n",
       "    </tr>\n",
       "    <tr>\n",
       "      <th>lat</th>\n",
       "      <td>48289</td>\n",
       "      <td>0.415783</td>\n",
       "      <td>48289</td>\n",
       "      <td>0.415783</td>\n",
       "      <td>0</td>\n",
       "    </tr>\n",
       "    <tr>\n",
       "      <th>lon</th>\n",
       "      <td>48289</td>\n",
       "      <td>0.415783</td>\n",
       "      <td>48289</td>\n",
       "      <td>0.415783</td>\n",
       "      <td>0</td>\n",
       "    </tr>\n",
       "    <tr>\n",
       "      <th>price</th>\n",
       "      <td>17556</td>\n",
       "      <td>0.151162</td>\n",
       "      <td>14845</td>\n",
       "      <td>0.151162</td>\n",
       "      <td>2711</td>\n",
       "    </tr>\n",
       "    <tr>\n",
       "      <th>currency</th>\n",
       "      <td>17557</td>\n",
       "      <td>0.151171</td>\n",
       "      <td>14847</td>\n",
       "      <td>0.151171</td>\n",
       "      <td>2710</td>\n",
       "    </tr>\n",
       "    <tr>\n",
       "      <th>price_aprox_local_currency</th>\n",
       "      <td>17556</td>\n",
       "      <td>0.151162</td>\n",
       "      <td>17185</td>\n",
       "      <td>0.151162</td>\n",
       "      <td>371</td>\n",
       "    </tr>\n",
       "    <tr>\n",
       "      <th>price_aprox_usd</th>\n",
       "      <td>17556</td>\n",
       "      <td>0.151162</td>\n",
       "      <td>15217</td>\n",
       "      <td>0.151162</td>\n",
       "      <td>2339</td>\n",
       "    </tr>\n",
       "    <tr>\n",
       "      <th>surface_total_in_m2</th>\n",
       "      <td>38378</td>\n",
       "      <td>0.330446</td>\n",
       "      <td>11641</td>\n",
       "      <td>0.330446</td>\n",
       "      <td>26737</td>\n",
       "    </tr>\n",
       "    <tr>\n",
       "      <th>surface_covered_in_m2</th>\n",
       "      <td>18853</td>\n",
       "      <td>0.162330</td>\n",
       "      <td>11641</td>\n",
       "      <td>0.162330</td>\n",
       "      <td>7212</td>\n",
       "    </tr>\n",
       "    <tr>\n",
       "      <th>price_usd_per_m2</th>\n",
       "      <td>49289</td>\n",
       "      <td>0.424393</td>\n",
       "      <td>49289</td>\n",
       "      <td>0.424393</td>\n",
       "      <td>0</td>\n",
       "    </tr>\n",
       "    <tr>\n",
       "      <th>price_per_m2</th>\n",
       "      <td>30443</td>\n",
       "      <td>0.262123</td>\n",
       "      <td>30443</td>\n",
       "      <td>0.262123</td>\n",
       "      <td>0</td>\n",
       "    </tr>\n",
       "    <tr>\n",
       "      <th>floor</th>\n",
       "      <td>108481</td>\n",
       "      <td>0.934054</td>\n",
       "      <td>108481</td>\n",
       "      <td>0.934054</td>\n",
       "      <td>0</td>\n",
       "    </tr>\n",
       "    <tr>\n",
       "      <th>rooms</th>\n",
       "      <td>69941</td>\n",
       "      <td>0.602213</td>\n",
       "      <td>69941</td>\n",
       "      <td>0.602213</td>\n",
       "      <td>0</td>\n",
       "    </tr>\n",
       "    <tr>\n",
       "      <th>expenses</th>\n",
       "      <td>102055</td>\n",
       "      <td>0.878724</td>\n",
       "      <td>102055</td>\n",
       "      <td>0.878724</td>\n",
       "      <td>0</td>\n",
       "    </tr>\n",
       "    <tr>\n",
       "      <th>description</th>\n",
       "      <td>2</td>\n",
       "      <td>0.000017</td>\n",
       "      <td>2</td>\n",
       "      <td>0.000017</td>\n",
       "      <td>0</td>\n",
       "    </tr>\n",
       "    <tr>\n",
       "      <th>title</th>\n",
       "      <td>0</td>\n",
       "      <td>0.000000</td>\n",
       "      <td>0</td>\n",
       "      <td>0.000000</td>\n",
       "      <td>0</td>\n",
       "    </tr>\n",
       "  </tbody>\n",
       "</table>\n",
       "</div>"
      ],
      "text/plain": [
       "                            cant_nulos_inicial  porcentaje_nulos_inicial  \\\n",
       "operation                                    0                  0.000000   \n",
       "property_type                                0                  0.000000   \n",
       "place_name                                  23                  0.000198   \n",
       "place_with_parent_names                      0                  0.000000   \n",
       "country_name                                 0                  0.000000   \n",
       "state_name                                   0                  0.000000   \n",
       "geonames_id                              18180                  0.156535   \n",
       "lat-lon                                  48289                  0.415783   \n",
       "lat                                      48289                  0.415783   \n",
       "lon                                      48289                  0.415783   \n",
       "price                                    17556                  0.151162   \n",
       "currency                                 17557                  0.151171   \n",
       "price_aprox_local_currency               17556                  0.151162   \n",
       "price_aprox_usd                          17556                  0.151162   \n",
       "surface_total_in_m2                      38378                  0.330446   \n",
       "surface_covered_in_m2                    18853                  0.162330   \n",
       "price_usd_per_m2                         49289                  0.424393   \n",
       "price_per_m2                             30443                  0.262123   \n",
       "floor                                   108481                  0.934054   \n",
       "rooms                                    69941                  0.602213   \n",
       "expenses                                102055                  0.878724   \n",
       "description                                  2                  0.000017   \n",
       "title                                        0                  0.000000   \n",
       "\n",
       "                            cant_nulos_final  porcentaje_nulos_final  \\\n",
       "operation                                  0                0.000000   \n",
       "property_type                              0                0.000000   \n",
       "place_name                                 0                0.000198   \n",
       "place_with_parent_names                    0                0.000000   \n",
       "country_name                               0                0.000000   \n",
       "state_name                                 0                0.000000   \n",
       "geonames_id                             1910                0.156535   \n",
       "lat-lon                                48289                0.415783   \n",
       "lat                                    48289                0.415783   \n",
       "lon                                    48289                0.415783   \n",
       "price                                  14845                0.151162   \n",
       "currency                               14847                0.151171   \n",
       "price_aprox_local_currency             17185                0.151162   \n",
       "price_aprox_usd                        15217                0.151162   \n",
       "surface_total_in_m2                    11641                0.330446   \n",
       "surface_covered_in_m2                  11641                0.162330   \n",
       "price_usd_per_m2                       49289                0.424393   \n",
       "price_per_m2                           30443                0.262123   \n",
       "floor                                 108481                0.934054   \n",
       "rooms                                  69941                0.602213   \n",
       "expenses                              102055                0.878724   \n",
       "description                                2                0.000017   \n",
       "title                                      0                0.000000   \n",
       "\n",
       "                            cant_recuperados  \n",
       "operation                                  0  \n",
       "property_type                              0  \n",
       "place_name                                23  \n",
       "place_with_parent_names                    0  \n",
       "country_name                               0  \n",
       "state_name                                 0  \n",
       "geonames_id                            16270  \n",
       "lat-lon                                    0  \n",
       "lat                                        0  \n",
       "lon                                        0  \n",
       "price                                   2711  \n",
       "currency                                2710  \n",
       "price_aprox_local_currency               371  \n",
       "price_aprox_usd                         2339  \n",
       "surface_total_in_m2                    26737  \n",
       "surface_covered_in_m2                   7212  \n",
       "price_usd_per_m2                           0  \n",
       "price_per_m2                               0  \n",
       "floor                                      0  \n",
       "rooms                                      0  \n",
       "expenses                                   0  \n",
       "description                                0  \n",
       "title                                      0  "
      ]
     },
     "execution_count": 68,
     "metadata": {},
     "output_type": "execute_result"
    }
   ],
   "source": [
    "val_nulos_comparacion = val_nulos_inicial.merge(val_nulos_final, how='left', \n",
    "                                                left_index=True, right_index=True, \n",
    "                                                suffixes=('_inicial', '_final'))\n",
    "val_nulos_comparacion['cant_recuperados'] = val_nulos_comparacion['cant_nulos_inicial'] - val_nulos_comparacion['cant_nulos_final']\n",
    "val_nulos_comparacion"
   ]
  },
  {
   "cell_type": "markdown",
   "id": "b5e14904",
   "metadata": {},
   "source": [
    "Tras realizar el proceso de imputación de datos, hemos imputado valores en las columnas 'place_name', 'geonames_id', 'surface_total_in_m2' y 'surface_covered_in_m2', siendo las 3 últimas las más significativas."
   ]
  },
  {
   "cell_type": "code",
   "execution_count": null,
   "id": "2bb8b162",
   "metadata": {},
   "outputs": [],
   "source": []
  },
  {
   "cell_type": "markdown",
   "id": "d2f71b76",
   "metadata": {},
   "source": [
    "### Análisis de valores extremos"
   ]
  },
  {
   "cell_type": "code",
   "execution_count": 69,
   "id": "32ab5b03",
   "metadata": {},
   "outputs": [],
   "source": [
    "#respaldo_data = data.copy()"
   ]
  },
  {
   "cell_type": "code",
   "execution_count": 70,
   "id": "6fd30b4a",
   "metadata": {},
   "outputs": [],
   "source": [
    "#data = respaldo_data.copy()\n",
    "#data.shape"
   ]
  },
  {
   "cell_type": "code",
   "execution_count": 71,
   "id": "f1f4d902",
   "metadata": {},
   "outputs": [],
   "source": [
    "# Seteamos un formato de impresión para que se muestren 3 cifras decimales.\n",
    "\n",
    "pd.set_option('display.float_format', lambda x: '%.3f' % x)"
   ]
  },
  {
   "cell_type": "code",
   "execution_count": 72,
   "id": "4ac23f96",
   "metadata": {},
   "outputs": [],
   "source": [
    "# Creamos una función para asignar el valor de -1 para aquellos valores considerados extremos, menores a p25 - 1.5 rango intercuartil \n",
    "# y mayores a p75 + 1.5 rango intercuartil\n",
    "\n",
    "def marca_valores_extremos(data, columna, filtro):\n",
    "    data_arreglo = data.copy()\n",
    "    data_arreglo.loc[filtro&\n",
    "             ((data_arreglo[columna]<(data_arreglo['25%']-1.5*data_arreglo['rango_intercuartil']))|\n",
    "              (data_arreglo[columna]>(data_arreglo['75%']+1.5*data_arreglo['rango_intercuartil'])))&\n",
    "             data_arreglo['rango_intercuartil']>0.1,'auxiliar'] = True\n",
    "    \n",
    "    data_arreglo = data_arreglo.loc[:, 'auxiliar'].values\n",
    "    \n",
    "    return data_arreglo"
   ]
  },
  {
   "cell_type": "markdown",
   "id": "72cb9cd0",
   "metadata": {},
   "source": [
    "#### Valores extremos variable 'price_usd_per_m2'"
   ]
  },
  {
   "cell_type": "code",
   "execution_count": 73,
   "id": "7e07d282",
   "metadata": {},
   "outputs": [],
   "source": [
    "# Tamaño del dataset antes de eliminar valores extremos\n",
    "\n",
    "tamano_inicial = data.shape[0]"
   ]
  },
  {
   "cell_type": "code",
   "execution_count": 74,
   "id": "fd5c6174",
   "metadata": {},
   "outputs": [],
   "source": [
    "# Consideramos que un valor por m2 de una propiedad que supere los 10.000 USD es muy elevado, por lo cual, no tendremos en cuenta\n",
    "# registros con estas características.\n",
    "\n",
    "data = data.loc[(data['price_usd_per_m2']<=10000)|\n",
    "               (data['price_usd_per_m2'].isnull())]"
   ]
  },
  {
   "cell_type": "code",
   "execution_count": 75,
   "id": "2cf5dbd4",
   "metadata": {},
   "outputs": [],
   "source": [
    "# Construimos una tabla base para calcular los valores límite de price_usd_per_m2 de acuerdo al property_type y place_name\n",
    "\n",
    "tabla_base = data.loc[data['price_usd_per_m2'].notnull()&\n",
    "                                data['property_type'].notnull()&\n",
    "                                data[\"place_name\"].notnull(),\n",
    "                               ['property_type','place_name','price_usd_per_m2']]"
   ]
  },
  {
   "cell_type": "code",
   "execution_count": 76,
   "id": "e2369e3b",
   "metadata": {},
   "outputs": [],
   "source": [
    "# Calculamos p25, p75 y rango intercuartil por cada combinación property_type, place_name.\n",
    "\n",
    "valores_referencia =tabla_base.groupby(['property_type','place_name'])[\"price_usd_per_m2\"].describe().\\\n",
    "reset_index()[['property_type','place_name','25%','75%']]\n",
    "\n",
    "valores_referencia['rango_intercuartil'] = valores_referencia['75%'] - valores_referencia['25%']"
   ]
  },
  {
   "cell_type": "code",
   "execution_count": 77,
   "id": "04242b65",
   "metadata": {},
   "outputs": [
    {
     "data": {
      "text/html": [
       "<div>\n",
       "<style scoped>\n",
       "    .dataframe tbody tr th:only-of-type {\n",
       "        vertical-align: middle;\n",
       "    }\n",
       "\n",
       "    .dataframe tbody tr th {\n",
       "        vertical-align: top;\n",
       "    }\n",
       "\n",
       "    .dataframe thead th {\n",
       "        text-align: right;\n",
       "    }\n",
       "</style>\n",
       "<table border=\"1\" class=\"dataframe\">\n",
       "  <thead>\n",
       "    <tr style=\"text-align: right;\">\n",
       "      <th></th>\n",
       "      <th>property_type</th>\n",
       "      <th>place_name</th>\n",
       "      <th>25%</th>\n",
       "      <th>75%</th>\n",
       "      <th>rango_intercuartil</th>\n",
       "    </tr>\n",
       "  </thead>\n",
       "  <tbody>\n",
       "    <tr>\n",
       "      <th>0</th>\n",
       "      <td>PH</td>\n",
       "      <td>Abasto</td>\n",
       "      <td>1000.000</td>\n",
       "      <td>2000.000</td>\n",
       "      <td>1000.000</td>\n",
       "    </tr>\n",
       "    <tr>\n",
       "      <th>1</th>\n",
       "      <td>PH</td>\n",
       "      <td>Acassuso</td>\n",
       "      <td>998.412</td>\n",
       "      <td>2800.000</td>\n",
       "      <td>1801.588</td>\n",
       "    </tr>\n",
       "  </tbody>\n",
       "</table>\n",
       "</div>"
      ],
      "text/plain": [
       "  property_type place_name      25%      75%  rango_intercuartil\n",
       "0            PH     Abasto 1000.000 2000.000            1000.000\n",
       "1            PH   Acassuso  998.412 2800.000            1801.588"
      ]
     },
     "execution_count": 77,
     "metadata": {},
     "output_type": "execute_result"
    }
   ],
   "source": [
    "valores_referencia.head(2)"
   ]
  },
  {
   "cell_type": "code",
   "execution_count": 78,
   "id": "f8aeb625",
   "metadata": {},
   "outputs": [],
   "source": [
    "# Anadimos las columnas de p25, p75 y rango intercuartil a nuestra data\n",
    "\n",
    "data = data.merge(valores_referencia,how=\"left\",on=[\"property_type\",\"place_name\"])"
   ]
  },
  {
   "cell_type": "code",
   "execution_count": 79,
   "id": "dddbfa9c",
   "metadata": {},
   "outputs": [],
   "source": [
    "# Marcación de valores extremos\n",
    "\n",
    "filtro = data['price_usd_per_m2'].notnull()\n",
    "\n",
    "data.loc[:,'valores_extremos'] = marca_valores_extremos(data, 'price_usd_per_m2', filtro)"
   ]
  },
  {
   "cell_type": "code",
   "execution_count": 80,
   "id": "88b38d00",
   "metadata": {},
   "outputs": [
    {
     "data": {
      "text/plain": [
       "2590"
      ]
     },
     "execution_count": 80,
     "metadata": {},
     "output_type": "execute_result"
    }
   ],
   "source": [
    "# Cantidad de valores extremos en la columna price_usd_per_m2\n",
    "\n",
    "data.loc[data['valores_extremos']==True].shape[0]"
   ]
  },
  {
   "cell_type": "code",
   "execution_count": 81,
   "id": "a13ff66f",
   "metadata": {},
   "outputs": [],
   "source": [
    "# Eliminación de valores extremos\n",
    "\n",
    "data.drop(data.loc[data['valores_extremos']==True].index, inplace=True)\n",
    "\n",
    "# Eliminamos las columnas que creamos como auxiliares\n",
    "\n",
    "data.drop(columns={\"25%\",\"75%\",\"rango_intercuartil\",'valores_extremos'},inplace=True)"
   ]
  },
  {
   "cell_type": "code",
   "execution_count": 82,
   "id": "a2133364",
   "metadata": {},
   "outputs": [],
   "source": [
    "# Tamaño del dataset después de eliminar valores extremos\n",
    "\n",
    "tamano_final = data.shape[0]"
   ]
  },
  {
   "cell_type": "code",
   "execution_count": 83,
   "id": "4b91e21b",
   "metadata": {},
   "outputs": [
    {
     "name": "stdout",
     "output_type": "stream",
     "text": [
      "Cantidad de registros antes de eliminar valores extremos:  116140 \n",
      " Cantidad de registros después de eliminar valores extremos:  112711\n"
     ]
    }
   ],
   "source": [
    "print('Cantidad de registros antes de eliminar valores extremos: ', tamano_inicial,'\\n',\n",
    "      'Cantidad de registros después de eliminar valores extremos: ', tamano_final)"
   ]
  },
  {
   "cell_type": "markdown",
   "id": "1e91e90f",
   "metadata": {},
   "source": [
    "##### Distribución de precio m2 según property_type y place_name después de eliminación de valores extremos."
   ]
  },
  {
   "cell_type": "markdown",
   "id": "ef1d963e",
   "metadata": {},
   "source": [
    "##### Distribución de precios m2 de apartamentos"
   ]
  },
  {
   "cell_type": "code",
   "execution_count": 84,
   "id": "eb430fad",
   "metadata": {},
   "outputs": [
    {
     "data": {
      "image/png": "[encoded data removed]",
      "text/plain": [
       "<Figure size 1008x360 with 2 Axes>"
      ]
     },
     "metadata": {
      "needs_background": "light"
     },
     "output_type": "display_data"
    }
   ],
   "source": [
    "precios = data.loc[data['property_type']=='apartment','price_usd_per_m2']\n",
    "\n",
    "plt.figure(1, figsize=(14,5))\n",
    "\n",
    "plt.subplot(1,2,1)\n",
    "plt.title('Histograma de precios de apartamentos')\n",
    "plt.hist(precios)\n",
    "plt.xlabel('Precio m2')\n",
    "plt.ylabel('Cantidad')\n",
    "\n",
    "plt.subplot(1,2,2)\n",
    "plt.title('Distribución de precios m2 de apartamentos')\n",
    "sns.boxplot(y=precios)\n",
    "plt.xlabel('Apartamentos')\n",
    "plt.ylabel('Distribución de precios m2')\n",
    "plt.show()"
   ]
  },
  {
   "cell_type": "markdown",
   "id": "b97ac435",
   "metadata": {},
   "source": [
    "##### Distribución de precios m2 de casas"
   ]
  },
  {
   "cell_type": "code",
   "execution_count": 85,
   "id": "bcb8c127",
   "metadata": {},
   "outputs": [
    {
     "data": {
      "image/png": "[encoded data removed]",
      "text/plain": [
       "<Figure size 1008x360 with 2 Axes>"
      ]
     },
     "metadata": {
      "needs_background": "light"
     },
     "output_type": "display_data"
    }
   ],
   "source": [
    "precios = data.loc[data['property_type']=='house','price_usd_per_m2']\n",
    "\n",
    "plt.figure(1, figsize=(14,5))\n",
    "\n",
    "plt.subplot(1,2,1)\n",
    "plt.title('Histograma de precios de casas')\n",
    "plt.hist(precios)\n",
    "plt.xlabel('Precio m2')\n",
    "plt.ylabel('Cantidad')\n",
    "\n",
    "plt.subplot(1,2,2)\n",
    "plt.title('Distribución de precios m2 de casas')\n",
    "sns.boxplot(y=precios)\n",
    "plt.xlabel('Casas')\n",
    "plt.ylabel('Distribución de precios m2')\n",
    "plt.show()"
   ]
  },
  {
   "cell_type": "markdown",
   "id": "28f66519",
   "metadata": {},
   "source": [
    "##### Distribución de precios m2 de PH"
   ]
  },
  {
   "cell_type": "code",
   "execution_count": 86,
   "id": "59ec49f3",
   "metadata": {},
   "outputs": [
    {
     "data": {
      "image/png": "[encoded data removed]",
      "text/plain": [
       "<Figure size 1008x360 with 2 Axes>"
      ]
     },
     "metadata": {
      "needs_background": "light"
     },
     "output_type": "display_data"
    }
   ],
   "source": [
    "precios = data.loc[data['property_type']=='PH','price_usd_per_m2']\n",
    "\n",
    "plt.figure(1, figsize=(14,5))\n",
    "\n",
    "plt.subplot(1,2,1)\n",
    "plt.title('Histograma de precios de PH')\n",
    "plt.hist(precios)\n",
    "plt.xlabel('Precio m2')\n",
    "plt.ylabel('Cantidad')\n",
    "\n",
    "plt.subplot(1,2,2)\n",
    "plt.title('Distribución de precios m2 de PH')\n",
    "sns.boxplot(y=precios)\n",
    "plt.xlabel('Penthouses')\n",
    "plt.ylabel('Distribución de precios m2')\n",
    "plt.show()"
   ]
  },
  {
   "cell_type": "markdown",
   "id": "c3317d9c",
   "metadata": {},
   "source": [
    "##### Distribución de precios m2 de tiendas"
   ]
  },
  {
   "cell_type": "code",
   "execution_count": 87,
   "id": "c021efa0",
   "metadata": {},
   "outputs": [
    {
     "data": {
      "image/png": "[encoded data removed]",
      "text/plain": [
       "<Figure size 1008x360 with 2 Axes>"
      ]
     },
     "metadata": {
      "needs_background": "light"
     },
     "output_type": "display_data"
    }
   ],
   "source": [
    "precios = data.loc[data['property_type']=='store','price_usd_per_m2']\n",
    "\n",
    "plt.figure(1, figsize=(14,5))\n",
    "\n",
    "plt.subplot(1,2,1)\n",
    "plt.title('Histograma de precios de Tiendas')\n",
    "plt.hist(precios)\n",
    "plt.xlabel('Precio m2')\n",
    "plt.ylabel('Cantidad')\n",
    "\n",
    "plt.subplot(1,2,2)\n",
    "plt.title('Distribución de precios m2 de tiendas')\n",
    "sns.boxplot(y=precios)\n",
    "plt.xlabel('Tiendas')\n",
    "plt.ylabel('Distribución de precios m2')\n",
    "plt.show()"
   ]
  },
  {
   "cell_type": "markdown",
   "id": "a6f0852c",
   "metadata": {},
   "source": [
    "**Conclusiones imputacion precio m2**: Vemos que la distribución de precio por m2 según el tipo de propiedad tiene una distribución más amigable que la observada en el análisis exploratorio."
   ]
  },
  {
   "cell_type": "markdown",
   "id": "70f5fdc9",
   "metadata": {},
   "source": [
    "#### Valores extremos variable 'surface_total_in_m2'"
   ]
  },
  {
   "cell_type": "code",
   "execution_count": 88,
   "id": "7c1cf95c",
   "metadata": {},
   "outputs": [],
   "source": [
    "# Construimos una tabla base para calcular los valores límite de price_usd_per_m2\n",
    "\n",
    "tabla_base = data.loc[data['surface_total_in_m2'].notnull()&\n",
    "                                data['property_type'].notnull(),\n",
    "                               ['property_type','surface_total_in_m2']]"
   ]
  },
  {
   "cell_type": "code",
   "execution_count": 89,
   "id": "9aac187d",
   "metadata": {},
   "outputs": [],
   "source": [
    "# Calculamos p25, p75 y rango intercuartil por cada combinación property_type, place_name.\n",
    "\n",
    "valores_referencia =tabla_base.groupby(['property_type'])[\"surface_total_in_m2\"].describe().\\\n",
    "reset_index()[['property_type','25%','75%']]\n",
    "\n",
    "valores_referencia['rango_intercuartil'] = valores_referencia['75%'] - valores_referencia['25%']"
   ]
  },
  {
   "cell_type": "code",
   "execution_count": 90,
   "id": "e29975d6",
   "metadata": {},
   "outputs": [
    {
     "data": {
      "text/html": [
       "<div>\n",
       "<style scoped>\n",
       "    .dataframe tbody tr th:only-of-type {\n",
       "        vertical-align: middle;\n",
       "    }\n",
       "\n",
       "    .dataframe tbody tr th {\n",
       "        vertical-align: top;\n",
       "    }\n",
       "\n",
       "    .dataframe thead th {\n",
       "        text-align: right;\n",
       "    }\n",
       "</style>\n",
       "<table border=\"1\" class=\"dataframe\">\n",
       "  <thead>\n",
       "    <tr style=\"text-align: right;\">\n",
       "      <th></th>\n",
       "      <th>property_type</th>\n",
       "      <th>25%</th>\n",
       "      <th>75%</th>\n",
       "      <th>rango_intercuartil</th>\n",
       "    </tr>\n",
       "  </thead>\n",
       "  <tbody>\n",
       "    <tr>\n",
       "      <th>0</th>\n",
       "      <td>PH</td>\n",
       "      <td>61.000</td>\n",
       "      <td>138.000</td>\n",
       "      <td>77.000</td>\n",
       "    </tr>\n",
       "    <tr>\n",
       "      <th>1</th>\n",
       "      <td>apartment</td>\n",
       "      <td>44.000</td>\n",
       "      <td>86.000</td>\n",
       "      <td>42.000</td>\n",
       "    </tr>\n",
       "    <tr>\n",
       "      <th>2</th>\n",
       "      <td>house</td>\n",
       "      <td>164.000</td>\n",
       "      <td>405.806</td>\n",
       "      <td>241.806</td>\n",
       "    </tr>\n",
       "    <tr>\n",
       "      <th>3</th>\n",
       "      <td>store</td>\n",
       "      <td>45.000</td>\n",
       "      <td>334.000</td>\n",
       "      <td>289.000</td>\n",
       "    </tr>\n",
       "  </tbody>\n",
       "</table>\n",
       "</div>"
      ],
      "text/plain": [
       "  property_type     25%     75%  rango_intercuartil\n",
       "0            PH  61.000 138.000              77.000\n",
       "1     apartment  44.000  86.000              42.000\n",
       "2         house 164.000 405.806             241.806\n",
       "3         store  45.000 334.000             289.000"
      ]
     },
     "execution_count": 90,
     "metadata": {},
     "output_type": "execute_result"
    }
   ],
   "source": [
    "valores_referencia.head(5)"
   ]
  },
  {
   "cell_type": "code",
   "execution_count": 91,
   "id": "7724d5de",
   "metadata": {},
   "outputs": [],
   "source": [
    "# Anadimos las columnas de p25, p75 y rango intercuartil a nuestra data\n",
    "\n",
    "data = data.merge(valores_referencia,how=\"left\",on=[\"property_type\"])"
   ]
  },
  {
   "cell_type": "code",
   "execution_count": 92,
   "id": "dbcbd901",
   "metadata": {},
   "outputs": [],
   "source": [
    "# Marcación de valores extremos\n",
    "\n",
    "filtro = data['surface_total_in_m2'].notnull()\n",
    "\n",
    "data.loc[:,'valores_extremos'] = marca_valores_extremos(data, 'surface_total_in_m2', filtro)"
   ]
  },
  {
   "cell_type": "code",
   "execution_count": 93,
   "id": "27dbba91",
   "metadata": {},
   "outputs": [
    {
     "data": {
      "text/plain": [
       "8277"
      ]
     },
     "execution_count": 93,
     "metadata": {},
     "output_type": "execute_result"
    }
   ],
   "source": [
    "# Cantidad de valores extremos en la columna price_usd_per_m2\n",
    "\n",
    "data.loc[data['valores_extremos']==True].shape[0]"
   ]
  },
  {
   "cell_type": "code",
   "execution_count": 94,
   "id": "a9f943fc",
   "metadata": {},
   "outputs": [],
   "source": [
    "# Tamaño del dataset antes de eliminar valores extremos\n",
    "\n",
    "tamano_inicial = data.shape[0]"
   ]
  },
  {
   "cell_type": "code",
   "execution_count": 95,
   "id": "597e2bed",
   "metadata": {},
   "outputs": [],
   "source": [
    "# Eliminación de valores extremos\n",
    "\n",
    "data.drop(data.loc[(data['valores_extremos']==True)|\n",
    "                  (data['surface_total_in_m2']<5)].index, inplace=True)\n",
    "\n",
    "# Eliminamos las columnas que creamos como auxiliares\n",
    "\n",
    "data.drop(columns={\"25%\",\"75%\",\"rango_intercuartil\",'valores_extremos'},inplace=True)"
   ]
  },
  {
   "cell_type": "code",
   "execution_count": 96,
   "id": "a2e04af1",
   "metadata": {},
   "outputs": [],
   "source": [
    "# Tamaño del dataset después de eliminar valores extremos\n",
    "\n",
    "tamano_final = data.shape[0]"
   ]
  },
  {
   "cell_type": "code",
   "execution_count": 97,
   "id": "daf2565c",
   "metadata": {},
   "outputs": [
    {
     "name": "stdout",
     "output_type": "stream",
     "text": [
      "Cantidad de registros antes de eliminar valores extremos:  112711 \n",
      " Cantidad de registros después de eliminar valores extremos:  103773\n"
     ]
    }
   ],
   "source": [
    "print('Cantidad de registros antes de eliminar valores extremos: ', tamano_inicial,'\\n',\n",
    "      'Cantidad de registros después de eliminar valores extremos: ', tamano_final)"
   ]
  },
  {
   "cell_type": "markdown",
   "id": "0eb0ed91",
   "metadata": {},
   "source": [
    "##### Distribución de superficie total m2 según property_type después de eliminación de valores extremos."
   ]
  },
  {
   "cell_type": "markdown",
   "id": "7ec17835",
   "metadata": {},
   "source": [
    "##### Distribución de superficie total m2 de apartamentos"
   ]
  },
  {
   "cell_type": "code",
   "execution_count": 98,
   "id": "94e5eb7b",
   "metadata": {},
   "outputs": [
    {
     "data": {
      "image/png": "[encoded data removed]",
      "text/plain": [
       "<Figure size 1008x360 with 2 Axes>"
      ]
     },
     "metadata": {
      "needs_background": "light"
     },
     "output_type": "display_data"
    }
   ],
   "source": [
    "areas_apartamentos = data.loc[data['property_type']=='apartment','surface_total_in_m2']\n",
    "\n",
    "plt.figure(1, figsize=(14,5))\n",
    "plt.title('Distribución de áreas totales de apartamentos')\n",
    "\n",
    "plt.subplot(1,2,1)\n",
    "plt.title('Histograma de áreas de apartamentos')\n",
    "plt.hist(areas_apartamentos)\n",
    "plt.xlabel('Area total en m2')\n",
    "plt.ylabel('Cantidad')\n",
    "\n",
    "plt.subplot(1,2,2)\n",
    "plt.title('Distribución de áreas de apartamentos')\n",
    "sns.boxplot(y=areas_apartamentos)\n",
    "plt.xlabel('Apartamentos')\n",
    "plt.ylabel('Distribución de área total m2')\n",
    "plt.show()\n"
   ]
  },
  {
   "cell_type": "markdown",
   "id": "69eb3042",
   "metadata": {},
   "source": [
    "##### Distribución de superficie total m2 de casas"
   ]
  },
  {
   "cell_type": "code",
   "execution_count": 99,
   "id": "fb5a02ae",
   "metadata": {},
   "outputs": [
    {
     "data": {
      "image/png": "[encoded data removed]",
      "text/plain": [
       "<Figure size 1008x360 with 2 Axes>"
      ]
     },
     "metadata": {
      "needs_background": "light"
     },
     "output_type": "display_data"
    }
   ],
   "source": [
    "# Distribución de áreas de casas\n",
    "areas_apartamentos = data.loc[data['property_type']=='house','surface_total_in_m2']\n",
    "\n",
    "\n",
    "plt.figure(1, figsize=(14,5))\n",
    "plt.title('Distribución de áreas totales de casas')\n",
    "\n",
    "plt.subplot(1,2,1)\n",
    "plt.title('Histograma de áreas de casas')\n",
    "plt.hist(areas_apartamentos)\n",
    "plt.xlabel('Area total en m2')\n",
    "plt.ylabel('Cantidad')\n",
    "\n",
    "plt.subplot(1,2,2)\n",
    "plt.title('Distribución de áreas de casas')\n",
    "sns.boxplot(y=areas_apartamentos)\n",
    "plt.xlabel('Casas')\n",
    "plt.ylabel('Distribución de área total m2')\n",
    "plt.show()"
   ]
  },
  {
   "cell_type": "markdown",
   "id": "10189362",
   "metadata": {},
   "source": [
    "##### Distribución de superficie total m2 de PH"
   ]
  },
  {
   "cell_type": "code",
   "execution_count": 100,
   "id": "f039eda4",
   "metadata": {},
   "outputs": [
    {
     "data": {
      "image/png": "[encoded data removed]",
      "text/plain": [
       "<Figure size 1008x360 with 2 Axes>"
      ]
     },
     "metadata": {
      "needs_background": "light"
     },
     "output_type": "display_data"
    }
   ],
   "source": [
    "# Distribución de áreas de penthouses\n",
    "areas_apartamentos = data.loc[data['property_type']=='PH','surface_total_in_m2']\n",
    "\n",
    "\n",
    "plt.figure(1, figsize=(14,5))\n",
    "plt.title('Distribución de áreas totales de penthouses')\n",
    "\n",
    "plt.subplot(1,2,1)\n",
    "plt.title('Histograma de áreas de penthouses')\n",
    "plt.hist(areas_apartamentos)\n",
    "plt.xlabel('Area total en m2')\n",
    "plt.ylabel('Cantidad')\n",
    "\n",
    "plt.subplot(1,2,2)\n",
    "plt.title('Distribución de áreas de penthouses')\n",
    "sns.boxplot(y=areas_apartamentos)\n",
    "plt.xlabel('Penthouses')\n",
    "plt.ylabel('Distribución de área total m2')\n",
    "plt.show()\n"
   ]
  },
  {
   "cell_type": "markdown",
   "id": "09fffe46",
   "metadata": {},
   "source": [
    "##### Distribución de superficie total m2 de tiendas"
   ]
  },
  {
   "cell_type": "code",
   "execution_count": 101,
   "id": "d047433f",
   "metadata": {},
   "outputs": [
    {
     "data": {
      "image/png": "[encoded data removed]",
      "text/plain": [
       "<Figure size 1008x360 with 2 Axes>"
      ]
     },
     "metadata": {
      "needs_background": "light"
     },
     "output_type": "display_data"
    }
   ],
   "source": [
    "# Distribución de áreas de tiendas\n",
    "areas_apartamentos = data.loc[data['property_type']=='store','surface_total_in_m2']\n",
    "\n",
    "\n",
    "plt.figure(1, figsize=(14,5))\n",
    "plt.title('Distribución de áreas totales de tiendas')\n",
    "\n",
    "plt.subplot(1,2,1)\n",
    "plt.title('Histograma de áreas de tiendas')\n",
    "plt.hist(areas_apartamentos)\n",
    "plt.xlabel('Area total en m2')\n",
    "plt.ylabel('Cantidad')\n",
    "\n",
    "plt.subplot(1,2,2)\n",
    "plt.title('Distribución de áreas de tiendas')\n",
    "sns.boxplot(y=areas_apartamentos)\n",
    "plt.xlabel('Tiendas')\n",
    "plt.ylabel('Distribución de área total m2')\n",
    "plt.show()\n"
   ]
  },
  {
   "cell_type": "markdown",
   "id": "b7a28355",
   "metadata": {},
   "source": [
    "**Conclusiones imputacion superficie total m2**: Vemos que la distribución de superficie total m2 según el tipo de propiedad tiene una distribución más amigable que la observada en el análisis exploratorio."
   ]
  },
  {
   "cell_type": "markdown",
   "id": "ab024b40",
   "metadata": {},
   "source": [
    "#### Valores extremos variables 'lat' y 'lon'"
   ]
  },
  {
   "cell_type": "code",
   "execution_count": 102,
   "id": "32eb3f5b",
   "metadata": {},
   "outputs": [],
   "source": [
    "# Durante el análisis exploratorio observamos que algunos puntos se ubicaban por fuera de los límites de Argentina\n",
    "# Vamos a establecer valores máximos y mínimos para latitud y longitud.\n",
    "\n",
    "lat_max = -21\n",
    "lat_min = -57\n",
    "lon_max = -56\n",
    "lon_min = -74"
   ]
  },
  {
   "cell_type": "code",
   "execution_count": 103,
   "id": "dd1c6f3a",
   "metadata": {},
   "outputs": [],
   "source": [
    "# Tamaño del dataset antes de eliminar valores extremos\n",
    "\n",
    "tamano_inicial = data.shape[0]"
   ]
  },
  {
   "cell_type": "code",
   "execution_count": 104,
   "id": "1b808c18",
   "metadata": {},
   "outputs": [],
   "source": [
    "# Eliminación de valores extremos en las columnas lat y lon\n",
    "\n",
    "filtro = ((data['lat']<lat_min)|(data['lat']>lat_max)|\\\n",
    "(data['lon']<lon_min)|(data['lon']>lon_max))&\\\n",
    "data['lat'].notnull()&\\\n",
    "data['lon'].notnull()\n",
    "\n",
    "data.drop(data.loc[filtro].index, inplace=True)"
   ]
  },
  {
   "cell_type": "code",
   "execution_count": 105,
   "id": "08d987d6",
   "metadata": {},
   "outputs": [],
   "source": [
    "# Tamaño del dataset después de eliminar valores extremos\n",
    "\n",
    "tamano_final = data.shape[0]"
   ]
  },
  {
   "cell_type": "code",
   "execution_count": 106,
   "id": "7a1f6497",
   "metadata": {},
   "outputs": [
    {
     "name": "stdout",
     "output_type": "stream",
     "text": [
      "Cantidad de registros antes de eliminar valores extremos:  103773 \n",
      " Cantidad de registros después de eliminar valores extremos:  103445\n"
     ]
    }
   ],
   "source": [
    "print('Cantidad de registros antes de eliminar valores extremos: ', tamano_inicial,'\\n',\n",
    "      'Cantidad de registros después de eliminar valores extremos: ', tamano_final)"
   ]
  },
  {
   "cell_type": "markdown",
   "id": "0f42d4a6",
   "metadata": {},
   "source": [
    "### Dataset para ir probando el modelo"
   ]
  },
  {
   "cell_type": "code",
   "execution_count": 107,
   "id": "a8eea6aa",
   "metadata": {},
   "outputs": [
    {
     "data": {
      "text/plain": [
       "Index(['operation', 'property_type', 'place_name', 'place_with_parent_names',\n",
       "       'country_name', 'state_name', 'geonames_id', 'lat-lon', 'lat', 'lon',\n",
       "       'price', 'currency', 'price_aprox_local_currency', 'price_aprox_usd',\n",
       "       'surface_total_in_m2', 'surface_covered_in_m2', 'price_usd_per_m2',\n",
       "       'price_per_m2', 'floor', 'rooms', 'expenses', 'description', 'title',\n",
       "       'r_sup_tot', 'r_sup_tot2', 'r_sup_cub', 'r_sup_cub2', 'precio_tit',\n",
       "       'unidad_tit', 'precio_desc', 'unidad_desc'],\n",
       "      dtype='object')"
      ]
     },
     "execution_count": 107,
     "metadata": {},
     "output_type": "execute_result"
    }
   ],
   "source": [
    "data.columns"
   ]
  },
  {
   "cell_type": "markdown",
   "id": "bc12a52f",
   "metadata": {},
   "source": [
    "Vamos a generar dos dataset para el modelo, el primero con la variable price_usd_per_m2 como target y el segundo con la variable price_aprox_usd"
   ]
  },
  {
   "cell_type": "code",
   "execution_count": 108,
   "id": "f26f6cd4",
   "metadata": {},
   "outputs": [
    {
     "data": {
      "text/plain": [
       "operation                          0\n",
       "property_type                      0\n",
       "place_name                         0\n",
       "place_with_parent_names            0\n",
       "country_name                       0\n",
       "state_name                         0\n",
       "geonames_id                     1564\n",
       "lat-lon                        43287\n",
       "lat                            43287\n",
       "lon                            43287\n",
       "price                          13566\n",
       "currency                       13567\n",
       "price_aprox_local_currency     15524\n",
       "price_aprox_usd                13905\n",
       "surface_total_in_m2            11569\n",
       "surface_covered_in_m2          11569\n",
       "price_usd_per_m2               46000\n",
       "price_per_m2                   27845\n",
       "floor                          96373\n",
       "rooms                          62871\n",
       "expenses                       90835\n",
       "description                        2\n",
       "title                              0\n",
       "r_sup_tot                     100510\n",
       "r_sup_tot2                    101815\n",
       "r_sup_cub                      98791\n",
       "r_sup_cub2                     99801\n",
       "precio_tit                     98251\n",
       "unidad_tit                     98330\n",
       "precio_desc                    94853\n",
       "unidad_desc                    94853\n",
       "dtype: int64"
      ]
     },
     "execution_count": 108,
     "metadata": {},
     "output_type": "execute_result"
    }
   ],
   "source": [
    "data.isnull().sum()"
   ]
  },
  {
   "cell_type": "code",
   "execution_count": 109,
   "id": "f4be8b64",
   "metadata": {},
   "outputs": [
    {
     "data": {
      "text/plain": [
       "(33832, 7)"
      ]
     },
     "execution_count": 109,
     "metadata": {},
     "output_type": "execute_result"
    }
   ],
   "source": [
    "# Dataset con variable target price_usd_per_m2\n",
    "\n",
    "data_modelo_price_m2 = data.loc[:, ['property_type', 'state_name', 'place_name', 'lat', 'lon', \n",
    "                           'surface_total_in_m2','price_usd_per_m2']].dropna()\n",
    "\n",
    "data_modelo_price_m2.to_csv('propertti_to_model_price_m2.csv', index = False)\n",
    "\n",
    "data_modelo_price_m2.shape"
   ]
  },
  {
   "cell_type": "code",
   "execution_count": 110,
   "id": "b5417c8e",
   "metadata": {},
   "outputs": [
    {
     "data": {
      "text/plain": [
       "(48825, 7)"
      ]
     },
     "execution_count": 110,
     "metadata": {},
     "output_type": "execute_result"
    }
   ],
   "source": [
    "# Dataset con variable target price_usd_per_m2\n",
    "\n",
    "data_modelo_price_total = data.loc[:, ['property_type', 'state_name', 'place_name', 'lat', 'lon', \n",
    "                           'surface_total_in_m2','price_aprox_usd']].dropna()\n",
    "\n",
    "data_modelo_price_total.to_csv('propertti_to_model_price_total.csv', index = False)\n",
    "\n",
    "data_modelo_price_total.shape"
   ]
  },
  {
   "cell_type": "code",
   "execution_count": null,
   "id": "a47e1c3c",
   "metadata": {},
   "outputs": [],
   "source": []
  }
 ],
 "metadata": {
  "kernelspec": {
   "display_name": "Python 3 (ipykernel)",
   "language": "python",
   "name": "python3"
  },
  "language_info": {
   "codemirror_mode": {
    "name": "ipython",
    "version": 3
   },
   "file_extension": ".py",
   "mimetype": "text/x-python",
   "name": "python",
   "nbconvert_exporter": "python",
   "pygments_lexer": "ipython3",
   "version": "3.8.12"
  }
 },
 "nbformat": 4,
 "nbformat_minor": 5
}
