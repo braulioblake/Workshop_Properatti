{
 "cells": [
  {
   "cell_type": "markdown",
   "id": "4a1357b4",
   "metadata": {},
   "source": [
    "### Cargue de librerías"
   ]
  },
  {
   "cell_type": "code",
   "execution_count": 14,
   "id": "7193f433",
   "metadata": {},
   "outputs": [],
   "source": [
    "import pandas as pd\n",
    "import numpy as np\n",
    "import matplotlib.pyplot as plt\n",
    "import seaborn as sns\n",
    "import re\n",
    "\n",
    "from sklearn import metrics\n",
    "from sklearn.model_selection import train_test_split\n",
    "from sklearn.preprocessing import StandardScaler\n",
    "from sklearn.linear_model import LinearRegression\n",
    "\n",
    "pd.options.display.float_format = '{:.6f}'.format"
   ]
  },
  {
   "cell_type": "markdown",
   "id": "343c552a",
   "metadata": {},
   "source": [
    "### Lectura del dataset de Properatti listo para modelos"
   ]
  },
  {
   "cell_type": "code",
   "execution_count": 35,
   "id": "a99dad94",
   "metadata": {},
   "outputs": [],
   "source": [
    "data_modelo = pd.read_csv('propertti_to_model_price_m2.csv')"
   ]
  },
  {
   "cell_type": "code",
   "execution_count": 37,
   "id": "1039763c",
   "metadata": {},
   "outputs": [
    {
     "data": {
      "text/plain": [
       "Index(['Capital Federal', 'Bs.As. G.B.A. Zona Norte',\n",
       "       'Buenos Aires Costa Atlántica', 'Bs.As. G.B.A. Zona Sur',\n",
       "       'Bs.As. G.B.A. Zona Oeste'],\n",
       "      dtype='object')"
      ]
     },
     "execution_count": 37,
     "metadata": {},
     "output_type": "execute_result"
    }
   ],
   "source": [
    "# Realizamos un listado de los 5 state_name con mayor participación en el dataset\n",
    "\n",
    "top_5_states=data_modelo.state_name.value_counts().index[0:5]\n",
    "top_5_states"
   ]
  },
  {
   "cell_type": "code",
   "execution_count": 38,
   "id": "d7f453f1",
   "metadata": {},
   "outputs": [],
   "source": [
    "# Construimos una nueva tabla conservando solamente apartamentos, casas y registros ubicados en los 5 estados más predominantes del dataset\n",
    "\n",
    "df = data_modelo[((data_modelo.property_type==\"apartment\")|(data_modelo.property_type==\"house\"))\n",
    "        &(data_modelo.state_name.isin(top_5_states))\n",
    "        ]"
   ]
  },
  {
   "cell_type": "code",
   "execution_count": 39,
   "id": "668b3940",
   "metadata": {},
   "outputs": [
    {
     "data": {
      "text/plain": [
       "(27285, 7)"
      ]
     },
     "execution_count": 39,
     "metadata": {},
     "output_type": "execute_result"
    }
   ],
   "source": [
    "# Chequeamos el tamaño del nuevo dataset\n",
    "\n",
    "df.shape"
   ]
  },
  {
   "cell_type": "code",
   "execution_count": 40,
   "id": "fa5d3c54",
   "metadata": {},
   "outputs": [
    {
     "data": {
      "text/html": [
       "<div>\n",
       "<style scoped>\n",
       "    .dataframe tbody tr th:only-of-type {\n",
       "        vertical-align: middle;\n",
       "    }\n",
       "\n",
       "    .dataframe tbody tr th {\n",
       "        vertical-align: top;\n",
       "    }\n",
       "\n",
       "    .dataframe thead th {\n",
       "        text-align: right;\n",
       "    }\n",
       "</style>\n",
       "<table border=\"1\" class=\"dataframe\">\n",
       "  <thead>\n",
       "    <tr style=\"text-align: right;\">\n",
       "      <th></th>\n",
       "      <th>property_type</th>\n",
       "      <th>place_name</th>\n",
       "      <th>cant_prop_type_place</th>\n",
       "    </tr>\n",
       "  </thead>\n",
       "  <tbody>\n",
       "    <tr>\n",
       "      <th>122</th>\n",
       "      <td>apartment</td>\n",
       "      <td>San Antonio De Padua</td>\n",
       "      <td>1</td>\n",
       "    </tr>\n",
       "    <tr>\n",
       "      <th>313</th>\n",
       "      <td>house</td>\n",
       "      <td>Punta Alta</td>\n",
       "      <td>1</td>\n",
       "    </tr>\n",
       "    <tr>\n",
       "      <th>283</th>\n",
       "      <td>house</td>\n",
       "      <td>Matheu</td>\n",
       "      <td>1</td>\n",
       "    </tr>\n",
       "    <tr>\n",
       "      <th>113</th>\n",
       "      <td>apartment</td>\n",
       "      <td>Presidente Perón</td>\n",
       "      <td>1</td>\n",
       "    </tr>\n",
       "    <tr>\n",
       "      <th>29</th>\n",
       "      <td>apartment</td>\n",
       "      <td>Cañuelas</td>\n",
       "      <td>1</td>\n",
       "    </tr>\n",
       "    <tr>\n",
       "      <th>...</th>\n",
       "      <td>...</td>\n",
       "      <td>...</td>\n",
       "      <td>...</td>\n",
       "    </tr>\n",
       "    <tr>\n",
       "      <th>23</th>\n",
       "      <td>apartment</td>\n",
       "      <td>Caballito</td>\n",
       "      <td>1150</td>\n",
       "    </tr>\n",
       "    <tr>\n",
       "      <th>345</th>\n",
       "      <td>house</td>\n",
       "      <td>Tigre</td>\n",
       "      <td>1266</td>\n",
       "    </tr>\n",
       "    <tr>\n",
       "      <th>138</th>\n",
       "      <td>apartment</td>\n",
       "      <td>Tigre</td>\n",
       "      <td>1358</td>\n",
       "    </tr>\n",
       "    <tr>\n",
       "      <th>101</th>\n",
       "      <td>apartment</td>\n",
       "      <td>Palermo</td>\n",
       "      <td>1441</td>\n",
       "    </tr>\n",
       "    <tr>\n",
       "      <th>83</th>\n",
       "      <td>apartment</td>\n",
       "      <td>Mar del Plata</td>\n",
       "      <td>2451</td>\n",
       "    </tr>\n",
       "  </tbody>\n",
       "</table>\n",
       "<p>383 rows × 3 columns</p>\n",
       "</div>"
      ],
      "text/plain": [
       "    property_type            place_name  cant_prop_type_place\n",
       "122     apartment  San Antonio De Padua                     1\n",
       "313         house            Punta Alta                     1\n",
       "283         house                Matheu                     1\n",
       "113     apartment      Presidente Perón                     1\n",
       "29      apartment              Cañuelas                     1\n",
       "..            ...                   ...                   ...\n",
       "23      apartment             Caballito                  1150\n",
       "345         house                 Tigre                  1266\n",
       "138     apartment                 Tigre                  1358\n",
       "101     apartment               Palermo                  1441\n",
       "83      apartment         Mar del Plata                  2451\n",
       "\n",
       "[383 rows x 3 columns]"
      ]
     },
     "execution_count": 40,
     "metadata": {},
     "output_type": "execute_result"
    }
   ],
   "source": [
    "# Construimos una tabla adicional para contar la cantidad de inmuebles por cada combinación de property_type y place_name\n",
    "\n",
    "cant_prop_type_place = df.groupby(['property_type', 'place_name']).size().reset_index(name='cant_prop_type_place')\n",
    "cant_prop_type_place.sort_values(['cant_prop_type_place'])"
   ]
  },
  {
   "cell_type": "code",
   "execution_count": 41,
   "id": "020809de",
   "metadata": {},
   "outputs": [
    {
     "data": {
      "text/plain": [
       "(14069, 8)"
      ]
     },
     "execution_count": 41,
     "metadata": {},
     "output_type": "execute_result"
    }
   ],
   "source": [
    "# Filtramos nuestro dataset conservando registros cuyo conteo por grupo de property_type y place_name sea superior a 400 inmuebles\n",
    "\n",
    "df = df.merge(cant_prop_type_place, on=['property_type', 'place_name'], how='left')\n",
    "df = df.loc[df.cant_prop_type_place>=400]\n",
    "df.shape"
   ]
  },
  {
   "cell_type": "code",
   "execution_count": 42,
   "id": "d3cde2ac",
   "metadata": {},
   "outputs": [],
   "source": [
    "# Eliminamos las columnas 'cant_prop_type_place' y 'state_name'\n",
    "\n",
    "df.drop(['cant_prop_type_place','state_name'], inplace=True,axis=1)"
   ]
  },
  {
   "cell_type": "code",
   "execution_count": 43,
   "id": "d9d80fc6",
   "metadata": {},
   "outputs": [],
   "source": [
    "# Separamos nuestras variables predictoras 'X' y nuestra variable target 'y' y generamos variables dummies.\n",
    "\n",
    "X=df.drop(columns={\"price_usd_per_m2\"})\n",
    "X=pd.get_dummies(X, drop_first=True)\n",
    "feature_cols = X.columns\n",
    "y=df[\"price_usd_per_m2\"]"
   ]
  },
  {
   "cell_type": "code",
   "execution_count": 44,
   "id": "aa9b6157",
   "metadata": {},
   "outputs": [
    {
     "data": {
      "text/html": [
       "<div>\n",
       "<style scoped>\n",
       "    .dataframe tbody tr th:only-of-type {\n",
       "        vertical-align: middle;\n",
       "    }\n",
       "\n",
       "    .dataframe tbody tr th {\n",
       "        vertical-align: top;\n",
       "    }\n",
       "\n",
       "    .dataframe thead th {\n",
       "        text-align: right;\n",
       "    }\n",
       "</style>\n",
       "<table border=\"1\" class=\"dataframe\">\n",
       "  <thead>\n",
       "    <tr style=\"text-align: right;\">\n",
       "      <th></th>\n",
       "      <th>lat</th>\n",
       "      <th>lon</th>\n",
       "      <th>surface_total_in_m2</th>\n",
       "      <th>property_type_house</th>\n",
       "      <th>place_name_Barrio Norte</th>\n",
       "      <th>place_name_Belgrano</th>\n",
       "      <th>place_name_Caballito</th>\n",
       "      <th>place_name_Flores</th>\n",
       "      <th>place_name_Mar del Plata</th>\n",
       "      <th>place_name_Palermo</th>\n",
       "      <th>place_name_Pilar</th>\n",
       "      <th>place_name_Recoleta</th>\n",
       "      <th>place_name_San Telmo</th>\n",
       "      <th>place_name_Tigre</th>\n",
       "      <th>place_name_Villa Crespo</th>\n",
       "      <th>place_name_Villa Urquiza</th>\n",
       "    </tr>\n",
       "  </thead>\n",
       "  <tbody>\n",
       "    <tr>\n",
       "      <th>2</th>\n",
       "      <td>-34.559873</td>\n",
       "      <td>-58.443362</td>\n",
       "      <td>45.000000</td>\n",
       "      <td>0</td>\n",
       "      <td>0</td>\n",
       "      <td>1</td>\n",
       "      <td>0</td>\n",
       "      <td>0</td>\n",
       "      <td>0</td>\n",
       "      <td>0</td>\n",
       "      <td>0</td>\n",
       "      <td>0</td>\n",
       "      <td>0</td>\n",
       "      <td>0</td>\n",
       "      <td>0</td>\n",
       "      <td>0</td>\n",
       "    </tr>\n",
       "    <tr>\n",
       "      <th>3</th>\n",
       "      <td>-34.559873</td>\n",
       "      <td>-58.443362</td>\n",
       "      <td>65.000000</td>\n",
       "      <td>0</td>\n",
       "      <td>0</td>\n",
       "      <td>1</td>\n",
       "      <td>0</td>\n",
       "      <td>0</td>\n",
       "      <td>0</td>\n",
       "      <td>0</td>\n",
       "      <td>0</td>\n",
       "      <td>0</td>\n",
       "      <td>0</td>\n",
       "      <td>0</td>\n",
       "      <td>0</td>\n",
       "      <td>0</td>\n",
       "    </tr>\n",
       "    <tr>\n",
       "      <th>6</th>\n",
       "      <td>-34.425087</td>\n",
       "      <td>-58.579658</td>\n",
       "      <td>270.000000</td>\n",
       "      <td>1</td>\n",
       "      <td>0</td>\n",
       "      <td>0</td>\n",
       "      <td>0</td>\n",
       "      <td>0</td>\n",
       "      <td>0</td>\n",
       "      <td>0</td>\n",
       "      <td>0</td>\n",
       "      <td>0</td>\n",
       "      <td>0</td>\n",
       "      <td>1</td>\n",
       "      <td>0</td>\n",
       "      <td>0</td>\n",
       "    </tr>\n",
       "  </tbody>\n",
       "</table>\n",
       "</div>"
      ],
      "text/plain": [
       "         lat        lon  surface_total_in_m2  property_type_house  \\\n",
       "2 -34.559873 -58.443362            45.000000                    0   \n",
       "3 -34.559873 -58.443362            65.000000                    0   \n",
       "6 -34.425087 -58.579658           270.000000                    1   \n",
       "\n",
       "   place_name_Barrio Norte  place_name_Belgrano  place_name_Caballito  \\\n",
       "2                        0                    1                     0   \n",
       "3                        0                    1                     0   \n",
       "6                        0                    0                     0   \n",
       "\n",
       "   place_name_Flores  place_name_Mar del Plata  place_name_Palermo  \\\n",
       "2                  0                         0                   0   \n",
       "3                  0                         0                   0   \n",
       "6                  0                         0                   0   \n",
       "\n",
       "   place_name_Pilar  place_name_Recoleta  place_name_San Telmo  \\\n",
       "2                 0                    0                     0   \n",
       "3                 0                    0                     0   \n",
       "6                 0                    0                     0   \n",
       "\n",
       "   place_name_Tigre  place_name_Villa Crespo  place_name_Villa Urquiza  \n",
       "2                 0                        0                         0  \n",
       "3                 0                        0                         0  \n",
       "6                 1                        0                         0  "
      ]
     },
     "execution_count": 44,
     "metadata": {},
     "output_type": "execute_result"
    }
   ],
   "source": [
    "# Visualizamos los primeros 3 registros de las variables predictoras\n",
    "\n",
    "X.head(3)"
   ]
  },
  {
   "cell_type": "code",
   "execution_count": 45,
   "id": "8516b755",
   "metadata": {},
   "outputs": [],
   "source": [
    "# Escalamos las variables numéricas\n",
    "\n",
    "scaler = StandardScaler()\n",
    "scaler.fit(X)\n",
    "X=scaler.transform(X)"
   ]
  },
  {
   "cell_type": "code",
   "execution_count": 46,
   "id": "7ceb68c4",
   "metadata": {},
   "outputs": [
    {
     "name": "stdout",
     "output_type": "stream",
     "text": [
      "RMSE: 570.9004997546965\n",
      "R2: 0.47641782297647683\n"
     ]
    }
   ],
   "source": [
    "# Partimos el dataset en train (entrenamiento) y test (prueba)\n",
    "\n",
    "Xtrain, Xtest, ytrain, ytest=train_test_split(X,y,shuffle=False,random_state=42)\n",
    "\n",
    "# Inicializamos una regresión lineal, la entrenamos y realizamos predicciones sobre la data de prueba\n",
    "\n",
    "linreg=LinearRegression()\n",
    "linreg.fit(Xtrain,ytrain)\n",
    "ypred=linreg.predict(Xtest)\n",
    "print ('RMSE:', np.sqrt(metrics.mean_squared_error(ytest, ypred)))\n",
    "print ('R2:', metrics.r2_score(ytest, ypred))"
   ]
  },
  {
   "cell_type": "code",
   "execution_count": 47,
   "id": "6f848567",
   "metadata": {},
   "outputs": [
    {
     "name": "stdout",
     "output_type": "stream",
     "text": [
      "2273.344586606613\n"
     ]
    },
    {
     "data": {
      "text/plain": [
       "[('lat', -196.3292211730504),\n",
       " ('lon', 75.61719146374514),\n",
       " ('surface_total_in_m2', -167.41957263545996),\n",
       " ('property_type_house', -251.7329635425373),\n",
       " ('place_name_Barrio Norte', 131.47271803598213),\n",
       " ('place_name_Belgrano', 193.2186243727997),\n",
       " ('place_name_Caballito', 56.576651448225405),\n",
       " ('place_name_Flores', -35.666790017375504),\n",
       " ('place_name_Mar del Plata', -419.5029724816185),\n",
       " ('place_name_Palermo', 259.8715415082768),\n",
       " ('place_name_Pilar', 8.793750713312882),\n",
       " ('place_name_Recoleta', 206.441516488081),\n",
       " ('place_name_San Telmo', 8.070283429923855),\n",
       " ('place_name_Tigre', 149.49190260967947),\n",
       " ('place_name_Villa Crespo', 22.884299005092736),\n",
       " ('place_name_Villa Urquiza', 77.26410799897207)]"
      ]
     },
     "execution_count": 47,
     "metadata": {},
     "output_type": "execute_result"
    }
   ],
   "source": [
    "# Imprimimos coeficientes\n",
    "print(linreg.intercept_)\n",
    "list(zip(feature_cols, linreg.coef_))"
   ]
  }
 ],
 "metadata": {
  "kernelspec": {
   "display_name": "Python 3 (ipykernel)",
   "language": "python",
   "name": "python3"
  },
  "language_info": {
   "codemirror_mode": {
    "name": "ipython",
    "version": 3
   },
   "file_extension": ".py",
   "mimetype": "text/x-python",
   "name": "python",
   "nbconvert_exporter": "python",
   "pygments_lexer": "ipython3",
   "version": "3.8.12"
  }
 },
 "nbformat": 4,
 "nbformat_minor": 5
}
