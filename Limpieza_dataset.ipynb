{
 "cells": [
  {
   "cell_type": "markdown",
   "id": "baf97fb2",
   "metadata": {},
   "source": [
    "## Limpieza del dataset"
   ]
  },
  {
   "cell_type": "markdown",
   "id": "3adb2492",
   "metadata": {},
   "source": [
    "### Cargue de librerías"
   ]
  },
  {
   "cell_type": "code",
   "execution_count": 244,
   "id": "6b39107d",
   "metadata": {},
   "outputs": [],
   "source": [
    "import pandas as pd\n",
    "import numpy as np\n",
    "import matplotlib.pyplot as plt\n",
    "import seaborn as sns\n",
    "import re\n",
    "pd.options.display.float_format = '{:.6f}'.format"
   ]
  },
  {
   "cell_type": "markdown",
   "id": "724a5481",
   "metadata": {},
   "source": [
    "### Lectura del dataset de Properatti"
   ]
  },
  {
   "cell_type": "code",
   "execution_count": 245,
   "id": "9ea8aadb",
   "metadata": {},
   "outputs": [],
   "source": [
    "data = pd.read_csv('properatti.csv')"
   ]
  },
  {
   "cell_type": "code",
   "execution_count": 246,
   "id": "adba5f3a",
   "metadata": {},
   "outputs": [
    {
     "data": {
      "text/plain": [
       "Index(['Unnamed: 0', 'operation', 'property_type', 'place_name',\n",
       "       'place_with_parent_names', 'country_name', 'state_name', 'geonames_id',\n",
       "       'lat-lon', 'lat', 'lon', 'price', 'currency',\n",
       "       'price_aprox_local_currency', 'price_aprox_usd', 'surface_total_in_m2',\n",
       "       'surface_covered_in_m2', 'price_usd_per_m2', 'price_per_m2', 'floor',\n",
       "       'rooms', 'expenses', 'properati_url', 'description', 'title',\n",
       "       'image_thumbnail'],\n",
       "      dtype='object')"
      ]
     },
     "execution_count": 246,
     "metadata": {},
     "output_type": "execute_result"
    }
   ],
   "source": [
    "# Listado de columnas o variables disponibles\n",
    "\n",
    "data.columns"
   ]
  },
  {
   "cell_type": "code",
   "execution_count": 247,
   "id": "72cd231a",
   "metadata": {},
   "outputs": [
    {
     "data": {
      "text/html": [
       "<div>\n",
       "<style scoped>\n",
       "    .dataframe tbody tr th:only-of-type {\n",
       "        vertical-align: middle;\n",
       "    }\n",
       "\n",
       "    .dataframe tbody tr th {\n",
       "        vertical-align: top;\n",
       "    }\n",
       "\n",
       "    .dataframe thead th {\n",
       "        text-align: right;\n",
       "    }\n",
       "</style>\n",
       "<table border=\"1\" class=\"dataframe\">\n",
       "  <thead>\n",
       "    <tr style=\"text-align: right;\">\n",
       "      <th></th>\n",
       "      <th>Unnamed: 0</th>\n",
       "      <th>operation</th>\n",
       "      <th>property_type</th>\n",
       "      <th>place_name</th>\n",
       "      <th>place_with_parent_names</th>\n",
       "      <th>country_name</th>\n",
       "      <th>state_name</th>\n",
       "      <th>geonames_id</th>\n",
       "      <th>lat-lon</th>\n",
       "      <th>lat</th>\n",
       "      <th>...</th>\n",
       "      <th>surface_covered_in_m2</th>\n",
       "      <th>price_usd_per_m2</th>\n",
       "      <th>price_per_m2</th>\n",
       "      <th>floor</th>\n",
       "      <th>rooms</th>\n",
       "      <th>expenses</th>\n",
       "      <th>properati_url</th>\n",
       "      <th>description</th>\n",
       "      <th>title</th>\n",
       "      <th>image_thumbnail</th>\n",
       "    </tr>\n",
       "  </thead>\n",
       "  <tbody>\n",
       "    <tr>\n",
       "      <th>0</th>\n",
       "      <td>0</td>\n",
       "      <td>sell</td>\n",
       "      <td>PH</td>\n",
       "      <td>Mataderos</td>\n",
       "      <td>|Argentina|Capital Federal|Mataderos|</td>\n",
       "      <td>Argentina</td>\n",
       "      <td>Capital Federal</td>\n",
       "      <td>3430787.000000</td>\n",
       "      <td>-34.6618237,-58.5088387</td>\n",
       "      <td>-34.661824</td>\n",
       "      <td>...</td>\n",
       "      <td>40.000000</td>\n",
       "      <td>1127.272727</td>\n",
       "      <td>1550.000000</td>\n",
       "      <td>nan</td>\n",
       "      <td>nan</td>\n",
       "      <td>nan</td>\n",
       "      <td>http://www.properati.com.ar/15bo8_venta_ph_mat...</td>\n",
       "      <td>2 AMBIENTES TIPO CASA PLANTA BAJA POR PASILLO,...</td>\n",
       "      <td>2 AMB TIPO CASA SIN EXPENSAS EN PB</td>\n",
       "      <td>https://thumbs4.properati.com/8/BluUYiHJLhgIIK...</td>\n",
       "    </tr>\n",
       "    <tr>\n",
       "      <th>1</th>\n",
       "      <td>1</td>\n",
       "      <td>sell</td>\n",
       "      <td>apartment</td>\n",
       "      <td>La Plata</td>\n",
       "      <td>|Argentina|Bs.As. G.B.A. Zona Sur|La Plata|</td>\n",
       "      <td>Argentina</td>\n",
       "      <td>Bs.As. G.B.A. Zona Sur</td>\n",
       "      <td>3432039.000000</td>\n",
       "      <td>-34.9038831,-57.9643295</td>\n",
       "      <td>-34.903883</td>\n",
       "      <td>...</td>\n",
       "      <td>nan</td>\n",
       "      <td>nan</td>\n",
       "      <td>nan</td>\n",
       "      <td>nan</td>\n",
       "      <td>nan</td>\n",
       "      <td>nan</td>\n",
       "      <td>http://www.properati.com.ar/15bob_venta_depart...</td>\n",
       "      <td>Venta de departamento en décimo piso al frente...</td>\n",
       "      <td>VENTA Depto 2 dorm. a estrenar 7 e/ 36 y 37   ...</td>\n",
       "      <td>https://thumbs4.properati.com/7/ikpVBu2ztHA7jv...</td>\n",
       "    </tr>\n",
       "  </tbody>\n",
       "</table>\n",
       "<p>2 rows × 26 columns</p>\n",
       "</div>"
      ],
      "text/plain": [
       "   Unnamed: 0 operation property_type place_name  \\\n",
       "0           0      sell            PH  Mataderos   \n",
       "1           1      sell     apartment   La Plata   \n",
       "\n",
       "                       place_with_parent_names country_name  \\\n",
       "0        |Argentina|Capital Federal|Mataderos|    Argentina   \n",
       "1  |Argentina|Bs.As. G.B.A. Zona Sur|La Plata|    Argentina   \n",
       "\n",
       "               state_name    geonames_id                  lat-lon        lat  \\\n",
       "0         Capital Federal 3430787.000000  -34.6618237,-58.5088387 -34.661824   \n",
       "1  Bs.As. G.B.A. Zona Sur 3432039.000000  -34.9038831,-57.9643295 -34.903883   \n",
       "\n",
       "   ...  surface_covered_in_m2  price_usd_per_m2 price_per_m2  floor  rooms  \\\n",
       "0  ...              40.000000       1127.272727  1550.000000    nan    nan   \n",
       "1  ...                    nan               nan          nan    nan    nan   \n",
       "\n",
       "   expenses                                      properati_url  \\\n",
       "0       nan  http://www.properati.com.ar/15bo8_venta_ph_mat...   \n",
       "1       nan  http://www.properati.com.ar/15bob_venta_depart...   \n",
       "\n",
       "                                         description  \\\n",
       "0  2 AMBIENTES TIPO CASA PLANTA BAJA POR PASILLO,...   \n",
       "1  Venta de departamento en décimo piso al frente...   \n",
       "\n",
       "                                               title  \\\n",
       "0                 2 AMB TIPO CASA SIN EXPENSAS EN PB   \n",
       "1  VENTA Depto 2 dorm. a estrenar 7 e/ 36 y 37   ...   \n",
       "\n",
       "                                     image_thumbnail  \n",
       "0  https://thumbs4.properati.com/8/BluUYiHJLhgIIK...  \n",
       "1  https://thumbs4.properati.com/7/ikpVBu2ztHA7jv...  \n",
       "\n",
       "[2 rows x 26 columns]"
      ]
     },
     "execution_count": 247,
     "metadata": {},
     "output_type": "execute_result"
    }
   ],
   "source": [
    "# Visualización de los primeros dos registros del dataset de properatti\n",
    "\n",
    "data.head(2)"
   ]
  },
  {
   "cell_type": "markdown",
   "id": "733067f9",
   "metadata": {},
   "source": [
    "### Eliminación de columnas que no usaremos, registros duplicados y cálculo de valores nulos."
   ]
  },
  {
   "cell_type": "markdown",
   "id": "b497cfc5",
   "metadata": {},
   "source": [
    "#### Eliminación de las columnas 'Unnamed: 0', 'properati_url' e 'image_thumbnail'"
   ]
  },
  {
   "cell_type": "code",
   "execution_count": 248,
   "id": "accef782",
   "metadata": {},
   "outputs": [],
   "source": [
    "# Tras una inspección visual de las primeras filas del dataset decidimos sacar tres columnas del dataset las cuales no tendremos en cuenta\n",
    "# para futuros análisis\n",
    "\n",
    "data.drop(columns={'Unnamed: 0','properati_url','image_thumbnail'}, inplace=True)"
   ]
  },
  {
   "cell_type": "code",
   "execution_count": 249,
   "id": "5acb2faf",
   "metadata": {},
   "outputs": [
    {
     "data": {
      "text/plain": [
       "operation                      object\n",
       "property_type                  object\n",
       "place_name                     object\n",
       "place_with_parent_names        object\n",
       "country_name                   object\n",
       "state_name                     object\n",
       "geonames_id                   float64\n",
       "lat-lon                        object\n",
       "lat                           float64\n",
       "lon                           float64\n",
       "price                         float64\n",
       "currency                       object\n",
       "price_aprox_local_currency    float64\n",
       "price_aprox_usd               float64\n",
       "surface_total_in_m2           float64\n",
       "surface_covered_in_m2         float64\n",
       "price_usd_per_m2              float64\n",
       "price_per_m2                  float64\n",
       "floor                         float64\n",
       "rooms                         float64\n",
       "expenses                      float64\n",
       "description                    object\n",
       "title                          object\n",
       "dtype: object"
      ]
     },
     "execution_count": 249,
     "metadata": {},
     "output_type": "execute_result"
    }
   ],
   "source": [
    "# Revisión del tipo de dato de cada variable\n",
    "\n",
    "data.dtypes"
   ]
  },
  {
   "cell_type": "code",
   "execution_count": 250,
   "id": "827189c3",
   "metadata": {},
   "outputs": [
    {
     "data": {
      "text/html": [
       "<div>\n",
       "<style scoped>\n",
       "    .dataframe tbody tr th:only-of-type {\n",
       "        vertical-align: middle;\n",
       "    }\n",
       "\n",
       "    .dataframe tbody tr th {\n",
       "        vertical-align: top;\n",
       "    }\n",
       "\n",
       "    .dataframe thead th {\n",
       "        text-align: right;\n",
       "    }\n",
       "</style>\n",
       "<table border=\"1\" class=\"dataframe\">\n",
       "  <thead>\n",
       "    <tr style=\"text-align: right;\">\n",
       "      <th></th>\n",
       "      <th>geonames_id</th>\n",
       "      <th>lat</th>\n",
       "      <th>lon</th>\n",
       "      <th>price</th>\n",
       "      <th>price_aprox_local_currency</th>\n",
       "      <th>price_aprox_usd</th>\n",
       "      <th>surface_total_in_m2</th>\n",
       "      <th>surface_covered_in_m2</th>\n",
       "      <th>price_usd_per_m2</th>\n",
       "      <th>price_per_m2</th>\n",
       "      <th>floor</th>\n",
       "      <th>rooms</th>\n",
       "      <th>expenses</th>\n",
       "    </tr>\n",
       "  </thead>\n",
       "  <tbody>\n",
       "    <tr>\n",
       "      <th>count</th>\n",
       "      <td>102503.000000</td>\n",
       "      <td>69670.000000</td>\n",
       "      <td>69670.000000</td>\n",
       "      <td>100810.000000</td>\n",
       "      <td>100810.000000</td>\n",
       "      <td>100810.000000</td>\n",
       "      <td>81892.000000</td>\n",
       "      <td>101313.000000</td>\n",
       "      <td>68617.000000</td>\n",
       "      <td>87658.000000</td>\n",
       "      <td>7899.000000</td>\n",
       "      <td>47390.000000</td>\n",
       "      <td>14262.000000</td>\n",
       "    </tr>\n",
       "    <tr>\n",
       "      <th>mean</th>\n",
       "      <td>3574442.317893</td>\n",
       "      <td>-34.626210</td>\n",
       "      <td>-59.266290</td>\n",
       "      <td>468525.925444</td>\n",
       "      <td>4229396.828743</td>\n",
       "      <td>239700.576928</td>\n",
       "      <td>233.795328</td>\n",
       "      <td>133.050181</td>\n",
       "      <td>2160.086916</td>\n",
       "      <td>6912.215705</td>\n",
       "      <td>17.452336</td>\n",
       "      <td>3.080840</td>\n",
       "      <td>5009.234469</td>\n",
       "    </tr>\n",
       "    <tr>\n",
       "      <th>std</th>\n",
       "      <td>354130.624157</td>\n",
       "      <td>1.980936</td>\n",
       "      <td>2.299922</td>\n",
       "      <td>2260100.589128</td>\n",
       "      <td>6904714.125574</td>\n",
       "      <td>391323.875732</td>\n",
       "      <td>1782.222147</td>\n",
       "      <td>724.351479</td>\n",
       "      <td>2759.288621</td>\n",
       "      <td>28378.644734</td>\n",
       "      <td>120.243621</td>\n",
       "      <td>1.860773</td>\n",
       "      <td>120440.255650</td>\n",
       "    </tr>\n",
       "    <tr>\n",
       "      <th>min</th>\n",
       "      <td>3427208.000000</td>\n",
       "      <td>-54.823985</td>\n",
       "      <td>-75.678931</td>\n",
       "      <td>0.000000</td>\n",
       "      <td>0.000000</td>\n",
       "      <td>0.000000</td>\n",
       "      <td>0.000000</td>\n",
       "      <td>0.000000</td>\n",
       "      <td>0.600000</td>\n",
       "      <td>1.510204</td>\n",
       "      <td>1.000000</td>\n",
       "      <td>1.000000</td>\n",
       "      <td>1.000000</td>\n",
       "    </tr>\n",
       "    <tr>\n",
       "      <th>25%</th>\n",
       "      <td>3430234.000000</td>\n",
       "      <td>-34.669065</td>\n",
       "      <td>-58.727040</td>\n",
       "      <td>110000.000000</td>\n",
       "      <td>1583309.440000</td>\n",
       "      <td>89733.880000</td>\n",
       "      <td>50.000000</td>\n",
       "      <td>45.000000</td>\n",
       "      <td>1218.181818</td>\n",
       "      <td>1550.000000</td>\n",
       "      <td>1.000000</td>\n",
       "      <td>2.000000</td>\n",
       "      <td>1000.000000</td>\n",
       "    </tr>\n",
       "    <tr>\n",
       "      <th>50%</th>\n",
       "      <td>3433910.000000</td>\n",
       "      <td>-34.597985</td>\n",
       "      <td>-58.480128</td>\n",
       "      <td>185000.000000</td>\n",
       "      <td>2558452.500000</td>\n",
       "      <td>145000.000000</td>\n",
       "      <td>84.000000</td>\n",
       "      <td>75.000000</td>\n",
       "      <td>1800.000000</td>\n",
       "      <td>2213.114754</td>\n",
       "      <td>3.000000</td>\n",
       "      <td>3.000000</td>\n",
       "      <td>2000.000000</td>\n",
       "    </tr>\n",
       "    <tr>\n",
       "      <th>75%</th>\n",
       "      <td>3836668.000000</td>\n",
       "      <td>-34.441299</td>\n",
       "      <td>-58.395908</td>\n",
       "      <td>420000.000000</td>\n",
       "      <td>4675792.500000</td>\n",
       "      <td>265000.000000</td>\n",
       "      <td>200.000000</td>\n",
       "      <td>150.000000</td>\n",
       "      <td>2486.411765</td>\n",
       "      <td>3355.548611</td>\n",
       "      <td>6.000000</td>\n",
       "      <td>4.000000</td>\n",
       "      <td>4000.000000</td>\n",
       "    </tr>\n",
       "    <tr>\n",
       "      <th>max</th>\n",
       "      <td>6948895.000000</td>\n",
       "      <td>4.545843</td>\n",
       "      <td>-53.733330</td>\n",
       "      <td>650000000.000000</td>\n",
       "      <td>821271104.300000</td>\n",
       "      <td>46545445.000000</td>\n",
       "      <td>200000.000000</td>\n",
       "      <td>187000.000000</td>\n",
       "      <td>206333.333333</td>\n",
       "      <td>3999999.960000</td>\n",
       "      <td>3150.000000</td>\n",
       "      <td>32.000000</td>\n",
       "      <td>10001500.000000</td>\n",
       "    </tr>\n",
       "  </tbody>\n",
       "</table>\n",
       "</div>"
      ],
      "text/plain": [
       "         geonames_id          lat          lon            price  \\\n",
       "count  102503.000000 69670.000000 69670.000000    100810.000000   \n",
       "mean  3574442.317893   -34.626210   -59.266290    468525.925444   \n",
       "std    354130.624157     1.980936     2.299922   2260100.589128   \n",
       "min   3427208.000000   -54.823985   -75.678931         0.000000   \n",
       "25%   3430234.000000   -34.669065   -58.727040    110000.000000   \n",
       "50%   3433910.000000   -34.597985   -58.480128    185000.000000   \n",
       "75%   3836668.000000   -34.441299   -58.395908    420000.000000   \n",
       "max   6948895.000000     4.545843   -53.733330 650000000.000000   \n",
       "\n",
       "       price_aprox_local_currency  price_aprox_usd  surface_total_in_m2  \\\n",
       "count               100810.000000    100810.000000         81892.000000   \n",
       "mean               4229396.828743    239700.576928           233.795328   \n",
       "std                6904714.125574    391323.875732          1782.222147   \n",
       "min                      0.000000         0.000000             0.000000   \n",
       "25%                1583309.440000     89733.880000            50.000000   \n",
       "50%                2558452.500000    145000.000000            84.000000   \n",
       "75%                4675792.500000    265000.000000           200.000000   \n",
       "max              821271104.300000  46545445.000000        200000.000000   \n",
       "\n",
       "       surface_covered_in_m2  price_usd_per_m2   price_per_m2       floor  \\\n",
       "count          101313.000000      68617.000000   87658.000000 7899.000000   \n",
       "mean              133.050181       2160.086916    6912.215705   17.452336   \n",
       "std               724.351479       2759.288621   28378.644734  120.243621   \n",
       "min                 0.000000          0.600000       1.510204    1.000000   \n",
       "25%                45.000000       1218.181818    1550.000000    1.000000   \n",
       "50%                75.000000       1800.000000    2213.114754    3.000000   \n",
       "75%               150.000000       2486.411765    3355.548611    6.000000   \n",
       "max            187000.000000     206333.333333 3999999.960000 3150.000000   \n",
       "\n",
       "             rooms        expenses  \n",
       "count 47390.000000    14262.000000  \n",
       "mean      3.080840     5009.234469  \n",
       "std       1.860773   120440.255650  \n",
       "min       1.000000        1.000000  \n",
       "25%       2.000000     1000.000000  \n",
       "50%       3.000000     2000.000000  \n",
       "75%       4.000000     4000.000000  \n",
       "max      32.000000 10001500.000000  "
      ]
     },
     "execution_count": 250,
     "metadata": {},
     "output_type": "execute_result"
    }
   ],
   "source": [
    "# Hallamos algunas estadísticas de las variables continuas del dataset\n",
    "\n",
    "data.describe()"
   ]
  },
  {
   "cell_type": "markdown",
   "id": "28ace044",
   "metadata": {},
   "source": [
    "#### Eliminación de registros duplicados"
   ]
  },
  {
   "cell_type": "code",
   "execution_count": 251,
   "id": "6f718348",
   "metadata": {},
   "outputs": [
    {
     "data": {
      "text/plain": [
       "(116140, 23)"
      ]
     },
     "execution_count": 251,
     "metadata": {},
     "output_type": "execute_result"
    }
   ],
   "source": [
    "# Eliminación de registros duplicados en caso de que existan\n",
    "\n",
    "data.drop_duplicates(inplace=True)\n",
    "\n",
    "# Revisamos el tamaño del dataset después de eliminar los registros duplicados\n",
    "\n",
    "data.shape"
   ]
  },
  {
   "cell_type": "markdown",
   "id": "decbf51e",
   "metadata": {},
   "source": [
    "Podemos observar que habían 5080 registros duplicados, ya que la cantidad de filas del dataset original es 121220 y la cantidad de filas eliminando duplicados es 116140."
   ]
  },
  {
   "cell_type": "markdown",
   "id": "62769d48",
   "metadata": {},
   "source": [
    "#### Valores nulos por cada variable del dataset"
   ]
  },
  {
   "cell_type": "code",
   "execution_count": 252,
   "id": "af6630ff",
   "metadata": {},
   "outputs": [
    {
     "data": {
      "text/html": [
       "<div>\n",
       "<style scoped>\n",
       "    .dataframe tbody tr th:only-of-type {\n",
       "        vertical-align: middle;\n",
       "    }\n",
       "\n",
       "    .dataframe tbody tr th {\n",
       "        vertical-align: top;\n",
       "    }\n",
       "\n",
       "    .dataframe thead th {\n",
       "        text-align: right;\n",
       "    }\n",
       "</style>\n",
       "<table border=\"1\" class=\"dataframe\">\n",
       "  <thead>\n",
       "    <tr style=\"text-align: right;\">\n",
       "      <th></th>\n",
       "      <th>cant_nulos</th>\n",
       "      <th>porcentaje_nulos</th>\n",
       "    </tr>\n",
       "  </thead>\n",
       "  <tbody>\n",
       "    <tr>\n",
       "      <th>operation</th>\n",
       "      <td>0</td>\n",
       "      <td>0.000000</td>\n",
       "    </tr>\n",
       "    <tr>\n",
       "      <th>property_type</th>\n",
       "      <td>0</td>\n",
       "      <td>0.000000</td>\n",
       "    </tr>\n",
       "    <tr>\n",
       "      <th>place_name</th>\n",
       "      <td>23</td>\n",
       "      <td>0.000198</td>\n",
       "    </tr>\n",
       "    <tr>\n",
       "      <th>place_with_parent_names</th>\n",
       "      <td>0</td>\n",
       "      <td>0.000000</td>\n",
       "    </tr>\n",
       "    <tr>\n",
       "      <th>country_name</th>\n",
       "      <td>0</td>\n",
       "      <td>0.000000</td>\n",
       "    </tr>\n",
       "    <tr>\n",
       "      <th>state_name</th>\n",
       "      <td>0</td>\n",
       "      <td>0.000000</td>\n",
       "    </tr>\n",
       "    <tr>\n",
       "      <th>geonames_id</th>\n",
       "      <td>18180</td>\n",
       "      <td>0.156535</td>\n",
       "    </tr>\n",
       "    <tr>\n",
       "      <th>lat-lon</th>\n",
       "      <td>48289</td>\n",
       "      <td>0.415783</td>\n",
       "    </tr>\n",
       "    <tr>\n",
       "      <th>lat</th>\n",
       "      <td>48289</td>\n",
       "      <td>0.415783</td>\n",
       "    </tr>\n",
       "    <tr>\n",
       "      <th>lon</th>\n",
       "      <td>48289</td>\n",
       "      <td>0.415783</td>\n",
       "    </tr>\n",
       "    <tr>\n",
       "      <th>price</th>\n",
       "      <td>17556</td>\n",
       "      <td>0.151162</td>\n",
       "    </tr>\n",
       "    <tr>\n",
       "      <th>currency</th>\n",
       "      <td>17557</td>\n",
       "      <td>0.151171</td>\n",
       "    </tr>\n",
       "    <tr>\n",
       "      <th>price_aprox_local_currency</th>\n",
       "      <td>17556</td>\n",
       "      <td>0.151162</td>\n",
       "    </tr>\n",
       "    <tr>\n",
       "      <th>price_aprox_usd</th>\n",
       "      <td>17556</td>\n",
       "      <td>0.151162</td>\n",
       "    </tr>\n",
       "    <tr>\n",
       "      <th>surface_total_in_m2</th>\n",
       "      <td>38378</td>\n",
       "      <td>0.330446</td>\n",
       "    </tr>\n",
       "    <tr>\n",
       "      <th>surface_covered_in_m2</th>\n",
       "      <td>18853</td>\n",
       "      <td>0.162330</td>\n",
       "    </tr>\n",
       "    <tr>\n",
       "      <th>price_usd_per_m2</th>\n",
       "      <td>49289</td>\n",
       "      <td>0.424393</td>\n",
       "    </tr>\n",
       "    <tr>\n",
       "      <th>price_per_m2</th>\n",
       "      <td>30443</td>\n",
       "      <td>0.262123</td>\n",
       "    </tr>\n",
       "    <tr>\n",
       "      <th>floor</th>\n",
       "      <td>108481</td>\n",
       "      <td>0.934054</td>\n",
       "    </tr>\n",
       "    <tr>\n",
       "      <th>rooms</th>\n",
       "      <td>69941</td>\n",
       "      <td>0.602213</td>\n",
       "    </tr>\n",
       "    <tr>\n",
       "      <th>expenses</th>\n",
       "      <td>102055</td>\n",
       "      <td>0.878724</td>\n",
       "    </tr>\n",
       "    <tr>\n",
       "      <th>description</th>\n",
       "      <td>2</td>\n",
       "      <td>0.000017</td>\n",
       "    </tr>\n",
       "    <tr>\n",
       "      <th>title</th>\n",
       "      <td>0</td>\n",
       "      <td>0.000000</td>\n",
       "    </tr>\n",
       "  </tbody>\n",
       "</table>\n",
       "</div>"
      ],
      "text/plain": [
       "                            cant_nulos  porcentaje_nulos\n",
       "operation                            0          0.000000\n",
       "property_type                        0          0.000000\n",
       "place_name                          23          0.000198\n",
       "place_with_parent_names              0          0.000000\n",
       "country_name                         0          0.000000\n",
       "state_name                           0          0.000000\n",
       "geonames_id                      18180          0.156535\n",
       "lat-lon                          48289          0.415783\n",
       "lat                              48289          0.415783\n",
       "lon                              48289          0.415783\n",
       "price                            17556          0.151162\n",
       "currency                         17557          0.151171\n",
       "price_aprox_local_currency       17556          0.151162\n",
       "price_aprox_usd                  17556          0.151162\n",
       "surface_total_in_m2              38378          0.330446\n",
       "surface_covered_in_m2            18853          0.162330\n",
       "price_usd_per_m2                 49289          0.424393\n",
       "price_per_m2                     30443          0.262123\n",
       "floor                           108481          0.934054\n",
       "rooms                            69941          0.602213\n",
       "expenses                        102055          0.878724\n",
       "description                          2          0.000017\n",
       "title                                0          0.000000"
      ]
     },
     "execution_count": 252,
     "metadata": {},
     "output_type": "execute_result"
    }
   ],
   "source": [
    "# Chequeamos la cantidad de valores nulos para cada variable del dataset\n",
    "\n",
    "val_nulos_inicial = pd.DataFrame(data.isnull().sum(), columns=['cant_nulos'])\n",
    "\n",
    "val_nulos_inicial['porcentaje_nulos'] = val_nulos_inicial['cant_nulos']/data.shape[0]\n",
    "val_nulos_inicial"
   ]
  },
  {
   "cell_type": "markdown",
   "id": "78cf03b1",
   "metadata": {},
   "source": [
    "Observamos que columnas como 'floor', 'rooms' y 'expenses' son las columnas que mayor cantidad de valores nulos tienen, con porcentajes que van desde el 60% al 94%."
   ]
  },
  {
   "cell_type": "markdown",
   "id": "ab0f955e",
   "metadata": {},
   "source": [
    "### Imputación de valores nulos en variables de interés en el dataset"
   ]
  },
  {
   "cell_type": "markdown",
   "id": "15962d4d",
   "metadata": {},
   "source": [
    "#### Variable place_name"
   ]
  },
  {
   "cell_type": "code",
   "execution_count": 253,
   "id": "dab69c6a",
   "metadata": {},
   "outputs": [
    {
     "data": {
      "text/plain": [
       "23"
      ]
     },
     "execution_count": 253,
     "metadata": {},
     "output_type": "execute_result"
    }
   ],
   "source": [
    "# Cantidad de valores nulos\n",
    "\n",
    "data['place_name'].isnull().sum()"
   ]
  },
  {
   "cell_type": "code",
   "execution_count": 254,
   "id": "2cdf72ed",
   "metadata": {},
   "outputs": [],
   "source": [
    "# Imputamos valores nulos apoyándonos en la columna 'place_with_parent_names'\n",
    "\n",
    "filtro = data['place_name'].isnull()\n",
    "data.loc[filtro,'place_name'] = data.loc[filtro, 'place_with_parent_names'].apply(lambda x: x.split('|')[3])"
   ]
  },
  {
   "cell_type": "code",
   "execution_count": 255,
   "id": "12e0ebbb",
   "metadata": {},
   "outputs": [
    {
     "data": {
      "text/plain": [
       "0"
      ]
     },
     "execution_count": 255,
     "metadata": {},
     "output_type": "execute_result"
    }
   ],
   "source": [
    "# Verificamos la cantidad de valores nulos después de realizar la imputación\n",
    "\n",
    "data['place_name'].isnull().sum()"
   ]
  },
  {
   "cell_type": "markdown",
   "id": "583e2cab",
   "metadata": {},
   "source": [
    "#### Variable geonames_id"
   ]
  },
  {
   "cell_type": "code",
   "execution_count": 256,
   "id": "ed1fbe87",
   "metadata": {},
   "outputs": [
    {
     "data": {
      "text/plain": [
       "18180"
      ]
     },
     "execution_count": 256,
     "metadata": {},
     "output_type": "execute_result"
    }
   ],
   "source": [
    "# Cantidad de valores nulos\n",
    "\n",
    "data['geonames_id'].isnull().sum()"
   ]
  },
  {
   "cell_type": "code",
   "execution_count": 257,
   "id": "c9a4c1af",
   "metadata": {},
   "outputs": [
    {
     "data": {
      "text/html": [
       "<div>\n",
       "<style scoped>\n",
       "    .dataframe tbody tr th:only-of-type {\n",
       "        vertical-align: middle;\n",
       "    }\n",
       "\n",
       "    .dataframe tbody tr th {\n",
       "        vertical-align: top;\n",
       "    }\n",
       "\n",
       "    .dataframe thead th {\n",
       "        text-align: right;\n",
       "    }\n",
       "</style>\n",
       "<table border=\"1\" class=\"dataframe\">\n",
       "  <thead>\n",
       "    <tr style=\"text-align: right;\">\n",
       "      <th></th>\n",
       "      <th>geonames_id</th>\n",
       "      <th>place_name</th>\n",
       "      <th>count</th>\n",
       "    </tr>\n",
       "  </thead>\n",
       "  <tbody>\n",
       "    <tr>\n",
       "      <th>0</th>\n",
       "      <td>3427208.000000</td>\n",
       "      <td>Zelaya</td>\n",
       "      <td>7</td>\n",
       "    </tr>\n",
       "    <tr>\n",
       "      <th>1</th>\n",
       "      <td>3427212.000000</td>\n",
       "      <td>Zárate</td>\n",
       "      <td>8</td>\n",
       "    </tr>\n",
       "    <tr>\n",
       "      <th>2</th>\n",
       "      <td>3427326.000000</td>\n",
       "      <td>Wilde</td>\n",
       "      <td>139</td>\n",
       "    </tr>\n",
       "    <tr>\n",
       "      <th>3</th>\n",
       "      <td>3427354.000000</td>\n",
       "      <td>Virreyes</td>\n",
       "      <td>39</td>\n",
       "    </tr>\n",
       "    <tr>\n",
       "      <th>4</th>\n",
       "      <td>3427366.000000</td>\n",
       "      <td>Villa Soldati</td>\n",
       "      <td>15</td>\n",
       "    </tr>\n",
       "    <tr>\n",
       "      <th>...</th>\n",
       "      <td>...</td>\n",
       "      <td>...</td>\n",
       "      <td>...</td>\n",
       "    </tr>\n",
       "    <tr>\n",
       "      <th>649</th>\n",
       "      <td>6693230.000000</td>\n",
       "      <td>Villa Santa Rita</td>\n",
       "      <td>57</td>\n",
       "    </tr>\n",
       "    <tr>\n",
       "      <th>650</th>\n",
       "      <td>6942538.000000</td>\n",
       "      <td>Costa del Este</td>\n",
       "      <td>16</td>\n",
       "    </tr>\n",
       "    <tr>\n",
       "      <th>651</th>\n",
       "      <td>6942539.000000</td>\n",
       "      <td>Aguas Verdes</td>\n",
       "      <td>15</td>\n",
       "    </tr>\n",
       "    <tr>\n",
       "      <th>652</th>\n",
       "      <td>6942842.000000</td>\n",
       "      <td>Bella Italia</td>\n",
       "      <td>2</td>\n",
       "    </tr>\n",
       "    <tr>\n",
       "      <th>653</th>\n",
       "      <td>6948895.000000</td>\n",
       "      <td>La Cumbrecita</td>\n",
       "      <td>2</td>\n",
       "    </tr>\n",
       "  </tbody>\n",
       "</table>\n",
       "<p>654 rows × 3 columns</p>\n",
       "</div>"
      ],
      "text/plain": [
       "       geonames_id        place_name  count\n",
       "0   3427208.000000            Zelaya      7\n",
       "1   3427212.000000            Zárate      8\n",
       "2   3427326.000000             Wilde    139\n",
       "3   3427354.000000          Virreyes     39\n",
       "4   3427366.000000     Villa Soldati     15\n",
       "..             ...               ...    ...\n",
       "649 6693230.000000  Villa Santa Rita     57\n",
       "650 6942538.000000    Costa del Este     16\n",
       "651 6942539.000000      Aguas Verdes     15\n",
       "652 6942842.000000      Bella Italia      2\n",
       "653 6948895.000000     La Cumbrecita      2\n",
       "\n",
       "[654 rows x 3 columns]"
      ]
     },
     "execution_count": 257,
     "metadata": {},
     "output_type": "execute_result"
    }
   ],
   "source": [
    "# Exploramos el conteo de registros por cada combinación 'geonames_id' con 'place_name'\n",
    "\n",
    "analisis_geonames_id = data.groupby(['geonames_id','place_name']).agg({'operation':['count']}).sort_values(('geonames_id'))\n",
    "analisis_geonames_id.columns = analisis_geonames_id.columns.droplevel(level=0)\n",
    "analisis_geonames_id.reset_index(col_level=1, inplace=True)\n",
    "analisis_geonames_id"
   ]
  },
  {
   "cell_type": "markdown",
   "id": "b86ce7fc",
   "metadata": {},
   "source": [
    "Se presentan repeticiones para cada combinación, un indicio de la relación entre 'place_name' y 'geonames_id'"
   ]
  },
  {
   "cell_type": "code",
   "execution_count": 258,
   "id": "3e6f9d1e",
   "metadata": {},
   "outputs": [
    {
     "data": {
      "text/html": [
       "<div>\n",
       "<style scoped>\n",
       "    .dataframe tbody tr th:only-of-type {\n",
       "        vertical-align: middle;\n",
       "    }\n",
       "\n",
       "    .dataframe tbody tr th {\n",
       "        vertical-align: top;\n",
       "    }\n",
       "\n",
       "    .dataframe thead th {\n",
       "        text-align: right;\n",
       "    }\n",
       "</style>\n",
       "<table border=\"1\" class=\"dataframe\">\n",
       "  <thead>\n",
       "    <tr style=\"text-align: right;\">\n",
       "      <th></th>\n",
       "      <th>geonames_id</th>\n",
       "      <th>place_name</th>\n",
       "      <th>count</th>\n",
       "    </tr>\n",
       "  </thead>\n",
       "  <tbody>\n",
       "    <tr>\n",
       "      <th>59</th>\n",
       "      <td>3428927.000000</td>\n",
       "      <td>San José</td>\n",
       "      <td>10</td>\n",
       "    </tr>\n",
       "    <tr>\n",
       "      <th>60</th>\n",
       "      <td>3428927.000000</td>\n",
       "      <td>San Jose</td>\n",
       "      <td>5</td>\n",
       "    </tr>\n",
       "    <tr>\n",
       "      <th>109</th>\n",
       "      <td>3430234.000000</td>\n",
       "      <td>Palermo Soho</td>\n",
       "      <td>383</td>\n",
       "    </tr>\n",
       "    <tr>\n",
       "      <th>110</th>\n",
       "      <td>3430234.000000</td>\n",
       "      <td>Palermo</td>\n",
       "      <td>2741</td>\n",
       "    </tr>\n",
       "    <tr>\n",
       "      <th>180</th>\n",
       "      <td>3433359.000000</td>\n",
       "      <td>Ituzaingó</td>\n",
       "      <td>818</td>\n",
       "    </tr>\n",
       "    <tr>\n",
       "      <th>181</th>\n",
       "      <td>3433359.000000</td>\n",
       "      <td>Villa Udaondo</td>\n",
       "      <td>25</td>\n",
       "    </tr>\n",
       "    <tr>\n",
       "      <th>247</th>\n",
       "      <td>3435548.000000</td>\n",
       "      <td>Centro</td>\n",
       "      <td>229</td>\n",
       "    </tr>\n",
       "    <tr>\n",
       "      <th>248</th>\n",
       "      <td>3435548.000000</td>\n",
       "      <td>Centro / Microcentro</td>\n",
       "      <td>221</td>\n",
       "    </tr>\n",
       "    <tr>\n",
       "      <th>263</th>\n",
       "      <td>3435907.000000</td>\n",
       "      <td>Buenos Aires Interior</td>\n",
       "      <td>106</td>\n",
       "    </tr>\n",
       "    <tr>\n",
       "      <th>264</th>\n",
       "      <td>3435907.000000</td>\n",
       "      <td>Buenos Aires Costa Atlántica</td>\n",
       "      <td>27</td>\n",
       "    </tr>\n",
       "    <tr>\n",
       "      <th>265</th>\n",
       "      <td>3435907.000000</td>\n",
       "      <td>Bs.As. G.B.A. Zona Oeste</td>\n",
       "      <td>64</td>\n",
       "    </tr>\n",
       "    <tr>\n",
       "      <th>266</th>\n",
       "      <td>3435907.000000</td>\n",
       "      <td>Bs.As. G.B.A. Zona Norte</td>\n",
       "      <td>221</td>\n",
       "    </tr>\n",
       "    <tr>\n",
       "      <th>267</th>\n",
       "      <td>3435907.000000</td>\n",
       "      <td>Bs.As. G.B.A. Zona Sur</td>\n",
       "      <td>24</td>\n",
       "    </tr>\n",
       "  </tbody>\n",
       "</table>\n",
       "</div>"
      ],
      "text/plain": [
       "       geonames_id                    place_name  count\n",
       "59  3428927.000000                      San José     10\n",
       "60  3428927.000000                      San Jose      5\n",
       "109 3430234.000000                  Palermo Soho    383\n",
       "110 3430234.000000                       Palermo   2741\n",
       "180 3433359.000000                     Ituzaingó    818\n",
       "181 3433359.000000                 Villa Udaondo     25\n",
       "247 3435548.000000                        Centro    229\n",
       "248 3435548.000000          Centro / Microcentro    221\n",
       "263 3435907.000000         Buenos Aires Interior    106\n",
       "264 3435907.000000  Buenos Aires Costa Atlántica     27\n",
       "265 3435907.000000      Bs.As. G.B.A. Zona Oeste     64\n",
       "266 3435907.000000      Bs.As. G.B.A. Zona Norte    221\n",
       "267 3435907.000000        Bs.As. G.B.A. Zona Sur     24"
      ]
     },
     "execution_count": 258,
     "metadata": {},
     "output_type": "execute_result"
    }
   ],
   "source": [
    "# Exploramos geonames_id repetidos con diferente place_name\n",
    "\n",
    "geonames_id_dupli = analisis_geonames_id.loc[analisis_geonames_id['geonames_id'].duplicated(), 'geonames_id']\n",
    "analisis_geonames_id.loc[analisis_geonames_id['geonames_id'].isin(geonames_id_dupli)]"
   ]
  },
  {
   "cell_type": "code",
   "execution_count": 259,
   "id": "f2ad7a7d",
   "metadata": {},
   "outputs": [],
   "source": [
    "# Unificamos valores de place_name que están escritos de formas diferentes, por tildes o formas diferentes de indicar el mismo lugar\n",
    "\n",
    "data.loc[:,'place_name'] = data.loc[:,'place_name'].replace({'San José':'San Jose',\n",
    "                                                            'Palermo Soho':'Palermo',\n",
    "                                                            'Villa Udaondo':'Ituzaingó',\n",
    "                                                            'Centro/Microcentro':'Centro'\n",
    "                                                            }) "
   ]
  },
  {
   "cell_type": "code",
   "execution_count": 260,
   "id": "92320097",
   "metadata": {},
   "outputs": [],
   "source": [
    "# Ahora nos apoyamos en la columna 'place_with_parent_names' para corregir 'place_name' y volver a mapear el valor de geonames_id \n",
    "# correspondiente\n",
    "\n",
    "filtro = data['geonames_id'].isnull()\n",
    "data.loc[filtro, 'place_name'] = data.loc[filtro, 'place_with_parent_names'].apply(lambda x: x.split('|')[3])"
   ]
  },
  {
   "cell_type": "code",
   "execution_count": 261,
   "id": "29b83e70",
   "metadata": {},
   "outputs": [
    {
     "data": {
      "text/html": [
       "<div>\n",
       "<style scoped>\n",
       "    .dataframe tbody tr th:only-of-type {\n",
       "        vertical-align: middle;\n",
       "    }\n",
       "\n",
       "    .dataframe tbody tr th {\n",
       "        vertical-align: top;\n",
       "    }\n",
       "\n",
       "    .dataframe thead th {\n",
       "        text-align: right;\n",
       "    }\n",
       "</style>\n",
       "<table border=\"1\" class=\"dataframe\">\n",
       "  <thead>\n",
       "    <tr style=\"text-align: right;\">\n",
       "      <th></th>\n",
       "      <th>place_name</th>\n",
       "      <th>geonames_id_2</th>\n",
       "    </tr>\n",
       "  </thead>\n",
       "  <tbody>\n",
       "    <tr>\n",
       "      <th>0</th>\n",
       "      <td></td>\n",
       "      <td>nan</td>\n",
       "    </tr>\n",
       "    <tr>\n",
       "      <th>1</th>\n",
       "      <td>Abasto</td>\n",
       "      <td>3436521.000000</td>\n",
       "    </tr>\n",
       "    <tr>\n",
       "      <th>2</th>\n",
       "      <td>Acassuso</td>\n",
       "      <td>3436508.000000</td>\n",
       "    </tr>\n",
       "    <tr>\n",
       "      <th>3</th>\n",
       "      <td>Achiras</td>\n",
       "      <td>3866959.000000</td>\n",
       "    </tr>\n",
       "    <tr>\n",
       "      <th>4</th>\n",
       "      <td>Adolfo Alsina</td>\n",
       "      <td>3866926.000000</td>\n",
       "    </tr>\n",
       "  </tbody>\n",
       "</table>\n",
       "</div>"
      ],
      "text/plain": [
       "      place_name  geonames_id_2\n",
       "0                           nan\n",
       "1         Abasto 3436521.000000\n",
       "2       Acassuso 3436508.000000\n",
       "3        Achiras 3866959.000000\n",
       "4  Adolfo Alsina 3866926.000000"
      ]
     },
     "execution_count": 261,
     "metadata": {},
     "output_type": "execute_result"
    }
   ],
   "source": [
    "# Creamos una tabla en la que para cada place_name tengamos un único valor de geonames_id\n",
    "\n",
    "place_name_geonames_id = data.groupby('place_name').agg({'geonames_id':['max']}).reset_index()\n",
    "place_name_geonames_id.columns = place_name_geonames_id.columns.droplevel(level=1)\n",
    "place_name_geonames_id.rename(columns={'geonames_id':'geonames_id_2'}, inplace=True)\n",
    "place_name_geonames_id.head()"
   ]
  },
  {
   "cell_type": "code",
   "execution_count": 262,
   "id": "4a3ad61c",
   "metadata": {},
   "outputs": [],
   "source": [
    "# Ya que hemos corregido los valores de place_name en los registros donde geonames_id tiene valores nulos, haremos un merge con la\n",
    "# tabla creada en el paso anterior, generando una columna nueva de geoname_id, la cual nos servirá para imputar los valores nulos\n",
    "\n",
    "# Realizamos el merge con la tabla que tiene una combinación única de place_name, geonames_id\n",
    "data=data.merge(place_name_geonames_id, on='place_name', how='left')\n",
    "filtro = data['geonames_id'].isnull()\n",
    "# Imputamos valores nulos\n",
    "data.loc[filtro,'geonames_id'] = data.loc[filtro,'geonames_id_2']"
   ]
  },
  {
   "cell_type": "code",
   "execution_count": 263,
   "id": "918c37bc",
   "metadata": {},
   "outputs": [],
   "source": [
    "# Eliminamos la columna geonames_id_2\n",
    "data.drop('geonames_id_2', inplace=True, axis=1)"
   ]
  },
  {
   "cell_type": "code",
   "execution_count": 264,
   "id": "ca7fe7e2",
   "metadata": {},
   "outputs": [
    {
     "data": {
      "text/plain": [
       "1910"
      ]
     },
     "execution_count": 264,
     "metadata": {},
     "output_type": "execute_result"
    }
   ],
   "source": [
    "# Verificamos la cantidad final de valores nulos en la columna geonames_id\n",
    "data.loc[:,'geonames_id'].isnull().sum()"
   ]
  },
  {
   "cell_type": "markdown",
   "id": "fa44fa9a",
   "metadata": {},
   "source": [
    "#### Variables lat-lon, lat, lon"
   ]
  },
  {
   "cell_type": "code",
   "execution_count": 265,
   "id": "47482e06",
   "metadata": {},
   "outputs": [
    {
     "data": {
      "text/plain": [
       "lat-lon    48289\n",
       "lat        48289\n",
       "lon        48289\n",
       "dtype: int64"
      ]
     },
     "execution_count": 265,
     "metadata": {},
     "output_type": "execute_result"
    }
   ],
   "source": [
    "# Cantidad de valores nulos\n",
    "\n",
    "data.loc[:, ['lat-lon', 'lat', 'lon']].isnull().sum()"
   ]
  },
  {
   "cell_type": "code",
   "execution_count": 266,
   "id": "b7f9bd26",
   "metadata": {},
   "outputs": [
    {
     "name": "stdout",
     "output_type": "stream",
     "text": [
      "La proporción de data consistente en la columna lat y lon es 1.0 y 1.0 respectivamente\n"
     ]
    }
   ],
   "source": [
    "# Verificamos la consistencia entre los valores la columna lat-lon y lat, lon por separado.\n",
    "\n",
    "# Al hacer un split(',') sobre la columna 'lat-lon' podemos comparar lo obtenido con las columnas 'lat' y 'lon' por separado verificando\n",
    "# consistencia en la data. Aquí damos una tolerancia de +/-0.000001 por redondeos\n",
    "test=data.loc[data['lat-lon'].notnull()]\n",
    "prop_lat_consistente = ((test['lat-lon'].apply(lambda x: float(str(x).split(',')[0]))-0.000001<=test['lat']) &\n",
    "       (test['lat']<=test['lat-lon'].apply(lambda x: float(str(x).split(',')[0]))+0.000001)).mean()\n",
    "prop_lon_consistente = ((test['lat-lon'].apply(lambda x: float(str(x).split(',')[1]))-0.000001<=test['lon']) &\n",
    "       (test['lon']<=test['lat-lon'].apply(lambda x: float(str(x).split(',')[1]))+0.000001)).mean()\n",
    "\n",
    "print(f'La proporción de data consistente en la columna lat y lon es {prop_lat_consistente} y {prop_lon_consistente} respectivamente')"
   ]
  },
  {
   "cell_type": "markdown",
   "id": "a2c4f254",
   "metadata": {},
   "source": [
    "Podemos estar seguros que la información para aquellos registros donde tenemos valores no nulos es consistente"
   ]
  },
  {
   "cell_type": "markdown",
   "id": "d7f7150f",
   "metadata": {},
   "source": [
    "* Realizaremos una búsqueda de información relativa a la latitud y la longitud en la columna 'description'"
   ]
  },
  {
   "cell_type": "code",
   "execution_count": 267,
   "id": "fa0501d7",
   "metadata": {},
   "outputs": [],
   "source": [
    "# Explorar la columna 'description' es busca de 'lat'\n",
    "\n",
    "import re\n",
    "coincidencias = data['description'].apply(lambda x: re.search('^lat',str(x)))"
   ]
  },
  {
   "cell_type": "code",
   "execution_count": 268,
   "id": "1c7f6eb3",
   "metadata": {},
   "outputs": [
    {
     "data": {
      "text/plain": [
       "0.0"
      ]
     },
     "execution_count": 268,
     "metadata": {},
     "output_type": "execute_result"
    }
   ],
   "source": [
    "# Verificamos la proporción de registros en los que hay palabras que comiencen por 'lat'\n",
    "\n",
    "(coincidencias.values!=None).mean()"
   ]
  },
  {
   "cell_type": "code",
   "execution_count": 269,
   "id": "c2efb80e",
   "metadata": {},
   "outputs": [],
   "source": [
    "# Explorar la columna 'description' es busca de 'lon'\n",
    "\n",
    "import re\n",
    "coincidencias = data['description'].apply(lambda x: re.search('^lon',str(x)))"
   ]
  },
  {
   "cell_type": "code",
   "execution_count": 270,
   "id": "4b4f4114",
   "metadata": {},
   "outputs": [
    {
     "data": {
      "text/plain": [
       "0.0"
      ]
     },
     "execution_count": 270,
     "metadata": {},
     "output_type": "execute_result"
    }
   ],
   "source": [
    "# Verificamos la proporción de registros en los que hay palabras que comiencen por 'lon'\n",
    "\n",
    "(coincidencias.values!=None).mean()"
   ]
  },
  {
   "cell_type": "markdown",
   "id": "376782db",
   "metadata": {},
   "source": [
    "**Conclusiones columnas lat-lot, lat y lot**\n",
    "\n",
    "* La columna description no es útil para realizar imputación de datos relativa a latitud y longitud\n",
    "* No realizaremos imputación de estos datos a partir del promedio de coordenadas agrupando por las columnas place_name o geonames_id ya que creemos que la combinación del poder predictivo al focalizar primero un place_name y de forma más detallada las coordenadas de un inmueble es muy valiosa y no vale la pena un método de imputación con bajo estas condiciones."
   ]
  },
  {
   "cell_type": "markdown",
   "id": "1f4de149",
   "metadata": {},
   "source": [
    "#### Variables surface_total_in_m2 / surface_covered_in_m2"
   ]
  },
  {
   "cell_type": "code",
   "execution_count": 271,
   "id": "894216cd",
   "metadata": {},
   "outputs": [
    {
     "data": {
      "text/plain": [
       "surface_total_in_m2      38378\n",
       "surface_covered_in_m2    18853\n",
       "dtype: int64"
      ]
     },
     "execution_count": 271,
     "metadata": {},
     "output_type": "execute_result"
    }
   ],
   "source": [
    "# Cantidad de valores nulos \n",
    "\n",
    "data.loc[:,['surface_total_in_m2', 'surface_covered_in_m2']].isnull().sum()"
   ]
  },
  {
   "cell_type": "code",
   "execution_count": 272,
   "id": "dff187e4",
   "metadata": {},
   "outputs": [
    {
     "data": {
      "text/plain": [
       "(70899, 3)"
      ]
     },
     "execution_count": 272,
     "metadata": {},
     "output_type": "execute_result"
    }
   ],
   "source": [
    "# Creamos una tabla auxiliar para calcular los ratios entre las columnas de superficies total y cubierta\n",
    "\n",
    "analisis_surface_total = data.loc[data['surface_total_in_m2'].notnull()&\n",
    "                                data['surface_covered_in_m2'].notnull()&\n",
    "                                data['surface_covered_in_m2']>0,\n",
    "                               ['property_type', 'surface_total_in_m2', 'surface_covered_in_m2']]\n",
    "analisis_surface_total.shape"
   ]
  },
  {
   "cell_type": "code",
   "execution_count": 273,
   "id": "eeb11c8a",
   "metadata": {},
   "outputs": [],
   "source": [
    "# Hallamos un factor de área que se obtiene al dividir superficie total en superficie cubierta\n",
    "\n",
    "analisis_surface_total['ratio_surface_total_covered'] = analisis_surface_total['surface_total_in_m2']/\\\n",
    "analisis_surface_total['surface_covered_in_m2']"
   ]
  },
  {
   "cell_type": "code",
   "execution_count": 274,
   "id": "69726741",
   "metadata": {},
   "outputs": [
    {
     "data": {
      "text/plain": [
       "(64602, 7)"
      ]
     },
     "execution_count": 274,
     "metadata": {},
     "output_type": "execute_result"
    }
   ],
   "source": [
    "# Vamos a calcular el rango intercualtil, eliminar valores extremos y calcular el factor multiplicador de 'surface_covered_in_m2'\n",
    "# para calcular 'surface_total_in_m2'\n",
    "\n",
    "analisis_surface_total['percentil25']=analisis_surface_total.groupby('property_type')['ratio_surface_total_covered'].\\\n",
    "transform(np.percentile,25)\n",
    "analisis_surface_total['percentil75']=analisis_surface_total.groupby('property_type')['ratio_surface_total_covered'].\\\n",
    "transform(np.percentile,75)\n",
    "analisis_surface_total['rango_intercuartil'] = analisis_surface_total['percentil75'] - analisis_surface_total['percentil25']\n",
    "analisis_surface_total['ratio_surface_total_covered'] = np.where((analisis_surface_total['ratio_surface_total_covered']>=\n",
    "                                                                analisis_surface_total['percentil25']-\n",
    "                                                                  1.5*analisis_surface_total['rango_intercuartil'])\n",
    "                                                                 &\n",
    "                                                                 (analisis_surface_total['ratio_surface_total_covered']<=\n",
    "                                                                analisis_surface_total['percentil75']+\n",
    "                                                                  1.5*analisis_surface_total['rango_intercuartil']\n",
    "                                                                 ),\n",
    "                                                                 analisis_surface_total['ratio_surface_total_covered'],\n",
    "                                                                 -1\n",
    "                                                                )\n",
    "analisis_surface_total = analisis_surface_total.loc[analisis_surface_total['ratio_surface_total_covered']>0]\n",
    "analisis_surface_total.shape"
   ]
  },
  {
   "cell_type": "code",
   "execution_count": 275,
   "id": "aa4d5a19",
   "metadata": {},
   "outputs": [
    {
     "data": {
      "text/html": [
       "<div>\n",
       "<style scoped>\n",
       "    .dataframe tbody tr th:only-of-type {\n",
       "        vertical-align: middle;\n",
       "    }\n",
       "\n",
       "    .dataframe tbody tr th {\n",
       "        vertical-align: top;\n",
       "    }\n",
       "\n",
       "    .dataframe thead th {\n",
       "        text-align: right;\n",
       "    }\n",
       "</style>\n",
       "<table border=\"1\" class=\"dataframe\">\n",
       "  <thead>\n",
       "    <tr style=\"text-align: right;\">\n",
       "      <th></th>\n",
       "      <th>property_type</th>\n",
       "      <th>factor_surf</th>\n",
       "    </tr>\n",
       "  </thead>\n",
       "  <tbody>\n",
       "    <tr>\n",
       "      <th>0</th>\n",
       "      <td>PH</td>\n",
       "      <td>1.232484</td>\n",
       "    </tr>\n",
       "    <tr>\n",
       "      <th>1</th>\n",
       "      <td>apartment</td>\n",
       "      <td>1.097483</td>\n",
       "    </tr>\n",
       "    <tr>\n",
       "      <th>2</th>\n",
       "      <td>house</td>\n",
       "      <td>1.622468</td>\n",
       "    </tr>\n",
       "    <tr>\n",
       "      <th>3</th>\n",
       "      <td>store</td>\n",
       "      <td>1.000000</td>\n",
       "    </tr>\n",
       "  </tbody>\n",
       "</table>\n",
       "</div>"
      ],
      "text/plain": [
       "  property_type  factor_surf\n",
       "0            PH     1.232484\n",
       "1     apartment     1.097483\n",
       "2         house     1.622468\n",
       "3         store     1.000000"
      ]
     },
     "execution_count": 275,
     "metadata": {},
     "output_type": "execute_result"
    }
   ],
   "source": [
    "# Generamos la tabla con el ratio entre 'surface_total_in_m2' / 'surface_covered_in_m2'\n",
    "\n",
    "resumen_analisis_surface_total = analisis_surface_total.loc[:,['property_type','ratio_surface_total_covered']].groupby('property_type').\\\n",
    "describe().reset_index()\n",
    "resumen_analisis_surface_total.columns = resumen_analisis_surface_total.columns.droplevel(level=0)\n",
    "resumen_analisis_surface_total.rename(columns={'':'property_type','mean':'factor_surf'}, inplace=True)\n",
    "resumen_analisis_surface_total=resumen_analisis_surface_total.loc[:,['property_type', 'factor_surf']]\n",
    "resumen_analisis_surface_total"
   ]
  },
  {
   "cell_type": "code",
   "execution_count": 276,
   "id": "8ccdb18c",
   "metadata": {},
   "outputs": [],
   "source": [
    "# Realizamos un merge usando como key el tipo de propiedad y adicionamos la columna con el ratio de superficies a la data\n",
    "\n",
    "data = data.merge(resumen_analisis_surface_total, on='property_type', how='left')"
   ]
  },
  {
   "cell_type": "code",
   "execution_count": 277,
   "id": "47e88aa8",
   "metadata": {},
   "outputs": [],
   "source": [
    "# Imputando valores de la columna 'surface_total_in_m2'\n",
    "\n",
    "filtro_surface_total = data['surface_total_in_m2'].isnull()&data['surface_covered_in_m2'].notnull()\n",
    "data.loc[filtro_surface_total,'surface_total_in_m2'] = data['surface_covered_in_m2']*data['factor_surf']\n",
    "\n",
    "# Imputando valores de la columna 'surface_covered_in_m2'\n",
    "\n",
    "filtro_surface_covered = data['surface_covered_in_m2'].isnull()&data['surface_total_in_m2'].notnull()\n",
    "data.loc[filtro_surface_covered,'surface_covered_in_m2'] = data['surface_total_in_m2']/data['factor_surf']\n",
    "data.drop(columns=['factor_surf'], inplace=True)"
   ]
  },
  {
   "cell_type": "code",
   "execution_count": 278,
   "id": "c9118cc4",
   "metadata": {},
   "outputs": [
    {
     "data": {
      "text/plain": [
       "surface_total_in_m2      11992\n",
       "surface_covered_in_m2    11992\n",
       "dtype: int64"
      ]
     },
     "execution_count": 278,
     "metadata": {},
     "output_type": "execute_result"
    }
   ],
   "source": [
    "# Cantidad de valores nulos después de imputación\n",
    "\n",
    "data.loc[:,['surface_total_in_m2', 'surface_covered_in_m2']].isnull().sum()"
   ]
  },
  {
   "cell_type": "markdown",
   "id": "60ed5a03",
   "metadata": {},
   "source": [
    "#### Variable price_aprox_usd"
   ]
  },
  {
   "cell_type": "code",
   "execution_count": 279,
   "id": "0f470159",
   "metadata": {},
   "outputs": [
    {
     "data": {
      "text/plain": [
       "price_aprox_usd    17556\n",
       "dtype: int64"
      ]
     },
     "execution_count": 279,
     "metadata": {},
     "output_type": "execute_result"
    }
   ],
   "source": [
    "# Cantidad de valores nulos \n",
    "\n",
    "data.loc[:,['price_aprox_usd']].isnull().sum()"
   ]
  },
  {
   "cell_type": "code",
   "execution_count": 280,
   "id": "dad14a3d",
   "metadata": {},
   "outputs": [
    {
     "data": {
      "text/plain": [
       "count   98583.000000\n",
       "mean       17.644500\n",
       "std         0.000000\n",
       "min        17.644498\n",
       "25%        17.644500\n",
       "50%        17.644500\n",
       "75%        17.644500\n",
       "max        17.644500\n",
       "Name: tc, dtype: float64"
      ]
     },
     "execution_count": 280,
     "metadata": {},
     "output_type": "execute_result"
    }
   ],
   "source": [
    "# Realizamos un analisis de la TC (tasa de cambio)\n",
    "\n",
    "data['tc']=data['price_aprox_local_currency']/data['price_aprox_usd']\n",
    "data['tc'].describe()"
   ]
  },
  {
   "cell_type": "code",
   "execution_count": 281,
   "id": "4efe84ba",
   "metadata": {},
   "outputs": [
    {
     "data": {
      "text/plain": [
       "0"
      ]
     },
     "execution_count": 281,
     "metadata": {},
     "output_type": "execute_result"
    }
   ],
   "source": [
    "# Vamos a explorar la posibilidad de apoyarnos en la columna price_aprox_local_currency con la tasa de cambio calculada\n",
    "\n",
    "((data['price_aprox_usd'].isnull())&(data['price_aprox_local_currency'].notnull())).sum()"
   ]
  },
  {
   "cell_type": "markdown",
   "id": "eaad4551",
   "metadata": {},
   "source": [
    "A pesar de que prácticamente para todos los registros del dataset obtenemos una tasa de cambio de 17.6445, la cual se considera contundente, en todos los casos en los que price_aprox_usd es nulo, price_aprox_local_currency también es nulo."
   ]
  },
  {
   "cell_type": "code",
   "execution_count": 282,
   "id": "10af4b75",
   "metadata": {},
   "outputs": [
    {
     "data": {
      "text/plain": [
       "price_aprox_usd    17556\n",
       "dtype: int64"
      ]
     },
     "execution_count": 282,
     "metadata": {},
     "output_type": "execute_result"
    }
   ],
   "source": [
    "# Cantidad de valores nulos después de imputación\n",
    "\n",
    "data.drop(columns=['tc'], inplace=True)\n",
    "data.loc[:,['price_aprox_usd']].isnull().sum()"
   ]
  },
  {
   "cell_type": "markdown",
   "id": "ea76c255",
   "metadata": {},
   "source": [
    "### Definición de la Variable Target"
   ]
  },
  {
   "cell_type": "markdown",
   "id": "e25a0c21",
   "metadata": {},
   "source": [
    "Definimos como variable objetivo **'price_usd_per_m2'**, variable sobre la cual no realizaremos imputación de valores nulos. Elegimos esta variable ya que es comparable entre diferentes zonas y tipos de propiedad.\n",
    "\n",
    "**Nota:**\n",
    "No descartamos la posibilidad de modelar con la variable **price_aprox_usd** como target dado que finalmente no tuvo imputación de valores y cuenta con una menor cantidad de valores nulos que **'price_usd_per_m2'**"
   ]
  },
  {
   "cell_type": "markdown",
   "id": "757241b3",
   "metadata": {},
   "source": [
    "#### El proceso de imputación de valores a partir de regex en la columna 'description' se realizará en otro notebook."
   ]
  },
  {
   "cell_type": "code",
   "execution_count": null,
   "id": "500b73ad",
   "metadata": {},
   "outputs": [],
   "source": []
  },
  {
   "cell_type": "markdown",
   "id": "68ae703b",
   "metadata": {},
   "source": [
    "### Valores nulos al final de la imputación"
   ]
  },
  {
   "cell_type": "code",
   "execution_count": 289,
   "id": "9fb385c6",
   "metadata": {},
   "outputs": [
    {
     "data": {
      "text/html": [
       "<div>\n",
       "<style scoped>\n",
       "    .dataframe tbody tr th:only-of-type {\n",
       "        vertical-align: middle;\n",
       "    }\n",
       "\n",
       "    .dataframe tbody tr th {\n",
       "        vertical-align: top;\n",
       "    }\n",
       "\n",
       "    .dataframe thead th {\n",
       "        text-align: right;\n",
       "    }\n",
       "</style>\n",
       "<table border=\"1\" class=\"dataframe\">\n",
       "  <thead>\n",
       "    <tr style=\"text-align: right;\">\n",
       "      <th></th>\n",
       "      <th>cant_nulos</th>\n",
       "      <th>porcentaje_nulos</th>\n",
       "    </tr>\n",
       "  </thead>\n",
       "  <tbody>\n",
       "    <tr>\n",
       "      <th>operation</th>\n",
       "      <td>0</td>\n",
       "      <td>0.000000</td>\n",
       "    </tr>\n",
       "    <tr>\n",
       "      <th>property_type</th>\n",
       "      <td>0</td>\n",
       "      <td>0.000000</td>\n",
       "    </tr>\n",
       "    <tr>\n",
       "      <th>place_name</th>\n",
       "      <td>0</td>\n",
       "      <td>0.000198</td>\n",
       "    </tr>\n",
       "    <tr>\n",
       "      <th>place_with_parent_names</th>\n",
       "      <td>0</td>\n",
       "      <td>0.000000</td>\n",
       "    </tr>\n",
       "    <tr>\n",
       "      <th>country_name</th>\n",
       "      <td>0</td>\n",
       "      <td>0.000000</td>\n",
       "    </tr>\n",
       "    <tr>\n",
       "      <th>state_name</th>\n",
       "      <td>0</td>\n",
       "      <td>0.000000</td>\n",
       "    </tr>\n",
       "    <tr>\n",
       "      <th>geonames_id</th>\n",
       "      <td>1910</td>\n",
       "      <td>0.156535</td>\n",
       "    </tr>\n",
       "    <tr>\n",
       "      <th>lat-lon</th>\n",
       "      <td>48289</td>\n",
       "      <td>0.415783</td>\n",
       "    </tr>\n",
       "    <tr>\n",
       "      <th>lat</th>\n",
       "      <td>48289</td>\n",
       "      <td>0.415783</td>\n",
       "    </tr>\n",
       "    <tr>\n",
       "      <th>lon</th>\n",
       "      <td>48289</td>\n",
       "      <td>0.415783</td>\n",
       "    </tr>\n",
       "    <tr>\n",
       "      <th>price</th>\n",
       "      <td>17556</td>\n",
       "      <td>0.151162</td>\n",
       "    </tr>\n",
       "    <tr>\n",
       "      <th>currency</th>\n",
       "      <td>17557</td>\n",
       "      <td>0.151171</td>\n",
       "    </tr>\n",
       "    <tr>\n",
       "      <th>price_aprox_local_currency</th>\n",
       "      <td>17556</td>\n",
       "      <td>0.151162</td>\n",
       "    </tr>\n",
       "    <tr>\n",
       "      <th>price_aprox_usd</th>\n",
       "      <td>17556</td>\n",
       "      <td>0.151162</td>\n",
       "    </tr>\n",
       "    <tr>\n",
       "      <th>surface_total_in_m2</th>\n",
       "      <td>11992</td>\n",
       "      <td>0.330446</td>\n",
       "    </tr>\n",
       "    <tr>\n",
       "      <th>surface_covered_in_m2</th>\n",
       "      <td>11992</td>\n",
       "      <td>0.162330</td>\n",
       "    </tr>\n",
       "    <tr>\n",
       "      <th>price_usd_per_m2</th>\n",
       "      <td>49289</td>\n",
       "      <td>0.424393</td>\n",
       "    </tr>\n",
       "    <tr>\n",
       "      <th>price_per_m2</th>\n",
       "      <td>30443</td>\n",
       "      <td>0.262123</td>\n",
       "    </tr>\n",
       "    <tr>\n",
       "      <th>floor</th>\n",
       "      <td>108481</td>\n",
       "      <td>0.934054</td>\n",
       "    </tr>\n",
       "    <tr>\n",
       "      <th>rooms</th>\n",
       "      <td>69941</td>\n",
       "      <td>0.602213</td>\n",
       "    </tr>\n",
       "    <tr>\n",
       "      <th>expenses</th>\n",
       "      <td>102055</td>\n",
       "      <td>0.878724</td>\n",
       "    </tr>\n",
       "    <tr>\n",
       "      <th>description</th>\n",
       "      <td>2</td>\n",
       "      <td>0.000017</td>\n",
       "    </tr>\n",
       "    <tr>\n",
       "      <th>title</th>\n",
       "      <td>0</td>\n",
       "      <td>0.000000</td>\n",
       "    </tr>\n",
       "  </tbody>\n",
       "</table>\n",
       "</div>"
      ],
      "text/plain": [
       "                            cant_nulos  porcentaje_nulos\n",
       "operation                            0          0.000000\n",
       "property_type                        0          0.000000\n",
       "place_name                           0          0.000198\n",
       "place_with_parent_names              0          0.000000\n",
       "country_name                         0          0.000000\n",
       "state_name                           0          0.000000\n",
       "geonames_id                       1910          0.156535\n",
       "lat-lon                          48289          0.415783\n",
       "lat                              48289          0.415783\n",
       "lon                              48289          0.415783\n",
       "price                            17556          0.151162\n",
       "currency                         17557          0.151171\n",
       "price_aprox_local_currency       17556          0.151162\n",
       "price_aprox_usd                  17556          0.151162\n",
       "surface_total_in_m2              11992          0.330446\n",
       "surface_covered_in_m2            11992          0.162330\n",
       "price_usd_per_m2                 49289          0.424393\n",
       "price_per_m2                     30443          0.262123\n",
       "floor                           108481          0.934054\n",
       "rooms                            69941          0.602213\n",
       "expenses                        102055          0.878724\n",
       "description                          2          0.000017\n",
       "title                                0          0.000000"
      ]
     },
     "execution_count": 289,
     "metadata": {},
     "output_type": "execute_result"
    }
   ],
   "source": [
    "val_nulos_final = pd.DataFrame(data.isnull().sum(), columns=['cant_nulos'])\n",
    "\n",
    "val_nulos_final['porcentaje_nulos'] = val_nulos_inicial['cant_nulos']/data.shape[0]\n",
    "val_nulos_final"
   ]
  },
  {
   "cell_type": "markdown",
   "id": "7f579da1",
   "metadata": {},
   "source": [
    "### Comparativa de valores nulos del dataset original vs. dataset con valores imputados"
   ]
  },
  {
   "cell_type": "code",
   "execution_count": 290,
   "id": "55bd9e38",
   "metadata": {},
   "outputs": [
    {
     "data": {
      "text/html": [
       "<div>\n",
       "<style scoped>\n",
       "    .dataframe tbody tr th:only-of-type {\n",
       "        vertical-align: middle;\n",
       "    }\n",
       "\n",
       "    .dataframe tbody tr th {\n",
       "        vertical-align: top;\n",
       "    }\n",
       "\n",
       "    .dataframe thead th {\n",
       "        text-align: right;\n",
       "    }\n",
       "</style>\n",
       "<table border=\"1\" class=\"dataframe\">\n",
       "  <thead>\n",
       "    <tr style=\"text-align: right;\">\n",
       "      <th></th>\n",
       "      <th>cant_nulos_inicial</th>\n",
       "      <th>porcentaje_nulos_inicial</th>\n",
       "      <th>cant_nulos_final</th>\n",
       "      <th>porcentaje_nulos_final</th>\n",
       "      <th>cant_recuperados</th>\n",
       "    </tr>\n",
       "  </thead>\n",
       "  <tbody>\n",
       "    <tr>\n",
       "      <th>operation</th>\n",
       "      <td>0</td>\n",
       "      <td>0.000000</td>\n",
       "      <td>0</td>\n",
       "      <td>0.000000</td>\n",
       "      <td>0</td>\n",
       "    </tr>\n",
       "    <tr>\n",
       "      <th>property_type</th>\n",
       "      <td>0</td>\n",
       "      <td>0.000000</td>\n",
       "      <td>0</td>\n",
       "      <td>0.000000</td>\n",
       "      <td>0</td>\n",
       "    </tr>\n",
       "    <tr>\n",
       "      <th>place_name</th>\n",
       "      <td>23</td>\n",
       "      <td>0.000198</td>\n",
       "      <td>0</td>\n",
       "      <td>0.000198</td>\n",
       "      <td>23</td>\n",
       "    </tr>\n",
       "    <tr>\n",
       "      <th>place_with_parent_names</th>\n",
       "      <td>0</td>\n",
       "      <td>0.000000</td>\n",
       "      <td>0</td>\n",
       "      <td>0.000000</td>\n",
       "      <td>0</td>\n",
       "    </tr>\n",
       "    <tr>\n",
       "      <th>country_name</th>\n",
       "      <td>0</td>\n",
       "      <td>0.000000</td>\n",
       "      <td>0</td>\n",
       "      <td>0.000000</td>\n",
       "      <td>0</td>\n",
       "    </tr>\n",
       "    <tr>\n",
       "      <th>state_name</th>\n",
       "      <td>0</td>\n",
       "      <td>0.000000</td>\n",
       "      <td>0</td>\n",
       "      <td>0.000000</td>\n",
       "      <td>0</td>\n",
       "    </tr>\n",
       "    <tr>\n",
       "      <th>geonames_id</th>\n",
       "      <td>18180</td>\n",
       "      <td>0.156535</td>\n",
       "      <td>1910</td>\n",
       "      <td>0.156535</td>\n",
       "      <td>16270</td>\n",
       "    </tr>\n",
       "    <tr>\n",
       "      <th>lat-lon</th>\n",
       "      <td>48289</td>\n",
       "      <td>0.415783</td>\n",
       "      <td>48289</td>\n",
       "      <td>0.415783</td>\n",
       "      <td>0</td>\n",
       "    </tr>\n",
       "    <tr>\n",
       "      <th>lat</th>\n",
       "      <td>48289</td>\n",
       "      <td>0.415783</td>\n",
       "      <td>48289</td>\n",
       "      <td>0.415783</td>\n",
       "      <td>0</td>\n",
       "    </tr>\n",
       "    <tr>\n",
       "      <th>lon</th>\n",
       "      <td>48289</td>\n",
       "      <td>0.415783</td>\n",
       "      <td>48289</td>\n",
       "      <td>0.415783</td>\n",
       "      <td>0</td>\n",
       "    </tr>\n",
       "    <tr>\n",
       "      <th>price</th>\n",
       "      <td>17556</td>\n",
       "      <td>0.151162</td>\n",
       "      <td>17556</td>\n",
       "      <td>0.151162</td>\n",
       "      <td>0</td>\n",
       "    </tr>\n",
       "    <tr>\n",
       "      <th>currency</th>\n",
       "      <td>17557</td>\n",
       "      <td>0.151171</td>\n",
       "      <td>17557</td>\n",
       "      <td>0.151171</td>\n",
       "      <td>0</td>\n",
       "    </tr>\n",
       "    <tr>\n",
       "      <th>price_aprox_local_currency</th>\n",
       "      <td>17556</td>\n",
       "      <td>0.151162</td>\n",
       "      <td>17556</td>\n",
       "      <td>0.151162</td>\n",
       "      <td>0</td>\n",
       "    </tr>\n",
       "    <tr>\n",
       "      <th>price_aprox_usd</th>\n",
       "      <td>17556</td>\n",
       "      <td>0.151162</td>\n",
       "      <td>17556</td>\n",
       "      <td>0.151162</td>\n",
       "      <td>0</td>\n",
       "    </tr>\n",
       "    <tr>\n",
       "      <th>surface_total_in_m2</th>\n",
       "      <td>38378</td>\n",
       "      <td>0.330446</td>\n",
       "      <td>11992</td>\n",
       "      <td>0.330446</td>\n",
       "      <td>26386</td>\n",
       "    </tr>\n",
       "    <tr>\n",
       "      <th>surface_covered_in_m2</th>\n",
       "      <td>18853</td>\n",
       "      <td>0.162330</td>\n",
       "      <td>11992</td>\n",
       "      <td>0.162330</td>\n",
       "      <td>6861</td>\n",
       "    </tr>\n",
       "    <tr>\n",
       "      <th>price_usd_per_m2</th>\n",
       "      <td>49289</td>\n",
       "      <td>0.424393</td>\n",
       "      <td>49289</td>\n",
       "      <td>0.424393</td>\n",
       "      <td>0</td>\n",
       "    </tr>\n",
       "    <tr>\n",
       "      <th>price_per_m2</th>\n",
       "      <td>30443</td>\n",
       "      <td>0.262123</td>\n",
       "      <td>30443</td>\n",
       "      <td>0.262123</td>\n",
       "      <td>0</td>\n",
       "    </tr>\n",
       "    <tr>\n",
       "      <th>floor</th>\n",
       "      <td>108481</td>\n",
       "      <td>0.934054</td>\n",
       "      <td>108481</td>\n",
       "      <td>0.934054</td>\n",
       "      <td>0</td>\n",
       "    </tr>\n",
       "    <tr>\n",
       "      <th>rooms</th>\n",
       "      <td>69941</td>\n",
       "      <td>0.602213</td>\n",
       "      <td>69941</td>\n",
       "      <td>0.602213</td>\n",
       "      <td>0</td>\n",
       "    </tr>\n",
       "    <tr>\n",
       "      <th>expenses</th>\n",
       "      <td>102055</td>\n",
       "      <td>0.878724</td>\n",
       "      <td>102055</td>\n",
       "      <td>0.878724</td>\n",
       "      <td>0</td>\n",
       "    </tr>\n",
       "    <tr>\n",
       "      <th>description</th>\n",
       "      <td>2</td>\n",
       "      <td>0.000017</td>\n",
       "      <td>2</td>\n",
       "      <td>0.000017</td>\n",
       "      <td>0</td>\n",
       "    </tr>\n",
       "    <tr>\n",
       "      <th>title</th>\n",
       "      <td>0</td>\n",
       "      <td>0.000000</td>\n",
       "      <td>0</td>\n",
       "      <td>0.000000</td>\n",
       "      <td>0</td>\n",
       "    </tr>\n",
       "  </tbody>\n",
       "</table>\n",
       "</div>"
      ],
      "text/plain": [
       "                            cant_nulos_inicial  porcentaje_nulos_inicial  \\\n",
       "operation                                    0                  0.000000   \n",
       "property_type                                0                  0.000000   \n",
       "place_name                                  23                  0.000198   \n",
       "place_with_parent_names                      0                  0.000000   \n",
       "country_name                                 0                  0.000000   \n",
       "state_name                                   0                  0.000000   \n",
       "geonames_id                              18180                  0.156535   \n",
       "lat-lon                                  48289                  0.415783   \n",
       "lat                                      48289                  0.415783   \n",
       "lon                                      48289                  0.415783   \n",
       "price                                    17556                  0.151162   \n",
       "currency                                 17557                  0.151171   \n",
       "price_aprox_local_currency               17556                  0.151162   \n",
       "price_aprox_usd                          17556                  0.151162   \n",
       "surface_total_in_m2                      38378                  0.330446   \n",
       "surface_covered_in_m2                    18853                  0.162330   \n",
       "price_usd_per_m2                         49289                  0.424393   \n",
       "price_per_m2                             30443                  0.262123   \n",
       "floor                                   108481                  0.934054   \n",
       "rooms                                    69941                  0.602213   \n",
       "expenses                                102055                  0.878724   \n",
       "description                                  2                  0.000017   \n",
       "title                                        0                  0.000000   \n",
       "\n",
       "                            cant_nulos_final  porcentaje_nulos_final  \\\n",
       "operation                                  0                0.000000   \n",
       "property_type                              0                0.000000   \n",
       "place_name                                 0                0.000198   \n",
       "place_with_parent_names                    0                0.000000   \n",
       "country_name                               0                0.000000   \n",
       "state_name                                 0                0.000000   \n",
       "geonames_id                             1910                0.156535   \n",
       "lat-lon                                48289                0.415783   \n",
       "lat                                    48289                0.415783   \n",
       "lon                                    48289                0.415783   \n",
       "price                                  17556                0.151162   \n",
       "currency                               17557                0.151171   \n",
       "price_aprox_local_currency             17556                0.151162   \n",
       "price_aprox_usd                        17556                0.151162   \n",
       "surface_total_in_m2                    11992                0.330446   \n",
       "surface_covered_in_m2                  11992                0.162330   \n",
       "price_usd_per_m2                       49289                0.424393   \n",
       "price_per_m2                           30443                0.262123   \n",
       "floor                                 108481                0.934054   \n",
       "rooms                                  69941                0.602213   \n",
       "expenses                              102055                0.878724   \n",
       "description                                2                0.000017   \n",
       "title                                      0                0.000000   \n",
       "\n",
       "                            cant_recuperados  \n",
       "operation                                  0  \n",
       "property_type                              0  \n",
       "place_name                                23  \n",
       "place_with_parent_names                    0  \n",
       "country_name                               0  \n",
       "state_name                                 0  \n",
       "geonames_id                            16270  \n",
       "lat-lon                                    0  \n",
       "lat                                        0  \n",
       "lon                                        0  \n",
       "price                                      0  \n",
       "currency                                   0  \n",
       "price_aprox_local_currency                 0  \n",
       "price_aprox_usd                            0  \n",
       "surface_total_in_m2                    26386  \n",
       "surface_covered_in_m2                   6861  \n",
       "price_usd_per_m2                           0  \n",
       "price_per_m2                               0  \n",
       "floor                                      0  \n",
       "rooms                                      0  \n",
       "expenses                                   0  \n",
       "description                                0  \n",
       "title                                      0  "
      ]
     },
     "execution_count": 290,
     "metadata": {},
     "output_type": "execute_result"
    }
   ],
   "source": [
    "val_nulos_comparacion = val_nulos_inicial.merge(val_nulos_final, how='left', \n",
    "                                                left_index=True, right_index=True, \n",
    "                                                suffixes=('_inicial', '_final'))\n",
    "val_nulos_comparacion['cant_recuperados'] = val_nulos_comparacion['cant_nulos_inicial'] - val_nulos_comparacion['cant_nulos_final']\n",
    "val_nulos_comparacion"
   ]
  },
  {
   "cell_type": "markdown",
   "id": "90be7e39",
   "metadata": {},
   "source": [
    "Tras realizar el proceso de imputación de datos, hemos imputado valores en las columnas 'place_name', 'geonames_id', 'surface_total_in_m2' y 'surface_covered_in_m2', siendo las 3 últimas las más significativas."
   ]
  },
  {
   "cell_type": "code",
   "execution_count": null,
   "id": "8f2ea10e",
   "metadata": {},
   "outputs": [],
   "source": []
  },
  {
   "cell_type": "markdown",
   "id": "63caf10f",
   "metadata": {},
   "source": [
    "### Análisis de valores extremos"
   ]
  },
  {
   "cell_type": "code",
   "execution_count": 342,
   "id": "f3fd5e36",
   "metadata": {},
   "outputs": [],
   "source": [
    "#respaldo_data = data.copy()"
   ]
  },
  {
   "cell_type": "code",
   "execution_count": 815,
   "id": "a7997c14",
   "metadata": {},
   "outputs": [],
   "source": [
    "#data = respaldo_data.copy()\n",
    "#data.shape"
   ]
  },
  {
   "cell_type": "code",
   "execution_count": 816,
   "id": "a552fd6a",
   "metadata": {},
   "outputs": [],
   "source": [
    "# Seteamos un formato de impresión para que se muestren 3 cifras decimales.\n",
    "\n",
    "pd.set_option('display.float_format', lambda x: '%.3f' % x)"
   ]
  },
  {
   "cell_type": "code",
   "execution_count": 817,
   "id": "7864f051",
   "metadata": {},
   "outputs": [],
   "source": [
    "# Creamos una función para asignar el valor de -1 para aquellos valores considerados extremos, menores a p25 - 1.5 rango intercuartil \n",
    "# y mayores a p75 + 1.5 rango intercuartil\n",
    "\n",
    "def marca_valores_extremos(data, columna, filtro):\n",
    "    data_arreglo = data.copy()\n",
    "    data_arreglo.loc[filtro&\n",
    "             ((data_arreglo[columna]<(data_arreglo['25%']-1.5*data_arreglo['rango_intercuartil']))|\n",
    "              (data_arreglo[columna]>(data_arreglo['75%']+1.5*data_arreglo['rango_intercuartil'])))&\n",
    "             data_arreglo['rango_intercuartil']>0.1,'auxiliar'] = True\n",
    "    \n",
    "    data_arreglo = data_arreglo.loc[:, 'auxiliar'].values\n",
    "    \n",
    "    return data_arreglo"
   ]
  },
  {
   "cell_type": "markdown",
   "id": "b5a14ed2",
   "metadata": {},
   "source": [
    "#### Valores extremos variable 'price_usd_per_m2'"
   ]
  },
  {
   "cell_type": "code",
   "execution_count": 818,
   "id": "fd206a11",
   "metadata": {},
   "outputs": [],
   "source": [
    "# Construimos una tabla base para calcular los valores límite de price_usd_per_m2 de acuerdo al property_type y place_name\n",
    "\n",
    "tabla_base = data.loc[data['price_usd_per_m2'].notnull()&\n",
    "                                data['property_type'].notnull()&\n",
    "                                data[\"place_name\"].notnull(),\n",
    "                               ['property_type','place_name','price_usd_per_m2']]"
   ]
  },
  {
   "cell_type": "code",
   "execution_count": 819,
   "id": "83bf2bfe",
   "metadata": {},
   "outputs": [],
   "source": [
    "# Calculamos p25, p75 y rango intercuartil por cada combinación property_type, place_name.\n",
    "\n",
    "valores_referencia =tabla_base.groupby(['property_type','place_name'])[\"price_usd_per_m2\"].describe().\\\n",
    "reset_index()[['property_type','place_name','25%','75%']]\n",
    "\n",
    "valores_referencia['rango_intercuartil'] = valores_referencia['75%'] - valores_referencia['25%']"
   ]
  },
  {
   "cell_type": "code",
   "execution_count": 820,
   "id": "511af5b0",
   "metadata": {},
   "outputs": [
    {
     "data": {
      "text/html": [
       "<div>\n",
       "<style scoped>\n",
       "    .dataframe tbody tr th:only-of-type {\n",
       "        vertical-align: middle;\n",
       "    }\n",
       "\n",
       "    .dataframe tbody tr th {\n",
       "        vertical-align: top;\n",
       "    }\n",
       "\n",
       "    .dataframe thead th {\n",
       "        text-align: right;\n",
       "    }\n",
       "</style>\n",
       "<table border=\"1\" class=\"dataframe\">\n",
       "  <thead>\n",
       "    <tr style=\"text-align: right;\">\n",
       "      <th></th>\n",
       "      <th>property_type</th>\n",
       "      <th>place_name</th>\n",
       "      <th>25%</th>\n",
       "      <th>75%</th>\n",
       "      <th>rango_intercuartil</th>\n",
       "    </tr>\n",
       "  </thead>\n",
       "  <tbody>\n",
       "    <tr>\n",
       "      <th>0</th>\n",
       "      <td>PH</td>\n",
       "      <td>Abasto</td>\n",
       "      <td>1000.000</td>\n",
       "      <td>2000.000</td>\n",
       "      <td>1000.000</td>\n",
       "    </tr>\n",
       "    <tr>\n",
       "      <th>1</th>\n",
       "      <td>PH</td>\n",
       "      <td>Acassuso</td>\n",
       "      <td>998.412</td>\n",
       "      <td>2800.000</td>\n",
       "      <td>1801.588</td>\n",
       "    </tr>\n",
       "  </tbody>\n",
       "</table>\n",
       "</div>"
      ],
      "text/plain": [
       "  property_type place_name      25%      75%  rango_intercuartil\n",
       "0            PH     Abasto 1000.000 2000.000            1000.000\n",
       "1            PH   Acassuso  998.412 2800.000            1801.588"
      ]
     },
     "execution_count": 820,
     "metadata": {},
     "output_type": "execute_result"
    }
   ],
   "source": [
    "valores_referencia.head(2)"
   ]
  },
  {
   "cell_type": "code",
   "execution_count": 821,
   "id": "5c1415d8",
   "metadata": {},
   "outputs": [],
   "source": [
    "# Anadimos las columnas de p25, p75 y rango intercuartil a nuestra data\n",
    "\n",
    "data = data.merge(valores_referencia,how=\"left\",on=[\"property_type\",\"place_name\"])"
   ]
  },
  {
   "cell_type": "code",
   "execution_count": 822,
   "id": "cdca6d1c",
   "metadata": {},
   "outputs": [],
   "source": [
    "# Marcación de valores extremos\n",
    "\n",
    "filtro = data['price_usd_per_m2'].notnull()\n",
    "\n",
    "data.loc[:,'valores_extremos'] = marca_valores_extremos(data, 'price_usd_per_m2', filtro)"
   ]
  },
  {
   "cell_type": "code",
   "execution_count": 823,
   "id": "454dd8ad",
   "metadata": {},
   "outputs": [
    {
     "data": {
      "text/plain": [
       "2753"
      ]
     },
     "execution_count": 823,
     "metadata": {},
     "output_type": "execute_result"
    }
   ],
   "source": [
    "# Cantidad de valores extremos en la columna price_usd_per_m2\n",
    "\n",
    "data.loc[data['valores_extremos']==True].shape[0]"
   ]
  },
  {
   "cell_type": "code",
   "execution_count": 824,
   "id": "45b9c481",
   "metadata": {},
   "outputs": [],
   "source": [
    "# Tamaño del dataset antes de eliminar valores extremos\n",
    "\n",
    "tamano_inicial = data.shape[0]"
   ]
  },
  {
   "cell_type": "code",
   "execution_count": 825,
   "id": "7a377f36",
   "metadata": {},
   "outputs": [],
   "source": [
    "# Eliminación de valores extremos\n",
    "\n",
    "data.drop(data.loc[data['valores_extremos']==True].index, inplace=True)\n",
    "\n",
    "# Eliminamos las columnas que creamos como auxiliares\n",
    "\n",
    "data.drop(columns={\"25%\",\"75%\",\"rango_intercuartil\",'valores_extremos'},inplace=True)"
   ]
  },
  {
   "cell_type": "code",
   "execution_count": 826,
   "id": "9105552a",
   "metadata": {},
   "outputs": [],
   "source": [
    "# Tamaño del dataset después de eliminar valores extremos\n",
    "\n",
    "tamano_final = data.shape[0]"
   ]
  },
  {
   "cell_type": "code",
   "execution_count": 827,
   "id": "3ae91774",
   "metadata": {},
   "outputs": [
    {
     "name": "stdout",
     "output_type": "stream",
     "text": [
      "Cantidad de registros antes de eliminar valores extremos:  116140 \n",
      " Cantidad de registros después de eliminar valores extremos:  113387\n"
     ]
    }
   ],
   "source": [
    "print('Cantidad de registros antes de eliminar valores extremos: ', tamano_inicial,'\\n',\n",
    "      'Cantidad de registros después de eliminar valores extremos: ', tamano_final)"
   ]
  },
  {
   "cell_type": "markdown",
   "id": "8ac95a01",
   "metadata": {},
   "source": [
    "##### Distribución de precio m2 según property_type y place_name después de eliminación de valores extremos."
   ]
  },
  {
   "cell_type": "markdown",
   "id": "a6192e28",
   "metadata": {},
   "source": [
    "##### Distribución de precios m2 de apartamentos"
   ]
  },
  {
   "cell_type": "code",
   "execution_count": 828,
   "id": "5c356f8d",
   "metadata": {},
   "outputs": [
    {
     "data": {
      "image/png": "[encoded data removed]",
      "text/plain": [
       "<Figure size 1008x360 with 2 Axes>"
      ]
     },
     "metadata": {
      "needs_background": "light"
     },
     "output_type": "display_data"
    }
   ],
   "source": [
    "precios = data.loc[data['property_type']=='apartment','price_usd_per_m2']\n",
    "\n",
    "plt.figure(1, figsize=(14,5))\n",
    "\n",
    "plt.subplot(1,2,1)\n",
    "plt.title('Histograma de precios de apartamentos')\n",
    "plt.hist(precios)\n",
    "plt.xlabel('Precio m2')\n",
    "plt.ylabel('Cantidad')\n",
    "\n",
    "plt.subplot(1,2,2)\n",
    "plt.title('Distribución de precios m2 de apartamentos')\n",
    "sns.boxplot(y=precios)\n",
    "plt.xlabel('Apartamentos')\n",
    "plt.ylabel('Distribución de precios m2')\n",
    "plt.show()"
   ]
  },
  {
   "cell_type": "markdown",
   "id": "e282e19a",
   "metadata": {},
   "source": [
    "##### Distribución de precios m2 de casas"
   ]
  },
  {
   "cell_type": "code",
   "execution_count": 829,
   "id": "15123ea7",
   "metadata": {},
   "outputs": [
    {
     "data": {
      "image/png": "[encoded data removed]",
      "text/plain": [
       "<Figure size 1008x360 with 2 Axes>"
      ]
     },
     "metadata": {
      "needs_background": "light"
     },
     "output_type": "display_data"
    }
   ],
   "source": [
    "precios = data.loc[data['property_type']=='house','price_usd_per_m2']\n",
    "\n",
    "plt.figure(1, figsize=(14,5))\n",
    "\n",
    "plt.subplot(1,2,1)\n",
    "plt.title('Histograma de precios de casas')\n",
    "plt.hist(precios)\n",
    "plt.xlabel('Precio m2')\n",
    "plt.ylabel('Cantidad')\n",
    "\n",
    "plt.subplot(1,2,2)\n",
    "plt.title('Distribución de precios m2 de casas')\n",
    "sns.boxplot(y=precios)\n",
    "plt.xlabel('Casas')\n",
    "plt.ylabel('Distribución de precios m2')\n",
    "plt.show()"
   ]
  },
  {
   "cell_type": "markdown",
   "id": "fd45ccfd",
   "metadata": {},
   "source": [
    "##### Distribución de precios m2 de PH"
   ]
  },
  {
   "cell_type": "code",
   "execution_count": 830,
   "id": "71bedc00",
   "metadata": {},
   "outputs": [
    {
     "data": {
      "image/png": "[encoded data removed]",
      "text/plain": [
       "<Figure size 1008x360 with 2 Axes>"
      ]
     },
     "metadata": {
      "needs_background": "light"
     },
     "output_type": "display_data"
    }
   ],
   "source": [
    "precios = data.loc[data['property_type']=='PH','price_usd_per_m2']\n",
    "\n",
    "plt.figure(1, figsize=(14,5))\n",
    "\n",
    "plt.subplot(1,2,1)\n",
    "plt.title('Histograma de precios de PH')\n",
    "plt.hist(precios)\n",
    "plt.xlabel('Precio m2')\n",
    "plt.ylabel('Cantidad')\n",
    "\n",
    "plt.subplot(1,2,2)\n",
    "plt.title('Distribución de precios m2 de PH')\n",
    "sns.boxplot(y=precios)\n",
    "plt.xlabel('Penthouses')\n",
    "plt.ylabel('Distribución de precios m2')\n",
    "plt.show()"
   ]
  },
  {
   "cell_type": "markdown",
   "id": "81f44c1d",
   "metadata": {},
   "source": [
    "##### Distribución de precios m2 de tiendas"
   ]
  },
  {
   "cell_type": "code",
   "execution_count": 831,
   "id": "2f00839f",
   "metadata": {},
   "outputs": [
    {
     "data": {
      "image/png": "[encoded data removed]",
      "text/plain": [
       "<Figure size 1008x360 with 2 Axes>"
      ]
     },
     "metadata": {
      "needs_background": "light"
     },
     "output_type": "display_data"
    }
   ],
   "source": [
    "precios = data.loc[data['property_type']=='store','price_usd_per_m2']\n",
    "\n",
    "plt.figure(1, figsize=(14,5))\n",
    "\n",
    "plt.subplot(1,2,1)\n",
    "plt.title('Histograma de precios de Tiendas')\n",
    "plt.hist(precios)\n",
    "plt.xlabel('Precio m2')\n",
    "plt.ylabel('Cantidad')\n",
    "\n",
    "plt.subplot(1,2,2)\n",
    "plt.title('Distribución de precios m2 de tiendas')\n",
    "sns.boxplot(y=precios)\n",
    "plt.xlabel('Tiendas')\n",
    "plt.ylabel('Distribución de precios m2')\n",
    "plt.show()"
   ]
  },
  {
   "cell_type": "markdown",
   "id": "46aa8700",
   "metadata": {},
   "source": [
    "**Conclusiones imputacion precio m2**: Vemos que la distribución de precio por m2 según el tipo de propiedad tiene una distribución más amigable que la observada en el análisis exploratorio."
   ]
  },
  {
   "cell_type": "markdown",
   "id": "9dda4ed6",
   "metadata": {},
   "source": [
    "#### Valores extremos variable 'surface_total_in_m2'"
   ]
  },
  {
   "cell_type": "code",
   "execution_count": 832,
   "id": "e431b143",
   "metadata": {},
   "outputs": [],
   "source": [
    "# Construimos una tabla base para calcular los valores límite de price_usd_per_m2\n",
    "\n",
    "tabla_base = data.loc[data['surface_total_in_m2'].notnull()&\n",
    "                                data['property_type'].notnull(),\n",
    "                               ['property_type','surface_total_in_m2']]"
   ]
  },
  {
   "cell_type": "code",
   "execution_count": 833,
   "id": "95f6f08d",
   "metadata": {},
   "outputs": [],
   "source": [
    "# Calculamos p25, p75 y rango intercuartil por cada combinación property_type, place_name.\n",
    "\n",
    "valores_referencia =tabla_base.groupby(['property_type'])[\"surface_total_in_m2\"].describe().\\\n",
    "reset_index()[['property_type','25%','75%']]\n",
    "\n",
    "valores_referencia['rango_intercuartil'] = valores_referencia['75%'] - valores_referencia['25%']"
   ]
  },
  {
   "cell_type": "code",
   "execution_count": 834,
   "id": "cd62ada3",
   "metadata": {},
   "outputs": [
    {
     "data": {
      "text/html": [
       "<div>\n",
       "<style scoped>\n",
       "    .dataframe tbody tr th:only-of-type {\n",
       "        vertical-align: middle;\n",
       "    }\n",
       "\n",
       "    .dataframe tbody tr th {\n",
       "        vertical-align: top;\n",
       "    }\n",
       "\n",
       "    .dataframe thead th {\n",
       "        text-align: right;\n",
       "    }\n",
       "</style>\n",
       "<table border=\"1\" class=\"dataframe\">\n",
       "  <thead>\n",
       "    <tr style=\"text-align: right;\">\n",
       "      <th></th>\n",
       "      <th>property_type</th>\n",
       "      <th>25%</th>\n",
       "      <th>75%</th>\n",
       "      <th>rango_intercuartil</th>\n",
       "    </tr>\n",
       "  </thead>\n",
       "  <tbody>\n",
       "    <tr>\n",
       "      <th>0</th>\n",
       "      <td>PH</td>\n",
       "      <td>61.000</td>\n",
       "      <td>138.038</td>\n",
       "      <td>77.038</td>\n",
       "    </tr>\n",
       "    <tr>\n",
       "      <th>1</th>\n",
       "      <td>apartment</td>\n",
       "      <td>43.899</td>\n",
       "      <td>85.604</td>\n",
       "      <td>41.704</td>\n",
       "    </tr>\n",
       "    <tr>\n",
       "      <th>2</th>\n",
       "      <td>house</td>\n",
       "      <td>180.000</td>\n",
       "      <td>450.000</td>\n",
       "      <td>270.000</td>\n",
       "    </tr>\n",
       "    <tr>\n",
       "      <th>3</th>\n",
       "      <td>store</td>\n",
       "      <td>45.000</td>\n",
       "      <td>330.000</td>\n",
       "      <td>285.000</td>\n",
       "    </tr>\n",
       "  </tbody>\n",
       "</table>\n",
       "</div>"
      ],
      "text/plain": [
       "  property_type     25%     75%  rango_intercuartil\n",
       "0            PH  61.000 138.038              77.038\n",
       "1     apartment  43.899  85.604              41.704\n",
       "2         house 180.000 450.000             270.000\n",
       "3         store  45.000 330.000             285.000"
      ]
     },
     "execution_count": 834,
     "metadata": {},
     "output_type": "execute_result"
    }
   ],
   "source": [
    "valores_referencia.head(5)"
   ]
  },
  {
   "cell_type": "code",
   "execution_count": 835,
   "id": "72c1e80d",
   "metadata": {},
   "outputs": [],
   "source": [
    "# Anadimos las columnas de p25, p75 y rango intercuartil a nuestra data\n",
    "\n",
    "data = data.merge(valores_referencia,how=\"left\",on=[\"property_type\"])"
   ]
  },
  {
   "cell_type": "code",
   "execution_count": 836,
   "id": "5948ddc7",
   "metadata": {},
   "outputs": [],
   "source": [
    "# Marcación de valores extremos\n",
    "\n",
    "filtro = data['surface_total_in_m2'].notnull()\n",
    "\n",
    "data.loc[:,'valores_extremos'] = marca_valores_extremos(data, 'surface_total_in_m2', filtro)"
   ]
  },
  {
   "cell_type": "code",
   "execution_count": 837,
   "id": "cc060bc2",
   "metadata": {},
   "outputs": [
    {
     "data": {
      "text/plain": [
       "7679"
      ]
     },
     "execution_count": 837,
     "metadata": {},
     "output_type": "execute_result"
    }
   ],
   "source": [
    "# Cantidad de valores extremos en la columna price_usd_per_m2\n",
    "\n",
    "data.loc[data['valores_extremos']==True].shape[0]"
   ]
  },
  {
   "cell_type": "code",
   "execution_count": 838,
   "id": "d9d0bfe2",
   "metadata": {},
   "outputs": [],
   "source": [
    "# Tamaño del dataset antes de eliminar valores extremos\n",
    "\n",
    "tamano_inicial = data.shape[0]"
   ]
  },
  {
   "cell_type": "code",
   "execution_count": 839,
   "id": "7b7670e1",
   "metadata": {},
   "outputs": [],
   "source": [
    "# Eliminación de valores extremos\n",
    "\n",
    "data.drop(data.loc[data['valores_extremos']==True].index, inplace=True)\n",
    "\n",
    "# Eliminamos las columnas que creamos como auxiliares\n",
    "\n",
    "data.drop(columns={\"25%\",\"75%\",\"rango_intercuartil\",'valores_extremos'},inplace=True)"
   ]
  },
  {
   "cell_type": "code",
   "execution_count": 840,
   "id": "6717d353",
   "metadata": {},
   "outputs": [],
   "source": [
    "# Tamaño del dataset después de eliminar valores extremos\n",
    "\n",
    "tamano_final = data.shape[0]"
   ]
  },
  {
   "cell_type": "code",
   "execution_count": 841,
   "id": "91a707ae",
   "metadata": {},
   "outputs": [
    {
     "name": "stdout",
     "output_type": "stream",
     "text": [
      "Cantidad de registros antes de eliminar valores extremos:  113387 \n",
      " Cantidad de registros después de eliminar valores extremos:  105708\n"
     ]
    }
   ],
   "source": [
    "print('Cantidad de registros antes de eliminar valores extremos: ', tamano_inicial,'\\n',\n",
    "      'Cantidad de registros después de eliminar valores extremos: ', tamano_final)"
   ]
  },
  {
   "cell_type": "markdown",
   "id": "b08f3c7d",
   "metadata": {},
   "source": [
    "##### Distribución de superficie total m2 según property_type después de eliminación de valores extremos."
   ]
  },
  {
   "cell_type": "markdown",
   "id": "11fda5e1",
   "metadata": {},
   "source": [
    "##### Distribución de superficie total m2 de apartamentos"
   ]
  },
  {
   "cell_type": "code",
   "execution_count": 842,
   "id": "24fd2a4a",
   "metadata": {},
   "outputs": [
    {
     "data": {
      "image/png": "[encoded data removed]",
      "text/plain": [
       "<Figure size 1008x360 with 2 Axes>"
      ]
     },
     "metadata": {
      "needs_background": "light"
     },
     "output_type": "display_data"
    }
   ],
   "source": [
    "areas_apartamentos = data.loc[data['property_type']=='apartment','surface_total_in_m2']\n",
    "\n",
    "plt.figure(1, figsize=(14,5))\n",
    "plt.title('Distribución de áreas totales de apartamentos')\n",
    "\n",
    "plt.subplot(1,2,1)\n",
    "plt.title('Histograma de áreas de apartamentos')\n",
    "plt.hist(areas_apartamentos)\n",
    "plt.xlabel('Area total en m2')\n",
    "plt.ylabel('Cantidad')\n",
    "\n",
    "plt.subplot(1,2,2)\n",
    "plt.title('Distribución de áreas de apartamentos')\n",
    "sns.boxplot(y=areas_apartamentos)\n",
    "plt.xlabel('Apartamentos')\n",
    "plt.ylabel('Distribución de área total m2')\n",
    "plt.show()\n"
   ]
  },
  {
   "cell_type": "markdown",
   "id": "913b0568",
   "metadata": {},
   "source": [
    "##### Distribución de superficie total m2 de casas"
   ]
  },
  {
   "cell_type": "code",
   "execution_count": 843,
   "id": "c4c5a004",
   "metadata": {},
   "outputs": [
    {
     "data": {
      "image/png": "[encoded data removed]",
      "text/plain": [
       "<Figure size 1008x360 with 2 Axes>"
      ]
     },
     "metadata": {
      "needs_background": "light"
     },
     "output_type": "display_data"
    }
   ],
   "source": [
    "# Distribución de áreas de casas\n",
    "areas_apartamentos = data.loc[data['property_type']=='house','surface_total_in_m2']\n",
    "\n",
    "\n",
    "plt.figure(1, figsize=(14,5))\n",
    "plt.title('Distribución de áreas totales de casas')\n",
    "\n",
    "plt.subplot(1,2,1)\n",
    "plt.title('Histograma de áreas de casas')\n",
    "plt.hist(areas_apartamentos)\n",
    "plt.xlabel('Area total en m2')\n",
    "plt.ylabel('Cantidad')\n",
    "\n",
    "plt.subplot(1,2,2)\n",
    "plt.title('Distribución de áreas de casas')\n",
    "sns.boxplot(y=areas_apartamentos)\n",
    "plt.xlabel('Casas')\n",
    "plt.ylabel('Distribución de área total m2')\n",
    "plt.show()"
   ]
  },
  {
   "cell_type": "markdown",
   "id": "d7cc7be9",
   "metadata": {},
   "source": [
    "##### Distribución de superficie total m2 de PH"
   ]
  },
  {
   "cell_type": "code",
   "execution_count": 844,
   "id": "1ae22868",
   "metadata": {},
   "outputs": [
    {
     "data": {
      "image/png": "[encoded data removed]",
      "text/plain": [
       "<Figure size 1008x360 with 2 Axes>"
      ]
     },
     "metadata": {
      "needs_background": "light"
     },
     "output_type": "display_data"
    }
   ],
   "source": [
    "# Distribución de áreas de penthouses\n",
    "areas_apartamentos = data.loc[data['property_type']=='PH','surface_total_in_m2']\n",
    "\n",
    "\n",
    "plt.figure(1, figsize=(14,5))\n",
    "plt.title('Distribución de áreas totales de penthouses')\n",
    "\n",
    "plt.subplot(1,2,1)\n",
    "plt.title('Histograma de áreas de penthouses')\n",
    "plt.hist(areas_apartamentos)\n",
    "plt.xlabel('Area total en m2')\n",
    "plt.ylabel('Cantidad')\n",
    "\n",
    "plt.subplot(1,2,2)\n",
    "plt.title('Distribución de áreas de penthouses')\n",
    "sns.boxplot(y=areas_apartamentos)\n",
    "plt.xlabel('Penthouses')\n",
    "plt.ylabel('Distribución de área total m2')\n",
    "plt.show()\n"
   ]
  },
  {
   "cell_type": "markdown",
   "id": "98828196",
   "metadata": {},
   "source": [
    "##### Distribución de superficie total m2 de tiendas"
   ]
  },
  {
   "cell_type": "code",
   "execution_count": 845,
   "id": "0abb919c",
   "metadata": {},
   "outputs": [
    {
     "data": {
      "image/png": "[encoded data removed]",
      "text/plain": [
       "<Figure size 1008x360 with 2 Axes>"
      ]
     },
     "metadata": {
      "needs_background": "light"
     },
     "output_type": "display_data"
    }
   ],
   "source": [
    "# Distribución de áreas de tiendas\n",
    "areas_apartamentos = data.loc[data['property_type']=='store','surface_total_in_m2']\n",
    "\n",
    "\n",
    "plt.figure(1, figsize=(14,5))\n",
    "plt.title('Distribución de áreas totales de tiendas')\n",
    "\n",
    "plt.subplot(1,2,1)\n",
    "plt.title('Histograma de áreas de tiendas')\n",
    "plt.hist(areas_apartamentos)\n",
    "plt.xlabel('Area total en m2')\n",
    "plt.ylabel('Cantidad')\n",
    "\n",
    "plt.subplot(1,2,2)\n",
    "plt.title('Distribución de áreas de tiendas')\n",
    "sns.boxplot(y=areas_apartamentos)\n",
    "plt.xlabel('Tiendas')\n",
    "plt.ylabel('Distribución de área total m2')\n",
    "plt.show()\n"
   ]
  },
  {
   "cell_type": "markdown",
   "id": "61478979",
   "metadata": {},
   "source": [
    "**Conclusiones imputacion superficie total m2**: Vemos que la distribución de superficie total m2 según el tipo de propiedad tiene una distribución más amigable que la observada en el análisis exploratorio."
   ]
  },
  {
   "cell_type": "markdown",
   "id": "8f49351d",
   "metadata": {},
   "source": [
    "#### Valores extremos variables 'lat' y 'lon'"
   ]
  },
  {
   "cell_type": "code",
   "execution_count": 879,
   "id": "43e6146d",
   "metadata": {},
   "outputs": [],
   "source": [
    "# Durante el análisis exploratorio observamos que algunos puntos se ubicaban por fuera de los límites de Argentina\n",
    "# Vamos a establecer valores máximos y mínimos para latitud y longitud.\n",
    "\n",
    "lat_max = -21\n",
    "lat_min = -57\n",
    "lon_max = -56\n",
    "lon_min = -74"
   ]
  },
  {
   "cell_type": "code",
   "execution_count": 880,
   "id": "abdbecc6",
   "metadata": {},
   "outputs": [],
   "source": [
    "# Tamaño del dataset antes de eliminar valores extremos\n",
    "\n",
    "tamano_inicial = data.shape[0]"
   ]
  },
  {
   "cell_type": "code",
   "execution_count": 881,
   "id": "23cf1cd7",
   "metadata": {},
   "outputs": [],
   "source": [
    "# Eliminación de valores extremos en las columnas lat y lon\n",
    "\n",
    "filtro = ((data['lat']<lat_min)|(data['lat']>lat_max)|\\\n",
    "(data['lon']<lon_min)|(data['lon']>lon_max))&\\\n",
    "data['lat'].notnull()&\\\n",
    "data['lon'].notnull()\n",
    "\n",
    "data.drop(data.loc[filtro].index, inplace=True)"
   ]
  },
  {
   "cell_type": "code",
   "execution_count": 882,
   "id": "177ba5e5",
   "metadata": {},
   "outputs": [],
   "source": [
    "# Tamaño del dataset después de eliminar valores extremos\n",
    "\n",
    "tamano_final = data.shape[0]"
   ]
  },
  {
   "cell_type": "code",
   "execution_count": 883,
   "id": "84253752",
   "metadata": {},
   "outputs": [
    {
     "name": "stdout",
     "output_type": "stream",
     "text": [
      "Cantidad de registros antes de eliminar valores extremos:  105708 \n",
      " Cantidad de registros después de eliminar valores extremos:  105372\n"
     ]
    }
   ],
   "source": [
    "print('Cantidad de registros antes de eliminar valores extremos: ', tamano_inicial,'\\n',\n",
    "      'Cantidad de registros después de eliminar valores extremos: ', tamano_final)"
   ]
  },
  {
   "cell_type": "markdown",
   "id": "a217d41e",
   "metadata": {},
   "source": [
    "### Dataset para ir probando el modelo"
   ]
  },
  {
   "cell_type": "code",
   "execution_count": 888,
   "id": "23ddd3be",
   "metadata": {},
   "outputs": [
    {
     "data": {
      "text/plain": [
       "Index(['operation', 'property_type', 'place_name', 'place_with_parent_names',\n",
       "       'country_name', 'state_name', 'geonames_id', 'lat-lon', 'lat', 'lon',\n",
       "       'price', 'currency', 'price_aprox_local_currency', 'price_aprox_usd',\n",
       "       'surface_total_in_m2', 'surface_covered_in_m2', 'price_usd_per_m2',\n",
       "       'price_per_m2', 'floor', 'rooms', 'expenses', 'description', 'title'],\n",
       "      dtype='object')"
      ]
     },
     "execution_count": 888,
     "metadata": {},
     "output_type": "execute_result"
    }
   ],
   "source": [
    "data.columns"
   ]
  },
  {
   "cell_type": "markdown",
   "id": "f416593a",
   "metadata": {},
   "source": [
    "Vamos a generar dos dataset para el modelo, el primero con la variable price_usd_per_m2 como target y el segundo con la variable price_aprox_usd"
   ]
  },
  {
   "cell_type": "code",
   "execution_count": 889,
   "id": "54bc7864",
   "metadata": {},
   "outputs": [
    {
     "data": {
      "text/plain": [
       "operation                         0\n",
       "property_type                     0\n",
       "place_name                        0\n",
       "place_with_parent_names           0\n",
       "country_name                      0\n",
       "state_name                        0\n",
       "geonames_id                    1679\n",
       "lat-lon                       44249\n",
       "lat                           44249\n",
       "lon                           44249\n",
       "price                         16171\n",
       "currency                      16171\n",
       "price_aprox_local_currency    16171\n",
       "price_aprox_usd               16171\n",
       "surface_total_in_m2           11920\n",
       "surface_covered_in_m2         11920\n",
       "price_usd_per_m2              46691\n",
       "price_per_m2                  28467\n",
       "floor                         98316\n",
       "rooms                         63931\n",
       "expenses                      92703\n",
       "description                       2\n",
       "title                             0\n",
       "dtype: int64"
      ]
     },
     "execution_count": 889,
     "metadata": {},
     "output_type": "execute_result"
    }
   ],
   "source": [
    "data.isnull().sum()"
   ]
  },
  {
   "cell_type": "code",
   "execution_count": 896,
   "id": "c9b0845d",
   "metadata": {},
   "outputs": [
    {
     "data": {
      "text/plain": [
       "(34216, 7)"
      ]
     },
     "execution_count": 896,
     "metadata": {},
     "output_type": "execute_result"
    }
   ],
   "source": [
    "# Dataset con variable target price_usd_per_m2\n",
    "\n",
    "data_modelo_price_m2 = data.loc[:, ['property_type', 'state_name', 'place_name', 'lat', 'lon', \n",
    "                           'surface_total_in_m2','price_usd_per_m2']].dropna()\n",
    "\n",
    "data_modelo_price_m2.to_csv('propertti_to_model_price_m2.csv', index = False)\n",
    "\n",
    "data_modelo_price_m2.shape"
   ]
  },
  {
   "cell_type": "code",
   "execution_count": 897,
   "id": "f95335dd",
   "metadata": {},
   "outputs": [
    {
     "data": {
      "text/plain": [
       "(47679, 7)"
      ]
     },
     "execution_count": 897,
     "metadata": {},
     "output_type": "execute_result"
    }
   ],
   "source": [
    "# Dataset con variable target price_usd_per_m2\n",
    "\n",
    "data_modelo_price_total = data.loc[:, ['property_type', 'state_name', 'place_name', 'lat', 'lon', \n",
    "                           'surface_total_in_m2','price_aprox_usd']].dropna()\n",
    "\n",
    "data_modelo_price_total.to_csv('propertti_to_model_price_total.csv', index = False)\n",
    "\n",
    "data_modelo_price_total.shape"
   ]
  }
 ],
 "metadata": {
  "kernelspec": {
   "display_name": "Python 3 (ipykernel)",
   "language": "python",
   "name": "python3"
  },
  "language_info": {
   "codemirror_mode": {
    "name": "ipython",
    "version": 3
   },
   "file_extension": ".py",
   "mimetype": "text/x-python",
   "name": "python",
   "nbconvert_exporter": "python",
   "pygments_lexer": "ipython3",
   "version": "3.8.12"
  }
 },
 "nbformat": 4,
 "nbformat_minor": 5
}
